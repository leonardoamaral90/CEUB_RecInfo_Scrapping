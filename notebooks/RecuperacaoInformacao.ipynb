{
 "cells": [
  {
   "cell_type": "markdown",
   "metadata": {},
   "source": [
    "## 1. Instalação dos pacotes necessários"
   ]
  },
  {
   "cell_type": "code",
   "execution_count": 28,
   "metadata": {},
   "outputs": [],
   "source": [
    "# %pip install requests\n",
    "# %pip install beautifulsoup4\n",
    "# %pip install pandas\n",
    "# %pip install numpy\n",
    "# %pip install scikit-learn\n",
    "# %pip install plotly"
   ]
  },
  {
   "cell_type": "markdown",
   "metadata": {},
   "source": [
    "## 2. Script do WebScrapping"
   ]
  },
  {
   "cell_type": "code",
   "execution_count": 29,
   "metadata": {},
   "outputs": [],
   "source": [
    "# import requests\n",
    "# import time\n",
    "# import datetime\n",
    "# import os\n",
    "# import json\n",
    "# import re\n",
    "# import pprint\n",
    "\n",
    "# from bs4 import BeautifulSoup\n",
    "# from urllib.parse import urlparse\n",
    "\n",
    "# headers = {'User-Agent': 'Mozilla/5.0'}\n",
    "    \n",
    "# def get_price(url):\n",
    "#     response = requests.get(url, headers=headers)\n",
    "#     soup = BeautifulSoup(response.text, 'html.parser')\n",
    "    \n",
    "#     for svg in soup.find_all('svg'):\n",
    "#         svg.extract()\n",
    "        \n",
    "#     product_info = []\n",
    "    \n",
    "#     cards = soup.find_all('article', {'class': 'productCard'})\n",
    "    \n",
    "#     for card in cards:\n",
    "#         review_div = card.find('div', {'class': 'labelTotalAvaliacoes'})\n",
    "#         if review_div:\n",
    "#             review = review_div.text.strip()\n",
    "#         full_name = card.find('span', {'class': 'nameCard'}).text.strip()\n",
    "#         product_link = card.find('a', {'class': 'productLink'})['href']\n",
    "        \n",
    "#         product_info.append({ 'full_name': full_name,\n",
    "#                              'link': product_link })\n",
    "    \n",
    "#     return product_info\n",
    "\n",
    "# def get_product_info(url, product):\n",
    "#     url = f\"{url}{product['link']}\"\n",
    "#     response = requests.get(url, headers=headers)\n",
    "#     soup = BeautifulSoup(response.text, 'html.parser')\n",
    "\n",
    "#     script = soup.find('script', {'type': 'application/ld+json'})\n",
    "#     if script:\n",
    "#         script_text = script.text\n",
    "#         json_data = json.loads(script_text)\n",
    "#         sku = json_data.get('sku')\n",
    "#         brand_name = json_data.get('brand', {}).get('name')\n",
    "\n",
    "    \n",
    "#     script_nd = soup.find('script', {'type': 'application/json', 'id': '__NEXT_DATA__'})\n",
    "#     if script_nd:\n",
    "#         script_nd_text = script_nd.text\n",
    "#         json_data_nd = json.loads(script_nd_text)\n",
    "#         json_initial = json_data_nd.get('props').get('pageProps').get('initialZustandState').get('descriptionProduct')\n",
    "#         json_catalog_product = json_data_nd.get('props').get('pageProps').get('initialZustandState').get('catalogProduct')\n",
    "        \n",
    "#         weight = json_catalog_product.get('weight')\n",
    "#         price = json_catalog_product.get('price')\n",
    "#         primePrice = json_catalog_product.get('primePrice')\n",
    "#         primePriceWithDiscount = json_catalog_product.get('primePriceWithDiscount')\n",
    "#         oldPrice = json_catalog_product.get('oldPrice')\n",
    "#         oldPrimePrice = json_catalog_product.get('oldPrimePrice')\n",
    "#         priceWithDiscount = json_catalog_product.get('priceWithDiscount')\n",
    "#         discountPercentage = json_catalog_product.get('discountPercentage')\n",
    "#         rating = json_catalog_product.get('rating')\n",
    "#         ratingCount = json_catalog_product.get('ratingCount')\n",
    "#         available = json_catalog_product.get('available')\n",
    "#         warranty = json_initial.get('warrantyString')\n",
    "    \n",
    "#     product_info = { 'sku': sku,\n",
    "#                     'brand_name': brand_name,\n",
    "#                     'weight': weight,\n",
    "#                     'price': price,\n",
    "#                     'primePrice': primePrice,\n",
    "#                     'primePriceWithDiscount': primePriceWithDiscount,\n",
    "#                     'oldPrice': oldPrice,\n",
    "#                     'oldPrimePrice': oldPrimePrice,\n",
    "#                     'priceWithDiscount': priceWithDiscount,\n",
    "#                     'discountPercentage': discountPercentage,\n",
    "#                     'rating': rating,\n",
    "#                     'ratingCount': ratingCount,\n",
    "#                     'available': available,\n",
    "#                     'warranty': warranty}\n",
    "    \n",
    "#     return product_info\n",
    "\n",
    "# def get_dominio(url):\n",
    "#     parsed_url = urlparse(url)\n",
    "#     return parsed_url.netloc\n",
    "\n",
    "# def save_to_file(data):\n",
    "#     file_exists = False\n",
    "#     if os.path.isfile(\"scraped_data.csv\"):\n",
    "#         file_exists = True\n",
    "    \n",
    "#     with open(\"scraped_data.csv\", \"a\") as file:\n",
    "#         if not file_exists:\n",
    "#             keys = data[0].keys()\n",
    "#             print(';'.join(keys))\n",
    "#             file.write(f\"{';'.join(keys)};date\\n\")\n",
    "            \n",
    "#         for item in data:\n",
    "#             file.write(f\"{item['full_name']};{item['link']};{item['sku']};{item['brand_name']};{item['weight']};\n",
    "#                        {item['price']};{item['primePrice']};{item['primePriceWithDiscount']};{item['oldPrice']};\n",
    "#                        {item['oldPrimePrice']};{item['priceWithDiscount']};{item['discountPercentage']};{item['rating']};\n",
    "#                        {item['ratingCount']};{item['available']};{item['warranty']};{datetime.datetime.now()}\\n\")\n",
    "\n",
    "# def main():\n",
    "#     pesquisa = 'rtx 4070 ti'\n",
    "#     url = f\"https://www.kabum.com.br/busca/{pesquisa}\"\n",
    "    \n",
    "#     intervalo = 60 * 10 # 10 minutos\n",
    "#     contador = 0\n",
    "    \n",
    "#     # while True:\n",
    "#     try:\n",
    "#         products = get_price(url)\n",
    "#         products_info = []\n",
    "#         for product in products:\n",
    "#             info = get_product_info(f'https://{get_dominio(url)}/', product)\n",
    "#             products_info.append(info)\n",
    "        \n",
    "#         list_products = []\n",
    "#         if len(products) == len(products_info):\n",
    "#             for p, pi in zip(products, products_info):\n",
    "#                 list_products.append({  'full_name': p['full_name'],\n",
    "#                                         'link': p['link'],\n",
    "#                                         'sku': pi['sku'],\n",
    "#                                         'weight': pi['weight'],\n",
    "#                                         'price': pi['price'],\n",
    "#                                         'primePrice': pi['primePrice'],\n",
    "#                                         'primePriceWithDiscount': pi['primePriceWithDiscount'],\n",
    "#                                         'oldPrice': pi['oldPrice'],\n",
    "#                                         'oldPrimePrice': pi['oldPrimePrice'],\n",
    "#                                         'priceWithDiscount': pi['priceWithDiscount'],\n",
    "#                                         'discountPercentage': pi['discountPercentage'],\n",
    "#                                         'rating': pi['rating'],\n",
    "#                                         'ratingCount': pi['ratingCount'],\n",
    "#                                         'available': pi['available'],\n",
    "#                                         'warranty': pi['warranty']\n",
    "#                                     })\n",
    "        \n",
    "#         # print(json.dumps(products[0], indent=4))\n",
    "#         # print(json.dumps(products_info[0], indent=4))\n",
    "#         # print(json.dumps(list_products, indent=4))\n",
    "        \n",
    "#         save_to_file(list_products)\n",
    "#     except Exception as e:\n",
    "#         print(f\"Erro ao obter preços dos produtos na Kabum: {e}\")\n",
    "#     contador += 1\n",
    "#         # time.sleep(intervalo)\n",
    "\n",
    "# if __name__ == \"__main__\":\n",
    "#     main()"
   ]
  },
  {
   "cell_type": "markdown",
   "metadata": {},
   "source": [
    "## 3. Tratamento dos dados"
   ]
  },
  {
   "cell_type": "code",
   "execution_count": 30,
   "metadata": {},
   "outputs": [
    {
     "data": {
      "text/html": [
       "<div>\n",
       "<style scoped>\n",
       "    .dataframe tbody tr th:only-of-type {\n",
       "        vertical-align: middle;\n",
       "    }\n",
       "\n",
       "    .dataframe tbody tr th {\n",
       "        vertical-align: top;\n",
       "    }\n",
       "\n",
       "    .dataframe thead th {\n",
       "        text-align: right;\n",
       "    }\n",
       "</style>\n",
       "<table border=\"1\" class=\"dataframe\">\n",
       "  <thead>\n",
       "    <tr style=\"text-align: right;\">\n",
       "      <th></th>\n",
       "      <th>full_name</th>\n",
       "      <th>model</th>\n",
       "      <th>link</th>\n",
       "      <th>sku</th>\n",
       "      <th>brand_name</th>\n",
       "      <th>weight</th>\n",
       "      <th>price</th>\n",
       "      <th>primePrice</th>\n",
       "      <th>primePriceWithDiscount</th>\n",
       "      <th>oldPrice</th>\n",
       "      <th>oldPrimePrice</th>\n",
       "      <th>priceWithDiscount</th>\n",
       "      <th>discountPercentage</th>\n",
       "      <th>rating</th>\n",
       "      <th>ratingCount</th>\n",
       "      <th>available</th>\n",
       "      <th>warranty</th>\n",
       "      <th>date</th>\n",
       "    </tr>\n",
       "  </thead>\n",
       "  <tbody>\n",
       "    <tr>\n",
       "      <th>0</th>\n",
       "      <td>placa-de-video-rtx-4070-ti-ventus-msi-nvidia-g...</td>\n",
       "      <td>rtx 4070 ti</td>\n",
       "      <td>https://www.kabum.com.br//produto/403373/placa...</td>\n",
       "      <td>403373</td>\n",
       "      <td>MSI</td>\n",
       "      <td>1732</td>\n",
       "      <td>6117.64</td>\n",
       "      <td>5934.11</td>\n",
       "      <td>5043.99</td>\n",
       "      <td>6117.64</td>\n",
       "      <td>6117.64</td>\n",
       "      <td>5199.99</td>\n",
       "      <td>15</td>\n",
       "      <td>4</td>\n",
       "      <td>8</td>\n",
       "      <td>True</td>\n",
       "      <td>36 meses de garantia</td>\n",
       "      <td>2024-04-25 03:03:43.110747</td>\n",
       "    </tr>\n",
       "    <tr>\n",
       "      <th>1</th>\n",
       "      <td>placa-de-video-rtx-4070-ti-super-gigabyte-gami...</td>\n",
       "      <td>rtx 4070 ti</td>\n",
       "      <td>https://www.kabum.com.br//produto/517737/placa...</td>\n",
       "      <td>517737</td>\n",
       "      <td>Gigabyte</td>\n",
       "      <td>1816</td>\n",
       "      <td>6941.16</td>\n",
       "      <td>0.00</td>\n",
       "      <td>0.00</td>\n",
       "      <td>0.00</td>\n",
       "      <td>0.00</td>\n",
       "      <td>5899.99</td>\n",
       "      <td>15</td>\n",
       "      <td>0</td>\n",
       "      <td>0</td>\n",
       "      <td>True</td>\n",
       "      <td>36 meses de garantia</td>\n",
       "      <td>2024-04-25 03:03:43.110747</td>\n",
       "    </tr>\n",
       "    <tr>\n",
       "      <th>2</th>\n",
       "      <td>placa-de-video-rtx-4070-ti-super-msi-16g-ventu...</td>\n",
       "      <td>rtx 4070 ti</td>\n",
       "      <td>https://www.kabum.com.br//produto/520532/placa...</td>\n",
       "      <td>520532</td>\n",
       "      <td>MSI</td>\n",
       "      <td>1198</td>\n",
       "      <td>6352.93</td>\n",
       "      <td>0.00</td>\n",
       "      <td>0.00</td>\n",
       "      <td>0.00</td>\n",
       "      <td>0.00</td>\n",
       "      <td>5399.99</td>\n",
       "      <td>15</td>\n",
       "      <td>5</td>\n",
       "      <td>2</td>\n",
       "      <td>True</td>\n",
       "      <td>12 meses de garantia</td>\n",
       "      <td>2024-04-25 03:03:43.110747</td>\n",
       "    </tr>\n",
       "    <tr>\n",
       "      <th>3</th>\n",
       "      <td>placa-de-video-rtx-4070-ti-gaming-x-slim-12g-m...</td>\n",
       "      <td>rtx 4070 ti</td>\n",
       "      <td>https://www.kabum.com.br//produto/495568/placa...</td>\n",
       "      <td>495568</td>\n",
       "      <td>MSI</td>\n",
       "      <td>1890</td>\n",
       "      <td>6117.64</td>\n",
       "      <td>5934.11</td>\n",
       "      <td>5043.99</td>\n",
       "      <td>6117.64</td>\n",
       "      <td>6117.64</td>\n",
       "      <td>5199.99</td>\n",
       "      <td>15</td>\n",
       "      <td>5</td>\n",
       "      <td>9</td>\n",
       "      <td>True</td>\n",
       "      <td>12 meses de garantia</td>\n",
       "      <td>2024-04-25 03:03:43.110747</td>\n",
       "    </tr>\n",
       "    <tr>\n",
       "      <th>4</th>\n",
       "      <td>placa-de-video-rtx-4070-ti-super-gaming-verto-...</td>\n",
       "      <td>rtx 4070 ti</td>\n",
       "      <td>https://www.kabum.com.br//produto/520758/placa...</td>\n",
       "      <td>520758</td>\n",
       "      <td>Pny</td>\n",
       "      <td>1570</td>\n",
       "      <td>5199.99</td>\n",
       "      <td>0.00</td>\n",
       "      <td>0.00</td>\n",
       "      <td>0.00</td>\n",
       "      <td>0.00</td>\n",
       "      <td>5199.99</td>\n",
       "      <td>0</td>\n",
       "      <td>0</td>\n",
       "      <td>0</td>\n",
       "      <td>True</td>\n",
       "      <td>36 meses de garantia</td>\n",
       "      <td>2024-04-25 03:03:43.110747</td>\n",
       "    </tr>\n",
       "    <tr>\n",
       "      <th>5</th>\n",
       "      <td>placa-de-video-rtx-4070-ti-super-sg-galax-nvid...</td>\n",
       "      <td>rtx 4070 ti</td>\n",
       "      <td>https://www.kabum.com.br//produto/518725/placa...</td>\n",
       "      <td>518725</td>\n",
       "      <td>Galax</td>\n",
       "      <td>5735</td>\n",
       "      <td>7176.46</td>\n",
       "      <td>6823.52</td>\n",
       "      <td>5799.99</td>\n",
       "      <td>7176.46</td>\n",
       "      <td>7176.46</td>\n",
       "      <td>6099.99</td>\n",
       "      <td>15</td>\n",
       "      <td>5</td>\n",
       "      <td>2</td>\n",
       "      <td>True</td>\n",
       "      <td>12 meses de garantia</td>\n",
       "      <td>2024-04-25 03:03:43.110747</td>\n",
       "    </tr>\n",
       "    <tr>\n",
       "      <th>6</th>\n",
       "      <td>placa-de-video-rtx-4070-ti-ventus-3x-trio-oc-m...</td>\n",
       "      <td>rtx 4070 ti</td>\n",
       "      <td>https://www.kabum.com.br//produto/418040/placa...</td>\n",
       "      <td>418040</td>\n",
       "      <td>MSI</td>\n",
       "      <td>1730</td>\n",
       "      <td>6601.06</td>\n",
       "      <td>0.00</td>\n",
       "      <td>0.00</td>\n",
       "      <td>0.00</td>\n",
       "      <td>0.00</td>\n",
       "      <td>6601.06</td>\n",
       "      <td>0</td>\n",
       "      <td>0</td>\n",
       "      <td>0</td>\n",
       "      <td>True</td>\n",
       "      <td>NaN</td>\n",
       "      <td>2024-04-25 03:03:43.110747</td>\n",
       "    </tr>\n",
       "    <tr>\n",
       "      <th>7</th>\n",
       "      <td>placa-de-video-rtx-4070-ti-super-gigabyte-aero...</td>\n",
       "      <td>rtx 4070 ti</td>\n",
       "      <td>https://www.kabum.com.br//produto/517736/placa...</td>\n",
       "      <td>517736</td>\n",
       "      <td>Gigabyte</td>\n",
       "      <td>1896</td>\n",
       "      <td>6941.16</td>\n",
       "      <td>6732.93</td>\n",
       "      <td>5722.99</td>\n",
       "      <td>6941.16</td>\n",
       "      <td>6941.16</td>\n",
       "      <td>5899.99</td>\n",
       "      <td>15</td>\n",
       "      <td>0</td>\n",
       "      <td>0</td>\n",
       "      <td>True</td>\n",
       "      <td>36 meses de garantia</td>\n",
       "      <td>2024-04-25 03:03:43.110747</td>\n",
       "    </tr>\n",
       "    <tr>\n",
       "      <th>8</th>\n",
       "      <td>placa-de-video-rtx-4070-ti-rog-strix-gaming-as...</td>\n",
       "      <td>rtx 4070 ti</td>\n",
       "      <td>https://www.kabum.com.br//produto/403370/placa...</td>\n",
       "      <td>403370</td>\n",
       "      <td>ASUS</td>\n",
       "      <td>2640</td>\n",
       "      <td>7999.99</td>\n",
       "      <td>7759.99</td>\n",
       "      <td>6595.99</td>\n",
       "      <td>7999.99</td>\n",
       "      <td>7999.99</td>\n",
       "      <td>6799.99</td>\n",
       "      <td>15</td>\n",
       "      <td>5</td>\n",
       "      <td>4</td>\n",
       "      <td>True</td>\n",
       "      <td>36 meses de garantia</td>\n",
       "      <td>2024-04-25 03:03:43.110747</td>\n",
       "    </tr>\n",
       "    <tr>\n",
       "      <th>9</th>\n",
       "      <td>placa-de-video-rtx-4070-ti-super-msi-16g-gamin...</td>\n",
       "      <td>rtx 4070 ti</td>\n",
       "      <td>https://www.kabum.com.br//produto/520529/placa...</td>\n",
       "      <td>520529</td>\n",
       "      <td>MSI</td>\n",
       "      <td>1800</td>\n",
       "      <td>7411.75</td>\n",
       "      <td>7189.40</td>\n",
       "      <td>6110.99</td>\n",
       "      <td>7411.75</td>\n",
       "      <td>7411.75</td>\n",
       "      <td>6299.99</td>\n",
       "      <td>15</td>\n",
       "      <td>5</td>\n",
       "      <td>2</td>\n",
       "      <td>True</td>\n",
       "      <td>12 meses de garantia</td>\n",
       "      <td>2024-04-25 03:03:43.110747</td>\n",
       "    </tr>\n",
       "  </tbody>\n",
       "</table>\n",
       "</div>"
      ],
      "text/plain": [
       "                                           full_name        model  \\\n",
       "0  placa-de-video-rtx-4070-ti-ventus-msi-nvidia-g...  rtx 4070 ti   \n",
       "1  placa-de-video-rtx-4070-ti-super-gigabyte-gami...  rtx 4070 ti   \n",
       "2  placa-de-video-rtx-4070-ti-super-msi-16g-ventu...  rtx 4070 ti   \n",
       "3  placa-de-video-rtx-4070-ti-gaming-x-slim-12g-m...  rtx 4070 ti   \n",
       "4  placa-de-video-rtx-4070-ti-super-gaming-verto-...  rtx 4070 ti   \n",
       "5  placa-de-video-rtx-4070-ti-super-sg-galax-nvid...  rtx 4070 ti   \n",
       "6  placa-de-video-rtx-4070-ti-ventus-3x-trio-oc-m...  rtx 4070 ti   \n",
       "7  placa-de-video-rtx-4070-ti-super-gigabyte-aero...  rtx 4070 ti   \n",
       "8  placa-de-video-rtx-4070-ti-rog-strix-gaming-as...  rtx 4070 ti   \n",
       "9  placa-de-video-rtx-4070-ti-super-msi-16g-gamin...  rtx 4070 ti   \n",
       "\n",
       "                                                link     sku brand_name  \\\n",
       "0  https://www.kabum.com.br//produto/403373/placa...  403373        MSI   \n",
       "1  https://www.kabum.com.br//produto/517737/placa...  517737   Gigabyte   \n",
       "2  https://www.kabum.com.br//produto/520532/placa...  520532        MSI   \n",
       "3  https://www.kabum.com.br//produto/495568/placa...  495568        MSI   \n",
       "4  https://www.kabum.com.br//produto/520758/placa...  520758        Pny   \n",
       "5  https://www.kabum.com.br//produto/518725/placa...  518725      Galax   \n",
       "6  https://www.kabum.com.br//produto/418040/placa...  418040        MSI   \n",
       "7  https://www.kabum.com.br//produto/517736/placa...  517736   Gigabyte   \n",
       "8  https://www.kabum.com.br//produto/403370/placa...  403370       ASUS   \n",
       "9  https://www.kabum.com.br//produto/520529/placa...  520529        MSI   \n",
       "\n",
       "   weight    price  primePrice  primePriceWithDiscount  oldPrice  \\\n",
       "0    1732  6117.64     5934.11                 5043.99   6117.64   \n",
       "1    1816  6941.16        0.00                    0.00      0.00   \n",
       "2    1198  6352.93        0.00                    0.00      0.00   \n",
       "3    1890  6117.64     5934.11                 5043.99   6117.64   \n",
       "4    1570  5199.99        0.00                    0.00      0.00   \n",
       "5    5735  7176.46     6823.52                 5799.99   7176.46   \n",
       "6    1730  6601.06        0.00                    0.00      0.00   \n",
       "7    1896  6941.16     6732.93                 5722.99   6941.16   \n",
       "8    2640  7999.99     7759.99                 6595.99   7999.99   \n",
       "9    1800  7411.75     7189.40                 6110.99   7411.75   \n",
       "\n",
       "   oldPrimePrice  priceWithDiscount  discountPercentage  rating  ratingCount  \\\n",
       "0        6117.64            5199.99                  15       4            8   \n",
       "1           0.00            5899.99                  15       0            0   \n",
       "2           0.00            5399.99                  15       5            2   \n",
       "3        6117.64            5199.99                  15       5            9   \n",
       "4           0.00            5199.99                   0       0            0   \n",
       "5        7176.46            6099.99                  15       5            2   \n",
       "6           0.00            6601.06                   0       0            0   \n",
       "7        6941.16            5899.99                  15       0            0   \n",
       "8        7999.99            6799.99                  15       5            4   \n",
       "9        7411.75            6299.99                  15       5            2   \n",
       "\n",
       "   available              warranty                        date  \n",
       "0       True  36 meses de garantia  2024-04-25 03:03:43.110747  \n",
       "1       True  36 meses de garantia  2024-04-25 03:03:43.110747  \n",
       "2       True  12 meses de garantia  2024-04-25 03:03:43.110747  \n",
       "3       True  12 meses de garantia  2024-04-25 03:03:43.110747  \n",
       "4       True  36 meses de garantia  2024-04-25 03:03:43.110747  \n",
       "5       True  12 meses de garantia  2024-04-25 03:03:43.110747  \n",
       "6       True                   NaN  2024-04-25 03:03:43.110747  \n",
       "7       True  36 meses de garantia  2024-04-25 03:03:43.110747  \n",
       "8       True  36 meses de garantia  2024-04-25 03:03:43.110747  \n",
       "9       True  12 meses de garantia  2024-04-25 03:03:43.110747  "
      ]
     },
     "execution_count": 30,
     "metadata": {},
     "output_type": "execute_result"
    }
   ],
   "source": [
    "import pandas as pd\n",
    "import numpy as np\n",
    "\n",
    "df = pd.read_csv(\"../data/scraped_data.csv\", sep=\";\", encoding='latin1')\n",
    "df.head(10)"
   ]
  },
  {
   "cell_type": "code",
   "execution_count": 31,
   "metadata": {},
   "outputs": [
    {
     "name": "stdout",
     "output_type": "stream",
     "text": [
      "full_name                  object\n",
      "model                      object\n",
      "link                       object\n",
      "sku                         int64\n",
      "brand_name                 object\n",
      "weight                      int64\n",
      "price                     float64\n",
      "primePrice                float64\n",
      "primePriceWithDiscount    float64\n",
      "oldPrice                  float64\n",
      "oldPrimePrice             float64\n",
      "priceWithDiscount         float64\n",
      "discountPercentage          int64\n",
      "rating                      int64\n",
      "ratingCount                 int64\n",
      "available                    bool\n",
      "warranty                   object\n",
      "date                       object\n",
      "dtype: object\n"
     ]
    }
   ],
   "source": [
    "print(df.dtypes)"
   ]
  },
  {
   "cell_type": "code",
   "execution_count": 32,
   "metadata": {},
   "outputs": [],
   "source": [
    "import numpy as np\n",
    "import re\n",
    "\n",
    "def extrair_numeros(texto):\n",
    "    if pd.isna(texto):\n",
    "        return 0\n",
    "    else:\n",
    "        numeros = re.findall(r'\\d+', texto)\n",
    "        if numeros:\n",
    "            return int(numeros[0])\n",
    "        else:\n",
    "            return 0"
   ]
  },
  {
   "cell_type": "code",
   "execution_count": 33,
   "metadata": {},
   "outputs": [],
   "source": [
    "df2 = df\n",
    "\n",
    "df2['full_name'] = df2['full_name'].astype(str).str.strip()\n",
    "df2['available'] = df['available'].astype(int)\n",
    "df2['warranty'] = df2['warranty'].apply(extrair_numeros)\n",
    "df2['date'] = pd.to_datetime(df2['date'])\n",
    "df2['model'] = df2['model'].astype(str).str.upper()"
   ]
  },
  {
   "cell_type": "code",
   "execution_count": 34,
   "metadata": {},
   "outputs": [
    {
     "data": {
      "text/html": [
       "<div>\n",
       "<style scoped>\n",
       "    .dataframe tbody tr th:only-of-type {\n",
       "        vertical-align: middle;\n",
       "    }\n",
       "\n",
       "    .dataframe tbody tr th {\n",
       "        vertical-align: top;\n",
       "    }\n",
       "\n",
       "    .dataframe thead th {\n",
       "        text-align: right;\n",
       "    }\n",
       "</style>\n",
       "<table border=\"1\" class=\"dataframe\">\n",
       "  <thead>\n",
       "    <tr style=\"text-align: right;\">\n",
       "      <th></th>\n",
       "      <th>full_name</th>\n",
       "      <th>model</th>\n",
       "      <th>link</th>\n",
       "      <th>sku</th>\n",
       "      <th>brand_name</th>\n",
       "      <th>weight</th>\n",
       "      <th>price</th>\n",
       "      <th>primePrice</th>\n",
       "      <th>primePriceWithDiscount</th>\n",
       "      <th>oldPrice</th>\n",
       "      <th>oldPrimePrice</th>\n",
       "      <th>priceWithDiscount</th>\n",
       "      <th>discountPercentage</th>\n",
       "      <th>rating</th>\n",
       "      <th>ratingCount</th>\n",
       "      <th>available</th>\n",
       "      <th>warranty</th>\n",
       "      <th>date</th>\n",
       "    </tr>\n",
       "  </thead>\n",
       "  <tbody>\n",
       "    <tr>\n",
       "      <th>0</th>\n",
       "      <td>placa-de-video-rtx-4070-ti-ventus-msi-nvidia-g...</td>\n",
       "      <td>RTX 4070 TI</td>\n",
       "      <td>https://www.kabum.com.br//produto/403373/placa...</td>\n",
       "      <td>403373</td>\n",
       "      <td>MSI</td>\n",
       "      <td>1732</td>\n",
       "      <td>6117.64</td>\n",
       "      <td>5934.11</td>\n",
       "      <td>5043.99</td>\n",
       "      <td>6117.64</td>\n",
       "      <td>6117.64</td>\n",
       "      <td>5199.99</td>\n",
       "      <td>15</td>\n",
       "      <td>4</td>\n",
       "      <td>8</td>\n",
       "      <td>1</td>\n",
       "      <td>36</td>\n",
       "      <td>2024-04-25 03:03:43.110747</td>\n",
       "    </tr>\n",
       "    <tr>\n",
       "      <th>1</th>\n",
       "      <td>placa-de-video-rtx-4070-ti-super-gigabyte-gami...</td>\n",
       "      <td>RTX 4070 TI</td>\n",
       "      <td>https://www.kabum.com.br//produto/517737/placa...</td>\n",
       "      <td>517737</td>\n",
       "      <td>Gigabyte</td>\n",
       "      <td>1816</td>\n",
       "      <td>6941.16</td>\n",
       "      <td>0.00</td>\n",
       "      <td>0.00</td>\n",
       "      <td>0.00</td>\n",
       "      <td>0.00</td>\n",
       "      <td>5899.99</td>\n",
       "      <td>15</td>\n",
       "      <td>0</td>\n",
       "      <td>0</td>\n",
       "      <td>1</td>\n",
       "      <td>36</td>\n",
       "      <td>2024-04-25 03:03:43.110747</td>\n",
       "    </tr>\n",
       "    <tr>\n",
       "      <th>2</th>\n",
       "      <td>placa-de-video-rtx-4070-ti-super-msi-16g-ventu...</td>\n",
       "      <td>RTX 4070 TI</td>\n",
       "      <td>https://www.kabum.com.br//produto/520532/placa...</td>\n",
       "      <td>520532</td>\n",
       "      <td>MSI</td>\n",
       "      <td>1198</td>\n",
       "      <td>6352.93</td>\n",
       "      <td>0.00</td>\n",
       "      <td>0.00</td>\n",
       "      <td>0.00</td>\n",
       "      <td>0.00</td>\n",
       "      <td>5399.99</td>\n",
       "      <td>15</td>\n",
       "      <td>5</td>\n",
       "      <td>2</td>\n",
       "      <td>1</td>\n",
       "      <td>12</td>\n",
       "      <td>2024-04-25 03:03:43.110747</td>\n",
       "    </tr>\n",
       "    <tr>\n",
       "      <th>3</th>\n",
       "      <td>placa-de-video-rtx-4070-ti-gaming-x-slim-12g-m...</td>\n",
       "      <td>RTX 4070 TI</td>\n",
       "      <td>https://www.kabum.com.br//produto/495568/placa...</td>\n",
       "      <td>495568</td>\n",
       "      <td>MSI</td>\n",
       "      <td>1890</td>\n",
       "      <td>6117.64</td>\n",
       "      <td>5934.11</td>\n",
       "      <td>5043.99</td>\n",
       "      <td>6117.64</td>\n",
       "      <td>6117.64</td>\n",
       "      <td>5199.99</td>\n",
       "      <td>15</td>\n",
       "      <td>5</td>\n",
       "      <td>9</td>\n",
       "      <td>1</td>\n",
       "      <td>12</td>\n",
       "      <td>2024-04-25 03:03:43.110747</td>\n",
       "    </tr>\n",
       "    <tr>\n",
       "      <th>4</th>\n",
       "      <td>placa-de-video-rtx-4070-ti-super-gaming-verto-...</td>\n",
       "      <td>RTX 4070 TI</td>\n",
       "      <td>https://www.kabum.com.br//produto/520758/placa...</td>\n",
       "      <td>520758</td>\n",
       "      <td>Pny</td>\n",
       "      <td>1570</td>\n",
       "      <td>5199.99</td>\n",
       "      <td>0.00</td>\n",
       "      <td>0.00</td>\n",
       "      <td>0.00</td>\n",
       "      <td>0.00</td>\n",
       "      <td>5199.99</td>\n",
       "      <td>0</td>\n",
       "      <td>0</td>\n",
       "      <td>0</td>\n",
       "      <td>1</td>\n",
       "      <td>36</td>\n",
       "      <td>2024-04-25 03:03:43.110747</td>\n",
       "    </tr>\n",
       "  </tbody>\n",
       "</table>\n",
       "</div>"
      ],
      "text/plain": [
       "                                           full_name        model  \\\n",
       "0  placa-de-video-rtx-4070-ti-ventus-msi-nvidia-g...  RTX 4070 TI   \n",
       "1  placa-de-video-rtx-4070-ti-super-gigabyte-gami...  RTX 4070 TI   \n",
       "2  placa-de-video-rtx-4070-ti-super-msi-16g-ventu...  RTX 4070 TI   \n",
       "3  placa-de-video-rtx-4070-ti-gaming-x-slim-12g-m...  RTX 4070 TI   \n",
       "4  placa-de-video-rtx-4070-ti-super-gaming-verto-...  RTX 4070 TI   \n",
       "\n",
       "                                                link     sku brand_name  \\\n",
       "0  https://www.kabum.com.br//produto/403373/placa...  403373        MSI   \n",
       "1  https://www.kabum.com.br//produto/517737/placa...  517737   Gigabyte   \n",
       "2  https://www.kabum.com.br//produto/520532/placa...  520532        MSI   \n",
       "3  https://www.kabum.com.br//produto/495568/placa...  495568        MSI   \n",
       "4  https://www.kabum.com.br//produto/520758/placa...  520758        Pny   \n",
       "\n",
       "   weight    price  primePrice  primePriceWithDiscount  oldPrice  \\\n",
       "0    1732  6117.64     5934.11                 5043.99   6117.64   \n",
       "1    1816  6941.16        0.00                    0.00      0.00   \n",
       "2    1198  6352.93        0.00                    0.00      0.00   \n",
       "3    1890  6117.64     5934.11                 5043.99   6117.64   \n",
       "4    1570  5199.99        0.00                    0.00      0.00   \n",
       "\n",
       "   oldPrimePrice  priceWithDiscount  discountPercentage  rating  ratingCount  \\\n",
       "0        6117.64            5199.99                  15       4            8   \n",
       "1           0.00            5899.99                  15       0            0   \n",
       "2           0.00            5399.99                  15       5            2   \n",
       "3        6117.64            5199.99                  15       5            9   \n",
       "4           0.00            5199.99                   0       0            0   \n",
       "\n",
       "   available  warranty                       date  \n",
       "0          1        36 2024-04-25 03:03:43.110747  \n",
       "1          1        36 2024-04-25 03:03:43.110747  \n",
       "2          1        12 2024-04-25 03:03:43.110747  \n",
       "3          1        12 2024-04-25 03:03:43.110747  \n",
       "4          1        36 2024-04-25 03:03:43.110747  "
      ]
     },
     "execution_count": 34,
     "metadata": {},
     "output_type": "execute_result"
    }
   ],
   "source": [
    "df2.head(5)"
   ]
  },
  {
   "cell_type": "code",
   "execution_count": 35,
   "metadata": {},
   "outputs": [
    {
     "name": "stdout",
     "output_type": "stream",
     "text": [
      "full_name                 0\n",
      "model                     0\n",
      "link                      0\n",
      "sku                       0\n",
      "brand_name                0\n",
      "weight                    0\n",
      "price                     0\n",
      "primePrice                0\n",
      "primePriceWithDiscount    0\n",
      "oldPrice                  0\n",
      "oldPrimePrice             0\n",
      "priceWithDiscount         0\n",
      "discountPercentage        0\n",
      "rating                    0\n",
      "ratingCount               0\n",
      "available                 0\n",
      "warranty                  0\n",
      "date                      0\n",
      "dtype: int64\n"
     ]
    }
   ],
   "source": [
    "print(df2.isna().sum())"
   ]
  },
  {
   "cell_type": "code",
   "execution_count": 36,
   "metadata": {},
   "outputs": [],
   "source": [
    "df3 = df2['full_name']\n",
    "\n",
    "df3 = df3.str.replace('Placa', '')\n",
    "df3 = df3.str.replace('de Vídeo', '')\n",
    "df3 = df3.str.replace('De Vídeo', '')\n",
    "df3 = df3.str.replace('De Video', '')\n",
    "df3 = df3.str.strip()\n",
    "\n",
    "df_names = df3.unique()\n",
    "df_names = [name[:45] for name in df_names]"
   ]
  },
  {
   "cell_type": "code",
   "execution_count": 37,
   "metadata": {},
   "outputs": [
    {
     "data": {
      "application/vnd.plotly.v1+json": {
       "config": {
        "plotlyServerURL": "https://plot.ly"
       },
       "data": [
        {
         "mode": "lines+markers",
         "name": "placa-de-video-rtx-4070-ti-ventus-msi-nvidia-geforce-12-gb-gddr6x-dlss-3-ray-tracing-geforce-rtx-4070-ti-ventus-3x-12g-oc",
         "type": "scatter",
         "x": [
          "2024-04-25T03:03:00"
         ],
         "y": [
          6117.64
         ]
        },
        {
         "mode": "lines+markers",
         "name": "placa-de-video-rtx-4070-ti-super-gigabyte-gaming-oc-nvidia-geforce-16gb-gddr6-dlss-ray-tracing-gv-n407tsgaming-oc-16gd",
         "type": "scatter",
         "x": [
          "2024-04-25T03:03:00"
         ],
         "y": [
          6941.16
         ]
        },
        {
         "mode": "lines+markers",
         "name": "placa-de-video-rtx-4070-ti-super-msi-16g-ventus-2x-oc-nvidia-geforce-16gb-gddr6x-dlss-ray-tracing",
         "type": "scatter",
         "x": [
          "2024-04-25T03:03:00"
         ],
         "y": [
          6352.93
         ]
        },
        {
         "mode": "lines+markers",
         "name": "placa-de-video-rtx-4070-ti-gaming-x-slim-12g-msi-nvidia-geforce-12gb-gddr6x-g-sync-dlss-ray-tracing",
         "type": "scatter",
         "x": [
          "2024-04-25T03:03:00"
         ],
         "y": [
          6117.64
         ]
        },
        {
         "mode": "lines+markers",
         "name": "placa-de-video-rtx-4070-ti-super-gaming-verto-triple-fan-pny-nvidia-geforce-16gb-gddr6x-dlss-3-ray-tracing-vcg4070ts16tfxpb1-o",
         "type": "scatter",
         "x": [
          "2024-04-25T03:03:00"
         ],
         "y": [
          5199.99
         ]
        },
        {
         "mode": "lines+markers",
         "name": "placa-de-video-rtx-4070-ti-super-sg-galax-nvidia-geforce-16gb-gddr6x-dlss-ray-tracing-47uzm6md6mer",
         "type": "scatter",
         "x": [
          "2024-04-25T03:03:00"
         ],
         "y": [
          7176.46
         ]
        },
        {
         "mode": "lines+markers",
         "name": "placa-de-video-rtx-4070-ti-ventus-3x-trio-oc-msi-nvidia-12gb-ddr6-192-bits-912-v513001",
         "type": "scatter",
         "x": [
          "2024-04-25T03:03:00"
         ],
         "y": [
          6601.06
         ]
        },
        {
         "mode": "lines+markers",
         "name": "placa-de-video-rtx-4070-ti-super-gigabyte-aero-nvidia-geforce-16gb-gddr6-dlss-ray-tracing-gv-n407tsaero-oc-16gd",
         "type": "scatter",
         "x": [
          "2024-04-25T03:03:00"
         ],
         "y": [
          6941.16
         ]
        },
        {
         "mode": "lines+markers",
         "name": "placa-de-video-rtx-4070-ti-rog-strix-gaming-asus-nvidia-geforce-12-gb-gddr6x-argb-ray-tracing-rog-strix-rtx4070ti-o12g-gaming",
         "type": "scatter",
         "x": [
          "2024-04-25T03:03:00"
         ],
         "y": [
          7999.99
         ]
        },
        {
         "mode": "lines+markers",
         "name": "placa-de-video-rtx-4070-ti-super-msi-16g-gaming-x-slim-nvidia-geforce-16gb-gddr6x-dlss-ray-tracing",
         "type": "scatter",
         "x": [
          "2024-04-25T03:03:00"
         ],
         "y": [
          7411.75
         ]
        },
        {
         "mode": "lines+markers",
         "name": "placa-de-video-rtx-4070-ti-super-gigabyte-windforce-nvidia-geforce-16gb-gddr6-dlss-ray-tracing-gv-n407tswf3oc-16gd",
         "type": "scatter",
         "x": [
          "2024-04-25T03:03:00"
         ],
         "y": [
          6470.58
         ]
        },
        {
         "mode": "lines+markers",
         "name": "placa-de-video-rtx-4070-ti-super-gamingpro-white-oc-palit-nvidia-geforce-16gb-gddr6x-dlss-ray-trancing-g-sync-ned47tst19t2-1043w",
         "type": "scatter",
         "x": [
          "2024-04-25T03:03:00"
         ],
         "y": [
          6941.16
         ]
        },
        {
         "mode": "lines+markers",
         "name": "placa-de-video-msi-geforce-rtx-4070-ti-ventus-3x-e-12g-oc-12",
         "type": "scatter",
         "x": [
          "2024-04-25T03:03:00"
         ],
         "y": [
          4978.84
         ]
        },
        {
         "mode": "lines+markers",
         "name": "placa-de-video-rtx-4070-ti-gigabyte-nvidia-geforce-12-gb-gddr6x-dlss-3-ray-tracing-gv-n407teagle-oc-12gd",
         "type": "scatter",
         "x": [
          "2024-04-25T03:03:00"
         ],
         "y": [
          7294.11
         ]
        },
        {
         "mode": "lines+markers",
         "name": "placa-de-video-gigabyte-geforce-rtx-4070-ti-super-eagle-oc-16gb-gddr6x-256-bits",
         "type": "scatter",
         "x": [
          "2024-04-25T03:03:00"
         ],
         "y": [
          6124.89
         ]
        },
        {
         "mode": "lines+markers",
         "name": "placa-de-video-rtx-4070-ti-xlr8-gaming-verto-tf-oc-pny-nvidia-geforce-12gb-gddr6x-dlss-3-ray-tracing-vcg4070t12tfxxpb1-o",
         "type": "scatter",
         "x": [
          "2024-04-25T03:03:00"
         ],
         "y": [
          6235.28
         ]
        },
        {
         "mode": "lines+markers",
         "name": "placa-de-video-colorful-igame-rtx-4070-ti-ultra-w-oc-v",
         "type": "scatter",
         "x": [
          "2024-04-25T03:03:00"
         ],
         "y": [
          5599
         ]
        },
        {
         "mode": "lines+markers",
         "name": "placa-de-video-rtx-4070-ti-super-ex-galax-nvidia-geforce-16gb-gddr6x-47uzm6md9bup",
         "type": "scatter",
         "x": [
          "2024-04-25T03:03:00"
         ],
         "y": [
          9373.9
         ]
        },
        {
         "mode": "lines+markers",
         "name": "placa-de-video-rtx-4070-ti-super-oc-asus-tuf-gaming-geforce-16gb-gddr6x",
         "type": "scatter",
         "x": [
          "2024-04-25T03:03:00"
         ],
         "y": [
          8855.57
         ]
        },
        {
         "mode": "lines+markers",
         "name": "placa-de-video-colorful-igame-rtx-4070-ti-advanced-oc-v",
         "type": "scatter",
         "x": [
          "2024-04-25T03:03:00"
         ],
         "y": [
          6211
         ]
        },
        {
         "mode": "lines+markers",
         "name": "placa-de-video-galax-geforce-rtx-4070-ti-super-sg-oc-16gb-gddr6x-256-bit-47uzm6md6mer",
         "type": "scatter",
         "x": [
          "2024-04-25T03:03:00"
         ],
         "y": [
          8697.39
         ]
        },
        {
         "mode": "lines+markers",
         "name": "placa-de-video-colorful-nvidia-geforce-rtx-4070-ti-nb-ex-v-12gb-gddr6x-ray-tracing-de-3-geracao-dlss-3-g-sync-285w-tdp-3xdp-1xhdmi",
         "type": "scatter",
         "x": [
          "2024-04-25T03:03:00"
         ],
         "y": [
          5599
         ]
        },
        {
         "mode": "lines+markers",
         "name": "placa-de-video-rtx-4060-ti-ventus-3x-8g-oc-msi-nvidia-geforce-8-gb-gddr6-dlss-ray-tracing",
         "type": "scatter",
         "x": [
          "2024-04-25T03:03:00"
         ],
         "y": [
          3398.68
         ]
        },
        {
         "mode": "lines+markers",
         "name": "placa-de-video-rtx-4060-ti-oc-edition-asus-tuf-gaming-nvidia-geforce-8-gb-gddr6-argb-dlss-tuf-rtx4060ti-o8g-gaming",
         "type": "scatter",
         "x": [
          "2024-04-25T03:03:00"
         ],
         "y": [
          3444.43
         ]
        },
        {
         "mode": "lines+markers",
         "name": "placa-de-video-gigabyte-nvidia-geforce-rtx-4070-ti-eagle-oc-12gb-gddr6x-192bits-gv-n407teagle",
         "type": "scatter",
         "x": [
          "2024-04-25T03:03:00"
         ],
         "y": [
          6999.9
         ]
        },
        {
         "mode": "lines+markers",
         "name": "placa-de-video-rtx-4060-ti-click-oc-galax-nvidia-geforce-8-gb-gddr6-dlss-ray-tracing-46isl8md8coc",
         "type": "scatter",
         "x": [
          "2024-04-25T03:03:00"
         ],
         "y": [
          2941.16
         ]
        },
        {
         "mode": "lines+markers",
         "name": "placa-de-video-rtx-4060-ti-eagle-oc-gigabyte-nvidia-geforce-8-gb-gddr6-dlss-ray-tracing-gv-n406teagle-oc-8gd-g10",
         "type": "scatter",
         "x": [
          "2024-04-25T03:03:00"
         ],
         "y": [
          3111.1
         ]
        },
        {
         "mode": "lines+markers",
         "name": "placa-de-video-rtx-4060-ti-xlr8-gaming-verto-epic-x-pny-nvidia-geforce-8gb-gddr6-argb-dlss-ray-tracing-g-sync-vcg4060t8tfxxpb1",
         "type": "scatter",
         "x": [
          "2024-04-25T03:03:00"
         ],
         "y": [
          2941.16
         ]
        },
        {
         "mode": "lines+markers",
         "name": "placa-de-video-rtx-4070-ti-msi-geforce-super-ventus-3x-oc-16gb-gddr6x-256-bits-912-v513-627",
         "type": "scatter",
         "x": [
          "2024-04-25T03:03:00"
         ],
         "y": [
          6590.8
         ]
        },
        {
         "mode": "lines+markers",
         "name": "placa-de-video-rtx-4070-ti-super-gamingpro-oc-palit-nvidia-geforce-16gb-gddr6x-dlss-ray-trancing-g-sync-ned47tsh19t2-1043a",
         "type": "scatter",
         "x": [
          "2024-04-25T03:03:00"
         ],
         "y": [
          6941.16
         ]
        },
        {
         "mode": "lines+markers",
         "name": "placa-de-video-rtx-4060-ti-oc-edition-asus-nvidia-geforce-8-gb-gddr6-dlss-ray-tracing-dual-rtx4060ti-o8g",
         "type": "scatter",
         "x": [
          "2024-04-25T03:03:00"
         ],
         "y": [
          3464.04
         ]
        },
        {
         "mode": "lines+markers",
         "name": "zotac-gaming-geforce-rtx-4070-ti-super-trinity-oc-white-edition-16gb-gddr6x-zt-d40730q-10p",
         "type": "scatter",
         "x": [
          "2024-04-25T03:03:00"
         ],
         "y": [
          9019.45
         ]
        },
        {
         "mode": "lines+markers",
         "name": "placa-de-video-rtx-4060-ti-ventus-3x-16g-oc-msi-nvidia-geforce-dlss-ray-tracing-g-sync",
         "type": "scatter",
         "x": [
          "2024-04-25T03:03:00"
         ],
         "y": [
          3529.4
         ]
        },
        {
         "mode": "lines+markers",
         "name": "placa-de-video-rtx-4060-ti-dual-o8g-white-asus-nvidia-geforce-8gb-gddr6-dlss-ray-trancing-g-sync-90yv0j42-m0na00",
         "type": "scatter",
         "x": [
          "2024-04-25T03:03:00"
         ],
         "y": [
          3164.69
         ]
        },
        {
         "mode": "lines+markers",
         "name": "placa-de-video-rtx-4060-ti-ventus-2x-oc-msi-nvidia-8gb-gddr6-912-v515-024",
         "type": "scatter",
         "x": [
          "2024-04-25T03:03:00"
         ],
         "y": [
          2987.54
         ]
        },
        {
         "mode": "lines+markers",
         "name": "placa-de-video-palit-gamingpro-nvidia-rtx-4070-ti-12gb-gddr6x-192bits",
         "type": "scatter",
         "x": [
          "2024-04-25T03:03:00"
         ],
         "y": [
          5568.07
         ]
        },
        {
         "mode": "lines+markers",
         "name": "placa-de-video-nvidia-gigabyte-geforce-rtx-4070-ti-super-windforce-oc-16gb-gddr6x-256-bits-gv-n407tswf3oc-16gd",
         "type": "scatter",
         "x": [
          "2024-04-25T03:03:00"
         ],
         "y": [
          8273.28
         ]
        },
        {
         "mode": "lines+markers",
         "name": "placa-de-video-rtx-4060-ti-dual-palit-nvidia-geforce-8gb-gddr6-rgb-128bit-g-sync-ray-tracing-dlss-ne6406t019p1-1060d",
         "type": "scatter",
         "x": [
          "2024-04-25T03:03:00"
         ],
         "y": [
          3058.81
         ]
        },
        {
         "mode": "lines+markers",
         "name": "placa-de-video-rtx-4060-ti-rog-strix-o8g-gaming-nvidia-geforce-8gb-gddr6-argb-dlss-ray-tracing-g-sync-rog-strix-rtx4060ti-o8g-gaming",
         "type": "scatter",
         "x": [
          "2024-04-25T03:03:00"
         ],
         "y": [
          3764.69
         ]
        },
        {
         "mode": "lines+markers",
         "name": "placa-de-video-rtx-4060-ti-asus-tuf-gaming-nvidia-geforce-8gb-gddr6-dlss-ray-tracing-g-sync-90yv0j51-m0na00",
         "type": "scatter",
         "x": [
          "2024-04-25T03:03:00"
         ],
         "y": [
          3294.11
         ]
        },
        {
         "mode": "lines+markers",
         "name": "placa-de-video-rtx-4060-ti-rog-strix-8g-gaming-nvidia-geforce-8gb-gddr6-dlss-ray-tracing-g-sync-90yv0j53-m0na00",
         "type": "scatter",
         "x": [
          "2024-04-25T03:03:00"
         ],
         "y": [
          3882.34
         ]
        },
        {
         "mode": "lines+markers",
         "name": "placa-de-video-rtx-4060-ti-gaming-x-8g-msi-nvidia-geforce-8-gb-gddr6-dlss-ray-tracing",
         "type": "scatter",
         "x": [
          "2024-04-25T03:03:00"
         ],
         "y": [
          3294.11
         ]
        },
        {
         "mode": "lines+markers",
         "name": "placa-de-video-colorful-geforce-rtx-4060-ti-nb-duo-8gb-v",
         "type": "scatter",
         "x": [
          "2024-04-25T03:03:00"
         ],
         "y": [
          2699
         ]
        },
        {
         "mode": "lines+markers",
         "name": "placa-de-video-rtx-4060-ti-ventus-3x-oc-msi-nvidia-8gb-gddr6-912-v515-040",
         "type": "scatter",
         "x": [
          "2024-04-25T03:03:00"
         ],
         "y": [
          3010.42
         ]
        },
        {
         "mode": "lines+markers",
         "name": "placa-de-video-rtx-4060-ti-ex-1-click-oc-galax-nvidia-geforce-16gb-gddr6-dlss-g-sync-ray-tracing-46izl8md8yex",
         "type": "scatter",
         "x": [
          "2024-04-25T03:03:00"
         ],
         "y": [
          5058.81
         ]
        },
        {
         "mode": "lines+markers",
         "name": "placa-de-video-galax-nividia-geforce-rtx-3070-ti-8gb-gddr6x-lhr-1-click-oc-256-bits-37ism6md4coc",
         "type": "scatter",
         "x": [
          "2024-04-25T03:03:00"
         ],
         "y": [
          4899
         ]
        },
        {
         "mode": "lines+markers",
         "name": "placa-de-video-rtx-4060-ti-eagle-gigabyte-geforce-8gb-gddr6-128-bits-gv-n406teagle-8gd",
         "type": "scatter",
         "x": [
          "2024-04-25T03:03:00"
         ],
         "y": [
          5299.99
         ]
        },
        {
         "mode": "lines+markers",
         "name": "placa-de-video-rtx-4060-ti-gaming-x-msi-nvidia-geforce-8gb-gddr6-dlss-ray-tracing-912-v515-022",
         "type": "scatter",
         "x": [
          "2024-04-25T03:03:00"
         ],
         "y": [
          3176.02
         ]
        },
        {
         "mode": "lines+markers",
         "name": "placa-de-video-rtx-4060-ti-gaming-x-slim-msi-nvidia-16gb-gddr6-128bits-white-912-v517-001",
         "type": "scatter",
         "x": [
          "2024-04-25T03:03:00"
         ],
         "y": [
          5187
         ]
        },
        {
         "mode": "lines+markers",
         "name": "placa-de-video-rtx-4060-ti-palit-dual-8gb-128bits-gddr6-pci-e-ne6406t019p1-1060d-5793",
         "type": "scatter",
         "x": [
          "2024-04-25T03:03:00"
         ],
         "y": [
          3161
         ]
        },
        {
         "mode": "lines+markers",
         "name": "placa-de-video-manli-nvidia-geforce-rtx-4060-ti-8gb-gddr6-dlss-ray-tracing-preto-unissex-unico",
         "type": "scatter",
         "x": [
          "2024-04-25T03:03:00"
         ],
         "y": [
          3522.11
         ]
        },
        {
         "mode": "lines+markers",
         "name": "placa-de-video-gigabyte-nvidia-geforce-rtx-4060-ti-aero-oc-16gb-gddr6-dlss-ray-tracing-gv-n406taero-oc-16gd",
         "type": "scatter",
         "x": [
          "2024-04-25T03:03:00"
         ],
         "y": [
          4819.99
         ]
        },
        {
         "mode": "lines+markers",
         "name": "placa-de-video-rtx-4060-ti-black-ex-galax-nvidia-16gb-gddr6-128bits-46izl8md8yex",
         "type": "scatter",
         "x": [
          "2024-04-25T03:03:00"
         ],
         "y": [
          5279.89
         ]
        },
        {
         "mode": "lines+markers",
         "name": "placa-de-video-asus-dual-geforce-rtx-4060-ti-oc-edition-8gb-gddr6-128-bits-dual-rtx4060ti-08g",
         "type": "scatter",
         "x": [
          "2024-04-25T03:03:00"
         ],
         "y": [
          2778.84
         ]
        },
        {
         "mode": "lines+markers",
         "name": "placa-de-video-geforce-rtx-4060-ti-16gb-gddr6-128bit-panther-oc-series-gainward-ne6406tu19t1-1061z",
         "type": "scatter",
         "x": [
          "2024-04-25T03:03:00"
         ],
         "y": [
          5329.99
         ]
        },
        {
         "mode": "lines+markers",
         "name": "placa-de-video-asus-geforce-rtx-4060-ti-dual-white-oc-8g-gddr6-128-bits-dual-rtx4060ti-o8g-white",
         "type": "scatter",
         "x": [
          "2024-04-25T03:03:00"
         ],
         "y": [
          2831.47
         ]
        }
       ],
       "layout": {
        "legend": {
         "font": {
          "size": 10
         },
         "itemwidth": 30,
         "orientation": "v",
         "x": 10,
         "y": 0
        },
        "margin": {
         "b": 150,
         "l": 50,
         "r": 50,
         "t": 80
        },
        "template": {
         "data": {
          "bar": [
           {
            "error_x": {
             "color": "#2a3f5f"
            },
            "error_y": {
             "color": "#2a3f5f"
            },
            "marker": {
             "line": {
              "color": "#E5ECF6",
              "width": 0.5
             },
             "pattern": {
              "fillmode": "overlay",
              "size": 10,
              "solidity": 0.2
             }
            },
            "type": "bar"
           }
          ],
          "barpolar": [
           {
            "marker": {
             "line": {
              "color": "#E5ECF6",
              "width": 0.5
             },
             "pattern": {
              "fillmode": "overlay",
              "size": 10,
              "solidity": 0.2
             }
            },
            "type": "barpolar"
           }
          ],
          "carpet": [
           {
            "aaxis": {
             "endlinecolor": "#2a3f5f",
             "gridcolor": "white",
             "linecolor": "white",
             "minorgridcolor": "white",
             "startlinecolor": "#2a3f5f"
            },
            "baxis": {
             "endlinecolor": "#2a3f5f",
             "gridcolor": "white",
             "linecolor": "white",
             "minorgridcolor": "white",
             "startlinecolor": "#2a3f5f"
            },
            "type": "carpet"
           }
          ],
          "choropleth": [
           {
            "colorbar": {
             "outlinewidth": 0,
             "ticks": ""
            },
            "type": "choropleth"
           }
          ],
          "contour": [
           {
            "colorbar": {
             "outlinewidth": 0,
             "ticks": ""
            },
            "colorscale": [
             [
              0,
              "#0d0887"
             ],
             [
              0.1111111111111111,
              "#46039f"
             ],
             [
              0.2222222222222222,
              "#7201a8"
             ],
             [
              0.3333333333333333,
              "#9c179e"
             ],
             [
              0.4444444444444444,
              "#bd3786"
             ],
             [
              0.5555555555555556,
              "#d8576b"
             ],
             [
              0.6666666666666666,
              "#ed7953"
             ],
             [
              0.7777777777777778,
              "#fb9f3a"
             ],
             [
              0.8888888888888888,
              "#fdca26"
             ],
             [
              1,
              "#f0f921"
             ]
            ],
            "type": "contour"
           }
          ],
          "contourcarpet": [
           {
            "colorbar": {
             "outlinewidth": 0,
             "ticks": ""
            },
            "type": "contourcarpet"
           }
          ],
          "heatmap": [
           {
            "colorbar": {
             "outlinewidth": 0,
             "ticks": ""
            },
            "colorscale": [
             [
              0,
              "#0d0887"
             ],
             [
              0.1111111111111111,
              "#46039f"
             ],
             [
              0.2222222222222222,
              "#7201a8"
             ],
             [
              0.3333333333333333,
              "#9c179e"
             ],
             [
              0.4444444444444444,
              "#bd3786"
             ],
             [
              0.5555555555555556,
              "#d8576b"
             ],
             [
              0.6666666666666666,
              "#ed7953"
             ],
             [
              0.7777777777777778,
              "#fb9f3a"
             ],
             [
              0.8888888888888888,
              "#fdca26"
             ],
             [
              1,
              "#f0f921"
             ]
            ],
            "type": "heatmap"
           }
          ],
          "heatmapgl": [
           {
            "colorbar": {
             "outlinewidth": 0,
             "ticks": ""
            },
            "colorscale": [
             [
              0,
              "#0d0887"
             ],
             [
              0.1111111111111111,
              "#46039f"
             ],
             [
              0.2222222222222222,
              "#7201a8"
             ],
             [
              0.3333333333333333,
              "#9c179e"
             ],
             [
              0.4444444444444444,
              "#bd3786"
             ],
             [
              0.5555555555555556,
              "#d8576b"
             ],
             [
              0.6666666666666666,
              "#ed7953"
             ],
             [
              0.7777777777777778,
              "#fb9f3a"
             ],
             [
              0.8888888888888888,
              "#fdca26"
             ],
             [
              1,
              "#f0f921"
             ]
            ],
            "type": "heatmapgl"
           }
          ],
          "histogram": [
           {
            "marker": {
             "pattern": {
              "fillmode": "overlay",
              "size": 10,
              "solidity": 0.2
             }
            },
            "type": "histogram"
           }
          ],
          "histogram2d": [
           {
            "colorbar": {
             "outlinewidth": 0,
             "ticks": ""
            },
            "colorscale": [
             [
              0,
              "#0d0887"
             ],
             [
              0.1111111111111111,
              "#46039f"
             ],
             [
              0.2222222222222222,
              "#7201a8"
             ],
             [
              0.3333333333333333,
              "#9c179e"
             ],
             [
              0.4444444444444444,
              "#bd3786"
             ],
             [
              0.5555555555555556,
              "#d8576b"
             ],
             [
              0.6666666666666666,
              "#ed7953"
             ],
             [
              0.7777777777777778,
              "#fb9f3a"
             ],
             [
              0.8888888888888888,
              "#fdca26"
             ],
             [
              1,
              "#f0f921"
             ]
            ],
            "type": "histogram2d"
           }
          ],
          "histogram2dcontour": [
           {
            "colorbar": {
             "outlinewidth": 0,
             "ticks": ""
            },
            "colorscale": [
             [
              0,
              "#0d0887"
             ],
             [
              0.1111111111111111,
              "#46039f"
             ],
             [
              0.2222222222222222,
              "#7201a8"
             ],
             [
              0.3333333333333333,
              "#9c179e"
             ],
             [
              0.4444444444444444,
              "#bd3786"
             ],
             [
              0.5555555555555556,
              "#d8576b"
             ],
             [
              0.6666666666666666,
              "#ed7953"
             ],
             [
              0.7777777777777778,
              "#fb9f3a"
             ],
             [
              0.8888888888888888,
              "#fdca26"
             ],
             [
              1,
              "#f0f921"
             ]
            ],
            "type": "histogram2dcontour"
           }
          ],
          "mesh3d": [
           {
            "colorbar": {
             "outlinewidth": 0,
             "ticks": ""
            },
            "type": "mesh3d"
           }
          ],
          "parcoords": [
           {
            "line": {
             "colorbar": {
              "outlinewidth": 0,
              "ticks": ""
             }
            },
            "type": "parcoords"
           }
          ],
          "pie": [
           {
            "automargin": true,
            "type": "pie"
           }
          ],
          "scatter": [
           {
            "fillpattern": {
             "fillmode": "overlay",
             "size": 10,
             "solidity": 0.2
            },
            "type": "scatter"
           }
          ],
          "scatter3d": [
           {
            "line": {
             "colorbar": {
              "outlinewidth": 0,
              "ticks": ""
             }
            },
            "marker": {
             "colorbar": {
              "outlinewidth": 0,
              "ticks": ""
             }
            },
            "type": "scatter3d"
           }
          ],
          "scattercarpet": [
           {
            "marker": {
             "colorbar": {
              "outlinewidth": 0,
              "ticks": ""
             }
            },
            "type": "scattercarpet"
           }
          ],
          "scattergeo": [
           {
            "marker": {
             "colorbar": {
              "outlinewidth": 0,
              "ticks": ""
             }
            },
            "type": "scattergeo"
           }
          ],
          "scattergl": [
           {
            "marker": {
             "colorbar": {
              "outlinewidth": 0,
              "ticks": ""
             }
            },
            "type": "scattergl"
           }
          ],
          "scattermapbox": [
           {
            "marker": {
             "colorbar": {
              "outlinewidth": 0,
              "ticks": ""
             }
            },
            "type": "scattermapbox"
           }
          ],
          "scatterpolar": [
           {
            "marker": {
             "colorbar": {
              "outlinewidth": 0,
              "ticks": ""
             }
            },
            "type": "scatterpolar"
           }
          ],
          "scatterpolargl": [
           {
            "marker": {
             "colorbar": {
              "outlinewidth": 0,
              "ticks": ""
             }
            },
            "type": "scatterpolargl"
           }
          ],
          "scatterternary": [
           {
            "marker": {
             "colorbar": {
              "outlinewidth": 0,
              "ticks": ""
             }
            },
            "type": "scatterternary"
           }
          ],
          "surface": [
           {
            "colorbar": {
             "outlinewidth": 0,
             "ticks": ""
            },
            "colorscale": [
             [
              0,
              "#0d0887"
             ],
             [
              0.1111111111111111,
              "#46039f"
             ],
             [
              0.2222222222222222,
              "#7201a8"
             ],
             [
              0.3333333333333333,
              "#9c179e"
             ],
             [
              0.4444444444444444,
              "#bd3786"
             ],
             [
              0.5555555555555556,
              "#d8576b"
             ],
             [
              0.6666666666666666,
              "#ed7953"
             ],
             [
              0.7777777777777778,
              "#fb9f3a"
             ],
             [
              0.8888888888888888,
              "#fdca26"
             ],
             [
              1,
              "#f0f921"
             ]
            ],
            "type": "surface"
           }
          ],
          "table": [
           {
            "cells": {
             "fill": {
              "color": "#EBF0F8"
             },
             "line": {
              "color": "white"
             }
            },
            "header": {
             "fill": {
              "color": "#C8D4E3"
             },
             "line": {
              "color": "white"
             }
            },
            "type": "table"
           }
          ]
         },
         "layout": {
          "annotationdefaults": {
           "arrowcolor": "#2a3f5f",
           "arrowhead": 0,
           "arrowwidth": 1
          },
          "autotypenumbers": "strict",
          "coloraxis": {
           "colorbar": {
            "outlinewidth": 0,
            "ticks": ""
           }
          },
          "colorscale": {
           "diverging": [
            [
             0,
             "#8e0152"
            ],
            [
             0.1,
             "#c51b7d"
            ],
            [
             0.2,
             "#de77ae"
            ],
            [
             0.3,
             "#f1b6da"
            ],
            [
             0.4,
             "#fde0ef"
            ],
            [
             0.5,
             "#f7f7f7"
            ],
            [
             0.6,
             "#e6f5d0"
            ],
            [
             0.7,
             "#b8e186"
            ],
            [
             0.8,
             "#7fbc41"
            ],
            [
             0.9,
             "#4d9221"
            ],
            [
             1,
             "#276419"
            ]
           ],
           "sequential": [
            [
             0,
             "#0d0887"
            ],
            [
             0.1111111111111111,
             "#46039f"
            ],
            [
             0.2222222222222222,
             "#7201a8"
            ],
            [
             0.3333333333333333,
             "#9c179e"
            ],
            [
             0.4444444444444444,
             "#bd3786"
            ],
            [
             0.5555555555555556,
             "#d8576b"
            ],
            [
             0.6666666666666666,
             "#ed7953"
            ],
            [
             0.7777777777777778,
             "#fb9f3a"
            ],
            [
             0.8888888888888888,
             "#fdca26"
            ],
            [
             1,
             "#f0f921"
            ]
           ],
           "sequentialminus": [
            [
             0,
             "#0d0887"
            ],
            [
             0.1111111111111111,
             "#46039f"
            ],
            [
             0.2222222222222222,
             "#7201a8"
            ],
            [
             0.3333333333333333,
             "#9c179e"
            ],
            [
             0.4444444444444444,
             "#bd3786"
            ],
            [
             0.5555555555555556,
             "#d8576b"
            ],
            [
             0.6666666666666666,
             "#ed7953"
            ],
            [
             0.7777777777777778,
             "#fb9f3a"
            ],
            [
             0.8888888888888888,
             "#fdca26"
            ],
            [
             1,
             "#f0f921"
            ]
           ]
          },
          "colorway": [
           "#636efa",
           "#EF553B",
           "#00cc96",
           "#ab63fa",
           "#FFA15A",
           "#19d3f3",
           "#FF6692",
           "#B6E880",
           "#FF97FF",
           "#FECB52"
          ],
          "font": {
           "color": "#2a3f5f"
          },
          "geo": {
           "bgcolor": "white",
           "lakecolor": "white",
           "landcolor": "#E5ECF6",
           "showlakes": true,
           "showland": true,
           "subunitcolor": "white"
          },
          "hoverlabel": {
           "align": "left"
          },
          "hovermode": "closest",
          "mapbox": {
           "style": "light"
          },
          "paper_bgcolor": "white",
          "plot_bgcolor": "#E5ECF6",
          "polar": {
           "angularaxis": {
            "gridcolor": "white",
            "linecolor": "white",
            "ticks": ""
           },
           "bgcolor": "#E5ECF6",
           "radialaxis": {
            "gridcolor": "white",
            "linecolor": "white",
            "ticks": ""
           }
          },
          "scene": {
           "xaxis": {
            "backgroundcolor": "#E5ECF6",
            "gridcolor": "white",
            "gridwidth": 2,
            "linecolor": "white",
            "showbackground": true,
            "ticks": "",
            "zerolinecolor": "white"
           },
           "yaxis": {
            "backgroundcolor": "#E5ECF6",
            "gridcolor": "white",
            "gridwidth": 2,
            "linecolor": "white",
            "showbackground": true,
            "ticks": "",
            "zerolinecolor": "white"
           },
           "zaxis": {
            "backgroundcolor": "#E5ECF6",
            "gridcolor": "white",
            "gridwidth": 2,
            "linecolor": "white",
            "showbackground": true,
            "ticks": "",
            "zerolinecolor": "white"
           }
          },
          "shapedefaults": {
           "line": {
            "color": "#2a3f5f"
           }
          },
          "ternary": {
           "aaxis": {
            "gridcolor": "white",
            "linecolor": "white",
            "ticks": ""
           },
           "baxis": {
            "gridcolor": "white",
            "linecolor": "white",
            "ticks": ""
           },
           "bgcolor": "#E5ECF6",
           "caxis": {
            "gridcolor": "white",
            "linecolor": "white",
            "ticks": ""
           }
          },
          "title": {
           "x": 0.05
          },
          "xaxis": {
           "automargin": true,
           "gridcolor": "white",
           "linecolor": "white",
           "ticks": "",
           "title": {
            "standoff": 15
           },
           "zerolinecolor": "white",
           "zerolinewidth": 2
          },
          "yaxis": {
           "automargin": true,
           "gridcolor": "white",
           "linecolor": "white",
           "ticks": "",
           "title": {
            "standoff": 15
           },
           "zerolinecolor": "white",
           "zerolinewidth": 2
          }
         }
        },
        "title": {
         "text": "Evolução dos Preços - Modelo: RTX 4070 TI"
        },
        "xaxis": {
         "title": {
          "text": "Data"
         }
        },
        "yaxis": {
         "tickformat": ".2f",
         "tickprefix": "R$ ",
         "title": {
          "text": "Preço"
         }
        }
       }
      }
     },
     "metadata": {},
     "output_type": "display_data"
    },
    {
     "data": {
      "application/vnd.plotly.v1+json": {
       "config": {
        "plotlyServerURL": "https://plot.ly"
       },
       "data": [
        {
         "mode": "lines+markers",
         "name": "rtx-4070-super-eagle-oc-12gb-gddr6x-0113133-01-processador-grafico-gigabyte-geforce-gv-n407seagle-oc-12gd",
         "type": "scatter",
         "x": [
          "2024-04-25T03:05:00"
         ],
         "y": [
          6687.67
         ]
        },
        {
         "mode": "lines+markers",
         "name": "placa-de-video-rtx-4080-super-sg-galax-nvidia-geforce-16gb-gddr6x-dlss-ray-tracing-g-sync-48szm6md9rsg",
         "type": "scatter",
         "x": [
          "2024-04-25T03:05:00"
         ],
         "y": [
          8470.58
         ]
        },
        {
         "mode": "lines+markers",
         "name": "placa-de-video-rtx-4080-super-msi-16g-ventus-3x-oc-nvidia-geforce-16gb-gddr6x-dlss-ray-tracing",
         "type": "scatter",
         "x": [
          "2024-04-25T03:05:00"
         ],
         "y": [
          9058.81
         ]
        },
        {
         "mode": "lines+markers",
         "name": "placa-de-video-rtx-4080-black-st-galax-nvidia-16gb-gddr6x-256-bits-3-dp-hdmi-2-1-dlss3-48nzm6md6lts",
         "type": "scatter",
         "x": [
          "2024-04-25T03:05:00"
         ],
         "y": [
          7850
         ]
        },
        {
         "mode": "lines+markers",
         "name": "placa-de-video-rtx-4080-super-oc-gaming-verto-triple-fan-pny-nvidia-geforce-16gb-gddr6x-dlss-3-ray-tracing-vcg4080s16tfxpb1-o",
         "type": "scatter",
         "x": [
          "2024-04-25T03:05:00"
         ],
         "y": [
          8235.28
         ]
        },
        {
         "mode": "lines+markers",
         "name": "placa-de-video-rtx-4080-rog-strix-edition-asus-nvidia-geforce-16gb-gddr6x-argb-dlss-ray-tracing-branco-rog-strix-rtx4080-o16g-white",
         "type": "scatter",
         "x": [
          "2024-04-25T03:05:00"
         ],
         "y": [
          10588.22
         ]
        },
        {
         "mode": "lines+markers",
         "name": "placa-de-video-rtx-4080-edition-asus-rog-strix-nvidia-geforce-16-gb-gddr6x-argb-dlss-ray-tracing-rog-strix-rtx4080-o16g-gaming",
         "type": "scatter",
         "x": [
          "2024-04-25T03:05:00"
         ],
         "y": [
          9999.99
         ]
        },
        {
         "mode": "lines+markers",
         "name": "placa-de-video-rtx-4080-super-oc-gaming-verto-epic-x-rgb-triple-fan-pny-nvidia-geforce-16gb-gddr6x-dlss-3-ray-tracing-vcg4080s16tfxxpb1-o",
         "type": "scatter",
         "x": [
          "2024-04-25T03:05:00"
         ],
         "y": [
          8470.58
         ]
        },
        {
         "mode": "lines+markers",
         "name": "placa-de-video-rtx-4080-super-gamingpro-oc-palit-nvidia-geforce-16gb-gddr6x-dlss-ray-trancing-g-sync-ned408st19t2-1032a",
         "type": "scatter",
         "x": [
          "2024-04-25T03:05:00"
         ],
         "y": [
          8470.58
         ]
        },
        {
         "mode": "lines+markers",
         "name": "placa-de-video-rtx-4080-super-windforce-gigabyte-nvidia-geforce-16gb-gddr6x-dlss-ray-tracing-gv-n408swf3-16gd",
         "type": "scatter",
         "x": [
          "2024-04-25T03:05:00"
         ],
         "y": [
          7999.9
         ]
        },
        {
         "mode": "lines+markers",
         "name": "placa-de-video-rtx-4080-16gb-super-256-bits-gddr6x-ventus-3x-oc-912-v511-233",
         "type": "scatter",
         "x": [
          "2024-04-25T03:05:00"
         ],
         "y": [
          11991.7
         ]
        },
        {
         "mode": "lines+markers",
         "name": "placa-de-video-rtx-4080-tuf-oc-edition-asus-nvidia-geforce-16-gb-gddr6x-argb-dlss-ray-tracing-tuf-rtx4080-o16g-gaming",
         "type": "scatter",
         "x": [
          "2024-04-25T03:05:00"
         ],
         "y": [
          9999.99
         ]
        },
        {
         "mode": "lines+markers",
         "name": "placa-de-video-rtx-4080-xlr8-gaming-verto-epic-x-rgb-pny-nvidia-geforce-16-gb-gddr6x-dlss-ray-tracing-vcg408016tfxxpb1-o",
         "type": "scatter",
         "x": [
          "2024-04-25T03:05:00"
         ],
         "y": [
          8235.28
         ]
        },
        {
         "mode": "lines+markers",
         "name": "placa-de-video-rtx-4060-aero-oc-gigabyte-nvidia-geforce-8gb-gddr6-rgb-dlss-ray-tracing-branco-gv-n4060aero-oc-8gd",
         "type": "scatter",
         "x": [
          "2024-04-25T03:05:00"
         ],
         "y": [
          2199.99
         ]
        },
        {
         "mode": "lines+markers",
         "name": "placa-de-video-rtx-4080-super-gigabyte-gaming-oc-nvidia-geforce-16gb-gddr6-dlss-ray-tracing-gv-n408sgaming-oc-16gd",
         "type": "scatter",
         "x": [
          "2024-04-25T03:05:00"
         ],
         "y": [
          11764.69
         ]
        },
        {
         "mode": "lines+markers",
         "name": "placa-de-video-rtx-4080-sg-1-click-oc-galax-geforce-16gb-gddr6x-argb-dlss-ray-tracing-48nzm6md6lsgbr",
         "type": "scatter",
         "x": [
          "2024-04-25T03:05:00"
         ],
         "y": [
          9999.9
         ]
        },
        {
         "mode": "lines+markers",
         "name": "placa-de-video-rtx-4080-super-sg-galax-nvidia-geforce-16gb-gddr6x-256bits",
         "type": "scatter",
         "x": [
          "2024-04-25T03:05:00"
         ],
         "y": [
          11689.9
         ]
        },
        {
         "mode": "lines+markers",
         "name": "placa-de-video-colorful-igame-rtx-4080-16gb-vulcan-oc-v",
         "type": "scatter",
         "x": [
          "2024-04-25T03:05:00"
         ],
         "y": [
          9399
         ]
        },
        {
         "mode": "lines+markers",
         "name": "placa-de-video-msi-nvidia-geforce-rtx-4080-16gb-256-bit-gddr6x",
         "type": "scatter",
         "x": [
          "2024-04-25T03:05:00"
         ],
         "y": [
          11179.99
         ]
        },
        {
         "mode": "lines+markers",
         "name": "placa-de-video-nvidia-msi-geforce-rtx-4080-gaming-x-trio-16gb-ddr6-256-bits-912-v511-046",
         "type": "scatter",
         "x": [
          "2024-04-25T03:05:00"
         ],
         "y": [
          10026.9
         ]
        },
        {
         "mode": "lines+markers",
         "name": "placa-de-video-rtx-4060-1-click-oc-1x-galax-nvidia-geforce-8gb-gddr6-dlss-ray-trancing-g-sync",
         "type": "scatter",
         "x": [
          "2024-04-25T03:05:00"
         ],
         "y": [
          2117.64
         ]
        },
        {
         "mode": "lines+markers",
         "name": "placa-de-video-rtx-4060-asus-dual-o8g-evo-nvidia-geforce-8gb-gddr6-g-sync-ray-tracing-90yv0jc7-m0na00",
         "type": "scatter",
         "x": [
          "2024-04-25T03:05:00"
         ],
         "y": [
          2352.93
         ]
        },
        {
         "mode": "lines+markers",
         "name": "placa-de-video-rtx-4060-ti-ventus-3x-8g-oc-msi-nvidia-geforce-8-gb-gddr6-dlss-ray-tracing",
         "type": "scatter",
         "x": [
          "2024-04-25T03:05:00"
         ],
         "y": [
          3398.68
         ]
        },
        {
         "mode": "lines+markers",
         "name": "placa-de-video-rtx-4060-ti-oc-edition-asus-tuf-gaming-nvidia-geforce-8-gb-gddr6-argb-dlss-tuf-rtx4060ti-o8g-gaming",
         "type": "scatter",
         "x": [
          "2024-04-25T03:05:00"
         ],
         "y": [
          3444.43
         ]
        },
        {
         "mode": "lines+markers",
         "name": "placa-de-video-rtx-4060-ti-click-oc-galax-nvidia-geforce-8-gb-gddr6-dlss-ray-tracing-46isl8md8coc",
         "type": "scatter",
         "x": [
          "2024-04-25T03:05:00"
         ],
         "y": [
          2941.16
         ]
        },
        {
         "mode": "lines+markers",
         "name": "placa-de-video-rtx-4060-dual-oc-8g-white-nvidia-geforce-8gb-gddr6-dlss-ray-tracing-g-sync-90yv0jc2-m0na00",
         "type": "scatter",
         "x": [
          "2024-04-25T03:05:00"
         ],
         "y": [
          2588.22
         ]
        },
        {
         "mode": "lines+markers",
         "name": "placa-de-video-rtx-4080-gaming-x-trio-msi-nvidia-geforce-16-gb-gddr6x-dlss-ray-tracing-geforce-rtx-4080-16gb-gaming-x-trio",
         "type": "scatter",
         "x": [
          "2024-04-25T03:05:00"
         ],
         "y": [
          8490
         ]
        },
        {
         "mode": "lines+markers",
         "name": "placa-de-video-rtx-4060-ti-eagle-oc-gigabyte-nvidia-geforce-8-gb-gddr6-dlss-ray-tracing-gv-n406teagle-oc-8gd-g10",
         "type": "scatter",
         "x": [
          "2024-04-25T03:05:00"
         ],
         "y": [
          3111.1
         ]
        },
        {
         "mode": "lines+markers",
         "name": "placa-de-video-rtx-4060-ti-xlr8-gaming-verto-epic-x-pny-nvidia-geforce-8gb-gddr6-argb-dlss-ray-tracing-g-sync-vcg4060t8tfxxpb1",
         "type": "scatter",
         "x": [
          "2024-04-25T03:05:00"
         ],
         "y": [
          2941.16
         ]
        },
        {
         "mode": "lines+markers",
         "name": "zotac-gaming-geforce-rtx-4080-super-trinity-white-edition-16gb-gddr6x-zt-d40820q-10p",
         "type": "scatter",
         "x": [
          "2024-04-25T03:05:00"
         ],
         "y": [
          11468.45
         ]
        },
        {
         "mode": "lines+markers",
         "name": "placa-de-video-rtx-4070-windforce-oc-12g-gigabyte-nvidia-geforce-12gb-gddr6x-192bits-dlss-ray-tracing-gv-n4070wf3oc-12gd",
         "type": "scatter",
         "x": [
          "2024-04-25T03:05:00"
         ],
         "y": [
          4705.87
         ]
        },
        {
         "mode": "lines+markers",
         "name": "placa-de-video-rtx-4060-1-click-oc-2x-galax-nvidia-geforce-8gb-gddr6-dlss-g-sync-46nsl8md8loc",
         "type": "scatter",
         "x": [
          "2024-04-25T03:05:00"
         ],
         "y": [
          2470.58
         ]
        },
        {
         "mode": "lines+markers",
         "name": "placa-de-video-rtx-4060-dual-palit-nvidia-geforce-8gb-gddr6-rgb-128bit-g-sync-ray-tracing-dlss-ne64060019p1-1070d",
         "type": "scatter",
         "x": [
          "2024-04-25T03:05:00"
         ],
         "y": [
          2235.28
         ]
        },
        {
         "mode": "lines+markers",
         "name": "placa-de-video-rtx-4060-ti-oc-edition-asus-nvidia-geforce-8-gb-gddr6-dlss-ray-tracing-dual-rtx4060ti-o8g",
         "type": "scatter",
         "x": [
          "2024-04-25T03:05:00"
         ],
         "y": [
          3464.04
         ]
        },
        {
         "mode": "lines+markers",
         "name": "bloco-placa-de-video-gpu-block-asus-rtx-4080-tuf-e-strix-barrow-rgb",
         "type": "scatter",
         "x": [
          "2024-04-25T03:05:00"
         ],
         "y": [
          1190.88
         ]
        },
        {
         "mode": "lines+markers",
         "name": "placa-de-video-rtx-4060-ventus-2x-white-oc-msi-nvidia-geforce-8gb-gddr6-dlss-ray-tracing-912-v516-030",
         "type": "scatter",
         "x": [
          "2024-04-25T03:05:00"
         ],
         "y": [
          2055.44
         ]
        },
        {
         "mode": "lines+markers",
         "name": "placa-de-video-nvidia-gigabyte-geforce-rtx-4080-gaming-oc-16gb-gddr6x-256-bits-gv-n4080gaming-oc-16",
         "type": "scatter",
         "x": [
          "2024-04-25T03:05:00"
         ],
         "y": [
          10705.22
         ]
        },
        {
         "mode": "lines+markers",
         "name": "placa-de-video-rtx-4060-ti-ventus-3x-16g-oc-msi-nvidia-geforce-dlss-ray-tracing-g-sync",
         "type": "scatter",
         "x": [
          "2024-04-25T03:05:00"
         ],
         "y": [
          3529.4
         ]
        },
        {
         "mode": "lines+markers",
         "name": "placa-de-video-rtx-4060-ti-dual-o8g-white-asus-nvidia-geforce-8gb-gddr6-dlss-ray-trancing-g-sync-90yv0j42-m0na00",
         "type": "scatter",
         "x": [
          "2024-04-25T03:05:00"
         ],
         "y": [
          3164.69
         ]
        },
        {
         "mode": "lines+markers",
         "name": "placa-de-video-rtx-4070-super-msi-12g-ventus-2x-oc-nvidia-geforce-12gb-gddr6x-dlss-ray-tracing",
         "type": "scatter",
         "x": [
          "2024-04-25T03:05:00"
         ],
         "y": [
          5058.81
         ]
        },
        {
         "mode": "lines+markers",
         "name": "placa-de-video-galax-rtx-4060-ex-1-click-oc-8gb-gddr6-128bit-dlss3-raytracing-46nsl8md8mex",
         "type": "scatter",
         "x": [
          "2024-04-25T03:05:00"
         ],
         "y": [
          2290
         ]
        },
        {
         "mode": "lines+markers",
         "name": "placa-de-video-rtx-4090-asus-nvidia-rog-strix-24-gb-gddr6x-argb-dlss-ray-tracing-rog-strix-rtx4090-o24g-gaming",
         "type": "scatter",
         "x": [
          "2024-04-25T03:05:00"
         ],
         "y": [
          15882.34
         ]
        },
        {
         "mode": "lines+markers",
         "name": "placa-de-video-rtx-4070-ti-ventus-msi-nvidia-geforce-12-gb-gddr6x-dlss-3-ray-tracing-geforce-rtx-4070-ti-ventus-3x-12g-oc",
         "type": "scatter",
         "x": [
          "2024-04-25T03:05:00"
         ],
         "y": [
          6117.64
         ]
        },
        {
         "mode": "lines+markers",
         "name": "placa-de-video-rtx-4060-ti-ventus-2x-oc-msi-nvidia-8gb-gddr6-912-v515-024",
         "type": "scatter",
         "x": [
          "2024-04-25T03:05:00"
         ],
         "y": [
          2987.54
         ]
        },
        {
         "mode": "lines+markers",
         "name": "placa-de-video-rtx-4070-ti-super-gigabyte-gaming-oc-nvidia-geforce-16gb-gddr6-dlss-ray-tracing-gv-n407tsgaming-oc-16gd",
         "type": "scatter",
         "x": [
          "2024-04-25T03:05:00"
         ],
         "y": [
          6941.16
         ]
        },
        {
         "mode": "lines+markers",
         "name": "placa-de-video-rtx-4070-ti-super-msi-16g-ventus-2x-oc-nvidia-geforce-16gb-gddr6x-dlss-ray-tracing",
         "type": "scatter",
         "x": [
          "2024-04-25T03:05:00"
         ],
         "y": [
          6352.93
         ]
        },
        {
         "mode": "lines+markers",
         "name": "placa-de-video-rtx-4060-ti-dual-palit-nvidia-geforce-8gb-gddr6-rgb-128bit-g-sync-ray-tracing-dlss-ne6406t019p1-1060d",
         "type": "scatter",
         "x": [
          "2024-04-25T03:05:00"
         ],
         "y": [
          3058.81
         ]
        },
        {
         "mode": "lines+markers",
         "name": "placa-de-video-msi-nvidia-rtx-4070-gddr6x-ventus-2x-oc-ray-tracing-192-bits-912-v513-063",
         "type": "scatter",
         "x": [
          "2024-04-25T03:05:00"
         ],
         "y": [
          3870.86
         ]
        },
        {
         "mode": "lines+markers",
         "name": "placa-de-video-rtx-4070-ti-gaming-x-slim-12g-msi-nvidia-geforce-12gb-gddr6x-g-sync-dlss-ray-tracing",
         "type": "scatter",
         "x": [
          "2024-04-25T03:05:00"
         ],
         "y": [
          6117.64
         ]
        },
        {
         "mode": "lines+markers",
         "name": "placa-de-video-rtx-4090-asus-nvidia-tuf-gaming-geforce-edition-24gb-gddr6x-dlss-ray-tracing-tuf-rtx4090-o24g-gaming",
         "type": "scatter",
         "x": [
          "2024-04-25T03:05:00"
         ],
         "y": [
          15176.46
         ]
        },
        {
         "mode": "lines+markers",
         "name": "placa-de-video-rtx-4070-1-click-oc-2x-black-pci-e-galax-nvidia-geforce-12gb-gddr6x-dlss-g-sync-ray-tracing-192-bits-47nom7md8ddf",
         "type": "scatter",
         "x": [
          "2024-04-25T03:05:00"
         ],
         "y": [
          4705.87
         ]
        },
        {
         "mode": "lines+markers",
         "name": "placa-de-video-rtx-4070-super-msi-12g-ventus-3x-oc-nvidia-geforce-12gb-gddr6x-dlss-ray-tracing",
         "type": "scatter",
         "x": [
          "2024-04-25T03:05:00"
         ],
         "y": [
          5176.46
         ]
        },
        {
         "mode": "lines+markers",
         "name": "placa-de-video-rtx-4070-o12g-white-nvidia-geforce-12gb-gddr6x-dlss-ray-tracing-g-sync-90yv0iz4-m0na00",
         "type": "scatter",
         "x": [
          "2024-04-25T03:05:00"
         ],
         "y": [
          4705.87
         ]
        },
        {
         "mode": "lines+markers",
         "name": "placa-de-video-rtx-4060-ti-rog-strix-o8g-gaming-nvidia-geforce-8gb-gddr6-argb-dlss-ray-tracing-g-sync-rog-strix-rtx4060ti-o8g-gaming",
         "type": "scatter",
         "x": [
          "2024-04-25T03:05:00"
         ],
         "y": [
          3764.69
         ]
        },
        {
         "mode": "lines+markers",
         "name": "placa-de-video-rtx-4070-super-1-click-oc-2x-galax-nvidia-geforce-12gb-gddr6x-dlss-ray-trancing-4895147155517",
         "type": "scatter",
         "x": [
          "2024-04-25T03:05:00"
         ],
         "y": [
          5058.81
         ]
        },
        {
         "mode": "lines+markers",
         "name": "placa-de-video-rtx-4070-ti-super-gaming-verto-triple-fan-pny-nvidia-geforce-16gb-gddr6x-dlss-3-ray-tracing-vcg4070ts16tfxpb1-o",
         "type": "scatter",
         "x": [
          "2024-04-25T03:05:00"
         ],
         "y": [
          5199.99
         ]
        },
        {
         "mode": "lines+markers",
         "name": "placa-de-video-rtx-4070-1-click-oc-3x-black-pci-e-galax-nvidia-geforce-12gb-gddr6x-dlss-g-sync-ray-tracing-192-bits-47nom7md7qoc",
         "type": "scatter",
         "x": [
          "2024-04-25T03:05:00"
         ],
         "y": [
          4705.87
         ]
        },
        {
         "mode": "lines+markers",
         "name": "placa-de-video-rtx-4060-ti-asus-tuf-gaming-nvidia-geforce-8gb-gddr6-dlss-ray-tracing-g-sync-90yv0j51-m0na00",
         "type": "scatter",
         "x": [
          "2024-04-25T03:05:00"
         ],
         "y": [
          3294.11
         ]
        },
        {
         "mode": "lines+markers",
         "name": "placa-de-video-rtx-4070-ti-super-sg-galax-nvidia-geforce-16gb-gddr6x-dlss-ray-tracing-47uzm6md6mer",
         "type": "scatter",
         "x": [
          "2024-04-25T03:05:00"
         ],
         "y": [
          7176.46
         ]
        },
        {
         "mode": "lines+markers",
         "name": "placa-de-video-rtx-4070-ti-ventus-3x-trio-oc-msi-nvidia-12gb-ddr6-192-bits-912-v513001",
         "type": "scatter",
         "x": [
          "2024-04-25T03:05:00"
         ],
         "y": [
          6601.06
         ]
        },
        {
         "mode": "lines+markers",
         "name": "placa-de-video-galax-nvidia-geforce-rtx-4070-12gb-gddr6x-ex-gamer-white-47nom7md7kwh",
         "type": "scatter",
         "x": [
          "2024-04-25T03:05:00"
         ],
         "y": [
          4420
         ]
        },
        {
         "mode": "lines+markers",
         "name": "placa-de-video-rtx-4070-ti-super-gigabyte-aero-nvidia-geforce-16gb-gddr6-dlss-ray-tracing-gv-n407tsaero-oc-16gd",
         "type": "scatter",
         "x": [
          "2024-04-25T03:05:00"
         ],
         "y": [
          6941.16
         ]
        },
        {
         "mode": "lines+markers",
         "name": "placa-de-video-rtx-4090-rog-strix-edition-asus-nvidia-geforce-24-gb-gddr6x-argb-dlss-ray-tracing-branco-rog-strix-rtx4090-o24g-white",
         "type": "scatter",
         "x": [
          "2024-04-25T03:05:00"
         ],
         "y": [
          16470.58
         ]
        },
        {
         "mode": "lines+markers",
         "name": "placa-de-video-rtx-4070-super-asus-tuf-o12g-gaming-nvidia-geforce-12gb-gddr6x-dlss-ray-tracing-tuf-rtx4070s-o12g-gaming",
         "type": "scatter",
         "x": [
          "2024-04-25T03:05:00"
         ],
         "y": [
          6105.87
         ]
        },
        {
         "mode": "lines+markers",
         "name": "placa-de-video-rtx-4070-ti-rog-strix-gaming-asus-nvidia-geforce-12-gb-gddr6x-argb-ray-tracing-rog-strix-rtx4070ti-o12g-gaming",
         "type": "scatter",
         "x": [
          "2024-04-25T03:05:00"
         ],
         "y": [
          7999.99
         ]
        },
        {
         "mode": "lines+markers",
         "name": "placa-de-video-msi-geforce-rtx-4070-ti-ventus-3x-e-12g-oc-12",
         "type": "scatter",
         "x": [
          "2024-04-25T03:05:00"
         ],
         "y": [
          4978.84
         ]
        },
        {
         "mode": "lines+markers",
         "name": "placa-de-video-rtx-4090-xlr8-gaming-verto-edition-pny-nvidia-geforce-24gb-gddr6x-rgb-dlss-ray-tracing-vcg409024tfxxpb1",
         "type": "scatter",
         "x": [
          "2024-04-25T03:05:00"
         ],
         "y": [
          12894.11
         ]
        },
        {
         "mode": "lines+markers",
         "name": "placa-de-video-rtx-4070-ti-super-msi-16g-gaming-x-slim-nvidia-geforce-16gb-gddr6x-dlss-ray-tracing",
         "type": "scatter",
         "x": [
          "2024-04-25T03:05:00"
         ],
         "y": [
          7411.75
         ]
        },
        {
         "mode": "lines+markers",
         "name": "placa-de-video-rtx-4070-super-dual-o12g-white-asus-nvidia-geforce-12gb-gddr6x-dlss-ray-tracing-dual-rtx4070s-o12g-white",
         "type": "scatter",
         "x": [
          "2024-04-25T03:05:00"
         ],
         "y": [
          5470.58
         ]
        },
        {
         "mode": "lines+markers",
         "name": "placa-de-video-galax-rtx-4060-1-click-oc-2x-8gb-gddr6-128bits-46nsl8md8loc",
         "type": "scatter",
         "x": [
          "2024-04-25T03:05:00"
         ],
         "y": [
          2233.22
         ]
        },
        {
         "mode": "lines+markers",
         "name": "placa-de-video-asus-rog-strix-geforce-rtx-4070-super-12gb-gddr6x-edition-oc-12gb-gddr6x-argb-dlss-ray-trancing-90yv0kd0-m0na00",
         "type": "scatter",
         "x": [
          "2024-04-25T03:05:00"
         ],
         "y": [
          6823.52
         ]
        },
        {
         "mode": "lines+markers",
         "name": "placa-de-video-rtx-4060-ti-rog-strix-8g-gaming-nvidia-geforce-8gb-gddr6-dlss-ray-tracing-g-sync-90yv0j53-m0na00",
         "type": "scatter",
         "x": [
          "2024-04-25T03:05:00"
         ],
         "y": [
          3882.34
         ]
        },
        {
         "mode": "lines+markers",
         "name": "placa-de-video-rtx-4060-ti-gaming-x-8g-msi-nvidia-geforce-8-gb-gddr6-dlss-ray-tracing",
         "type": "scatter",
         "x": [
          "2024-04-25T03:05:00"
         ],
         "y": [
          3294.11
         ]
        },
        {
         "mode": "lines+markers",
         "name": "placa-de-video-rtx-4070-super-jetstream-oc-palit-nvidia-geforce-12gb-gddr6x-dlss-ray-trancing-g-sync-ned407st19k9-1043j",
         "type": "scatter",
         "x": [
          "2024-04-25T03:05:00"
         ],
         "y": [
          5176.46
         ]
        },
        {
         "mode": "lines+markers",
         "name": "placa-de-video-rtx-4070-ti-super-gigabyte-windforce-nvidia-geforce-16gb-gddr6-dlss-ray-tracing-gv-n407tswf3oc-16gd",
         "type": "scatter",
         "x": [
          "2024-04-25T03:05:00"
         ],
         "y": [
          6470.58
         ]
        },
        {
         "mode": "lines+markers",
         "name": "placa-de-video-colorful-geforce-rtx-4060-ti-nb-duo-8gb-v",
         "type": "scatter",
         "x": [
          "2024-04-25T03:05:00"
         ],
         "y": [
          2699
         ]
        },
        {
         "mode": "lines+markers",
         "name": "placa-de-video-gigabyte-geforce-rtx-4070-ti-super-eagle-oc-16gb-gddr6x-256-bits",
         "type": "scatter",
         "x": [
          "2024-04-25T03:05:00"
         ],
         "y": [
          6124.89
         ]
        },
        {
         "mode": "lines+markers",
         "name": "placa-de-video-rtx-4070-super-dual-o12g-asus-nvidia-geforce-12gb-gddr6x-dlss-ray-tracing-dual-rtx4070s-o12g",
         "type": "scatter",
         "x": [
          "2024-04-25T03:05:00"
         ],
         "y": [
          5411.75
         ]
        },
        {
         "mode": "lines+markers",
         "name": "placa-de-video-rtx-4060-ti-ventus-3x-oc-msi-nvidia-8gb-gddr6-912-v515-040",
         "type": "scatter",
         "x": [
          "2024-04-25T03:05:00"
         ],
         "y": [
          3010.42
         ]
        },
        {
         "mode": "lines+markers",
         "name": "placa-de-video-rtx-4070-ti-super-gamingpro-white-oc-palit-nvidia-geforce-16gb-gddr6x-dlss-ray-trancing-g-sync-ned47tst19t2-1043w",
         "type": "scatter",
         "x": [
          "2024-04-25T03:05:00"
         ],
         "y": [
          6941.16
         ]
        },
        {
         "mode": "lines+markers",
         "name": "placa-de-video-colorful-igame-rtx-4070-ti-ultra-w-oc-v",
         "type": "scatter",
         "x": [
          "2024-04-25T03:05:00"
         ],
         "y": [
          5599
         ]
        },
        {
         "mode": "lines+markers",
         "name": "placa-de-video-rtx-4070-ex-gamer-white-galax-nvidia-geforce-12-gb-gddr6x-dlss-ray-tracing-branco-47nom7md7kwh",
         "type": "scatter",
         "x": [
          "2024-04-25T03:05:00"
         ],
         "y": [
          5529.4
         ]
        },
        {
         "mode": "lines+markers",
         "name": "placa-de-video-rtx-4070-ventus-2x-msi-nvidia-geforce-12-gb-oc-gddr6x-dlss-3-ray-tracing",
         "type": "scatter",
         "x": [
          "2024-04-25T03:05:00"
         ],
         "y": [
          4823.52
         ]
        },
        {
         "mode": "lines+markers",
         "name": "placa-de-video-rtx-4070-super-aorus-master-nvidia-geforce-12gb-gddr6-dlss-ray-tracing-gv-n407saorus-m-12gd",
         "type": "scatter",
         "x": [
          "2024-04-25T03:05:00"
         ],
         "y": [
          8658.64
         ]
        },
        {
         "mode": "lines+markers",
         "name": "placa-de-video-rtx-4070-12gb-super-192-bits-gddr6x-ventus-2x-oc-912-v513-641",
         "type": "scatter",
         "x": [
          "2024-04-25T03:05:00"
         ],
         "y": [
          4722.11
         ]
        },
        {
         "mode": "lines+markers",
         "name": "placa-de-video-rtx-4090-24gb-gddr6x-384bits-gaming-slim-msi-912-v510-262",
         "type": "scatter",
         "x": [
          "2024-04-25T03:05:00"
         ],
         "y": [
          14090.8
         ]
        },
        {
         "mode": "lines+markers",
         "name": "placa-de-video-rtx-4070-ti-gigabyte-nvidia-geforce-12-gb-gddr6x-dlss-3-ray-tracing-gv-n407teagle-oc-12gd",
         "type": "scatter",
         "x": [
          "2024-04-25T03:05:00"
         ],
         "y": [
          7294.11
         ]
        },
        {
         "mode": "lines+markers",
         "name": "placa-de-video-rtx-4070-nb-ex-v-colorful-geforce-nvidia-12gb-gddr6x",
         "type": "scatter",
         "x": [
          "2024-04-25T03:05:00"
         ],
         "y": [
          4599
         ]
        },
        {
         "mode": "lines+markers",
         "name": "placa-de-video-rtx-4070-super-gaming-verto-oc-dual-fan-pny-nvidia-geforce-12gb-gddr6x-dlss-3-ray-tracing-vcg4070s12dfxpb1-o",
         "type": "scatter",
         "x": [
          "2024-04-25T03:05:00"
         ],
         "y": [
          4941.16
         ]
        },
        {
         "mode": "lines+markers",
         "name": "placa-de-video-rtx-4060-ti-ex-1-click-oc-galax-nvidia-geforce-16gb-gddr6-dlss-g-sync-ray-tracing-46izl8md8yex",
         "type": "scatter",
         "x": [
          "2024-04-25T03:05:00"
         ],
         "y": [
          5058.81
         ]
        },
        {
         "mode": "lines+markers",
         "name": "placa-de-video-galax-nvidia-geforce-rtx-4070-1-click-oc-12gb-gddr6x-192-bits-47nom7md8ddf",
         "type": "scatter",
         "x": [
          "2024-04-25T03:05:00"
         ],
         "y": [
          4338.89
         ]
        },
        {
         "mode": "lines+markers",
         "name": "placa-de-video-colorful-nvidia-geforce-rtx-4070-ti-nb-ex-v-12gb-gddr6x-ray-tracing-de-3-geracao-dlss-3-g-sync-285w-tdp-3xdp-1xhdmi",
         "type": "scatter",
         "x": [
          "2024-04-25T03:05:00"
         ],
         "y": [
          5599
         ]
        },
        {
         "mode": "lines+markers",
         "name": "placa-de-video-rtx-4090-gaming-trio-24g-msi-nvidia-geforce-24gb-gddr6x-dlss-ray-tracing-g-sync",
         "type": "scatter",
         "x": [
          "2024-04-25T03:05:00"
         ],
         "y": [
          14941.16
         ]
        },
        {
         "mode": "lines+markers",
         "name": "placa-de-video-rtx-4070-ti-xlr8-gaming-verto-tf-oc-pny-nvidia-geforce-12gb-gddr6x-dlss-3-ray-tracing-vcg4070t12tfxxpb1-o",
         "type": "scatter",
         "x": [
          "2024-04-25T03:05:00"
         ],
         "y": [
          6235.28
         ]
        },
        {
         "mode": "lines+markers",
         "name": "placa-de-video-colorful-igame-rtx-4070-ti-advanced-oc-v",
         "type": "scatter",
         "x": [
          "2024-04-25T03:05:00"
         ],
         "y": [
          6211
         ]
        },
        {
         "mode": "lines+markers",
         "name": "placa-de-video-rtx-4060-ventus-2x-oc-black-msi-nvidia-8gb-gddr6-912-v516-012",
         "type": "scatter",
         "x": [
          "2024-04-25T03:05:00"
         ],
         "y": [
          2210
         ]
        },
        {
         "mode": "lines+markers",
         "name": "placa-de-video-galax-geforce-rtx-4070-super-12gb-gddr6x-192-bit-1-click-oc-2x-47som7md9psu",
         "type": "scatter",
         "x": [
          "2024-04-25T03:05:00"
         ],
         "y": [
          4874.89
         ]
        },
        {
         "mode": "lines+markers",
         "name": "placa-de-video-galax-nvidia-geforce-rtx-3080-serious-gaming-10gb-lhr-rgb-dlss-ray-tracing-38nwm3md99rg",
         "type": "scatter",
         "x": [
          "2024-04-25T03:05:00"
         ],
         "y": [
          6499
         ]
        },
        {
         "mode": "lines+markers",
         "name": "placa-de-video-rtx-4060-windforce-oc-gigabyte-nvidia-geforce-8gb-gddr6-dlss-ray-tracing-gv-n4060wf2oc-8gd",
         "type": "scatter",
         "x": [
          "2024-04-25T03:05:00"
         ],
         "y": [
          3099.84
         ]
        }
       ],
       "layout": {
        "legend": {
         "font": {
          "size": 10
         },
         "itemwidth": 30,
         "orientation": "v",
         "x": 10,
         "y": 0
        },
        "margin": {
         "b": 150,
         "l": 50,
         "r": 50,
         "t": 80
        },
        "template": {
         "data": {
          "bar": [
           {
            "error_x": {
             "color": "#2a3f5f"
            },
            "error_y": {
             "color": "#2a3f5f"
            },
            "marker": {
             "line": {
              "color": "#E5ECF6",
              "width": 0.5
             },
             "pattern": {
              "fillmode": "overlay",
              "size": 10,
              "solidity": 0.2
             }
            },
            "type": "bar"
           }
          ],
          "barpolar": [
           {
            "marker": {
             "line": {
              "color": "#E5ECF6",
              "width": 0.5
             },
             "pattern": {
              "fillmode": "overlay",
              "size": 10,
              "solidity": 0.2
             }
            },
            "type": "barpolar"
           }
          ],
          "carpet": [
           {
            "aaxis": {
             "endlinecolor": "#2a3f5f",
             "gridcolor": "white",
             "linecolor": "white",
             "minorgridcolor": "white",
             "startlinecolor": "#2a3f5f"
            },
            "baxis": {
             "endlinecolor": "#2a3f5f",
             "gridcolor": "white",
             "linecolor": "white",
             "minorgridcolor": "white",
             "startlinecolor": "#2a3f5f"
            },
            "type": "carpet"
           }
          ],
          "choropleth": [
           {
            "colorbar": {
             "outlinewidth": 0,
             "ticks": ""
            },
            "type": "choropleth"
           }
          ],
          "contour": [
           {
            "colorbar": {
             "outlinewidth": 0,
             "ticks": ""
            },
            "colorscale": [
             [
              0,
              "#0d0887"
             ],
             [
              0.1111111111111111,
              "#46039f"
             ],
             [
              0.2222222222222222,
              "#7201a8"
             ],
             [
              0.3333333333333333,
              "#9c179e"
             ],
             [
              0.4444444444444444,
              "#bd3786"
             ],
             [
              0.5555555555555556,
              "#d8576b"
             ],
             [
              0.6666666666666666,
              "#ed7953"
             ],
             [
              0.7777777777777778,
              "#fb9f3a"
             ],
             [
              0.8888888888888888,
              "#fdca26"
             ],
             [
              1,
              "#f0f921"
             ]
            ],
            "type": "contour"
           }
          ],
          "contourcarpet": [
           {
            "colorbar": {
             "outlinewidth": 0,
             "ticks": ""
            },
            "type": "contourcarpet"
           }
          ],
          "heatmap": [
           {
            "colorbar": {
             "outlinewidth": 0,
             "ticks": ""
            },
            "colorscale": [
             [
              0,
              "#0d0887"
             ],
             [
              0.1111111111111111,
              "#46039f"
             ],
             [
              0.2222222222222222,
              "#7201a8"
             ],
             [
              0.3333333333333333,
              "#9c179e"
             ],
             [
              0.4444444444444444,
              "#bd3786"
             ],
             [
              0.5555555555555556,
              "#d8576b"
             ],
             [
              0.6666666666666666,
              "#ed7953"
             ],
             [
              0.7777777777777778,
              "#fb9f3a"
             ],
             [
              0.8888888888888888,
              "#fdca26"
             ],
             [
              1,
              "#f0f921"
             ]
            ],
            "type": "heatmap"
           }
          ],
          "heatmapgl": [
           {
            "colorbar": {
             "outlinewidth": 0,
             "ticks": ""
            },
            "colorscale": [
             [
              0,
              "#0d0887"
             ],
             [
              0.1111111111111111,
              "#46039f"
             ],
             [
              0.2222222222222222,
              "#7201a8"
             ],
             [
              0.3333333333333333,
              "#9c179e"
             ],
             [
              0.4444444444444444,
              "#bd3786"
             ],
             [
              0.5555555555555556,
              "#d8576b"
             ],
             [
              0.6666666666666666,
              "#ed7953"
             ],
             [
              0.7777777777777778,
              "#fb9f3a"
             ],
             [
              0.8888888888888888,
              "#fdca26"
             ],
             [
              1,
              "#f0f921"
             ]
            ],
            "type": "heatmapgl"
           }
          ],
          "histogram": [
           {
            "marker": {
             "pattern": {
              "fillmode": "overlay",
              "size": 10,
              "solidity": 0.2
             }
            },
            "type": "histogram"
           }
          ],
          "histogram2d": [
           {
            "colorbar": {
             "outlinewidth": 0,
             "ticks": ""
            },
            "colorscale": [
             [
              0,
              "#0d0887"
             ],
             [
              0.1111111111111111,
              "#46039f"
             ],
             [
              0.2222222222222222,
              "#7201a8"
             ],
             [
              0.3333333333333333,
              "#9c179e"
             ],
             [
              0.4444444444444444,
              "#bd3786"
             ],
             [
              0.5555555555555556,
              "#d8576b"
             ],
             [
              0.6666666666666666,
              "#ed7953"
             ],
             [
              0.7777777777777778,
              "#fb9f3a"
             ],
             [
              0.8888888888888888,
              "#fdca26"
             ],
             [
              1,
              "#f0f921"
             ]
            ],
            "type": "histogram2d"
           }
          ],
          "histogram2dcontour": [
           {
            "colorbar": {
             "outlinewidth": 0,
             "ticks": ""
            },
            "colorscale": [
             [
              0,
              "#0d0887"
             ],
             [
              0.1111111111111111,
              "#46039f"
             ],
             [
              0.2222222222222222,
              "#7201a8"
             ],
             [
              0.3333333333333333,
              "#9c179e"
             ],
             [
              0.4444444444444444,
              "#bd3786"
             ],
             [
              0.5555555555555556,
              "#d8576b"
             ],
             [
              0.6666666666666666,
              "#ed7953"
             ],
             [
              0.7777777777777778,
              "#fb9f3a"
             ],
             [
              0.8888888888888888,
              "#fdca26"
             ],
             [
              1,
              "#f0f921"
             ]
            ],
            "type": "histogram2dcontour"
           }
          ],
          "mesh3d": [
           {
            "colorbar": {
             "outlinewidth": 0,
             "ticks": ""
            },
            "type": "mesh3d"
           }
          ],
          "parcoords": [
           {
            "line": {
             "colorbar": {
              "outlinewidth": 0,
              "ticks": ""
             }
            },
            "type": "parcoords"
           }
          ],
          "pie": [
           {
            "automargin": true,
            "type": "pie"
           }
          ],
          "scatter": [
           {
            "fillpattern": {
             "fillmode": "overlay",
             "size": 10,
             "solidity": 0.2
            },
            "type": "scatter"
           }
          ],
          "scatter3d": [
           {
            "line": {
             "colorbar": {
              "outlinewidth": 0,
              "ticks": ""
             }
            },
            "marker": {
             "colorbar": {
              "outlinewidth": 0,
              "ticks": ""
             }
            },
            "type": "scatter3d"
           }
          ],
          "scattercarpet": [
           {
            "marker": {
             "colorbar": {
              "outlinewidth": 0,
              "ticks": ""
             }
            },
            "type": "scattercarpet"
           }
          ],
          "scattergeo": [
           {
            "marker": {
             "colorbar": {
              "outlinewidth": 0,
              "ticks": ""
             }
            },
            "type": "scattergeo"
           }
          ],
          "scattergl": [
           {
            "marker": {
             "colorbar": {
              "outlinewidth": 0,
              "ticks": ""
             }
            },
            "type": "scattergl"
           }
          ],
          "scattermapbox": [
           {
            "marker": {
             "colorbar": {
              "outlinewidth": 0,
              "ticks": ""
             }
            },
            "type": "scattermapbox"
           }
          ],
          "scatterpolar": [
           {
            "marker": {
             "colorbar": {
              "outlinewidth": 0,
              "ticks": ""
             }
            },
            "type": "scatterpolar"
           }
          ],
          "scatterpolargl": [
           {
            "marker": {
             "colorbar": {
              "outlinewidth": 0,
              "ticks": ""
             }
            },
            "type": "scatterpolargl"
           }
          ],
          "scatterternary": [
           {
            "marker": {
             "colorbar": {
              "outlinewidth": 0,
              "ticks": ""
             }
            },
            "type": "scatterternary"
           }
          ],
          "surface": [
           {
            "colorbar": {
             "outlinewidth": 0,
             "ticks": ""
            },
            "colorscale": [
             [
              0,
              "#0d0887"
             ],
             [
              0.1111111111111111,
              "#46039f"
             ],
             [
              0.2222222222222222,
              "#7201a8"
             ],
             [
              0.3333333333333333,
              "#9c179e"
             ],
             [
              0.4444444444444444,
              "#bd3786"
             ],
             [
              0.5555555555555556,
              "#d8576b"
             ],
             [
              0.6666666666666666,
              "#ed7953"
             ],
             [
              0.7777777777777778,
              "#fb9f3a"
             ],
             [
              0.8888888888888888,
              "#fdca26"
             ],
             [
              1,
              "#f0f921"
             ]
            ],
            "type": "surface"
           }
          ],
          "table": [
           {
            "cells": {
             "fill": {
              "color": "#EBF0F8"
             },
             "line": {
              "color": "white"
             }
            },
            "header": {
             "fill": {
              "color": "#C8D4E3"
             },
             "line": {
              "color": "white"
             }
            },
            "type": "table"
           }
          ]
         },
         "layout": {
          "annotationdefaults": {
           "arrowcolor": "#2a3f5f",
           "arrowhead": 0,
           "arrowwidth": 1
          },
          "autotypenumbers": "strict",
          "coloraxis": {
           "colorbar": {
            "outlinewidth": 0,
            "ticks": ""
           }
          },
          "colorscale": {
           "diverging": [
            [
             0,
             "#8e0152"
            ],
            [
             0.1,
             "#c51b7d"
            ],
            [
             0.2,
             "#de77ae"
            ],
            [
             0.3,
             "#f1b6da"
            ],
            [
             0.4,
             "#fde0ef"
            ],
            [
             0.5,
             "#f7f7f7"
            ],
            [
             0.6,
             "#e6f5d0"
            ],
            [
             0.7,
             "#b8e186"
            ],
            [
             0.8,
             "#7fbc41"
            ],
            [
             0.9,
             "#4d9221"
            ],
            [
             1,
             "#276419"
            ]
           ],
           "sequential": [
            [
             0,
             "#0d0887"
            ],
            [
             0.1111111111111111,
             "#46039f"
            ],
            [
             0.2222222222222222,
             "#7201a8"
            ],
            [
             0.3333333333333333,
             "#9c179e"
            ],
            [
             0.4444444444444444,
             "#bd3786"
            ],
            [
             0.5555555555555556,
             "#d8576b"
            ],
            [
             0.6666666666666666,
             "#ed7953"
            ],
            [
             0.7777777777777778,
             "#fb9f3a"
            ],
            [
             0.8888888888888888,
             "#fdca26"
            ],
            [
             1,
             "#f0f921"
            ]
           ],
           "sequentialminus": [
            [
             0,
             "#0d0887"
            ],
            [
             0.1111111111111111,
             "#46039f"
            ],
            [
             0.2222222222222222,
             "#7201a8"
            ],
            [
             0.3333333333333333,
             "#9c179e"
            ],
            [
             0.4444444444444444,
             "#bd3786"
            ],
            [
             0.5555555555555556,
             "#d8576b"
            ],
            [
             0.6666666666666666,
             "#ed7953"
            ],
            [
             0.7777777777777778,
             "#fb9f3a"
            ],
            [
             0.8888888888888888,
             "#fdca26"
            ],
            [
             1,
             "#f0f921"
            ]
           ]
          },
          "colorway": [
           "#636efa",
           "#EF553B",
           "#00cc96",
           "#ab63fa",
           "#FFA15A",
           "#19d3f3",
           "#FF6692",
           "#B6E880",
           "#FF97FF",
           "#FECB52"
          ],
          "font": {
           "color": "#2a3f5f"
          },
          "geo": {
           "bgcolor": "white",
           "lakecolor": "white",
           "landcolor": "#E5ECF6",
           "showlakes": true,
           "showland": true,
           "subunitcolor": "white"
          },
          "hoverlabel": {
           "align": "left"
          },
          "hovermode": "closest",
          "mapbox": {
           "style": "light"
          },
          "paper_bgcolor": "white",
          "plot_bgcolor": "#E5ECF6",
          "polar": {
           "angularaxis": {
            "gridcolor": "white",
            "linecolor": "white",
            "ticks": ""
           },
           "bgcolor": "#E5ECF6",
           "radialaxis": {
            "gridcolor": "white",
            "linecolor": "white",
            "ticks": ""
           }
          },
          "scene": {
           "xaxis": {
            "backgroundcolor": "#E5ECF6",
            "gridcolor": "white",
            "gridwidth": 2,
            "linecolor": "white",
            "showbackground": true,
            "ticks": "",
            "zerolinecolor": "white"
           },
           "yaxis": {
            "backgroundcolor": "#E5ECF6",
            "gridcolor": "white",
            "gridwidth": 2,
            "linecolor": "white",
            "showbackground": true,
            "ticks": "",
            "zerolinecolor": "white"
           },
           "zaxis": {
            "backgroundcolor": "#E5ECF6",
            "gridcolor": "white",
            "gridwidth": 2,
            "linecolor": "white",
            "showbackground": true,
            "ticks": "",
            "zerolinecolor": "white"
           }
          },
          "shapedefaults": {
           "line": {
            "color": "#2a3f5f"
           }
          },
          "ternary": {
           "aaxis": {
            "gridcolor": "white",
            "linecolor": "white",
            "ticks": ""
           },
           "baxis": {
            "gridcolor": "white",
            "linecolor": "white",
            "ticks": ""
           },
           "bgcolor": "#E5ECF6",
           "caxis": {
            "gridcolor": "white",
            "linecolor": "white",
            "ticks": ""
           }
          },
          "title": {
           "x": 0.05
          },
          "xaxis": {
           "automargin": true,
           "gridcolor": "white",
           "linecolor": "white",
           "ticks": "",
           "title": {
            "standoff": 15
           },
           "zerolinecolor": "white",
           "zerolinewidth": 2
          },
          "yaxis": {
           "automargin": true,
           "gridcolor": "white",
           "linecolor": "white",
           "ticks": "",
           "title": {
            "standoff": 15
           },
           "zerolinecolor": "white",
           "zerolinewidth": 2
          }
         }
        },
        "title": {
         "text": "Evolução dos Preços - Modelo: RTX 4080"
        },
        "xaxis": {
         "title": {
          "text": "Data"
         }
        },
        "yaxis": {
         "tickformat": ".2f",
         "tickprefix": "R$ ",
         "title": {
          "text": "Preço"
         }
        }
       }
      }
     },
     "metadata": {},
     "output_type": "display_data"
    },
    {
     "data": {
      "application/vnd.plotly.v1+json": {
       "config": {
        "plotlyServerURL": "https://plot.ly"
       },
       "data": [
        {
         "mode": "lines+markers",
         "name": "placa-de-video-rx-7800-xt-challenger-16g-oc-asrock-amd-radeon-16gb-gddr6-rdna-3-ray-tracing-90-ga4szz-00uanf",
         "type": "scatter",
         "x": [
          "2024-04-25T03:05:00"
         ],
         "y": [
          4117.64
         ]
        },
        {
         "mode": "lines+markers",
         "name": "placa-de-video-rx-7800-xt-phantom-gaming-16g-oc-asrock-amd-radeon-16gb-argb-ray-tracing-90-ga4mzz-00uanf",
         "type": "scatter",
         "x": [
          "2024-04-25T03:05:00"
         ],
         "y": [
          4470.58
         ]
        },
        {
         "mode": "lines+markers",
         "name": "placa-de-video-asus-tuf-gaming-amd-radeon-rx-7800-xt-oc-edition-16gb-gddr6-rgb-ray-tracing-90yv0jj0-m0na00",
         "type": "scatter",
         "x": [
          "2024-04-25T03:05:00"
         ],
         "y": [
          4470.58
         ]
        },
        {
         "mode": "lines+markers",
         "name": "placa-de-video-asus-tuf-gaming-amd-radeon-rx-7800-xt-oc",
         "type": "scatter",
         "x": [
          "2024-04-25T03:05:00"
         ],
         "y": [
          4222.11
         ]
        },
        {
         "mode": "lines+markers",
         "name": "placa-de-video-rx-7700-xt-fighter-powercolor-amd-radeon-12gb-gddr6-ray-tracing-rx7700xt-12g-f-oc",
         "type": "scatter",
         "x": [
          "2024-04-25T03:05:00"
         ],
         "y": [
          3529.4
         ]
        },
        {
         "mode": "lines+markers",
         "name": "placa-de-video-rx-7700-xt-hellhound-powercolor-amd-radeon-12gb-gddr6-ray-tracing-rx7700xt-12g-l-oc",
         "type": "scatter",
         "x": [
          "2024-04-25T03:05:00"
         ],
         "y": [
          3529.4
         ]
        },
        {
         "mode": "lines+markers",
         "name": "placa-de-video-rx-7700-xt-phantom-gaming-12g-oc-asrock-amd-radeon-12gb-gddr6-ray-tracing-90-ga4lzz-00uanf",
         "type": "scatter",
         "x": [
          "2024-04-25T03:05:00"
         ],
         "y": [
          3647.05
         ]
        },
        {
         "mode": "lines+markers",
         "name": "placa-de-video-rx-7600-xt-amd-steel-legend-16g-oc-16-gb-gddr6-rx7600xt-sl-16go",
         "type": "scatter",
         "x": [
          "2024-04-25T03:05:00"
         ],
         "y": [
          2941.16
         ]
        },
        {
         "mode": "lines+markers",
         "name": "placa-de-video-rx-7700-xt-gaming-sapphire-pulse-amd-radeon-12gb-gddr6-dual-hdmi-11335-04-20g",
         "type": "scatter",
         "x": [
          "2024-04-25T03:05:00"
         ],
         "y": [
          3529.4
         ]
        },
        {
         "mode": "lines+markers",
         "name": "placa-de-video-powercolor-amd-radeon-rx-7600-xt-fighter-16gb-gddr6-ray-tracing-freesync-rx7600xt-16g-f",
         "type": "scatter",
         "x": [
          "2024-04-25T03:05:00"
         ],
         "y": [
          2705.87
         ]
        },
        {
         "mode": "lines+markers",
         "name": "placa-de-video-rx-7700-xt-steel-legend-12g-oc-asrock-amd-radeon-12gb-gddr6-amd-rdna-3-ray-tracing-90-ga4pzz-00uanf",
         "type": "scatter",
         "x": [
          "2024-04-25T03:05:00"
         ],
         "y": [
          3764.69
         ]
        },
        {
         "mode": "lines+markers",
         "name": "placa-de-video-rx-7900-xt-oc-edition-tuf-gaming-asus-amd-20-gb-gddr6-argb-tuf-rx7900xt-o20g-gaming",
         "type": "scatter",
         "x": [
          "2024-04-25T03:05:00"
         ],
         "y": [
          7058.81
         ]
        },
        {
         "mode": "lines+markers",
         "name": "placa-de-video-rx-7700-xt-challenger-12g-oc-asrock-amd-radeon-12gb-gddr6-90-ga4qzz-00uanf",
         "type": "scatter",
         "x": [
          "2024-04-25T03:05:00"
         ],
         "y": [
          3647.05
         ]
        },
        {
         "mode": "lines+markers",
         "name": "placa-de-video-rx-7900-xt-phantom-gaming-asrock-amd-20-gb-gddr6-argb-90-ga3xzz-00uanf",
         "type": "scatter",
         "x": [
          "2024-04-25T03:05:00"
         ],
         "y": [
          6823.52
         ]
        },
        {
         "mode": "lines+markers",
         "name": "placa-de-video-radeon-rx-7600-xt-hellhound-amd-16gb-gddr6-rx7600xt-16g-l-oc",
         "type": "scatter",
         "x": [
          "2024-04-25T03:05:00"
         ],
         "y": [
          2941.16
         ]
        },
        {
         "mode": "lines+markers",
         "name": "placa-de-video-rx-7600-xt-asus-amd-radeon-dual-o16g-16gb-gddr6-90yv0k21-m0na00",
         "type": "scatter",
         "x": [
          "2024-04-25T03:05:00"
         ],
         "y": [
          2599.99
         ]
        },
        {
         "mode": "lines+markers",
         "name": "placa-de-video-asrock-radeon-rx-7900-xt-phantom-gaming-oc-20gb-gddr6-320-bit-preto",
         "type": "scatter",
         "x": [
          "2024-04-25T03:05:00"
         ],
         "y": [
          8898.9
         ]
        },
        {
         "mode": "lines+markers",
         "name": "placa-de-video-rx-7600-xt-asus-amd-radeon-tuf-o16g-gaming-16gb-gddr6-90yv0k20-m0na00",
         "type": "scatter",
         "x": [
          "2024-04-25T03:05:00"
         ],
         "y": [
          2799.99
         ]
        }
       ],
       "layout": {
        "legend": {
         "font": {
          "size": 10
         },
         "itemwidth": 30,
         "orientation": "v",
         "x": 10,
         "y": 0
        },
        "margin": {
         "b": 150,
         "l": 50,
         "r": 50,
         "t": 80
        },
        "template": {
         "data": {
          "bar": [
           {
            "error_x": {
             "color": "#2a3f5f"
            },
            "error_y": {
             "color": "#2a3f5f"
            },
            "marker": {
             "line": {
              "color": "#E5ECF6",
              "width": 0.5
             },
             "pattern": {
              "fillmode": "overlay",
              "size": 10,
              "solidity": 0.2
             }
            },
            "type": "bar"
           }
          ],
          "barpolar": [
           {
            "marker": {
             "line": {
              "color": "#E5ECF6",
              "width": 0.5
             },
             "pattern": {
              "fillmode": "overlay",
              "size": 10,
              "solidity": 0.2
             }
            },
            "type": "barpolar"
           }
          ],
          "carpet": [
           {
            "aaxis": {
             "endlinecolor": "#2a3f5f",
             "gridcolor": "white",
             "linecolor": "white",
             "minorgridcolor": "white",
             "startlinecolor": "#2a3f5f"
            },
            "baxis": {
             "endlinecolor": "#2a3f5f",
             "gridcolor": "white",
             "linecolor": "white",
             "minorgridcolor": "white",
             "startlinecolor": "#2a3f5f"
            },
            "type": "carpet"
           }
          ],
          "choropleth": [
           {
            "colorbar": {
             "outlinewidth": 0,
             "ticks": ""
            },
            "type": "choropleth"
           }
          ],
          "contour": [
           {
            "colorbar": {
             "outlinewidth": 0,
             "ticks": ""
            },
            "colorscale": [
             [
              0,
              "#0d0887"
             ],
             [
              0.1111111111111111,
              "#46039f"
             ],
             [
              0.2222222222222222,
              "#7201a8"
             ],
             [
              0.3333333333333333,
              "#9c179e"
             ],
             [
              0.4444444444444444,
              "#bd3786"
             ],
             [
              0.5555555555555556,
              "#d8576b"
             ],
             [
              0.6666666666666666,
              "#ed7953"
             ],
             [
              0.7777777777777778,
              "#fb9f3a"
             ],
             [
              0.8888888888888888,
              "#fdca26"
             ],
             [
              1,
              "#f0f921"
             ]
            ],
            "type": "contour"
           }
          ],
          "contourcarpet": [
           {
            "colorbar": {
             "outlinewidth": 0,
             "ticks": ""
            },
            "type": "contourcarpet"
           }
          ],
          "heatmap": [
           {
            "colorbar": {
             "outlinewidth": 0,
             "ticks": ""
            },
            "colorscale": [
             [
              0,
              "#0d0887"
             ],
             [
              0.1111111111111111,
              "#46039f"
             ],
             [
              0.2222222222222222,
              "#7201a8"
             ],
             [
              0.3333333333333333,
              "#9c179e"
             ],
             [
              0.4444444444444444,
              "#bd3786"
             ],
             [
              0.5555555555555556,
              "#d8576b"
             ],
             [
              0.6666666666666666,
              "#ed7953"
             ],
             [
              0.7777777777777778,
              "#fb9f3a"
             ],
             [
              0.8888888888888888,
              "#fdca26"
             ],
             [
              1,
              "#f0f921"
             ]
            ],
            "type": "heatmap"
           }
          ],
          "heatmapgl": [
           {
            "colorbar": {
             "outlinewidth": 0,
             "ticks": ""
            },
            "colorscale": [
             [
              0,
              "#0d0887"
             ],
             [
              0.1111111111111111,
              "#46039f"
             ],
             [
              0.2222222222222222,
              "#7201a8"
             ],
             [
              0.3333333333333333,
              "#9c179e"
             ],
             [
              0.4444444444444444,
              "#bd3786"
             ],
             [
              0.5555555555555556,
              "#d8576b"
             ],
             [
              0.6666666666666666,
              "#ed7953"
             ],
             [
              0.7777777777777778,
              "#fb9f3a"
             ],
             [
              0.8888888888888888,
              "#fdca26"
             ],
             [
              1,
              "#f0f921"
             ]
            ],
            "type": "heatmapgl"
           }
          ],
          "histogram": [
           {
            "marker": {
             "pattern": {
              "fillmode": "overlay",
              "size": 10,
              "solidity": 0.2
             }
            },
            "type": "histogram"
           }
          ],
          "histogram2d": [
           {
            "colorbar": {
             "outlinewidth": 0,
             "ticks": ""
            },
            "colorscale": [
             [
              0,
              "#0d0887"
             ],
             [
              0.1111111111111111,
              "#46039f"
             ],
             [
              0.2222222222222222,
              "#7201a8"
             ],
             [
              0.3333333333333333,
              "#9c179e"
             ],
             [
              0.4444444444444444,
              "#bd3786"
             ],
             [
              0.5555555555555556,
              "#d8576b"
             ],
             [
              0.6666666666666666,
              "#ed7953"
             ],
             [
              0.7777777777777778,
              "#fb9f3a"
             ],
             [
              0.8888888888888888,
              "#fdca26"
             ],
             [
              1,
              "#f0f921"
             ]
            ],
            "type": "histogram2d"
           }
          ],
          "histogram2dcontour": [
           {
            "colorbar": {
             "outlinewidth": 0,
             "ticks": ""
            },
            "colorscale": [
             [
              0,
              "#0d0887"
             ],
             [
              0.1111111111111111,
              "#46039f"
             ],
             [
              0.2222222222222222,
              "#7201a8"
             ],
             [
              0.3333333333333333,
              "#9c179e"
             ],
             [
              0.4444444444444444,
              "#bd3786"
             ],
             [
              0.5555555555555556,
              "#d8576b"
             ],
             [
              0.6666666666666666,
              "#ed7953"
             ],
             [
              0.7777777777777778,
              "#fb9f3a"
             ],
             [
              0.8888888888888888,
              "#fdca26"
             ],
             [
              1,
              "#f0f921"
             ]
            ],
            "type": "histogram2dcontour"
           }
          ],
          "mesh3d": [
           {
            "colorbar": {
             "outlinewidth": 0,
             "ticks": ""
            },
            "type": "mesh3d"
           }
          ],
          "parcoords": [
           {
            "line": {
             "colorbar": {
              "outlinewidth": 0,
              "ticks": ""
             }
            },
            "type": "parcoords"
           }
          ],
          "pie": [
           {
            "automargin": true,
            "type": "pie"
           }
          ],
          "scatter": [
           {
            "fillpattern": {
             "fillmode": "overlay",
             "size": 10,
             "solidity": 0.2
            },
            "type": "scatter"
           }
          ],
          "scatter3d": [
           {
            "line": {
             "colorbar": {
              "outlinewidth": 0,
              "ticks": ""
             }
            },
            "marker": {
             "colorbar": {
              "outlinewidth": 0,
              "ticks": ""
             }
            },
            "type": "scatter3d"
           }
          ],
          "scattercarpet": [
           {
            "marker": {
             "colorbar": {
              "outlinewidth": 0,
              "ticks": ""
             }
            },
            "type": "scattercarpet"
           }
          ],
          "scattergeo": [
           {
            "marker": {
             "colorbar": {
              "outlinewidth": 0,
              "ticks": ""
             }
            },
            "type": "scattergeo"
           }
          ],
          "scattergl": [
           {
            "marker": {
             "colorbar": {
              "outlinewidth": 0,
              "ticks": ""
             }
            },
            "type": "scattergl"
           }
          ],
          "scattermapbox": [
           {
            "marker": {
             "colorbar": {
              "outlinewidth": 0,
              "ticks": ""
             }
            },
            "type": "scattermapbox"
           }
          ],
          "scatterpolar": [
           {
            "marker": {
             "colorbar": {
              "outlinewidth": 0,
              "ticks": ""
             }
            },
            "type": "scatterpolar"
           }
          ],
          "scatterpolargl": [
           {
            "marker": {
             "colorbar": {
              "outlinewidth": 0,
              "ticks": ""
             }
            },
            "type": "scatterpolargl"
           }
          ],
          "scatterternary": [
           {
            "marker": {
             "colorbar": {
              "outlinewidth": 0,
              "ticks": ""
             }
            },
            "type": "scatterternary"
           }
          ],
          "surface": [
           {
            "colorbar": {
             "outlinewidth": 0,
             "ticks": ""
            },
            "colorscale": [
             [
              0,
              "#0d0887"
             ],
             [
              0.1111111111111111,
              "#46039f"
             ],
             [
              0.2222222222222222,
              "#7201a8"
             ],
             [
              0.3333333333333333,
              "#9c179e"
             ],
             [
              0.4444444444444444,
              "#bd3786"
             ],
             [
              0.5555555555555556,
              "#d8576b"
             ],
             [
              0.6666666666666666,
              "#ed7953"
             ],
             [
              0.7777777777777778,
              "#fb9f3a"
             ],
             [
              0.8888888888888888,
              "#fdca26"
             ],
             [
              1,
              "#f0f921"
             ]
            ],
            "type": "surface"
           }
          ],
          "table": [
           {
            "cells": {
             "fill": {
              "color": "#EBF0F8"
             },
             "line": {
              "color": "white"
             }
            },
            "header": {
             "fill": {
              "color": "#C8D4E3"
             },
             "line": {
              "color": "white"
             }
            },
            "type": "table"
           }
          ]
         },
         "layout": {
          "annotationdefaults": {
           "arrowcolor": "#2a3f5f",
           "arrowhead": 0,
           "arrowwidth": 1
          },
          "autotypenumbers": "strict",
          "coloraxis": {
           "colorbar": {
            "outlinewidth": 0,
            "ticks": ""
           }
          },
          "colorscale": {
           "diverging": [
            [
             0,
             "#8e0152"
            ],
            [
             0.1,
             "#c51b7d"
            ],
            [
             0.2,
             "#de77ae"
            ],
            [
             0.3,
             "#f1b6da"
            ],
            [
             0.4,
             "#fde0ef"
            ],
            [
             0.5,
             "#f7f7f7"
            ],
            [
             0.6,
             "#e6f5d0"
            ],
            [
             0.7,
             "#b8e186"
            ],
            [
             0.8,
             "#7fbc41"
            ],
            [
             0.9,
             "#4d9221"
            ],
            [
             1,
             "#276419"
            ]
           ],
           "sequential": [
            [
             0,
             "#0d0887"
            ],
            [
             0.1111111111111111,
             "#46039f"
            ],
            [
             0.2222222222222222,
             "#7201a8"
            ],
            [
             0.3333333333333333,
             "#9c179e"
            ],
            [
             0.4444444444444444,
             "#bd3786"
            ],
            [
             0.5555555555555556,
             "#d8576b"
            ],
            [
             0.6666666666666666,
             "#ed7953"
            ],
            [
             0.7777777777777778,
             "#fb9f3a"
            ],
            [
             0.8888888888888888,
             "#fdca26"
            ],
            [
             1,
             "#f0f921"
            ]
           ],
           "sequentialminus": [
            [
             0,
             "#0d0887"
            ],
            [
             0.1111111111111111,
             "#46039f"
            ],
            [
             0.2222222222222222,
             "#7201a8"
            ],
            [
             0.3333333333333333,
             "#9c179e"
            ],
            [
             0.4444444444444444,
             "#bd3786"
            ],
            [
             0.5555555555555556,
             "#d8576b"
            ],
            [
             0.6666666666666666,
             "#ed7953"
            ],
            [
             0.7777777777777778,
             "#fb9f3a"
            ],
            [
             0.8888888888888888,
             "#fdca26"
            ],
            [
             1,
             "#f0f921"
            ]
           ]
          },
          "colorway": [
           "#636efa",
           "#EF553B",
           "#00cc96",
           "#ab63fa",
           "#FFA15A",
           "#19d3f3",
           "#FF6692",
           "#B6E880",
           "#FF97FF",
           "#FECB52"
          ],
          "font": {
           "color": "#2a3f5f"
          },
          "geo": {
           "bgcolor": "white",
           "lakecolor": "white",
           "landcolor": "#E5ECF6",
           "showlakes": true,
           "showland": true,
           "subunitcolor": "white"
          },
          "hoverlabel": {
           "align": "left"
          },
          "hovermode": "closest",
          "mapbox": {
           "style": "light"
          },
          "paper_bgcolor": "white",
          "plot_bgcolor": "#E5ECF6",
          "polar": {
           "angularaxis": {
            "gridcolor": "white",
            "linecolor": "white",
            "ticks": ""
           },
           "bgcolor": "#E5ECF6",
           "radialaxis": {
            "gridcolor": "white",
            "linecolor": "white",
            "ticks": ""
           }
          },
          "scene": {
           "xaxis": {
            "backgroundcolor": "#E5ECF6",
            "gridcolor": "white",
            "gridwidth": 2,
            "linecolor": "white",
            "showbackground": true,
            "ticks": "",
            "zerolinecolor": "white"
           },
           "yaxis": {
            "backgroundcolor": "#E5ECF6",
            "gridcolor": "white",
            "gridwidth": 2,
            "linecolor": "white",
            "showbackground": true,
            "ticks": "",
            "zerolinecolor": "white"
           },
           "zaxis": {
            "backgroundcolor": "#E5ECF6",
            "gridcolor": "white",
            "gridwidth": 2,
            "linecolor": "white",
            "showbackground": true,
            "ticks": "",
            "zerolinecolor": "white"
           }
          },
          "shapedefaults": {
           "line": {
            "color": "#2a3f5f"
           }
          },
          "ternary": {
           "aaxis": {
            "gridcolor": "white",
            "linecolor": "white",
            "ticks": ""
           },
           "baxis": {
            "gridcolor": "white",
            "linecolor": "white",
            "ticks": ""
           },
           "bgcolor": "#E5ECF6",
           "caxis": {
            "gridcolor": "white",
            "linecolor": "white",
            "ticks": ""
           }
          },
          "title": {
           "x": 0.05
          },
          "xaxis": {
           "automargin": true,
           "gridcolor": "white",
           "linecolor": "white",
           "ticks": "",
           "title": {
            "standoff": 15
           },
           "zerolinecolor": "white",
           "zerolinewidth": 2
          },
          "yaxis": {
           "automargin": true,
           "gridcolor": "white",
           "linecolor": "white",
           "ticks": "",
           "title": {
            "standoff": 15
           },
           "zerolinecolor": "white",
           "zerolinewidth": 2
          }
         }
        },
        "title": {
         "text": "Evolução dos Preços - Modelo: RX 7800 XT"
        },
        "xaxis": {
         "title": {
          "text": "Data"
         }
        },
        "yaxis": {
         "tickformat": ".2f",
         "tickprefix": "R$ ",
         "title": {
          "text": "Preço"
         }
        }
       }
      }
     },
     "metadata": {},
     "output_type": "display_data"
    },
    {
     "data": {
      "application/vnd.plotly.v1+json": {
       "config": {
        "plotlyServerURL": "https://plot.ly"
       },
       "data": [
        {
         "mode": "lines+markers",
         "name": "placa-de-video-rx-7700-xt-fighter-powercolor-amd-radeon-12gb-gddr6-ray-tracing-rx7700xt-12g-f-oc",
         "type": "scatter",
         "x": [
          "2024-04-25T03:05:00"
         ],
         "y": [
          3529.4
         ]
        },
        {
         "mode": "lines+markers",
         "name": "placa-de-video-rx-7700-xt-hellhound-powercolor-amd-radeon-12gb-gddr6-ray-tracing-rx7700xt-12g-l-oc",
         "type": "scatter",
         "x": [
          "2024-04-25T03:05:00"
         ],
         "y": [
          3529.4
         ]
        },
        {
         "mode": "lines+markers",
         "name": "placa-de-video-rx-7700-xt-phantom-gaming-12g-oc-asrock-amd-radeon-12gb-gddr6-ray-tracing-90-ga4lzz-00uanf",
         "type": "scatter",
         "x": [
          "2024-04-25T03:05:00"
         ],
         "y": [
          3647.05
         ]
        },
        {
         "mode": "lines+markers",
         "name": "placa-de-video-rx-7700-xt-gaming-sapphire-pulse-amd-radeon-12gb-gddr6-dual-hdmi-11335-04-20g",
         "type": "scatter",
         "x": [
          "2024-04-25T03:05:00"
         ],
         "y": [
          3529.4
         ]
        },
        {
         "mode": "lines+markers",
         "name": "placa-de-video-rx-7700-xt-steel-legend-12g-oc-asrock-amd-radeon-12gb-gddr6-amd-rdna-3-ray-tracing-90-ga4pzz-00uanf",
         "type": "scatter",
         "x": [
          "2024-04-25T03:05:00"
         ],
         "y": [
          3764.69
         ]
        },
        {
         "mode": "lines+markers",
         "name": "placa-de-video-rx-7700-xt-challenger-12g-oc-asrock-amd-radeon-12gb-gddr6-90-ga4qzz-00uanf",
         "type": "scatter",
         "x": [
          "2024-04-25T03:05:00"
         ],
         "y": [
          3647.05
         ]
        },
        {
         "mode": "lines+markers",
         "name": "placa-de-video-rx-7600-xt-amd-steel-legend-16g-oc-16-gb-gddr6-rx7600xt-sl-16go",
         "type": "scatter",
         "x": [
          "2024-04-25T03:05:00"
         ],
         "y": [
          2941.16
         ]
        },
        {
         "mode": "lines+markers",
         "name": "placa-de-video-powercolor-amd-radeon-rx-7600-xt-fighter-16gb-gddr6-ray-tracing-freesync-rx7600xt-16g-f",
         "type": "scatter",
         "x": [
          "2024-04-25T03:05:00"
         ],
         "y": [
          2705.87
         ]
        },
        {
         "mode": "lines+markers",
         "name": "placa-de-video-rx-7800-xt-phantom-gaming-16g-oc-asrock-amd-radeon-16gb-argb-ray-tracing-90-ga4mzz-00uanf",
         "type": "scatter",
         "x": [
          "2024-04-25T03:05:00"
         ],
         "y": [
          4470.58
         ]
        },
        {
         "mode": "lines+markers",
         "name": "placa-de-video-radeon-rx-7600-xt-hellhound-amd-16gb-gddr6-rx7600xt-16g-l-oc",
         "type": "scatter",
         "x": [
          "2024-04-25T03:05:00"
         ],
         "y": [
          2941.16
         ]
        },
        {
         "mode": "lines+markers",
         "name": "placa-de-video-rx-7600-xt-asus-amd-radeon-dual-o16g-16gb-gddr6-90yv0k21-m0na00",
         "type": "scatter",
         "x": [
          "2024-04-25T03:05:00"
         ],
         "y": [
          2599.99
         ]
        },
        {
         "mode": "lines+markers",
         "name": "placa-de-video-rx-7600-xt-asus-amd-radeon-tuf-o16g-gaming-16gb-gddr6-90yv0k20-m0na00",
         "type": "scatter",
         "x": [
          "2024-04-25T03:05:00"
         ],
         "y": [
          2799.99
         ]
        }
       ],
       "layout": {
        "legend": {
         "font": {
          "size": 10
         },
         "itemwidth": 30,
         "orientation": "v",
         "x": 10,
         "y": 0
        },
        "margin": {
         "b": 150,
         "l": 50,
         "r": 50,
         "t": 80
        },
        "template": {
         "data": {
          "bar": [
           {
            "error_x": {
             "color": "#2a3f5f"
            },
            "error_y": {
             "color": "#2a3f5f"
            },
            "marker": {
             "line": {
              "color": "#E5ECF6",
              "width": 0.5
             },
             "pattern": {
              "fillmode": "overlay",
              "size": 10,
              "solidity": 0.2
             }
            },
            "type": "bar"
           }
          ],
          "barpolar": [
           {
            "marker": {
             "line": {
              "color": "#E5ECF6",
              "width": 0.5
             },
             "pattern": {
              "fillmode": "overlay",
              "size": 10,
              "solidity": 0.2
             }
            },
            "type": "barpolar"
           }
          ],
          "carpet": [
           {
            "aaxis": {
             "endlinecolor": "#2a3f5f",
             "gridcolor": "white",
             "linecolor": "white",
             "minorgridcolor": "white",
             "startlinecolor": "#2a3f5f"
            },
            "baxis": {
             "endlinecolor": "#2a3f5f",
             "gridcolor": "white",
             "linecolor": "white",
             "minorgridcolor": "white",
             "startlinecolor": "#2a3f5f"
            },
            "type": "carpet"
           }
          ],
          "choropleth": [
           {
            "colorbar": {
             "outlinewidth": 0,
             "ticks": ""
            },
            "type": "choropleth"
           }
          ],
          "contour": [
           {
            "colorbar": {
             "outlinewidth": 0,
             "ticks": ""
            },
            "colorscale": [
             [
              0,
              "#0d0887"
             ],
             [
              0.1111111111111111,
              "#46039f"
             ],
             [
              0.2222222222222222,
              "#7201a8"
             ],
             [
              0.3333333333333333,
              "#9c179e"
             ],
             [
              0.4444444444444444,
              "#bd3786"
             ],
             [
              0.5555555555555556,
              "#d8576b"
             ],
             [
              0.6666666666666666,
              "#ed7953"
             ],
             [
              0.7777777777777778,
              "#fb9f3a"
             ],
             [
              0.8888888888888888,
              "#fdca26"
             ],
             [
              1,
              "#f0f921"
             ]
            ],
            "type": "contour"
           }
          ],
          "contourcarpet": [
           {
            "colorbar": {
             "outlinewidth": 0,
             "ticks": ""
            },
            "type": "contourcarpet"
           }
          ],
          "heatmap": [
           {
            "colorbar": {
             "outlinewidth": 0,
             "ticks": ""
            },
            "colorscale": [
             [
              0,
              "#0d0887"
             ],
             [
              0.1111111111111111,
              "#46039f"
             ],
             [
              0.2222222222222222,
              "#7201a8"
             ],
             [
              0.3333333333333333,
              "#9c179e"
             ],
             [
              0.4444444444444444,
              "#bd3786"
             ],
             [
              0.5555555555555556,
              "#d8576b"
             ],
             [
              0.6666666666666666,
              "#ed7953"
             ],
             [
              0.7777777777777778,
              "#fb9f3a"
             ],
             [
              0.8888888888888888,
              "#fdca26"
             ],
             [
              1,
              "#f0f921"
             ]
            ],
            "type": "heatmap"
           }
          ],
          "heatmapgl": [
           {
            "colorbar": {
             "outlinewidth": 0,
             "ticks": ""
            },
            "colorscale": [
             [
              0,
              "#0d0887"
             ],
             [
              0.1111111111111111,
              "#46039f"
             ],
             [
              0.2222222222222222,
              "#7201a8"
             ],
             [
              0.3333333333333333,
              "#9c179e"
             ],
             [
              0.4444444444444444,
              "#bd3786"
             ],
             [
              0.5555555555555556,
              "#d8576b"
             ],
             [
              0.6666666666666666,
              "#ed7953"
             ],
             [
              0.7777777777777778,
              "#fb9f3a"
             ],
             [
              0.8888888888888888,
              "#fdca26"
             ],
             [
              1,
              "#f0f921"
             ]
            ],
            "type": "heatmapgl"
           }
          ],
          "histogram": [
           {
            "marker": {
             "pattern": {
              "fillmode": "overlay",
              "size": 10,
              "solidity": 0.2
             }
            },
            "type": "histogram"
           }
          ],
          "histogram2d": [
           {
            "colorbar": {
             "outlinewidth": 0,
             "ticks": ""
            },
            "colorscale": [
             [
              0,
              "#0d0887"
             ],
             [
              0.1111111111111111,
              "#46039f"
             ],
             [
              0.2222222222222222,
              "#7201a8"
             ],
             [
              0.3333333333333333,
              "#9c179e"
             ],
             [
              0.4444444444444444,
              "#bd3786"
             ],
             [
              0.5555555555555556,
              "#d8576b"
             ],
             [
              0.6666666666666666,
              "#ed7953"
             ],
             [
              0.7777777777777778,
              "#fb9f3a"
             ],
             [
              0.8888888888888888,
              "#fdca26"
             ],
             [
              1,
              "#f0f921"
             ]
            ],
            "type": "histogram2d"
           }
          ],
          "histogram2dcontour": [
           {
            "colorbar": {
             "outlinewidth": 0,
             "ticks": ""
            },
            "colorscale": [
             [
              0,
              "#0d0887"
             ],
             [
              0.1111111111111111,
              "#46039f"
             ],
             [
              0.2222222222222222,
              "#7201a8"
             ],
             [
              0.3333333333333333,
              "#9c179e"
             ],
             [
              0.4444444444444444,
              "#bd3786"
             ],
             [
              0.5555555555555556,
              "#d8576b"
             ],
             [
              0.6666666666666666,
              "#ed7953"
             ],
             [
              0.7777777777777778,
              "#fb9f3a"
             ],
             [
              0.8888888888888888,
              "#fdca26"
             ],
             [
              1,
              "#f0f921"
             ]
            ],
            "type": "histogram2dcontour"
           }
          ],
          "mesh3d": [
           {
            "colorbar": {
             "outlinewidth": 0,
             "ticks": ""
            },
            "type": "mesh3d"
           }
          ],
          "parcoords": [
           {
            "line": {
             "colorbar": {
              "outlinewidth": 0,
              "ticks": ""
             }
            },
            "type": "parcoords"
           }
          ],
          "pie": [
           {
            "automargin": true,
            "type": "pie"
           }
          ],
          "scatter": [
           {
            "fillpattern": {
             "fillmode": "overlay",
             "size": 10,
             "solidity": 0.2
            },
            "type": "scatter"
           }
          ],
          "scatter3d": [
           {
            "line": {
             "colorbar": {
              "outlinewidth": 0,
              "ticks": ""
             }
            },
            "marker": {
             "colorbar": {
              "outlinewidth": 0,
              "ticks": ""
             }
            },
            "type": "scatter3d"
           }
          ],
          "scattercarpet": [
           {
            "marker": {
             "colorbar": {
              "outlinewidth": 0,
              "ticks": ""
             }
            },
            "type": "scattercarpet"
           }
          ],
          "scattergeo": [
           {
            "marker": {
             "colorbar": {
              "outlinewidth": 0,
              "ticks": ""
             }
            },
            "type": "scattergeo"
           }
          ],
          "scattergl": [
           {
            "marker": {
             "colorbar": {
              "outlinewidth": 0,
              "ticks": ""
             }
            },
            "type": "scattergl"
           }
          ],
          "scattermapbox": [
           {
            "marker": {
             "colorbar": {
              "outlinewidth": 0,
              "ticks": ""
             }
            },
            "type": "scattermapbox"
           }
          ],
          "scatterpolar": [
           {
            "marker": {
             "colorbar": {
              "outlinewidth": 0,
              "ticks": ""
             }
            },
            "type": "scatterpolar"
           }
          ],
          "scatterpolargl": [
           {
            "marker": {
             "colorbar": {
              "outlinewidth": 0,
              "ticks": ""
             }
            },
            "type": "scatterpolargl"
           }
          ],
          "scatterternary": [
           {
            "marker": {
             "colorbar": {
              "outlinewidth": 0,
              "ticks": ""
             }
            },
            "type": "scatterternary"
           }
          ],
          "surface": [
           {
            "colorbar": {
             "outlinewidth": 0,
             "ticks": ""
            },
            "colorscale": [
             [
              0,
              "#0d0887"
             ],
             [
              0.1111111111111111,
              "#46039f"
             ],
             [
              0.2222222222222222,
              "#7201a8"
             ],
             [
              0.3333333333333333,
              "#9c179e"
             ],
             [
              0.4444444444444444,
              "#bd3786"
             ],
             [
              0.5555555555555556,
              "#d8576b"
             ],
             [
              0.6666666666666666,
              "#ed7953"
             ],
             [
              0.7777777777777778,
              "#fb9f3a"
             ],
             [
              0.8888888888888888,
              "#fdca26"
             ],
             [
              1,
              "#f0f921"
             ]
            ],
            "type": "surface"
           }
          ],
          "table": [
           {
            "cells": {
             "fill": {
              "color": "#EBF0F8"
             },
             "line": {
              "color": "white"
             }
            },
            "header": {
             "fill": {
              "color": "#C8D4E3"
             },
             "line": {
              "color": "white"
             }
            },
            "type": "table"
           }
          ]
         },
         "layout": {
          "annotationdefaults": {
           "arrowcolor": "#2a3f5f",
           "arrowhead": 0,
           "arrowwidth": 1
          },
          "autotypenumbers": "strict",
          "coloraxis": {
           "colorbar": {
            "outlinewidth": 0,
            "ticks": ""
           }
          },
          "colorscale": {
           "diverging": [
            [
             0,
             "#8e0152"
            ],
            [
             0.1,
             "#c51b7d"
            ],
            [
             0.2,
             "#de77ae"
            ],
            [
             0.3,
             "#f1b6da"
            ],
            [
             0.4,
             "#fde0ef"
            ],
            [
             0.5,
             "#f7f7f7"
            ],
            [
             0.6,
             "#e6f5d0"
            ],
            [
             0.7,
             "#b8e186"
            ],
            [
             0.8,
             "#7fbc41"
            ],
            [
             0.9,
             "#4d9221"
            ],
            [
             1,
             "#276419"
            ]
           ],
           "sequential": [
            [
             0,
             "#0d0887"
            ],
            [
             0.1111111111111111,
             "#46039f"
            ],
            [
             0.2222222222222222,
             "#7201a8"
            ],
            [
             0.3333333333333333,
             "#9c179e"
            ],
            [
             0.4444444444444444,
             "#bd3786"
            ],
            [
             0.5555555555555556,
             "#d8576b"
            ],
            [
             0.6666666666666666,
             "#ed7953"
            ],
            [
             0.7777777777777778,
             "#fb9f3a"
            ],
            [
             0.8888888888888888,
             "#fdca26"
            ],
            [
             1,
             "#f0f921"
            ]
           ],
           "sequentialminus": [
            [
             0,
             "#0d0887"
            ],
            [
             0.1111111111111111,
             "#46039f"
            ],
            [
             0.2222222222222222,
             "#7201a8"
            ],
            [
             0.3333333333333333,
             "#9c179e"
            ],
            [
             0.4444444444444444,
             "#bd3786"
            ],
            [
             0.5555555555555556,
             "#d8576b"
            ],
            [
             0.6666666666666666,
             "#ed7953"
            ],
            [
             0.7777777777777778,
             "#fb9f3a"
            ],
            [
             0.8888888888888888,
             "#fdca26"
            ],
            [
             1,
             "#f0f921"
            ]
           ]
          },
          "colorway": [
           "#636efa",
           "#EF553B",
           "#00cc96",
           "#ab63fa",
           "#FFA15A",
           "#19d3f3",
           "#FF6692",
           "#B6E880",
           "#FF97FF",
           "#FECB52"
          ],
          "font": {
           "color": "#2a3f5f"
          },
          "geo": {
           "bgcolor": "white",
           "lakecolor": "white",
           "landcolor": "#E5ECF6",
           "showlakes": true,
           "showland": true,
           "subunitcolor": "white"
          },
          "hoverlabel": {
           "align": "left"
          },
          "hovermode": "closest",
          "mapbox": {
           "style": "light"
          },
          "paper_bgcolor": "white",
          "plot_bgcolor": "#E5ECF6",
          "polar": {
           "angularaxis": {
            "gridcolor": "white",
            "linecolor": "white",
            "ticks": ""
           },
           "bgcolor": "#E5ECF6",
           "radialaxis": {
            "gridcolor": "white",
            "linecolor": "white",
            "ticks": ""
           }
          },
          "scene": {
           "xaxis": {
            "backgroundcolor": "#E5ECF6",
            "gridcolor": "white",
            "gridwidth": 2,
            "linecolor": "white",
            "showbackground": true,
            "ticks": "",
            "zerolinecolor": "white"
           },
           "yaxis": {
            "backgroundcolor": "#E5ECF6",
            "gridcolor": "white",
            "gridwidth": 2,
            "linecolor": "white",
            "showbackground": true,
            "ticks": "",
            "zerolinecolor": "white"
           },
           "zaxis": {
            "backgroundcolor": "#E5ECF6",
            "gridcolor": "white",
            "gridwidth": 2,
            "linecolor": "white",
            "showbackground": true,
            "ticks": "",
            "zerolinecolor": "white"
           }
          },
          "shapedefaults": {
           "line": {
            "color": "#2a3f5f"
           }
          },
          "ternary": {
           "aaxis": {
            "gridcolor": "white",
            "linecolor": "white",
            "ticks": ""
           },
           "baxis": {
            "gridcolor": "white",
            "linecolor": "white",
            "ticks": ""
           },
           "bgcolor": "#E5ECF6",
           "caxis": {
            "gridcolor": "white",
            "linecolor": "white",
            "ticks": ""
           }
          },
          "title": {
           "x": 0.05
          },
          "xaxis": {
           "automargin": true,
           "gridcolor": "white",
           "linecolor": "white",
           "ticks": "",
           "title": {
            "standoff": 15
           },
           "zerolinecolor": "white",
           "zerolinewidth": 2
          },
          "yaxis": {
           "automargin": true,
           "gridcolor": "white",
           "linecolor": "white",
           "ticks": "",
           "title": {
            "standoff": 15
           },
           "zerolinecolor": "white",
           "zerolinewidth": 2
          }
         }
        },
        "title": {
         "text": "Evolução dos Preços - Modelo: RX 7700 XT"
        },
        "xaxis": {
         "title": {
          "text": "Data"
         }
        },
        "yaxis": {
         "tickformat": ".2f",
         "tickprefix": "R$ ",
         "title": {
          "text": "Preço"
         }
        }
       }
      }
     },
     "metadata": {},
     "output_type": "display_data"
    },
    {
     "data": {
      "application/vnd.plotly.v1+json": {
       "config": {
        "plotlyServerURL": "https://plot.ly"
       },
       "data": [
        {
         "mode": "lines+markers",
         "name": "placa-de-video-rx-7600-xt-amd-steel-legend-16g-oc-16-gb-gddr6-rx7600xt-sl-16go",
         "type": "scatter",
         "x": [
          "2024-04-25T03:05:00"
         ],
         "y": [
          2941.16
         ]
        },
        {
         "mode": "lines+markers",
         "name": "placa-de-video-powercolor-amd-radeon-rx-7600-xt-fighter-16gb-gddr6-ray-tracing-freesync-rx7600xt-16g-f",
         "type": "scatter",
         "x": [
          "2024-04-25T03:05:00"
         ],
         "y": [
          2705.87
         ]
        },
        {
         "mode": "lines+markers",
         "name": "placa-de-video-radeon-rx-7600-xt-hellhound-amd-16gb-gddr6-rx7600xt-16g-l-oc",
         "type": "scatter",
         "x": [
          "2024-04-25T03:05:00"
         ],
         "y": [
          2941.16
         ]
        },
        {
         "mode": "lines+markers",
         "name": "placa-de-video-rx-7600-xt-asus-amd-radeon-dual-o16g-16gb-gddr6-90yv0k21-m0na00",
         "type": "scatter",
         "x": [
          "2024-04-25T03:05:00"
         ],
         "y": [
          2599.99
         ]
        },
        {
         "mode": "lines+markers",
         "name": "placa-de-video-rx-7600-xt-asus-amd-radeon-tuf-o16g-gaming-16gb-gddr6-90yv0k20-m0na00",
         "type": "scatter",
         "x": [
          "2024-04-25T03:05:00"
         ],
         "y": [
          2799.99
         ]
        },
        {
         "mode": "lines+markers",
         "name": "placa-de-video-rx-7800-xt-challenger-16g-oc-asrock-amd-radeon-16gb-gddr6-rdna-3-ray-tracing-90-ga4szz-00uanf",
         "type": "scatter",
         "x": [
          "2024-04-25T03:05:00"
         ],
         "y": [
          4117.64
         ]
        },
        {
         "mode": "lines+markers",
         "name": "placa-de-video-rx-7700-xt-hellhound-powercolor-amd-radeon-12gb-gddr6-ray-tracing-rx7700xt-12g-l-oc",
         "type": "scatter",
         "x": [
          "2024-04-25T03:05:00"
         ],
         "y": [
          3529.4
         ]
        },
        {
         "mode": "lines+markers",
         "name": "placa-de-video-asus-tuf-gaming-amd-radeon-rx-7800-xt-oc",
         "type": "scatter",
         "x": [
          "2024-04-25T03:05:00"
         ],
         "y": [
          4222.11
         ]
        },
        {
         "mode": "lines+markers",
         "name": "placa-de-video-rx-7900-xt-oc-edition-tuf-gaming-asus-amd-20-gb-gddr6-argb-tuf-rx7900xt-o20g-gaming",
         "type": "scatter",
         "x": [
          "2024-04-25T03:05:00"
         ],
         "y": [
          7058.81
         ]
        },
        {
         "mode": "lines+markers",
         "name": "placa-de-video-rx-7700-xt-challenger-12g-oc-asrock-amd-radeon-12gb-gddr6-90-ga4qzz-00uanf",
         "type": "scatter",
         "x": [
          "2024-04-25T03:05:00"
         ],
         "y": [
          3647.05
         ]
        },
        {
         "mode": "lines+markers",
         "name": "placa-de-video-rx-7900-xt-phantom-gaming-asrock-amd-20-gb-gddr6-argb-90-ga3xzz-00uanf",
         "type": "scatter",
         "x": [
          "2024-04-25T03:05:00"
         ],
         "y": [
          6823.52
         ]
        },
        {
         "mode": "lines+markers",
         "name": "placa-de-video-asrock-radeon-rx-7900-xt-phantom-gaming-oc-20gb-gddr6-320-bit-preto",
         "type": "scatter",
         "x": [
          "2024-04-25T03:05:00"
         ],
         "y": [
          8898.9
         ]
        }
       ],
       "layout": {
        "legend": {
         "font": {
          "size": 10
         },
         "itemwidth": 30,
         "orientation": "v",
         "x": 10,
         "y": 0
        },
        "margin": {
         "b": 150,
         "l": 50,
         "r": 50,
         "t": 80
        },
        "template": {
         "data": {
          "bar": [
           {
            "error_x": {
             "color": "#2a3f5f"
            },
            "error_y": {
             "color": "#2a3f5f"
            },
            "marker": {
             "line": {
              "color": "#E5ECF6",
              "width": 0.5
             },
             "pattern": {
              "fillmode": "overlay",
              "size": 10,
              "solidity": 0.2
             }
            },
            "type": "bar"
           }
          ],
          "barpolar": [
           {
            "marker": {
             "line": {
              "color": "#E5ECF6",
              "width": 0.5
             },
             "pattern": {
              "fillmode": "overlay",
              "size": 10,
              "solidity": 0.2
             }
            },
            "type": "barpolar"
           }
          ],
          "carpet": [
           {
            "aaxis": {
             "endlinecolor": "#2a3f5f",
             "gridcolor": "white",
             "linecolor": "white",
             "minorgridcolor": "white",
             "startlinecolor": "#2a3f5f"
            },
            "baxis": {
             "endlinecolor": "#2a3f5f",
             "gridcolor": "white",
             "linecolor": "white",
             "minorgridcolor": "white",
             "startlinecolor": "#2a3f5f"
            },
            "type": "carpet"
           }
          ],
          "choropleth": [
           {
            "colorbar": {
             "outlinewidth": 0,
             "ticks": ""
            },
            "type": "choropleth"
           }
          ],
          "contour": [
           {
            "colorbar": {
             "outlinewidth": 0,
             "ticks": ""
            },
            "colorscale": [
             [
              0,
              "#0d0887"
             ],
             [
              0.1111111111111111,
              "#46039f"
             ],
             [
              0.2222222222222222,
              "#7201a8"
             ],
             [
              0.3333333333333333,
              "#9c179e"
             ],
             [
              0.4444444444444444,
              "#bd3786"
             ],
             [
              0.5555555555555556,
              "#d8576b"
             ],
             [
              0.6666666666666666,
              "#ed7953"
             ],
             [
              0.7777777777777778,
              "#fb9f3a"
             ],
             [
              0.8888888888888888,
              "#fdca26"
             ],
             [
              1,
              "#f0f921"
             ]
            ],
            "type": "contour"
           }
          ],
          "contourcarpet": [
           {
            "colorbar": {
             "outlinewidth": 0,
             "ticks": ""
            },
            "type": "contourcarpet"
           }
          ],
          "heatmap": [
           {
            "colorbar": {
             "outlinewidth": 0,
             "ticks": ""
            },
            "colorscale": [
             [
              0,
              "#0d0887"
             ],
             [
              0.1111111111111111,
              "#46039f"
             ],
             [
              0.2222222222222222,
              "#7201a8"
             ],
             [
              0.3333333333333333,
              "#9c179e"
             ],
             [
              0.4444444444444444,
              "#bd3786"
             ],
             [
              0.5555555555555556,
              "#d8576b"
             ],
             [
              0.6666666666666666,
              "#ed7953"
             ],
             [
              0.7777777777777778,
              "#fb9f3a"
             ],
             [
              0.8888888888888888,
              "#fdca26"
             ],
             [
              1,
              "#f0f921"
             ]
            ],
            "type": "heatmap"
           }
          ],
          "heatmapgl": [
           {
            "colorbar": {
             "outlinewidth": 0,
             "ticks": ""
            },
            "colorscale": [
             [
              0,
              "#0d0887"
             ],
             [
              0.1111111111111111,
              "#46039f"
             ],
             [
              0.2222222222222222,
              "#7201a8"
             ],
             [
              0.3333333333333333,
              "#9c179e"
             ],
             [
              0.4444444444444444,
              "#bd3786"
             ],
             [
              0.5555555555555556,
              "#d8576b"
             ],
             [
              0.6666666666666666,
              "#ed7953"
             ],
             [
              0.7777777777777778,
              "#fb9f3a"
             ],
             [
              0.8888888888888888,
              "#fdca26"
             ],
             [
              1,
              "#f0f921"
             ]
            ],
            "type": "heatmapgl"
           }
          ],
          "histogram": [
           {
            "marker": {
             "pattern": {
              "fillmode": "overlay",
              "size": 10,
              "solidity": 0.2
             }
            },
            "type": "histogram"
           }
          ],
          "histogram2d": [
           {
            "colorbar": {
             "outlinewidth": 0,
             "ticks": ""
            },
            "colorscale": [
             [
              0,
              "#0d0887"
             ],
             [
              0.1111111111111111,
              "#46039f"
             ],
             [
              0.2222222222222222,
              "#7201a8"
             ],
             [
              0.3333333333333333,
              "#9c179e"
             ],
             [
              0.4444444444444444,
              "#bd3786"
             ],
             [
              0.5555555555555556,
              "#d8576b"
             ],
             [
              0.6666666666666666,
              "#ed7953"
             ],
             [
              0.7777777777777778,
              "#fb9f3a"
             ],
             [
              0.8888888888888888,
              "#fdca26"
             ],
             [
              1,
              "#f0f921"
             ]
            ],
            "type": "histogram2d"
           }
          ],
          "histogram2dcontour": [
           {
            "colorbar": {
             "outlinewidth": 0,
             "ticks": ""
            },
            "colorscale": [
             [
              0,
              "#0d0887"
             ],
             [
              0.1111111111111111,
              "#46039f"
             ],
             [
              0.2222222222222222,
              "#7201a8"
             ],
             [
              0.3333333333333333,
              "#9c179e"
             ],
             [
              0.4444444444444444,
              "#bd3786"
             ],
             [
              0.5555555555555556,
              "#d8576b"
             ],
             [
              0.6666666666666666,
              "#ed7953"
             ],
             [
              0.7777777777777778,
              "#fb9f3a"
             ],
             [
              0.8888888888888888,
              "#fdca26"
             ],
             [
              1,
              "#f0f921"
             ]
            ],
            "type": "histogram2dcontour"
           }
          ],
          "mesh3d": [
           {
            "colorbar": {
             "outlinewidth": 0,
             "ticks": ""
            },
            "type": "mesh3d"
           }
          ],
          "parcoords": [
           {
            "line": {
             "colorbar": {
              "outlinewidth": 0,
              "ticks": ""
             }
            },
            "type": "parcoords"
           }
          ],
          "pie": [
           {
            "automargin": true,
            "type": "pie"
           }
          ],
          "scatter": [
           {
            "fillpattern": {
             "fillmode": "overlay",
             "size": 10,
             "solidity": 0.2
            },
            "type": "scatter"
           }
          ],
          "scatter3d": [
           {
            "line": {
             "colorbar": {
              "outlinewidth": 0,
              "ticks": ""
             }
            },
            "marker": {
             "colorbar": {
              "outlinewidth": 0,
              "ticks": ""
             }
            },
            "type": "scatter3d"
           }
          ],
          "scattercarpet": [
           {
            "marker": {
             "colorbar": {
              "outlinewidth": 0,
              "ticks": ""
             }
            },
            "type": "scattercarpet"
           }
          ],
          "scattergeo": [
           {
            "marker": {
             "colorbar": {
              "outlinewidth": 0,
              "ticks": ""
             }
            },
            "type": "scattergeo"
           }
          ],
          "scattergl": [
           {
            "marker": {
             "colorbar": {
              "outlinewidth": 0,
              "ticks": ""
             }
            },
            "type": "scattergl"
           }
          ],
          "scattermapbox": [
           {
            "marker": {
             "colorbar": {
              "outlinewidth": 0,
              "ticks": ""
             }
            },
            "type": "scattermapbox"
           }
          ],
          "scatterpolar": [
           {
            "marker": {
             "colorbar": {
              "outlinewidth": 0,
              "ticks": ""
             }
            },
            "type": "scatterpolar"
           }
          ],
          "scatterpolargl": [
           {
            "marker": {
             "colorbar": {
              "outlinewidth": 0,
              "ticks": ""
             }
            },
            "type": "scatterpolargl"
           }
          ],
          "scatterternary": [
           {
            "marker": {
             "colorbar": {
              "outlinewidth": 0,
              "ticks": ""
             }
            },
            "type": "scatterternary"
           }
          ],
          "surface": [
           {
            "colorbar": {
             "outlinewidth": 0,
             "ticks": ""
            },
            "colorscale": [
             [
              0,
              "#0d0887"
             ],
             [
              0.1111111111111111,
              "#46039f"
             ],
             [
              0.2222222222222222,
              "#7201a8"
             ],
             [
              0.3333333333333333,
              "#9c179e"
             ],
             [
              0.4444444444444444,
              "#bd3786"
             ],
             [
              0.5555555555555556,
              "#d8576b"
             ],
             [
              0.6666666666666666,
              "#ed7953"
             ],
             [
              0.7777777777777778,
              "#fb9f3a"
             ],
             [
              0.8888888888888888,
              "#fdca26"
             ],
             [
              1,
              "#f0f921"
             ]
            ],
            "type": "surface"
           }
          ],
          "table": [
           {
            "cells": {
             "fill": {
              "color": "#EBF0F8"
             },
             "line": {
              "color": "white"
             }
            },
            "header": {
             "fill": {
              "color": "#C8D4E3"
             },
             "line": {
              "color": "white"
             }
            },
            "type": "table"
           }
          ]
         },
         "layout": {
          "annotationdefaults": {
           "arrowcolor": "#2a3f5f",
           "arrowhead": 0,
           "arrowwidth": 1
          },
          "autotypenumbers": "strict",
          "coloraxis": {
           "colorbar": {
            "outlinewidth": 0,
            "ticks": ""
           }
          },
          "colorscale": {
           "diverging": [
            [
             0,
             "#8e0152"
            ],
            [
             0.1,
             "#c51b7d"
            ],
            [
             0.2,
             "#de77ae"
            ],
            [
             0.3,
             "#f1b6da"
            ],
            [
             0.4,
             "#fde0ef"
            ],
            [
             0.5,
             "#f7f7f7"
            ],
            [
             0.6,
             "#e6f5d0"
            ],
            [
             0.7,
             "#b8e186"
            ],
            [
             0.8,
             "#7fbc41"
            ],
            [
             0.9,
             "#4d9221"
            ],
            [
             1,
             "#276419"
            ]
           ],
           "sequential": [
            [
             0,
             "#0d0887"
            ],
            [
             0.1111111111111111,
             "#46039f"
            ],
            [
             0.2222222222222222,
             "#7201a8"
            ],
            [
             0.3333333333333333,
             "#9c179e"
            ],
            [
             0.4444444444444444,
             "#bd3786"
            ],
            [
             0.5555555555555556,
             "#d8576b"
            ],
            [
             0.6666666666666666,
             "#ed7953"
            ],
            [
             0.7777777777777778,
             "#fb9f3a"
            ],
            [
             0.8888888888888888,
             "#fdca26"
            ],
            [
             1,
             "#f0f921"
            ]
           ],
           "sequentialminus": [
            [
             0,
             "#0d0887"
            ],
            [
             0.1111111111111111,
             "#46039f"
            ],
            [
             0.2222222222222222,
             "#7201a8"
            ],
            [
             0.3333333333333333,
             "#9c179e"
            ],
            [
             0.4444444444444444,
             "#bd3786"
            ],
            [
             0.5555555555555556,
             "#d8576b"
            ],
            [
             0.6666666666666666,
             "#ed7953"
            ],
            [
             0.7777777777777778,
             "#fb9f3a"
            ],
            [
             0.8888888888888888,
             "#fdca26"
            ],
            [
             1,
             "#f0f921"
            ]
           ]
          },
          "colorway": [
           "#636efa",
           "#EF553B",
           "#00cc96",
           "#ab63fa",
           "#FFA15A",
           "#19d3f3",
           "#FF6692",
           "#B6E880",
           "#FF97FF",
           "#FECB52"
          ],
          "font": {
           "color": "#2a3f5f"
          },
          "geo": {
           "bgcolor": "white",
           "lakecolor": "white",
           "landcolor": "#E5ECF6",
           "showlakes": true,
           "showland": true,
           "subunitcolor": "white"
          },
          "hoverlabel": {
           "align": "left"
          },
          "hovermode": "closest",
          "mapbox": {
           "style": "light"
          },
          "paper_bgcolor": "white",
          "plot_bgcolor": "#E5ECF6",
          "polar": {
           "angularaxis": {
            "gridcolor": "white",
            "linecolor": "white",
            "ticks": ""
           },
           "bgcolor": "#E5ECF6",
           "radialaxis": {
            "gridcolor": "white",
            "linecolor": "white",
            "ticks": ""
           }
          },
          "scene": {
           "xaxis": {
            "backgroundcolor": "#E5ECF6",
            "gridcolor": "white",
            "gridwidth": 2,
            "linecolor": "white",
            "showbackground": true,
            "ticks": "",
            "zerolinecolor": "white"
           },
           "yaxis": {
            "backgroundcolor": "#E5ECF6",
            "gridcolor": "white",
            "gridwidth": 2,
            "linecolor": "white",
            "showbackground": true,
            "ticks": "",
            "zerolinecolor": "white"
           },
           "zaxis": {
            "backgroundcolor": "#E5ECF6",
            "gridcolor": "white",
            "gridwidth": 2,
            "linecolor": "white",
            "showbackground": true,
            "ticks": "",
            "zerolinecolor": "white"
           }
          },
          "shapedefaults": {
           "line": {
            "color": "#2a3f5f"
           }
          },
          "ternary": {
           "aaxis": {
            "gridcolor": "white",
            "linecolor": "white",
            "ticks": ""
           },
           "baxis": {
            "gridcolor": "white",
            "linecolor": "white",
            "ticks": ""
           },
           "bgcolor": "#E5ECF6",
           "caxis": {
            "gridcolor": "white",
            "linecolor": "white",
            "ticks": ""
           }
          },
          "title": {
           "x": 0.05
          },
          "xaxis": {
           "automargin": true,
           "gridcolor": "white",
           "linecolor": "white",
           "ticks": "",
           "title": {
            "standoff": 15
           },
           "zerolinecolor": "white",
           "zerolinewidth": 2
          },
          "yaxis": {
           "automargin": true,
           "gridcolor": "white",
           "linecolor": "white",
           "ticks": "",
           "title": {
            "standoff": 15
           },
           "zerolinecolor": "white",
           "zerolinewidth": 2
          }
         }
        },
        "title": {
         "text": "Evolução dos Preços - Modelo: RX 7600 XT"
        },
        "xaxis": {
         "title": {
          "text": "Data"
         }
        },
        "yaxis": {
         "tickformat": ".2f",
         "tickprefix": "R$ ",
         "title": {
          "text": "Preço"
         }
        }
       }
      }
     },
     "metadata": {},
     "output_type": "display_data"
    }
   ],
   "source": [
    "import plotly.graph_objs as go\n",
    "\n",
    "figs = []  # Lista para armazenar os gráficos individuais\n",
    "\n",
    "# Iterar sobre os modelos únicos\n",
    "for model in df2['model'].unique():\n",
    "    fig = go.Figure()\n",
    "    model_data = df2[df2['model'] == model].copy()\n",
    "    model_data['date'] = model_data['date'].dt.floor('min')  # Truncar para minutos\n",
    "\n",
    "    for product in model_data['full_name'].unique():\n",
    "        product_data = model_data[model_data['full_name'] == product]\n",
    "        fig.add_trace(go.Scatter(x=product_data['date'], y=product_data['price'], mode='lines+markers', name=product))\n",
    "\n",
    "    fig.update_layout(title=f'Evolução dos Preços - Modelo: {model}',\n",
    "                      xaxis_title='Data',\n",
    "                      yaxis_title='Preço',\n",
    "                      yaxis_tickprefix='R$ ',\n",
    "                      yaxis_tickformat='.2f',\n",
    "                      margin=dict(l=50, r=50, t=80, b=150),\n",
    "                      legend=dict(x=10, y=0, orientation='v', font=dict(size=10), itemwidth=30))\n",
    "\n",
    "    figs.append(fig)\n",
    "\n",
    "# Exibir os gráficos\n",
    "for i, fig in enumerate(figs, 1):\n",
    "    fig.show()\n"
   ]
  },
  {
   "cell_type": "code",
   "execution_count": 13,
   "metadata": {},
   "outputs": [
    {
     "data": {
      "text/html": [
       "<div>\n",
       "<style scoped>\n",
       "    .dataframe tbody tr th:only-of-type {\n",
       "        vertical-align: middle;\n",
       "    }\n",
       "\n",
       "    .dataframe tbody tr th {\n",
       "        vertical-align: top;\n",
       "    }\n",
       "\n",
       "    .dataframe thead th {\n",
       "        text-align: right;\n",
       "    }\n",
       "</style>\n",
       "<table border=\"1\" class=\"dataframe\">\n",
       "  <thead>\n",
       "    <tr style=\"text-align: right;\">\n",
       "      <th></th>\n",
       "      <th>full_name</th>\n",
       "      <th>link</th>\n",
       "      <th>sku</th>\n",
       "      <th>brand_name</th>\n",
       "      <th>weight</th>\n",
       "      <th>price</th>\n",
       "      <th>primePrice</th>\n",
       "      <th>primePriceWithDiscount</th>\n",
       "      <th>oldPrice</th>\n",
       "      <th>oldPrimePrice</th>\n",
       "      <th>priceWithDiscount</th>\n",
       "      <th>discountPercentage</th>\n",
       "      <th>rating</th>\n",
       "      <th>ratingCount</th>\n",
       "      <th>available</th>\n",
       "      <th>warranty</th>\n",
       "      <th>date</th>\n",
       "    </tr>\n",
       "  </thead>\n",
       "  <tbody>\n",
       "    <tr>\n",
       "      <th>0</th>\n",
       "      <td>Placa de Vídeo RTX 4070 Ti Ventus MSI NVIDIA G...</td>\n",
       "      <td>/produto/403373/placa-de-video-rtx-4070-ti-ven...</td>\n",
       "      <td>403373</td>\n",
       "      <td>MSI</td>\n",
       "      <td>1732</td>\n",
       "      <td>6117.64</td>\n",
       "      <td>5934.11</td>\n",
       "      <td>5043.99</td>\n",
       "      <td>6117.64</td>\n",
       "      <td>6117.64</td>\n",
       "      <td>5199.99</td>\n",
       "      <td>15</td>\n",
       "      <td>4</td>\n",
       "      <td>8</td>\n",
       "      <td>1</td>\n",
       "      <td>36</td>\n",
       "      <td>2024-04-21 07:08:40.396853</td>\n",
       "    </tr>\n",
       "  </tbody>\n",
       "</table>\n",
       "</div>"
      ],
      "text/plain": [
       "                                           full_name  \\\n",
       "0  Placa de Vídeo RTX 4070 Ti Ventus MSI NVIDIA G...   \n",
       "\n",
       "                                                link     sku brand_name  \\\n",
       "0  /produto/403373/placa-de-video-rtx-4070-ti-ven...  403373        MSI   \n",
       "\n",
       "   weight    price  primePrice  primePriceWithDiscount  oldPrice  \\\n",
       "0    1732  6117.64     5934.11                 5043.99   6117.64   \n",
       "\n",
       "   oldPrimePrice  priceWithDiscount  discountPercentage  rating  ratingCount  \\\n",
       "0        6117.64            5199.99                  15       4            8   \n",
       "\n",
       "   available  warranty                       date  \n",
       "0          1        36 2024-04-21 07:08:40.396853  "
      ]
     },
     "execution_count": 13,
     "metadata": {},
     "output_type": "execute_result"
    }
   ],
   "source": [
    "df2.head(1)"
   ]
  },
  {
   "cell_type": "code",
   "execution_count": 14,
   "metadata": {},
   "outputs": [],
   "source": [
    "data_inicial = df['date'].min()\n",
    "df2['hour'] = (df['date'] - data_inicial).dt.total_seconds() / 3600"
   ]
  },
  {
   "cell_type": "code",
   "execution_count": 15,
   "metadata": {},
   "outputs": [
    {
     "data": {
      "text/html": [
       "<div>\n",
       "<style scoped>\n",
       "    .dataframe tbody tr th:only-of-type {\n",
       "        vertical-align: middle;\n",
       "    }\n",
       "\n",
       "    .dataframe tbody tr th {\n",
       "        vertical-align: top;\n",
       "    }\n",
       "\n",
       "    .dataframe thead th {\n",
       "        text-align: right;\n",
       "    }\n",
       "</style>\n",
       "<table border=\"1\" class=\"dataframe\">\n",
       "  <thead>\n",
       "    <tr style=\"text-align: right;\">\n",
       "      <th></th>\n",
       "      <th>full_name</th>\n",
       "      <th>link</th>\n",
       "      <th>sku</th>\n",
       "      <th>brand_name</th>\n",
       "      <th>weight</th>\n",
       "      <th>price</th>\n",
       "      <th>primePrice</th>\n",
       "      <th>primePriceWithDiscount</th>\n",
       "      <th>oldPrice</th>\n",
       "      <th>oldPrimePrice</th>\n",
       "      <th>priceWithDiscount</th>\n",
       "      <th>discountPercentage</th>\n",
       "      <th>rating</th>\n",
       "      <th>ratingCount</th>\n",
       "      <th>available</th>\n",
       "      <th>warranty</th>\n",
       "      <th>date</th>\n",
       "      <th>hour</th>\n",
       "    </tr>\n",
       "  </thead>\n",
       "  <tbody>\n",
       "    <tr>\n",
       "      <th>0</th>\n",
       "      <td>Placa de Vídeo RTX 4070 Ti Ventus MSI NVIDIA G...</td>\n",
       "      <td>/produto/403373/placa-de-video-rtx-4070-ti-ven...</td>\n",
       "      <td>403373</td>\n",
       "      <td>MSI</td>\n",
       "      <td>1732</td>\n",
       "      <td>6117.64</td>\n",
       "      <td>5934.11</td>\n",
       "      <td>5043.99</td>\n",
       "      <td>6117.64</td>\n",
       "      <td>6117.64</td>\n",
       "      <td>5199.99</td>\n",
       "      <td>15</td>\n",
       "      <td>4</td>\n",
       "      <td>8</td>\n",
       "      <td>1</td>\n",
       "      <td>36</td>\n",
       "      <td>2024-04-21 07:08:40.396853</td>\n",
       "      <td>0.0</td>\n",
       "    </tr>\n",
       "  </tbody>\n",
       "</table>\n",
       "</div>"
      ],
      "text/plain": [
       "                                           full_name  \\\n",
       "0  Placa de Vídeo RTX 4070 Ti Ventus MSI NVIDIA G...   \n",
       "\n",
       "                                                link     sku brand_name  \\\n",
       "0  /produto/403373/placa-de-video-rtx-4070-ti-ven...  403373        MSI   \n",
       "\n",
       "   weight    price  primePrice  primePriceWithDiscount  oldPrice  \\\n",
       "0    1732  6117.64     5934.11                 5043.99   6117.64   \n",
       "\n",
       "   oldPrimePrice  priceWithDiscount  discountPercentage  rating  ratingCount  \\\n",
       "0        6117.64            5199.99                  15       4            8   \n",
       "\n",
       "   available  warranty                       date  hour  \n",
       "0          1        36 2024-04-21 07:08:40.396853   0.0  "
      ]
     },
     "execution_count": 15,
     "metadata": {},
     "output_type": "execute_result"
    }
   ],
   "source": [
    "df2.head(1)"
   ]
  },
  {
   "cell_type": "code",
   "execution_count": 16,
   "metadata": {},
   "outputs": [
    {
     "ename": "NameError",
     "evalue": "name 'df_produtos' is not defined",
     "output_type": "error",
     "traceback": [
      "\u001b[1;31m---------------------------------------------------------------------------\u001b[0m",
      "\u001b[1;31mNameError\u001b[0m                                 Traceback (most recent call last)",
      "Cell \u001b[1;32mIn[16], line 1\u001b[0m\n\u001b[1;32m----> 1\u001b[0m \u001b[43mdf_produtos\u001b[49m\u001b[38;5;241m.\u001b[39mreplace(\u001b[38;5;28;01mFalse\u001b[39;00m, \u001b[38;5;241m0\u001b[39m, inplace\u001b[38;5;241m=\u001b[39m\u001b[38;5;28;01mTrue\u001b[39;00m)\n\u001b[0;32m      2\u001b[0m df_produtos\u001b[38;5;241m.\u001b[39mreplace(\u001b[38;5;28;01mTrue\u001b[39;00m, \u001b[38;5;241m1\u001b[39m, inplace\u001b[38;5;241m=\u001b[39m\u001b[38;5;28;01mTrue\u001b[39;00m)\n\u001b[0;32m      3\u001b[0m df_produtos\n",
      "\u001b[1;31mNameError\u001b[0m: name 'df_produtos' is not defined"
     ]
    }
   ],
   "source": [
    "# df_produtos.replace(False, 0, inplace=True)\n",
    "# df_produtos.replace(True, 1, inplace=True)\n",
    "# df_produtos"
   ]
  },
  {
   "cell_type": "code",
   "execution_count": 17,
   "metadata": {},
   "outputs": [],
   "source": [
    "import datetime\n",
    "from sklearn.linear_model import LinearRegression\n",
    "from sklearn.preprocessing import PolynomialFeatures\n",
    "from sklearn.tree import DecisionTreeRegressor\n",
    "from sklearn.model_selection import train_test_split\n",
    "from sklearn.metrics import r2_score\n",
    "from sklearn.preprocessing import Normalizer\n",
    "\n",
    "df_produtos = df2\n",
    "\n",
    "df_produtos = df_produtos.drop(['full_name', 'link', 'sku', 'date'], axis=1)\n",
    "\n",
    "\n",
    "df_produtos = pd.get_dummies(df_produtos, columns=['brand_name'])\n",
    "\n",
    "X = df_produtos.drop(['price'], axis=1)\n",
    "y = df_produtos['price']\n",
    "\n",
    "X_train, X_test, y_train, y_test = train_test_split(X, y, test_size=0.35, random_state=42)"
   ]
  },
  {
   "cell_type": "code",
   "execution_count": 18,
   "metadata": {},
   "outputs": [
    {
     "name": "stdout",
     "output_type": "stream",
     "text": [
      "R² médio: 0.9994364564937918\n",
      "Desvio padrão dos R²: 0.00026726011460703796\n"
     ]
    }
   ],
   "source": [
    "from sklearn.model_selection import cross_val_score, KFold\n",
    "\n",
    "modelo = LinearRegression()\n",
    "\n",
    "num_folds = 5\n",
    "\n",
    "# Criar um objeto KFold para dividir os dados em folds\n",
    "kf = KFold(n_splits=num_folds, shuffle=True, random_state=42)\n",
    "\n",
    "scores = cross_val_score(modelo, X, y, cv=kf, scoring='r2')\n",
    "\n",
    "print(\"R² médio:\", scores.mean())\n",
    "print(\"Desvio padrão dos R²:\", scores.std())"
   ]
  },
  {
   "cell_type": "code",
   "execution_count": 19,
   "metadata": {},
   "outputs": [
    {
     "name": "stdout",
     "output_type": "stream",
     "text": [
      "Coeficiente de Determinação (R²) - Regressão Linear: 0.9995924688282178\n",
      "Coeficiente de Determinação (R²) - Árvore de Decisão: 0.9946943085888301\n"
     ]
    }
   ],
   "source": [
    "modelo_linear = LinearRegression()\n",
    "modelo_linear.fit(X_train, y_train)\n",
    "y_pred = modelo_linear.predict(X_test)\n",
    "r2_linear = r2_score(y_test, y_pred)\n",
    "\n",
    "modelo_decision_tree = DecisionTreeRegressor()\n",
    "modelo_decision_tree.fit(X_train, y_train)\n",
    "y_pred_decision_tree = modelo_decision_tree.predict(X_test)\n",
    "r2_decision_tree = r2_score(y_test, y_pred_decision_tree)\n",
    "\n",
    "print(f\"Coeficiente de Determinação (R²) - Regressão Linear: {r2_linear}\")\n",
    "print(f\"Coeficiente de Determinação (R²) - Árvore de Decisão: {r2_decision_tree}\")"
   ]
  },
  {
   "cell_type": "code",
   "execution_count": 20,
   "metadata": {},
   "outputs": [],
   "source": [
    "from sklearn.linear_model import LinearRegression\n",
    "from sklearn.datasets import make_regression\n",
    "from sklearn.model_selection import GridSearchCV\n",
    "from sklearn.metrics import mean_squared_error"
   ]
  },
  {
   "cell_type": "code",
   "execution_count": 21,
   "metadata": {},
   "outputs": [
    {
     "name": "stdout",
     "output_type": "stream",
     "text": [
      "Best parameters: {'n_jobs': 1}\n",
      "Best score: 1.00\n",
      "Mean squared error: 627.02\n"
     ]
    }
   ],
   "source": [
    "# Generate a random regression dataset\n",
    "X, y = make_regression(n_samples=100, n_features=10, noise=0.1)\n",
    "\n",
    "# Define the parameter grid for the grid search\n",
    "param_grid = {\n",
    "    'n_jobs': [1, 2, 3, 4, 5, 6, 7]\n",
    "}\n",
    "\n",
    "# Create a linear regression model\n",
    "model = LinearRegression()\n",
    "\n",
    "# Create a grid search object\n",
    "grid_search = GridSearchCV(\n",
    "    estimator=model,\n",
    "    param_grid=param_grid,\n",
    "    cv=3\n",
    ")\n",
    "\n",
    "# Fit the grid search object to the dataset\n",
    "grid_search.fit(X_train, y_train)\n",
    "\n",
    "# Print the best parameters and the best score\n",
    "print(f'Best parameters: {grid_search.best_params_}')\n",
    "print(f'Best score: {grid_search.best_score_:.2f}')\n",
    "\n",
    "# Predict the numerical values using the best model\n",
    "y_pred = grid_search.best_estimator_.predict(X_test)\n",
    "\n",
    "# Evaluate the performance using mean squared error\n",
    "mse = mean_squared_error(y_test, y_pred)\n",
    "print(f'Mean squared error: {mse:.2f}')"
   ]
  },
  {
   "cell_type": "code",
   "execution_count": 22,
   "metadata": {},
   "outputs": [
    {
     "name": "stdout",
     "output_type": "stream",
     "text": [
      "Mean squared error: 627.02\n",
      "Erro de treinamento: 804.62\n",
      "Erro de teste: 627.02\n",
      "\n"
     ]
    }
   ],
   "source": [
    "# Create a linear regression model\n",
    "model = LinearRegression()\n",
    "\n",
    "# Fit the grid search object to the dataset\n",
    "model.fit(X_train, y_train)\n",
    "\n",
    "# Predict the numerical values using the best model\n",
    "y_pred = model.predict(X_test)\n",
    "\n",
    "# Evaluate the performance using mean squared error\n",
    "mse = mean_squared_error(y_test, y_pred)\n",
    "print(f'Mean squared error: {mse:.2f}')\n",
    "\n",
    "train_error = mean_squared_error(y_train, model.predict(X_train))\n",
    "test_error = mean_squared_error(y_test, model.predict(X_test))\n",
    "\n",
    "print(f\"Erro de treinamento: {train_error:.2f}\")\n",
    "print(f\"Erro de teste: {test_error:.2f}\\n\")"
   ]
  },
  {
   "cell_type": "code",
   "execution_count": 23,
   "metadata": {},
   "outputs": [
    {
     "data": {
      "application/vnd.plotly.v1+json": {
       "config": {
        "plotlyServerURL": "https://plot.ly"
       },
       "data": [
        {
         "marker": {
          "color": "blue"
         },
         "mode": "markers",
         "name": "Predicted vs. Actual",
         "type": "scatter",
         "x": [
          6117.64,
          5599,
          7294.11,
          5599,
          6352.93,
          6352.93,
          5599,
          5255.44,
          4978.84,
          6117.64,
          12288.99,
          6235.28,
          6117.64,
          5255.44,
          6117.64,
          6941.16,
          6211,
          6211,
          6117.64,
          7999.99,
          6124.89,
          7294.11,
          6352.93,
          8697.39,
          6117.64,
          8697.39,
          6352.93,
          8855.57,
          4978.84,
          6352.93,
          6941.16,
          6211,
          8697.39,
          6941.16,
          6352.93,
          6941.16,
          7294.11,
          8273.28,
          8697.39,
          6117.64,
          6235.28,
          6117.64,
          6941.16,
          2778.84,
          6117.64,
          5255.44,
          5599,
          6124.89,
          6211,
          8855.57,
          5255.44,
          7294.11,
          5599,
          6823.52,
          6941.16,
          7999.99,
          5599,
          4978.84,
          5599,
          6124.89,
          6941.16,
          7999.99,
          5255.44,
          5599,
          6124.89,
          5599,
          7294.11,
          4978.84,
          6941.16,
          6941.16,
          6823.52,
          5599,
          6352.93,
          6124.89,
          7176.46,
          6941.16,
          7176.46,
          5255.44,
          5599,
          5599,
          6124.89,
          6124.89,
          5599,
          8697.39,
          4978.84,
          7411.75,
          5599,
          7176.46,
          8697.39,
          6941.16,
          8697.39,
          6941.16,
          4978.84,
          4978.84,
          6352.93,
          7176.46,
          8855.57,
          6211,
          6823.52,
          6823.52,
          7999.99,
          6124.89,
          5599,
          8697.39,
          7857,
          6941.16,
          7176.46,
          6941.16,
          6235.28,
          7411.75,
          7294.11,
          6823.52,
          7411.75,
          6352.93,
          4978.84,
          6823.52,
          6941.16,
          5255.44,
          6823.52,
          6124.89,
          6117.64,
          8697.39,
          6823.52,
          6117.64,
          6117.64,
          6117.64,
          7999.99,
          5599,
          7411.75,
          5599,
          6823.52,
          6117.64,
          6124.89,
          7176.46,
          6124.89,
          6235.28,
          6117.64,
          6117.64,
          6211,
          7294.11,
          6235.28,
          6941.16,
          7411.75,
          5255.44,
          6941.16,
          4978.84,
          6941.16,
          7294.11,
          5599,
          7411.75,
          6941.16,
          6117.64,
          6117.64,
          7176.46,
          6235.28,
          8855.57,
          6352.93,
          5599,
          6117.64,
          5599,
          7999.99,
          5599,
          5599,
          6941.16,
          6124.89,
          6352.93,
          7176.46,
          6235.28,
          6117.64,
          4978.84,
          4978.84,
          6117.64,
          6823.52,
          7176.46,
          6235.28,
          8697.39,
          6235.28,
          6235.28,
          6124.89,
          6117.64,
          6823.52,
          6352.93,
          6235.28,
          6941.16,
          8855.57,
          7411.75,
          8697.39,
          5599,
          5599,
          8855.57,
          6211,
          5599,
          7411.75,
          4978.84,
          6117.64,
          6941.16,
          6352.93,
          7411.75,
          6941.16,
          6941.16,
          5599,
          6941.16,
          6124.89,
          6117.64,
          5255.44,
          6211,
          5599,
          6117.64,
          6941.16,
          14645.9,
          5599,
          7294.11,
          6211,
          6941.16,
          8697.39,
          6941.16,
          6117.64,
          6823.52,
          6941.16,
          6941.16,
          6211,
          7294.11,
          5599,
          7411.75,
          6235.28,
          7294.11,
          7411.75,
          8697.39,
          6211,
          7176.46,
          6235.28,
          7294.11,
          6117.64,
          6941.16,
          6941.16,
          6941.16,
          7294.11,
          6941.16,
          6941.16,
          7999.99,
          7999.99,
          5255.44,
          6941.16,
          7294.11,
          4978.84,
          4978.84,
          6941.16,
          5599,
          7411.75,
          7176.46,
          7999.99,
          6941.16,
          6823.52,
          6117.64,
          6823.52,
          5255.44,
          7294.11,
          5599,
          6941.16,
          5599,
          17035.34,
          6117.64,
          8855.57,
          6941.16,
          7294.11,
          8855.57,
          6117.64,
          6235.28,
          6211,
          6117.64,
          6941.16,
          7176.46,
          6941.16,
          6211,
          6124.89,
          7176.46,
          6117.64,
          6211,
          6352.93,
          7999.99,
          6941.16,
          6941.16,
          7176.46,
          6941.16,
          6117.64,
          6941.16,
          8697.39,
          3058.81,
          6941.16,
          6823.52,
          5255.44,
          7999.99,
          6211,
          6941.16,
          6352.93,
          6117.64,
          5599,
          6211,
          6124.89,
          6941.16,
          7411.75,
          8697.39,
          6117.64,
          7294.11,
          6235.28,
          6941.16,
          6941.16,
          5255.44,
          10745.9,
          5255.44,
          6823.52,
          6941.16,
          6117.64,
          6352.93,
          5599,
          5599,
          7411.75,
          6211,
          7294.11,
          15469.57,
          6117.64,
          8697.39,
          4978.84,
          4978.84,
          6124.89,
          7176.46,
          6352.93,
          8697.39,
          6117.64,
          7411.75,
          6941.16,
          7294.11,
          6941.16,
          6117.64,
          6823.52,
          7294.11,
          7999.99,
          6941.16,
          5599,
          8697.39,
          6117.64,
          6941.16,
          6941.16,
          6117.64,
          6117.64,
          5599,
          5599,
          6941.16,
          6117.64,
          4978.84,
          6117.64,
          8855.57,
          8697.39,
          5255.44,
          7294.11,
          6117.64,
          6124.89,
          8697.39,
          6117.64,
          8697.39,
          7999.99,
          6235.28,
          6941.16,
          6941.16,
          7999.99,
          6235.28,
          6823.52,
          6235.28,
          6823.52,
          7411.75,
          8855.57,
          6941.16,
          8697.39,
          7294.11,
          8855.57,
          6124.89,
          7176.46,
          4978.84,
          5599,
          6117.64,
          7294.11,
          6211,
          7294.11,
          6941.16,
          6117.64,
          6941.16,
          7411.75,
          6941.16,
          7294.11,
          6941.16,
          8697.39,
          4978.84,
          6211,
          7176.46,
          6941.16,
          6124.89,
          6235.28,
          7999.99,
          4978.84,
          8697.39,
          7411.75,
          5599,
          7176.46,
          6235.28,
          4978.84,
          6124.89,
          7999.99,
          8855.57,
          7411.75,
          5299.99,
          4978.84,
          7411.75,
          6235.28,
          5255.44,
          6117.64,
          5599,
          6352.93,
          6352.93,
          7294.11,
          6117.64,
          7294.11,
          5599,
          6211,
          6124.89,
          8855.57,
          5255.44,
          6117.64,
          6352.93,
          6117.64,
          5255.44,
          5599,
          6235.28,
          5599,
          6124.89,
          6124.89,
          5599,
          6211,
          7411.75,
          6823.52,
          7176.46,
          8855.57,
          6941.16,
          6352.93,
          6823.52,
          6124.89,
          6117.64,
          6117.64,
          6941.16,
          8697.39,
          7411.75,
          6124.89,
          6823.52,
          7294.11,
          6941.16,
          7999.99,
          3010.42,
          7999.99,
          5599,
          6211,
          6941.16,
          5599,
          7176.46,
          2831.47,
          5599,
          7176.46,
          6235.28,
          4978.84,
          6823.52,
          6117.64,
          5255.44,
          6352.93,
          5599,
          6117.64,
          7999.99,
          6352.93,
          6124.89,
          6124.89,
          7294.11,
          7999.99,
          7999.99,
          5255.44,
          5599,
          6823.52,
          7176.46,
          6124.89,
          5599,
          6823.52,
          6941.16,
          6823.52,
          6117.64,
          6352.93,
          5255.44,
          4978.84,
          6117.64,
          5599,
          4978.84,
          6941.16,
          8697.39,
          6235.28,
          8697.39,
          5255.44,
          7176.46,
          6117.64,
          4978.84,
          8697.39,
          6352.93,
          6941.16,
          6352.93,
          4978.84,
          5255.44,
          6352.93,
          7176.46,
          5255.44,
          6941.16,
          7294.11,
          5058.81,
          6211,
          4978.84,
          6823.52,
          6823.52,
          5599,
          5255.44,
          6117.64,
          4978.84,
          6941.16,
          6117.64,
          6235.28,
          6124.89,
          4978.84,
          7176.46,
          7176.46,
          5599,
          6941.16,
          5255.44,
          5599,
          6117.64,
          7176.46,
          6352.93,
          6211,
          6211,
          7294.11,
          5599,
          6941.16,
          6941.16,
          6211,
          6235.28,
          8697.39,
          6352.93,
          7411.75,
          6352.93,
          6117.64,
          7411.75,
          5255.44,
          6941.16,
          6124.89,
          6941.16,
          5255.44,
          6117.64,
          6117.64,
          8697.39,
          6941.16,
          6823.52,
          3294.11,
          7176.46,
          6352.93,
          6941.16,
          7294.11,
          8855.57,
          6352.93,
          7999.99,
          5255.44,
          7411.75,
          6941.16,
          7411.75,
          8855.57,
          9580.41,
          6823.52,
          6941.16,
          4978.84,
          8697.39,
          6124.89,
          4978.84,
          7176.46,
          7176.46,
          6941.16,
          6235.28,
          6941.16,
          7176.46,
          6352.93,
          6941.16,
          7411.75,
          7176.46,
          7999.99,
          9897.88,
          8855.57,
          5255.44,
          6124.89,
          5599,
          8855.57,
          5255.44,
          6941.16,
          6823.52,
          6941.16,
          7411.75,
          7999.99,
          6211,
          6235.28,
          6211,
          8697.39,
          7999.99,
          6941.16,
          4978.84,
          6211,
          5599,
          8855.57,
          6235.28,
          8855.57,
          5599,
          5599,
          6823.52,
          6117.64,
          7294.11,
          6124.89,
          7411.75,
          6823.52,
          6235.28,
          6211,
          6823.52,
          8855.57,
          6823.52,
          7294.11,
          6211,
          5599,
          6941.16,
          5599,
          5599,
          5255.44,
          5255.44,
          6941.16,
          7176.46,
          6352.93,
          7411.75,
          6211,
          8697.39,
          6117.64,
          8855.57,
          6352.93,
          6211,
          5599,
          5599,
          5599,
          6117.64,
          5255.44,
          7999.99,
          8697.39,
          6941.16,
          6211,
          5599,
          5599,
          8697.39,
          6823.52,
          6941.16,
          5255.44,
          6124.89,
          6941.16,
          4978.84,
          8855.57,
          5599,
          6941.16,
          8697.39,
          6211,
          4978.84,
          5599,
          6117.64,
          8697.39,
          6352.93,
          6941.16,
          8855.57,
          6117.64,
          6941.16,
          6211,
          6823.52,
          8697.39,
          8697.39,
          6941.16,
          7411.75,
          8855.57,
          4978.84,
          8855.57,
          6941.16,
          5599,
          4978.84,
          6941.16,
          6941.16,
          4978.84,
          9295.91,
          5599,
          6352.93,
          6352.93,
          6124.89,
          5599,
          5255.44,
          6352.93,
          6941.16,
          6941.16,
          7294.11,
          6941.16,
          6117.64,
          7176.46,
          7411.75,
          6124.89,
          6117.64,
          8855.57
         ],
         "y": [
          6149.223725951106,
          5597.020021142702,
          7304.719751750979,
          5594.704389482157,
          6340.46242831521,
          6339.627703293473,
          5590.255563256667,
          5281.3195893630755,
          4945.624010484275,
          6143.941601395003,
          12235.965406310128,
          6224.938351679802,
          6129.608706418301,
          5286.785733727303,
          6131.091623377083,
          6916.913955656939,
          6208.159201739682,
          6200.350220100844,
          6121.113425044668,
          7996.897714261688,
          6127.644495217775,
          7303.8858407778625,
          6340.6483679062985,
          8702.060614455535,
          6129.979682518113,
          8701.59793033634,
          6334.137783988827,
          8867.776332683252,
          4945.902289160621,
          6341.204161080793,
          6950.386333793969,
          6200.467699968673,
          8695.386862931524,
          6955.760533839704,
          6346.301248956774,
          6944.190598841864,
          7298.786860004584,
          8114.073608145003,
          8699.651551138462,
          6133.129936561912,
          6221.4767539082695,
          6142.55082214079,
          6956.0383859678095,
          2625.397785023304,
          6142.921790541227,
          5283.172302754544,
          5605.4224009860045,
          6125.974684576641,
          6200.337001449578,
          8862.40232491129,
          5282.52346987057,
          7300.085864150356,
          5610.795824397752,
          6808.3350709528195,
          6936.127235879059,
          7977.0130675272685,
          5597.224504971434,
          4933.111024521187,
          5590.62707155541,
          6126.16062416773,
          6926.732721064518,
          7994.952743776366,
          5280.8551728459115,
          5604.772716112915,
          6130.5165493394825,
          5590.533921900377,
          7305.460611528596,
          4949.886274341007,
          6920.251860867728,
          6917.748680678676,
          6807.129522856618,
          5596.557145579511,
          6346.116138908475,
          6130.238608939506,
          7171.030039702187,
          6954.556507267545,
          7170.103909547595,
          5278.72227224873,
          5606.81194828857,
          5604.679802757738,
          6130.609390323772,
          6126.809052482403,
          5590.441212299461,
          8698.724819940757,
          4947.570305924553,
          7391.5950731152,
          5595.908669278617,
          7168.899155876995,
          8700.949175643365,
          6937.611965523539,
          8696.314469896235,
          6944.005245991141,
          4943.214386431723,
          4936.407502318135,
          6344.54104928797,
          7171.678516003081,
          8864.533341522161,
          6209.363016036805,
          6812.782628878566,
          6811.671190066396,
          7989.205122406947,
          6132.925061747691,
          5590.904257484899,
          8700.300725815492,
          8110.659698797521,
          6918.675875972515,
          7158.84840821036,
          6936.31290462369,
          6235.287339610504,
          7391.131835921014,
          7302.310357484797,
          6813.801469209297,
          7379.174956775847,
          6341.112432937953,
          4949.237610110857,
          6809.354185123968,
          6949.180134316548,
          5284.840486552678,
          6810.003058283721,
          6129.404538694228,
          6142.458094908143,
          8697.613056379478,
          6806.758238492427,
          6143.848985835067,
          6148.019828456948,
          6132.01849774974,
          7992.265063703851,
          5589.049803832913,
          7389.185609085467,
          5603.289023503524,
          6811.856498723974,
          6132.481829918332,
          6132.27661998652,
          7167.508809558577,
          6129.868301406049,
          6232.785859363863,
          6128.218159908372,
          6144.591601182361,
          6210.29012531075,
          7304.534481374004,
          6230.9304728109055,
          6923.309909265391,
          7392.5221822394315,
          5282.894405021567,
          6950.479195216396,
          4947.106913613527,
          6952.9811469782635,
          7300.9201488426315,
          5607.646247823218,
          7394.560632098587,
          6954.74180612917,
          6129.146201084654,
          6143.107730132316,
          7164.8201995098025,
          6238.066215061131,
          8860.732143900323,
          6339.8133721888635,
          5603.196296270877,
          6144.313435846656,
          5604.309996526704,
          7989.112552983432,
          5596.464460129195,
          5609.591335150012,
          6922.568695083384,
          6131.1654500727445,
          6341.85407362064,
          7165.283895142887,
          6225.075325337073,
          6149.686775431257,
          4941.822812862435,
          4948.959506439993,
          6126.363615614384,
          6807.31517189941,
          7169.084669420282,
          6237.973703527775,
          8698.539384311925,
          6232.321442846698,
          6237.325235827076,
          6125.510988943557,
          6130.164813236223,
          6800.903091018595,
          6346.486440709914,
          6234.638572755332,
          6943.819457324183,
          8866.29418505139,
          7389.371468341416,
          8702.616405306115,
          5609.869187278116,
          5595.631138893994,
          8868.054255698427,
          6209.455885810254,
          5589.327799697579,
          7390.669330587367,
          4943.862800104439,
          6143.571795163969,
          6942.338084403371,
          6342.5947626474035,
          7388.72141741519,
          6949.458222193217,
          6943.6220259856855,
          5596.371720093472,
          6937.147900491885,
          6129.0339844866,
          6148.297914043802,
          5281.597447022035,
          6206.953552156786,
          5595.353290215419,
          6132.574557498714,
          6950.756385887494,
          14837.299396046916,
          5593.221824629275,
          7302.588280973789,
          6206.767903113992,
          6939.928534865251,
          8700.856334659076,
          6940.1139172854055,
          6144.498931267345,
          6808.613625045385,
          6944.097793394587,
          6940.299042292588,
          6207.787588785595,
          7303.5152412466905,
          5593.963298996711,
          7388.165068398783,
          6230.466865531205,
          7299.900406560384,
          7391.780735509817,
          8702.89418254917,
          6212.698876971345,
          7170.660018645462,
          6236.0287330424535,
          7305.923662343451,
          6142.1799374346865,
          6918.86140488763,
          6942.9859732955,
          6924.977318619743,
          7305.368177562559,
          6924.791965769021,
          6938.816959285874,
          7996.619897137702,
          7991.152540225434,
          5280.669643930797,
          6936.683715073957,
          7304.627082504811,
          4947.755604786178,
          4943.492993873405,
          6917.841719216027,
          5610.147159670004,
          7394.004959421044,
          7170.196510678402,
          7991.6170665347,
          6917.192289720951,
          6807.593627519582,
          6149.779286964613,
          6806.572788686182,
          5280.576816542719,
          7289.98250223982,
          5604.217135104276,
          6922.846718594396,
          5584.029131418645,
          16962.578500436783,
          6127.105546325484,
          8863.884654620742,
          6940.391815018384,
          7304.2563317321365,
          8866.201506968118,
          6130.720873394402,
          6232.5073051209865,
          6211.865630072744,
          6136.583927414164,
          6955.205314096229,
          7166.118263048648,
          6951.220835899083,
          6213.718149666986,
          6125.789180486509,
          7172.512533083954,
          6132.945020589326,
          6207.973451059884,
          6344.356045144618,
          7995.7864399649225,
          6924.32839333161,
          6924.14330153887,
          7164.542042036346,
          6953.444451327763,
          6130.350365967066,
          6948.71646970725,
          8701.87569848295,
          3227.4952954823134,
          6920.807980588635,
          6812.875304960829,
          5285.673791883009,
          7990.040202387207,
          6213.069485436836,
          6940.097225864179,
          6343.706931302652,
          6143.014829078578,
          5604.865673777297,
          6209.7341644866,
          6133.110517070432,
          6939.557851416298,
          7394.838264751374,
          8703.35775498658,
          6133.963504655545,
          7302.217647158348,
          6236.121334173261,
          6908.0167159492,
          6920.159030723197,
          5273.30696170443,
          10808.795392201773,
          5286.878281130748,
          6809.817505552879,
          6911.615287378005,
          6144.869260837623,
          6345.189744989101,
          5610.703276994306,
          5583.727037786789,
          7388.350530547597,
          6208.252005302759,
          7304.812504885016,
          15465.280443840742,
          6127.012823602174,
          8686.58250516676,
          4950.071627191729,
          4945.067903666353,
          6125.882157592189,
          7164.171174256483,
          6368.199710711652,
          8697.98428053737,
          6127.383792002611,
          7393.819537040838,
          6930.828567600125,
          7299.714466969295,
          6940.577221634905,
          6142.829263556775,
          6814.172316813057,
          7305.275695556011,
          7996.712442024593,
          6923.68002407429,
          5594.797230466446,
          8701.690593398811,
          6133.189825811752,
          6919.973595094366,
          6936.220107794256,
          6147.093164349794,
          6142.08706551949,
          5609.128606078639,
          5608.294697651091,
          6952.6102118272665,
          6146.629621915699,
          4948.589133809963,
          6128.960932728729,
          8863.05090677179,
          8697.706115201665,
          5286.229616403,
          7304.071033574506,
          6145.888364505681,
          6128.755705810254,
          8695.943501495798,
          6148.853133936841,
          8697.798807059276,
          7992.543079416178,
          6231.301757175096,
          6949.643686503522,
          6955.482901186918,
          7973.60574727359,
          6231.023214547613,
          6809.724635929143,
          6237.788431290679,
          6809.168818651459,
          7392.985542478083,
          8861.566816198418,
          6924.513665568706,
          8695.201749009831,
          7305.183081143973,
          8861.195929330825,
          6133.203322517708,
          7168.343195052846,
          4947.477694997792,
          5596.00134536088,
          6132.759915505186,
          7306.201634735338,
          6211.587480112157,
          7303.97839133216,
          6917.006827572136,
          6133.222612644174,
          6918.490413444259,
          7395.023438694653,
          6941.874576436312,
          7300.364471592037,
          6956.872475683999,
          8697.241665190075,
          4947.199555855874,
          6210.938788939506,
          7169.455268951453,
          6953.815446512911,
          6130.979969358325,
          6231.950451403328,
          7989.576338413934,
          4943.307536086756,
          8699.188283900728,
          7392.151424492765,
          5602.918138797421,
          7169.362516115646,
          6236.306756553466,
          4948.126449690768,
          6119.539197644114,
          7994.581916051227,
          8861.938259879638,
          7388.814394520871,
          5288.585017975068,
          4945.160690055363,
          7392.800538334731,
          6230.559662360638,
          5283.821069609717,
          6128.868129165652,
          5606.71929181392,
          6346.578945504541,
          6340.184182638084,
          7302.495488202908,
          6149.130985915383,
          7303.237028027066,
          5591.27524892827,
          6212.050988079216,
          6125.04707761193,
          8860.917595266812,
          5285.396159230221,
          6145.42497073028,
          6341.946765478252,
          6131.925656765452,
          5281.04103527051,
          5591.92493380136,
          6233.711898826798,
          5597.205809809661,
          6116.242719847166,
          6132.183879950797,
          5597.298357213107,
          6213.162032342684,
          7388.257865228216,
          6810.837258596662,
          7171.12271578445,
          8860.824713323838,
          6954.371055356495,
          6341.761014948764,
          6810.930101148674,
          6128.848498581135,
          6126.271071116207,
          6130.44309191257,
          6920.900637063285,
          8696.221942911783,
          7394.283045007897,
          6130.702001250533,
          6812.227249815369,
          7300.548834875057,
          6952.5173422035305,
          7992.91375060527,
          2899.495353092315,
          7994.767435118787,
          5604.9585783872035,
          6212.236093163357,
          6922.383386425806,
          5609.036115406536,
          7171.771062908929,
          2665.23568831085,
          5607.5536087333685,
          7171.30790753759,
          6232.41440051108,
          4945.809563215117,
          6810.559045526002,
          6142.736286676487,
          5279.556944546825,
          6347.134781524164,
          5589.884278892477,
          6134.705179785526,
          7993.747990105767,
          6368.145433343213,
          6127.9221547231755,
          6131.813505218205,
          7303.051548211523,
          7995.601343546336,
          7976.999848876001,
          5285.858965826288,
          5609.313702497225,
          6811.115105292026,
          7167.138893527965,
          6131.350808079216,
          5596.279041908647,
          6813.523652085309,
          6920.622494683169,
          6813.245679693422,
          6144.034514900043,
          6342.965608504263,
          5285.025909077063,
          4947.384854013503,
          6145.05412487342,
          5594.519091324528,
          4943.955713459616,
          6954.834475375338,
          8696.871613096551,
          6236.677332812423,
          8702.430987085567,
          5279.464202810118,
          7165.655292323948,
          6120.948305070084,
          4949.0521846248175,
          8701.783084070914,
          6341.575152524164,
          6938.167642774132,
          6339.349707428807,
          4948.774332496713,
          5284.377154384088,
          6346.023656901925,
          7170.011211816778,
          5285.118572139532,
          6930.637316425,
          7301.9393813849865,
          5089.545857080839,
          6207.694675430418,
          4946.921610223421,
          6806.294631212726,
          6806.480093361541,
          5608.387308577852,
          5283.543222914353,
          6133.870959768654,
          4949.422701903597,
          6940.484522107532,
          6127.755189183672,
          6224.884074161948,
          6125.603716176204,
          4942.286598292937,
          7165.098391052755,
          7171.4004123322175,
          5603.753030441312,
          6953.907811566413,
          5282.801748546916,
          5595.81623531258,
          6133.6857274124895,
          7166.768232305928,
          6340.926975151304,
          6205.654688188414,
          6211.680149358325,
          7305.553287610858,
          5583.824661592253,
          6951.684188978732,
          6937.519104101112,
          6211.216729339482,
          6238.53010642066,
          8700.485843704802,
          6343.799509707002,
          7388.9999600426745,
          6339.534821350499,
          6147.370977220797,
          7391.966221415282,
          5284.933214133061,
          6953.537021968126,
          6132.461852342684,
          6918.305823878991,
          5281.874782969151,
          6136.597146214844,
          6128.589473875947,
          8697.520151769571,
          6921.642297508083,
          6807.778217084849,
          3436.752121595053,
          7159.013528184943,
          6345.09713406234,
          6924.8845131724665,
          7305.830984158626,
          8863.97723470424,
          6347.3199247385965,
          7977.204318702394,
          5283.636065466365,
          7391.687942738936,
          6956.68668701704,
          7382.7735282046515,
          8866.85035820427,
          9538.654014942142,
          6810.188440703876,
          6930.526473968269,
          4945.346169439715,
          8696.407508433587,
          6127.273271059884,
          4947.292175930232,
          7169.177511972294,
          7172.327180233231,
          6936.498265267713,
          6232.878529278879,
          6918.954362552012,
          7155.551930413411,
          6345.5604662309315,
          6952.146891398355,
          7393.9122062870065,
          7167.787075331939,
          7993.84056074613,
          9736.235167375024,
          8865.645937117957,
          5280.299591837273,
          6126.346081757702,
          5596.093867965367,
          8862.586688194311,
          5285.211062811635,
          6920.344571194178,
          6808.9839544658,
          6942.893304146847,
          7395.208856915201,
          7989.483673094552,
          6207.509232482403,
          6231.394658228834,
          6208.066509882071,
          8699.929730630343,
          7996.805082580611,
          6936.405569943071,
          4946.829245169919,
          6205.74725761193,
          5607.182552961732,
          8865.182174406136,
          6235.936035311636,
          8866.572334693257,
          5603.567464919509,
          5605.607462050495,
          6806.850980229135,
          6129.238790387689,
          7302.032167773997,
          6127.551825302759,
          7394.9309339000265,
          6806.108877354555,
          6235.102335467152,
          6211.309570323771,
          6809.91029832376,
          8865.367581022658,
          6806.665515918829,
          7299.621939984843,
          6209.178044765694,
          5591.739665445434,
          6950.663558499416,
          5590.162524719316,
          5591.646861882357,
          5281.412259278091,
          5283.45028001143,
          6941.503825663637,
          7159.076730534918,
          6340.276924450471,
          7389.556926128065,
          6207.880546449977,
          8701.412507811956,
          6128.496516211565,
          8867.86883747788,
          6334.192061357267,
          6212.421009135942,
          5592.29485905151,
          5609.96192731384,
          5594.982539124025,
          6121.059147676228,
          5279.835487174309,
          7996.527350231852,
          8695.479744874498,
          6949.829190593654,
          6213.810697070432,
          5594.611711398886,
          5590.069997734864,
          8690.044102938293,
          6806.9439573348145,
          6923.402391271939,
          5284.7477334186415,
          6125.139959554905,
          6938.631771541931,
          4942.65748516053,
          8863.422130929683,
          5603.103600946236,
          6939.650112510673,
          8699.0026213564,
          6213.532361000027,
          4944.327326413703,
          5606.533805908454,
          6132.296407538127,
          8701.31975467792,
          6347.4128054862595,
          6918.120077859737,
          8864.348210804052,
          6148.4830191279425,
          6952.332370782707,
          6206.118473618916,
          6813.986861490315,
          8695.572616789696,
          8699.095491129849,
          6942.80078154236,
          7396.228309288237,
          8865.553094565945,
          4942.564743423823,
          8864.811620198509,
          6950.293737429748,
          5595.445985159422,
          4947.941027166383,
          6950.200587774715,
          6955.853202988357,
          4944.234634556092,
          9281.784583690065,
          5591.089720013156,
          6344.170259689683,
          6344.448684234467,
          6129.58994531075,
          5589.51346844221,
          5281.226785799999,
          6340.555466852562,
          6920.715254643131,
          6952.054105009344,
          7298.6017460828925,
          6955.668011235217,
          6132.667252442716,
          7168.991726517359,
          7389.741289411085,
          6127.0874087855955,
          6146.0737469258365,
          8868.332032941484
         ]
        },
        {
         "line": {
          "color": "black",
          "dash": "dash"
         },
         "mode": "lines",
         "name": "Ideal Line",
         "type": "scatter",
         "x": [
          2778.84,
          17035.34
         ],
         "y": [
          2778.84,
          17035.34
         ]
        }
       ],
       "layout": {
        "legend": {
         "x": 0,
         "y": 1
        },
        "template": {
         "data": {
          "bar": [
           {
            "error_x": {
             "color": "#2a3f5f"
            },
            "error_y": {
             "color": "#2a3f5f"
            },
            "marker": {
             "line": {
              "color": "#E5ECF6",
              "width": 0.5
             },
             "pattern": {
              "fillmode": "overlay",
              "size": 10,
              "solidity": 0.2
             }
            },
            "type": "bar"
           }
          ],
          "barpolar": [
           {
            "marker": {
             "line": {
              "color": "#E5ECF6",
              "width": 0.5
             },
             "pattern": {
              "fillmode": "overlay",
              "size": 10,
              "solidity": 0.2
             }
            },
            "type": "barpolar"
           }
          ],
          "carpet": [
           {
            "aaxis": {
             "endlinecolor": "#2a3f5f",
             "gridcolor": "white",
             "linecolor": "white",
             "minorgridcolor": "white",
             "startlinecolor": "#2a3f5f"
            },
            "baxis": {
             "endlinecolor": "#2a3f5f",
             "gridcolor": "white",
             "linecolor": "white",
             "minorgridcolor": "white",
             "startlinecolor": "#2a3f5f"
            },
            "type": "carpet"
           }
          ],
          "choropleth": [
           {
            "colorbar": {
             "outlinewidth": 0,
             "ticks": ""
            },
            "type": "choropleth"
           }
          ],
          "contour": [
           {
            "colorbar": {
             "outlinewidth": 0,
             "ticks": ""
            },
            "colorscale": [
             [
              0,
              "#0d0887"
             ],
             [
              0.1111111111111111,
              "#46039f"
             ],
             [
              0.2222222222222222,
              "#7201a8"
             ],
             [
              0.3333333333333333,
              "#9c179e"
             ],
             [
              0.4444444444444444,
              "#bd3786"
             ],
             [
              0.5555555555555556,
              "#d8576b"
             ],
             [
              0.6666666666666666,
              "#ed7953"
             ],
             [
              0.7777777777777778,
              "#fb9f3a"
             ],
             [
              0.8888888888888888,
              "#fdca26"
             ],
             [
              1,
              "#f0f921"
             ]
            ],
            "type": "contour"
           }
          ],
          "contourcarpet": [
           {
            "colorbar": {
             "outlinewidth": 0,
             "ticks": ""
            },
            "type": "contourcarpet"
           }
          ],
          "heatmap": [
           {
            "colorbar": {
             "outlinewidth": 0,
             "ticks": ""
            },
            "colorscale": [
             [
              0,
              "#0d0887"
             ],
             [
              0.1111111111111111,
              "#46039f"
             ],
             [
              0.2222222222222222,
              "#7201a8"
             ],
             [
              0.3333333333333333,
              "#9c179e"
             ],
             [
              0.4444444444444444,
              "#bd3786"
             ],
             [
              0.5555555555555556,
              "#d8576b"
             ],
             [
              0.6666666666666666,
              "#ed7953"
             ],
             [
              0.7777777777777778,
              "#fb9f3a"
             ],
             [
              0.8888888888888888,
              "#fdca26"
             ],
             [
              1,
              "#f0f921"
             ]
            ],
            "type": "heatmap"
           }
          ],
          "heatmapgl": [
           {
            "colorbar": {
             "outlinewidth": 0,
             "ticks": ""
            },
            "colorscale": [
             [
              0,
              "#0d0887"
             ],
             [
              0.1111111111111111,
              "#46039f"
             ],
             [
              0.2222222222222222,
              "#7201a8"
             ],
             [
              0.3333333333333333,
              "#9c179e"
             ],
             [
              0.4444444444444444,
              "#bd3786"
             ],
             [
              0.5555555555555556,
              "#d8576b"
             ],
             [
              0.6666666666666666,
              "#ed7953"
             ],
             [
              0.7777777777777778,
              "#fb9f3a"
             ],
             [
              0.8888888888888888,
              "#fdca26"
             ],
             [
              1,
              "#f0f921"
             ]
            ],
            "type": "heatmapgl"
           }
          ],
          "histogram": [
           {
            "marker": {
             "pattern": {
              "fillmode": "overlay",
              "size": 10,
              "solidity": 0.2
             }
            },
            "type": "histogram"
           }
          ],
          "histogram2d": [
           {
            "colorbar": {
             "outlinewidth": 0,
             "ticks": ""
            },
            "colorscale": [
             [
              0,
              "#0d0887"
             ],
             [
              0.1111111111111111,
              "#46039f"
             ],
             [
              0.2222222222222222,
              "#7201a8"
             ],
             [
              0.3333333333333333,
              "#9c179e"
             ],
             [
              0.4444444444444444,
              "#bd3786"
             ],
             [
              0.5555555555555556,
              "#d8576b"
             ],
             [
              0.6666666666666666,
              "#ed7953"
             ],
             [
              0.7777777777777778,
              "#fb9f3a"
             ],
             [
              0.8888888888888888,
              "#fdca26"
             ],
             [
              1,
              "#f0f921"
             ]
            ],
            "type": "histogram2d"
           }
          ],
          "histogram2dcontour": [
           {
            "colorbar": {
             "outlinewidth": 0,
             "ticks": ""
            },
            "colorscale": [
             [
              0,
              "#0d0887"
             ],
             [
              0.1111111111111111,
              "#46039f"
             ],
             [
              0.2222222222222222,
              "#7201a8"
             ],
             [
              0.3333333333333333,
              "#9c179e"
             ],
             [
              0.4444444444444444,
              "#bd3786"
             ],
             [
              0.5555555555555556,
              "#d8576b"
             ],
             [
              0.6666666666666666,
              "#ed7953"
             ],
             [
              0.7777777777777778,
              "#fb9f3a"
             ],
             [
              0.8888888888888888,
              "#fdca26"
             ],
             [
              1,
              "#f0f921"
             ]
            ],
            "type": "histogram2dcontour"
           }
          ],
          "mesh3d": [
           {
            "colorbar": {
             "outlinewidth": 0,
             "ticks": ""
            },
            "type": "mesh3d"
           }
          ],
          "parcoords": [
           {
            "line": {
             "colorbar": {
              "outlinewidth": 0,
              "ticks": ""
             }
            },
            "type": "parcoords"
           }
          ],
          "pie": [
           {
            "automargin": true,
            "type": "pie"
           }
          ],
          "scatter": [
           {
            "fillpattern": {
             "fillmode": "overlay",
             "size": 10,
             "solidity": 0.2
            },
            "type": "scatter"
           }
          ],
          "scatter3d": [
           {
            "line": {
             "colorbar": {
              "outlinewidth": 0,
              "ticks": ""
             }
            },
            "marker": {
             "colorbar": {
              "outlinewidth": 0,
              "ticks": ""
             }
            },
            "type": "scatter3d"
           }
          ],
          "scattercarpet": [
           {
            "marker": {
             "colorbar": {
              "outlinewidth": 0,
              "ticks": ""
             }
            },
            "type": "scattercarpet"
           }
          ],
          "scattergeo": [
           {
            "marker": {
             "colorbar": {
              "outlinewidth": 0,
              "ticks": ""
             }
            },
            "type": "scattergeo"
           }
          ],
          "scattergl": [
           {
            "marker": {
             "colorbar": {
              "outlinewidth": 0,
              "ticks": ""
             }
            },
            "type": "scattergl"
           }
          ],
          "scattermapbox": [
           {
            "marker": {
             "colorbar": {
              "outlinewidth": 0,
              "ticks": ""
             }
            },
            "type": "scattermapbox"
           }
          ],
          "scatterpolar": [
           {
            "marker": {
             "colorbar": {
              "outlinewidth": 0,
              "ticks": ""
             }
            },
            "type": "scatterpolar"
           }
          ],
          "scatterpolargl": [
           {
            "marker": {
             "colorbar": {
              "outlinewidth": 0,
              "ticks": ""
             }
            },
            "type": "scatterpolargl"
           }
          ],
          "scatterternary": [
           {
            "marker": {
             "colorbar": {
              "outlinewidth": 0,
              "ticks": ""
             }
            },
            "type": "scatterternary"
           }
          ],
          "surface": [
           {
            "colorbar": {
             "outlinewidth": 0,
             "ticks": ""
            },
            "colorscale": [
             [
              0,
              "#0d0887"
             ],
             [
              0.1111111111111111,
              "#46039f"
             ],
             [
              0.2222222222222222,
              "#7201a8"
             ],
             [
              0.3333333333333333,
              "#9c179e"
             ],
             [
              0.4444444444444444,
              "#bd3786"
             ],
             [
              0.5555555555555556,
              "#d8576b"
             ],
             [
              0.6666666666666666,
              "#ed7953"
             ],
             [
              0.7777777777777778,
              "#fb9f3a"
             ],
             [
              0.8888888888888888,
              "#fdca26"
             ],
             [
              1,
              "#f0f921"
             ]
            ],
            "type": "surface"
           }
          ],
          "table": [
           {
            "cells": {
             "fill": {
              "color": "#EBF0F8"
             },
             "line": {
              "color": "white"
             }
            },
            "header": {
             "fill": {
              "color": "#C8D4E3"
             },
             "line": {
              "color": "white"
             }
            },
            "type": "table"
           }
          ]
         },
         "layout": {
          "annotationdefaults": {
           "arrowcolor": "#2a3f5f",
           "arrowhead": 0,
           "arrowwidth": 1
          },
          "autotypenumbers": "strict",
          "coloraxis": {
           "colorbar": {
            "outlinewidth": 0,
            "ticks": ""
           }
          },
          "colorscale": {
           "diverging": [
            [
             0,
             "#8e0152"
            ],
            [
             0.1,
             "#c51b7d"
            ],
            [
             0.2,
             "#de77ae"
            ],
            [
             0.3,
             "#f1b6da"
            ],
            [
             0.4,
             "#fde0ef"
            ],
            [
             0.5,
             "#f7f7f7"
            ],
            [
             0.6,
             "#e6f5d0"
            ],
            [
             0.7,
             "#b8e186"
            ],
            [
             0.8,
             "#7fbc41"
            ],
            [
             0.9,
             "#4d9221"
            ],
            [
             1,
             "#276419"
            ]
           ],
           "sequential": [
            [
             0,
             "#0d0887"
            ],
            [
             0.1111111111111111,
             "#46039f"
            ],
            [
             0.2222222222222222,
             "#7201a8"
            ],
            [
             0.3333333333333333,
             "#9c179e"
            ],
            [
             0.4444444444444444,
             "#bd3786"
            ],
            [
             0.5555555555555556,
             "#d8576b"
            ],
            [
             0.6666666666666666,
             "#ed7953"
            ],
            [
             0.7777777777777778,
             "#fb9f3a"
            ],
            [
             0.8888888888888888,
             "#fdca26"
            ],
            [
             1,
             "#f0f921"
            ]
           ],
           "sequentialminus": [
            [
             0,
             "#0d0887"
            ],
            [
             0.1111111111111111,
             "#46039f"
            ],
            [
             0.2222222222222222,
             "#7201a8"
            ],
            [
             0.3333333333333333,
             "#9c179e"
            ],
            [
             0.4444444444444444,
             "#bd3786"
            ],
            [
             0.5555555555555556,
             "#d8576b"
            ],
            [
             0.6666666666666666,
             "#ed7953"
            ],
            [
             0.7777777777777778,
             "#fb9f3a"
            ],
            [
             0.8888888888888888,
             "#fdca26"
            ],
            [
             1,
             "#f0f921"
            ]
           ]
          },
          "colorway": [
           "#636efa",
           "#EF553B",
           "#00cc96",
           "#ab63fa",
           "#FFA15A",
           "#19d3f3",
           "#FF6692",
           "#B6E880",
           "#FF97FF",
           "#FECB52"
          ],
          "font": {
           "color": "#2a3f5f"
          },
          "geo": {
           "bgcolor": "white",
           "lakecolor": "white",
           "landcolor": "#E5ECF6",
           "showlakes": true,
           "showland": true,
           "subunitcolor": "white"
          },
          "hoverlabel": {
           "align": "left"
          },
          "hovermode": "closest",
          "mapbox": {
           "style": "light"
          },
          "paper_bgcolor": "white",
          "plot_bgcolor": "#E5ECF6",
          "polar": {
           "angularaxis": {
            "gridcolor": "white",
            "linecolor": "white",
            "ticks": ""
           },
           "bgcolor": "#E5ECF6",
           "radialaxis": {
            "gridcolor": "white",
            "linecolor": "white",
            "ticks": ""
           }
          },
          "scene": {
           "xaxis": {
            "backgroundcolor": "#E5ECF6",
            "gridcolor": "white",
            "gridwidth": 2,
            "linecolor": "white",
            "showbackground": true,
            "ticks": "",
            "zerolinecolor": "white"
           },
           "yaxis": {
            "backgroundcolor": "#E5ECF6",
            "gridcolor": "white",
            "gridwidth": 2,
            "linecolor": "white",
            "showbackground": true,
            "ticks": "",
            "zerolinecolor": "white"
           },
           "zaxis": {
            "backgroundcolor": "#E5ECF6",
            "gridcolor": "white",
            "gridwidth": 2,
            "linecolor": "white",
            "showbackground": true,
            "ticks": "",
            "zerolinecolor": "white"
           }
          },
          "shapedefaults": {
           "line": {
            "color": "#2a3f5f"
           }
          },
          "ternary": {
           "aaxis": {
            "gridcolor": "white",
            "linecolor": "white",
            "ticks": ""
           },
           "baxis": {
            "gridcolor": "white",
            "linecolor": "white",
            "ticks": ""
           },
           "bgcolor": "#E5ECF6",
           "caxis": {
            "gridcolor": "white",
            "linecolor": "white",
            "ticks": ""
           }
          },
          "title": {
           "x": 0.05
          },
          "xaxis": {
           "automargin": true,
           "gridcolor": "white",
           "linecolor": "white",
           "ticks": "",
           "title": {
            "standoff": 15
           },
           "zerolinecolor": "white",
           "zerolinewidth": 2
          },
          "yaxis": {
           "automargin": true,
           "gridcolor": "white",
           "linecolor": "white",
           "ticks": "",
           "title": {
            "standoff": 15
           },
           "zerolinecolor": "white",
           "zerolinewidth": 2
          }
         }
        },
        "title": {
         "text": "Predicted vs. Actual"
        },
        "xaxis": {
         "title": {
          "text": "Actual"
         }
        },
        "yaxis": {
         "title": {
          "text": "Predicted"
         }
        }
       }
      }
     },
     "metadata": {},
     "output_type": "display_data"
    },
    {
     "data": {
      "application/vnd.plotly.v1+json": {
       "config": {
        "plotlyServerURL": "https://plot.ly"
       },
       "data": [
        {
         "mode": "lines+markers",
         "name": "Training score",
         "type": "scatter",
         "x": [
          105,
          343,
          581,
          819,
          1058
         ],
         "y": [
          0.9998370204769872,
          0.9996881080961497,
          0.9995622074635518,
          0.9995158399155823,
          0.9995302958647457
         ]
        },
        {
         "mode": "lines+markers",
         "name": "Cross-validation score",
         "type": "scatter",
         "x": [
          105,
          343,
          581,
          819,
          1058
         ],
         "y": [
          -2590.650216507591,
          -4205.432509144386,
          -2084.152609749251,
          0.9991163927895347,
          0.9992477728218248
         ]
        },
        {
         "fill": "toself",
         "fillcolor": "rgba(255, 0, 0, 0.1)",
         "line": {
          "color": "rgba(255, 0, 0, 0)"
         },
         "name": "Training score ± 1 std",
         "type": "scatter",
         "x": [
          105,
          343,
          581,
          819,
          1058,
          1058,
          819,
          581,
          343,
          105
         ],
         "y": [
          0.9998041599431554,
          0.9996762971807771,
          0.999500601966642,
          0.999450379183952,
          0.999474428496636,
          0.9995861632328554,
          0.9995813006472127,
          0.9996238129604617,
          0.9996999190115223,
          0.999869881010819
         ]
        },
        {
         "fill": "toself",
         "fillcolor": "rgba(0, 255, 0, 0.1)",
         "line": {
          "color": "rgba(0, 255, 0, 0)"
         },
         "name": "Cross-validation score ± 1 std",
         "type": "scatter",
         "x": [
          105,
          343,
          581,
          819,
          1058,
          1058,
          819,
          581,
          343,
          105
         ],
         "y": [
          -7297.749888870195,
          -11845.08048591098,
          -5973.944160178953,
          0.9986848024859674,
          0.998848164030541,
          0.9996473816131085,
          0.999547983093102,
          1805.6389406804506,
          3434.215467622207,
          2116.449455855013
         ]
        }
       ],
       "layout": {
        "template": {
         "data": {
          "bar": [
           {
            "error_x": {
             "color": "#2a3f5f"
            },
            "error_y": {
             "color": "#2a3f5f"
            },
            "marker": {
             "line": {
              "color": "#E5ECF6",
              "width": 0.5
             },
             "pattern": {
              "fillmode": "overlay",
              "size": 10,
              "solidity": 0.2
             }
            },
            "type": "bar"
           }
          ],
          "barpolar": [
           {
            "marker": {
             "line": {
              "color": "#E5ECF6",
              "width": 0.5
             },
             "pattern": {
              "fillmode": "overlay",
              "size": 10,
              "solidity": 0.2
             }
            },
            "type": "barpolar"
           }
          ],
          "carpet": [
           {
            "aaxis": {
             "endlinecolor": "#2a3f5f",
             "gridcolor": "white",
             "linecolor": "white",
             "minorgridcolor": "white",
             "startlinecolor": "#2a3f5f"
            },
            "baxis": {
             "endlinecolor": "#2a3f5f",
             "gridcolor": "white",
             "linecolor": "white",
             "minorgridcolor": "white",
             "startlinecolor": "#2a3f5f"
            },
            "type": "carpet"
           }
          ],
          "choropleth": [
           {
            "colorbar": {
             "outlinewidth": 0,
             "ticks": ""
            },
            "type": "choropleth"
           }
          ],
          "contour": [
           {
            "colorbar": {
             "outlinewidth": 0,
             "ticks": ""
            },
            "colorscale": [
             [
              0,
              "#0d0887"
             ],
             [
              0.1111111111111111,
              "#46039f"
             ],
             [
              0.2222222222222222,
              "#7201a8"
             ],
             [
              0.3333333333333333,
              "#9c179e"
             ],
             [
              0.4444444444444444,
              "#bd3786"
             ],
             [
              0.5555555555555556,
              "#d8576b"
             ],
             [
              0.6666666666666666,
              "#ed7953"
             ],
             [
              0.7777777777777778,
              "#fb9f3a"
             ],
             [
              0.8888888888888888,
              "#fdca26"
             ],
             [
              1,
              "#f0f921"
             ]
            ],
            "type": "contour"
           }
          ],
          "contourcarpet": [
           {
            "colorbar": {
             "outlinewidth": 0,
             "ticks": ""
            },
            "type": "contourcarpet"
           }
          ],
          "heatmap": [
           {
            "colorbar": {
             "outlinewidth": 0,
             "ticks": ""
            },
            "colorscale": [
             [
              0,
              "#0d0887"
             ],
             [
              0.1111111111111111,
              "#46039f"
             ],
             [
              0.2222222222222222,
              "#7201a8"
             ],
             [
              0.3333333333333333,
              "#9c179e"
             ],
             [
              0.4444444444444444,
              "#bd3786"
             ],
             [
              0.5555555555555556,
              "#d8576b"
             ],
             [
              0.6666666666666666,
              "#ed7953"
             ],
             [
              0.7777777777777778,
              "#fb9f3a"
             ],
             [
              0.8888888888888888,
              "#fdca26"
             ],
             [
              1,
              "#f0f921"
             ]
            ],
            "type": "heatmap"
           }
          ],
          "heatmapgl": [
           {
            "colorbar": {
             "outlinewidth": 0,
             "ticks": ""
            },
            "colorscale": [
             [
              0,
              "#0d0887"
             ],
             [
              0.1111111111111111,
              "#46039f"
             ],
             [
              0.2222222222222222,
              "#7201a8"
             ],
             [
              0.3333333333333333,
              "#9c179e"
             ],
             [
              0.4444444444444444,
              "#bd3786"
             ],
             [
              0.5555555555555556,
              "#d8576b"
             ],
             [
              0.6666666666666666,
              "#ed7953"
             ],
             [
              0.7777777777777778,
              "#fb9f3a"
             ],
             [
              0.8888888888888888,
              "#fdca26"
             ],
             [
              1,
              "#f0f921"
             ]
            ],
            "type": "heatmapgl"
           }
          ],
          "histogram": [
           {
            "marker": {
             "pattern": {
              "fillmode": "overlay",
              "size": 10,
              "solidity": 0.2
             }
            },
            "type": "histogram"
           }
          ],
          "histogram2d": [
           {
            "colorbar": {
             "outlinewidth": 0,
             "ticks": ""
            },
            "colorscale": [
             [
              0,
              "#0d0887"
             ],
             [
              0.1111111111111111,
              "#46039f"
             ],
             [
              0.2222222222222222,
              "#7201a8"
             ],
             [
              0.3333333333333333,
              "#9c179e"
             ],
             [
              0.4444444444444444,
              "#bd3786"
             ],
             [
              0.5555555555555556,
              "#d8576b"
             ],
             [
              0.6666666666666666,
              "#ed7953"
             ],
             [
              0.7777777777777778,
              "#fb9f3a"
             ],
             [
              0.8888888888888888,
              "#fdca26"
             ],
             [
              1,
              "#f0f921"
             ]
            ],
            "type": "histogram2d"
           }
          ],
          "histogram2dcontour": [
           {
            "colorbar": {
             "outlinewidth": 0,
             "ticks": ""
            },
            "colorscale": [
             [
              0,
              "#0d0887"
             ],
             [
              0.1111111111111111,
              "#46039f"
             ],
             [
              0.2222222222222222,
              "#7201a8"
             ],
             [
              0.3333333333333333,
              "#9c179e"
             ],
             [
              0.4444444444444444,
              "#bd3786"
             ],
             [
              0.5555555555555556,
              "#d8576b"
             ],
             [
              0.6666666666666666,
              "#ed7953"
             ],
             [
              0.7777777777777778,
              "#fb9f3a"
             ],
             [
              0.8888888888888888,
              "#fdca26"
             ],
             [
              1,
              "#f0f921"
             ]
            ],
            "type": "histogram2dcontour"
           }
          ],
          "mesh3d": [
           {
            "colorbar": {
             "outlinewidth": 0,
             "ticks": ""
            },
            "type": "mesh3d"
           }
          ],
          "parcoords": [
           {
            "line": {
             "colorbar": {
              "outlinewidth": 0,
              "ticks": ""
             }
            },
            "type": "parcoords"
           }
          ],
          "pie": [
           {
            "automargin": true,
            "type": "pie"
           }
          ],
          "scatter": [
           {
            "fillpattern": {
             "fillmode": "overlay",
             "size": 10,
             "solidity": 0.2
            },
            "type": "scatter"
           }
          ],
          "scatter3d": [
           {
            "line": {
             "colorbar": {
              "outlinewidth": 0,
              "ticks": ""
             }
            },
            "marker": {
             "colorbar": {
              "outlinewidth": 0,
              "ticks": ""
             }
            },
            "type": "scatter3d"
           }
          ],
          "scattercarpet": [
           {
            "marker": {
             "colorbar": {
              "outlinewidth": 0,
              "ticks": ""
             }
            },
            "type": "scattercarpet"
           }
          ],
          "scattergeo": [
           {
            "marker": {
             "colorbar": {
              "outlinewidth": 0,
              "ticks": ""
             }
            },
            "type": "scattergeo"
           }
          ],
          "scattergl": [
           {
            "marker": {
             "colorbar": {
              "outlinewidth": 0,
              "ticks": ""
             }
            },
            "type": "scattergl"
           }
          ],
          "scattermapbox": [
           {
            "marker": {
             "colorbar": {
              "outlinewidth": 0,
              "ticks": ""
             }
            },
            "type": "scattermapbox"
           }
          ],
          "scatterpolar": [
           {
            "marker": {
             "colorbar": {
              "outlinewidth": 0,
              "ticks": ""
             }
            },
            "type": "scatterpolar"
           }
          ],
          "scatterpolargl": [
           {
            "marker": {
             "colorbar": {
              "outlinewidth": 0,
              "ticks": ""
             }
            },
            "type": "scatterpolargl"
           }
          ],
          "scatterternary": [
           {
            "marker": {
             "colorbar": {
              "outlinewidth": 0,
              "ticks": ""
             }
            },
            "type": "scatterternary"
           }
          ],
          "surface": [
           {
            "colorbar": {
             "outlinewidth": 0,
             "ticks": ""
            },
            "colorscale": [
             [
              0,
              "#0d0887"
             ],
             [
              0.1111111111111111,
              "#46039f"
             ],
             [
              0.2222222222222222,
              "#7201a8"
             ],
             [
              0.3333333333333333,
              "#9c179e"
             ],
             [
              0.4444444444444444,
              "#bd3786"
             ],
             [
              0.5555555555555556,
              "#d8576b"
             ],
             [
              0.6666666666666666,
              "#ed7953"
             ],
             [
              0.7777777777777778,
              "#fb9f3a"
             ],
             [
              0.8888888888888888,
              "#fdca26"
             ],
             [
              1,
              "#f0f921"
             ]
            ],
            "type": "surface"
           }
          ],
          "table": [
           {
            "cells": {
             "fill": {
              "color": "#EBF0F8"
             },
             "line": {
              "color": "white"
             }
            },
            "header": {
             "fill": {
              "color": "#C8D4E3"
             },
             "line": {
              "color": "white"
             }
            },
            "type": "table"
           }
          ]
         },
         "layout": {
          "annotationdefaults": {
           "arrowcolor": "#2a3f5f",
           "arrowhead": 0,
           "arrowwidth": 1
          },
          "autotypenumbers": "strict",
          "coloraxis": {
           "colorbar": {
            "outlinewidth": 0,
            "ticks": ""
           }
          },
          "colorscale": {
           "diverging": [
            [
             0,
             "#8e0152"
            ],
            [
             0.1,
             "#c51b7d"
            ],
            [
             0.2,
             "#de77ae"
            ],
            [
             0.3,
             "#f1b6da"
            ],
            [
             0.4,
             "#fde0ef"
            ],
            [
             0.5,
             "#f7f7f7"
            ],
            [
             0.6,
             "#e6f5d0"
            ],
            [
             0.7,
             "#b8e186"
            ],
            [
             0.8,
             "#7fbc41"
            ],
            [
             0.9,
             "#4d9221"
            ],
            [
             1,
             "#276419"
            ]
           ],
           "sequential": [
            [
             0,
             "#0d0887"
            ],
            [
             0.1111111111111111,
             "#46039f"
            ],
            [
             0.2222222222222222,
             "#7201a8"
            ],
            [
             0.3333333333333333,
             "#9c179e"
            ],
            [
             0.4444444444444444,
             "#bd3786"
            ],
            [
             0.5555555555555556,
             "#d8576b"
            ],
            [
             0.6666666666666666,
             "#ed7953"
            ],
            [
             0.7777777777777778,
             "#fb9f3a"
            ],
            [
             0.8888888888888888,
             "#fdca26"
            ],
            [
             1,
             "#f0f921"
            ]
           ],
           "sequentialminus": [
            [
             0,
             "#0d0887"
            ],
            [
             0.1111111111111111,
             "#46039f"
            ],
            [
             0.2222222222222222,
             "#7201a8"
            ],
            [
             0.3333333333333333,
             "#9c179e"
            ],
            [
             0.4444444444444444,
             "#bd3786"
            ],
            [
             0.5555555555555556,
             "#d8576b"
            ],
            [
             0.6666666666666666,
             "#ed7953"
            ],
            [
             0.7777777777777778,
             "#fb9f3a"
            ],
            [
             0.8888888888888888,
             "#fdca26"
            ],
            [
             1,
             "#f0f921"
            ]
           ]
          },
          "colorway": [
           "#636efa",
           "#EF553B",
           "#00cc96",
           "#ab63fa",
           "#FFA15A",
           "#19d3f3",
           "#FF6692",
           "#B6E880",
           "#FF97FF",
           "#FECB52"
          ],
          "font": {
           "color": "#2a3f5f"
          },
          "geo": {
           "bgcolor": "white",
           "lakecolor": "white",
           "landcolor": "#E5ECF6",
           "showlakes": true,
           "showland": true,
           "subunitcolor": "white"
          },
          "hoverlabel": {
           "align": "left"
          },
          "hovermode": "closest",
          "mapbox": {
           "style": "light"
          },
          "paper_bgcolor": "white",
          "plot_bgcolor": "#E5ECF6",
          "polar": {
           "angularaxis": {
            "gridcolor": "white",
            "linecolor": "white",
            "ticks": ""
           },
           "bgcolor": "#E5ECF6",
           "radialaxis": {
            "gridcolor": "white",
            "linecolor": "white",
            "ticks": ""
           }
          },
          "scene": {
           "xaxis": {
            "backgroundcolor": "#E5ECF6",
            "gridcolor": "white",
            "gridwidth": 2,
            "linecolor": "white",
            "showbackground": true,
            "ticks": "",
            "zerolinecolor": "white"
           },
           "yaxis": {
            "backgroundcolor": "#E5ECF6",
            "gridcolor": "white",
            "gridwidth": 2,
            "linecolor": "white",
            "showbackground": true,
            "ticks": "",
            "zerolinecolor": "white"
           },
           "zaxis": {
            "backgroundcolor": "#E5ECF6",
            "gridcolor": "white",
            "gridwidth": 2,
            "linecolor": "white",
            "showbackground": true,
            "ticks": "",
            "zerolinecolor": "white"
           }
          },
          "shapedefaults": {
           "line": {
            "color": "#2a3f5f"
           }
          },
          "ternary": {
           "aaxis": {
            "gridcolor": "white",
            "linecolor": "white",
            "ticks": ""
           },
           "baxis": {
            "gridcolor": "white",
            "linecolor": "white",
            "ticks": ""
           },
           "bgcolor": "#E5ECF6",
           "caxis": {
            "gridcolor": "white",
            "linecolor": "white",
            "ticks": ""
           }
          },
          "title": {
           "x": 0.05
          },
          "xaxis": {
           "automargin": true,
           "gridcolor": "white",
           "linecolor": "white",
           "ticks": "",
           "title": {
            "standoff": 15
           },
           "zerolinecolor": "white",
           "zerolinewidth": 2
          },
          "yaxis": {
           "automargin": true,
           "gridcolor": "white",
           "linecolor": "white",
           "ticks": "",
           "title": {
            "standoff": 15
           },
           "zerolinecolor": "white",
           "zerolinewidth": 2
          }
         }
        },
        "title": {
         "text": "Learning Curves"
        },
        "xaxis": {
         "title": {
          "text": "Training examples"
         }
        },
        "yaxis": {
         "range": [
          0,
          1.01
         ],
         "title": {
          "text": "Score"
         }
        }
       }
      }
     },
     "metadata": {},
     "output_type": "display_data"
    }
   ],
   "source": [
    "import plotly.graph_objs as go\n",
    "import plotly.express as px\n",
    "import numpy as np\n",
    "from sklearn.model_selection import learning_curve\n",
    "\n",
    "# Função para plotar a curva de aprendizado com Plotly\n",
    "def plot_learning_curve(estimator, title, X, y, ylim=None, cv=None,\n",
    "                        n_jobs=None, train_sizes=np.linspace(.1, 1.0, 5)):\n",
    "    fig = go.Figure()\n",
    "    fig.update_layout(title=title, xaxis_title=\"Training examples\", yaxis_title=\"Score\", yaxis=dict(range=ylim))\n",
    "    train_sizes, train_scores, test_scores = learning_curve(\n",
    "        estimator, X, y, cv=cv, n_jobs=n_jobs, train_sizes=train_sizes)\n",
    "    train_scores_mean = np.mean(train_scores, axis=1)\n",
    "    train_scores_std = np.std(train_scores, axis=1)\n",
    "    test_scores_mean = np.mean(test_scores, axis=1)\n",
    "    test_scores_std = np.std(test_scores, axis=1)\n",
    "\n",
    "    fig.add_trace(go.Scatter(x=train_sizes, y=train_scores_mean, mode='lines+markers', name='Training score'))\n",
    "    fig.add_trace(go.Scatter(x=train_sizes, y=test_scores_mean, mode='lines+markers', name='Cross-validation score'))\n",
    "\n",
    "    fig.add_trace(go.Scatter(\n",
    "        x=np.concatenate([train_sizes, train_sizes[::-1]]),\n",
    "        y=np.concatenate([train_scores_mean - train_scores_std,\n",
    "                          (train_scores_mean + train_scores_std)[::-1]]),\n",
    "        fill='toself',\n",
    "        fillcolor='rgba(255, 0, 0, 0.1)',\n",
    "        line=dict(color='rgba(255, 0, 0, 0)'),\n",
    "        name='Training score ± 1 std'\n",
    "    ))\n",
    "\n",
    "    fig.add_trace(go.Scatter(\n",
    "        x=np.concatenate([train_sizes, train_sizes[::-1]]),\n",
    "        y=np.concatenate([test_scores_mean - test_scores_std,\n",
    "                          (test_scores_mean + test_scores_std)[::-1]]),\n",
    "        fill='toself',\n",
    "        fillcolor='rgba(0, 255, 0, 0.1)',\n",
    "        line=dict(color='rgba(0, 255, 0, 0)'),\n",
    "        name='Cross-validation score ± 1 std'\n",
    "    ))\n",
    "\n",
    "    fig.show()\n",
    "\n",
    "# Plotar o gráfico de dispersão\n",
    "fig = go.Figure()\n",
    "fig.add_trace(go.Scatter(x=y_test, y=y_pred, mode='markers', marker=dict(color='blue'), name='Predicted vs. Actual'))\n",
    "fig.add_trace(go.Scatter(x=[min(y_test), max(y_test)], y=[min(y_test), max(y_test)], mode='lines', line=dict(color='black', dash='dash'), name='Ideal Line'))\n",
    "fig.update_layout(title='Predicted vs. Actual', xaxis_title='Actual', yaxis_title='Predicted', legend=dict(x=0, y=1))\n",
    "fig.show()\n",
    "\n",
    "# Plotar a curva de aprendizado\n",
    "title = \"Learning Curves\"\n",
    "plot_learning_curve(model, title, X_train, y_train, ylim=(0.0, 1.01), cv=None, n_jobs=8)"
   ]
  }
 ],
 "metadata": {
  "kernelspec": {
   "display_name": "Python 3",
   "language": "python",
   "name": "python3"
  },
  "language_info": {
   "codemirror_mode": {
    "name": "ipython",
    "version": 3
   },
   "file_extension": ".py",
   "mimetype": "text/x-python",
   "name": "python",
   "nbconvert_exporter": "python",
   "pygments_lexer": "ipython3",
   "version": "3.12.0"
  }
 },
 "nbformat": 4,
 "nbformat_minor": 2
}
