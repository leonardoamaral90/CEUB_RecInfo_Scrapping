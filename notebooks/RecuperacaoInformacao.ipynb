{
 "cells": [
  {
   "cell_type": "markdown",
   "metadata": {},
   "source": [
    "## 1. Instalação dos pacotes necessários"
   ]
  },
  {
   "cell_type": "code",
   "execution_count": 79,
   "metadata": {},
   "outputs": [],
   "source": [
    "# %pip install requests\n",
    "# %pip install beautifulsoup4\n",
    "# %pip install pandas\n",
    "# %pip install numpy\n",
    "# %pip install scikit-learn\n",
    "# %pip install plotly"
   ]
  },
  {
   "cell_type": "markdown",
   "metadata": {},
   "source": [
    "## 2. Script do WebScrapping"
   ]
  },
  {
   "cell_type": "code",
   "execution_count": 80,
   "metadata": {},
   "outputs": [],
   "source": [
    "# import requests\n",
    "# import time\n",
    "# import datetime\n",
    "# import os\n",
    "# import json\n",
    "# import re\n",
    "# import pprint\n",
    "\n",
    "# from bs4 import BeautifulSoup\n",
    "# from urllib.parse import urlparse\n",
    "\n",
    "# headers = {'User-Agent': 'Mozilla/5.0'}\n",
    "    \n",
    "# def get_price(url):\n",
    "#     response = requests.get(url, headers=headers)\n",
    "#     soup = BeautifulSoup(response.text, 'html.parser')\n",
    "    \n",
    "#     for svg in soup.find_all('svg'):\n",
    "#         svg.extract()\n",
    "        \n",
    "#     product_info = []\n",
    "    \n",
    "#     cards = soup.find_all('article', {'class': 'productCard'})\n",
    "    \n",
    "#     for card in cards:\n",
    "#         review_div = card.find('div', {'class': 'labelTotalAvaliacoes'})\n",
    "#         if review_div:\n",
    "#             review = review_div.text.strip()\n",
    "#         full_name = card.find('span', {'class': 'nameCard'}).text.strip()\n",
    "#         product_link = card.find('a', {'class': 'productLink'})['href']\n",
    "        \n",
    "#         product_info.append({ 'full_name': full_name,\n",
    "#                              'link': product_link })\n",
    "    \n",
    "#     return product_info\n",
    "\n",
    "# def get_product_info(url, product):\n",
    "#     url = f\"{url}{product['link']}\"\n",
    "#     response = requests.get(url, headers=headers)\n",
    "#     soup = BeautifulSoup(response.text, 'html.parser')\n",
    "\n",
    "#     script = soup.find('script', {'type': 'application/ld+json'})\n",
    "#     if script:\n",
    "#         script_text = script.text\n",
    "#         json_data = json.loads(script_text)\n",
    "#         sku = json_data.get('sku')\n",
    "#         brand_name = json_data.get('brand', {}).get('name')\n",
    "\n",
    "    \n",
    "#     script_nd = soup.find('script', {'type': 'application/json', 'id': '__NEXT_DATA__'})\n",
    "#     if script_nd:\n",
    "#         script_nd_text = script_nd.text\n",
    "#         json_data_nd = json.loads(script_nd_text)\n",
    "#         json_initial = json_data_nd.get('props').get('pageProps').get('initialZustandState').get('descriptionProduct')\n",
    "#         json_catalog_product = json_data_nd.get('props').get('pageProps').get('initialZustandState').get('catalogProduct')\n",
    "        \n",
    "#         weight = json_catalog_product.get('weight')\n",
    "#         price = json_catalog_product.get('price')\n",
    "#         primePrice = json_catalog_product.get('primePrice')\n",
    "#         primePriceWithDiscount = json_catalog_product.get('primePriceWithDiscount')\n",
    "#         oldPrice = json_catalog_product.get('oldPrice')\n",
    "#         oldPrimePrice = json_catalog_product.get('oldPrimePrice')\n",
    "#         priceWithDiscount = json_catalog_product.get('priceWithDiscount')\n",
    "#         discountPercentage = json_catalog_product.get('discountPercentage')\n",
    "#         rating = json_catalog_product.get('rating')\n",
    "#         ratingCount = json_catalog_product.get('ratingCount')\n",
    "#         available = json_catalog_product.get('available')\n",
    "#         warranty = json_initial.get('warrantyString')\n",
    "    \n",
    "#     product_info = { 'sku': sku,\n",
    "#                     'brand_name': brand_name,\n",
    "#                     'weight': weight,\n",
    "#                     'price': price,\n",
    "#                     'primePrice': primePrice,\n",
    "#                     'primePriceWithDiscount': primePriceWithDiscount,\n",
    "#                     'oldPrice': oldPrice,\n",
    "#                     'oldPrimePrice': oldPrimePrice,\n",
    "#                     'priceWithDiscount': priceWithDiscount,\n",
    "#                     'discountPercentage': discountPercentage,\n",
    "#                     'rating': rating,\n",
    "#                     'ratingCount': ratingCount,\n",
    "#                     'available': available,\n",
    "#                     'warranty': warranty}\n",
    "    \n",
    "#     return product_info\n",
    "\n",
    "# def get_dominio(url):\n",
    "#     parsed_url = urlparse(url)\n",
    "#     return parsed_url.netloc\n",
    "\n",
    "# def save_to_file(data):\n",
    "#     file_exists = False\n",
    "#     if os.path.isfile(\"scraped_data.csv\"):\n",
    "#         file_exists = True\n",
    "    \n",
    "#     with open(\"scraped_data.csv\", \"a\") as file:\n",
    "#         if not file_exists:\n",
    "#             keys = data[0].keys()\n",
    "#             print(';'.join(keys))\n",
    "#             file.write(f\"{';'.join(keys)};date\\n\")\n",
    "            \n",
    "#         for item in data:\n",
    "#             file.write(f\"{item['full_name']};{item['link']};{item['sku']};{item['brand_name']};{item['weight']};\n",
    "#                        {item['price']};{item['primePrice']};{item['primePriceWithDiscount']};{item['oldPrice']};\n",
    "#                        {item['oldPrimePrice']};{item['priceWithDiscount']};{item['discountPercentage']};{item['rating']};\n",
    "#                        {item['ratingCount']};{item['available']};{item['warranty']};{datetime.datetime.now()}\\n\")\n",
    "\n",
    "# def main():\n",
    "#     pesquisa = 'rtx 4070 ti'\n",
    "#     url = f\"https://www.kabum.com.br/busca/{pesquisa}\"\n",
    "    \n",
    "#     intervalo = 60 * 10 # 10 minutos\n",
    "#     contador = 0\n",
    "    \n",
    "#     # while True:\n",
    "#     try:\n",
    "#         products = get_price(url)\n",
    "#         products_info = []\n",
    "#         for product in products:\n",
    "#             info = get_product_info(f'https://{get_dominio(url)}/', product)\n",
    "#             products_info.append(info)\n",
    "        \n",
    "#         list_products = []\n",
    "#         if len(products) == len(products_info):\n",
    "#             for p, pi in zip(products, products_info):\n",
    "#                 list_products.append({  'full_name': p['full_name'],\n",
    "#                                         'link': p['link'],\n",
    "#                                         'sku': pi['sku'],\n",
    "#                                         'weight': pi['weight'],\n",
    "#                                         'price': pi['price'],\n",
    "#                                         'primePrice': pi['primePrice'],\n",
    "#                                         'primePriceWithDiscount': pi['primePriceWithDiscount'],\n",
    "#                                         'oldPrice': pi['oldPrice'],\n",
    "#                                         'oldPrimePrice': pi['oldPrimePrice'],\n",
    "#                                         'priceWithDiscount': pi['priceWithDiscount'],\n",
    "#                                         'discountPercentage': pi['discountPercentage'],\n",
    "#                                         'rating': pi['rating'],\n",
    "#                                         'ratingCount': pi['ratingCount'],\n",
    "#                                         'available': pi['available'],\n",
    "#                                         'warranty': pi['warranty']\n",
    "#                                     })\n",
    "        \n",
    "#         # print(json.dumps(products[0], indent=4))\n",
    "#         # print(json.dumps(products_info[0], indent=4))\n",
    "#         # print(json.dumps(list_products, indent=4))\n",
    "        \n",
    "#         save_to_file(list_products)\n",
    "#     except Exception as e:\n",
    "#         print(f\"Erro ao obter preços dos produtos na Kabum: {e}\")\n",
    "#     contador += 1\n",
    "#         # time.sleep(intervalo)\n",
    "\n",
    "# if __name__ == \"__main__\":\n",
    "#     main()"
   ]
  },
  {
   "cell_type": "markdown",
   "metadata": {},
   "source": [
    "## 3. Tratamento dos dados"
   ]
  },
  {
   "cell_type": "code",
   "execution_count": 81,
   "metadata": {},
   "outputs": [
    {
     "data": {
      "text/html": [
       "<div>\n",
       "<style scoped>\n",
       "    .dataframe tbody tr th:only-of-type {\n",
       "        vertical-align: middle;\n",
       "    }\n",
       "\n",
       "    .dataframe tbody tr th {\n",
       "        vertical-align: top;\n",
       "    }\n",
       "\n",
       "    .dataframe thead th {\n",
       "        text-align: right;\n",
       "    }\n",
       "</style>\n",
       "<table border=\"1\" class=\"dataframe\">\n",
       "  <thead>\n",
       "    <tr style=\"text-align: right;\">\n",
       "      <th></th>\n",
       "      <th>full_name</th>\n",
       "      <th>model</th>\n",
       "      <th>link</th>\n",
       "      <th>sku</th>\n",
       "      <th>brand_name</th>\n",
       "      <th>weight</th>\n",
       "      <th>price</th>\n",
       "      <th>primePrice</th>\n",
       "      <th>primePriceWithDiscount</th>\n",
       "      <th>oldPrice</th>\n",
       "      <th>oldPrimePrice</th>\n",
       "      <th>priceWithDiscount</th>\n",
       "      <th>discountPercentage</th>\n",
       "      <th>rating</th>\n",
       "      <th>ratingCount</th>\n",
       "      <th>available</th>\n",
       "      <th>warranty</th>\n",
       "      <th>date</th>\n",
       "    </tr>\n",
       "  </thead>\n",
       "  <tbody>\n",
       "    <tr>\n",
       "      <th>0</th>\n",
       "      <td>placa-de-video-rtx-4070-ti-ventus-msi-nvidia-g...</td>\n",
       "      <td>rtx 4070 ti</td>\n",
       "      <td>https://www.kabum.com.br//produto/403373/placa...</td>\n",
       "      <td>403373</td>\n",
       "      <td>MSI</td>\n",
       "      <td>1732</td>\n",
       "      <td>6117.64</td>\n",
       "      <td>5934.11</td>\n",
       "      <td>5043.99</td>\n",
       "      <td>6117.64</td>\n",
       "      <td>6117.64</td>\n",
       "      <td>5199.99</td>\n",
       "      <td>15</td>\n",
       "      <td>4</td>\n",
       "      <td>8</td>\n",
       "      <td>True</td>\n",
       "      <td>36 meses de garantia</td>\n",
       "      <td>2024-04-25 03:36:29.337716</td>\n",
       "    </tr>\n",
       "    <tr>\n",
       "      <th>1</th>\n",
       "      <td>placa-de-video-rtx-4070-ti-super-gigabyte-gami...</td>\n",
       "      <td>rtx 4070 ti</td>\n",
       "      <td>https://www.kabum.com.br//produto/517737/placa...</td>\n",
       "      <td>517737</td>\n",
       "      <td>Gigabyte</td>\n",
       "      <td>1816</td>\n",
       "      <td>6941.16</td>\n",
       "      <td>0.00</td>\n",
       "      <td>0.00</td>\n",
       "      <td>0.00</td>\n",
       "      <td>0.00</td>\n",
       "      <td>5899.99</td>\n",
       "      <td>15</td>\n",
       "      <td>0</td>\n",
       "      <td>0</td>\n",
       "      <td>True</td>\n",
       "      <td>36 meses de garantia</td>\n",
       "      <td>2024-04-25 03:36:29.337716</td>\n",
       "    </tr>\n",
       "    <tr>\n",
       "      <th>2</th>\n",
       "      <td>placa-de-video-rtx-4070-ti-super-msi-16g-ventu...</td>\n",
       "      <td>rtx 4070 ti</td>\n",
       "      <td>https://www.kabum.com.br//produto/520532/placa...</td>\n",
       "      <td>520532</td>\n",
       "      <td>MSI</td>\n",
       "      <td>1198</td>\n",
       "      <td>6352.93</td>\n",
       "      <td>0.00</td>\n",
       "      <td>0.00</td>\n",
       "      <td>0.00</td>\n",
       "      <td>0.00</td>\n",
       "      <td>5399.99</td>\n",
       "      <td>15</td>\n",
       "      <td>5</td>\n",
       "      <td>2</td>\n",
       "      <td>True</td>\n",
       "      <td>12 meses de garantia</td>\n",
       "      <td>2024-04-25 03:36:29.337716</td>\n",
       "    </tr>\n",
       "    <tr>\n",
       "      <th>3</th>\n",
       "      <td>placa-de-video-rtx-4070-ti-gaming-x-slim-12g-m...</td>\n",
       "      <td>rtx 4070 ti</td>\n",
       "      <td>https://www.kabum.com.br//produto/495568/placa...</td>\n",
       "      <td>495568</td>\n",
       "      <td>MSI</td>\n",
       "      <td>1890</td>\n",
       "      <td>6117.64</td>\n",
       "      <td>5934.11</td>\n",
       "      <td>5043.99</td>\n",
       "      <td>6117.64</td>\n",
       "      <td>6117.64</td>\n",
       "      <td>5199.99</td>\n",
       "      <td>15</td>\n",
       "      <td>5</td>\n",
       "      <td>9</td>\n",
       "      <td>True</td>\n",
       "      <td>12 meses de garantia</td>\n",
       "      <td>2024-04-25 03:36:29.337716</td>\n",
       "    </tr>\n",
       "    <tr>\n",
       "      <th>4</th>\n",
       "      <td>placa-de-video-rtx-4070-ti-super-gaming-verto-...</td>\n",
       "      <td>rtx 4070 ti</td>\n",
       "      <td>https://www.kabum.com.br//produto/520758/placa...</td>\n",
       "      <td>520758</td>\n",
       "      <td>Pny</td>\n",
       "      <td>1570</td>\n",
       "      <td>5199.99</td>\n",
       "      <td>0.00</td>\n",
       "      <td>0.00</td>\n",
       "      <td>0.00</td>\n",
       "      <td>0.00</td>\n",
       "      <td>5199.99</td>\n",
       "      <td>0</td>\n",
       "      <td>0</td>\n",
       "      <td>0</td>\n",
       "      <td>True</td>\n",
       "      <td>36 meses de garantia</td>\n",
       "      <td>2024-04-25 03:36:29.337716</td>\n",
       "    </tr>\n",
       "    <tr>\n",
       "      <th>5</th>\n",
       "      <td>placa-de-video-rtx-4070-ti-super-sg-galax-nvid...</td>\n",
       "      <td>rtx 4070 ti</td>\n",
       "      <td>https://www.kabum.com.br//produto/518725/placa...</td>\n",
       "      <td>518725</td>\n",
       "      <td>Galax</td>\n",
       "      <td>5735</td>\n",
       "      <td>7176.46</td>\n",
       "      <td>6823.52</td>\n",
       "      <td>5799.99</td>\n",
       "      <td>7176.46</td>\n",
       "      <td>7176.46</td>\n",
       "      <td>6099.99</td>\n",
       "      <td>15</td>\n",
       "      <td>5</td>\n",
       "      <td>2</td>\n",
       "      <td>True</td>\n",
       "      <td>12 meses de garantia</td>\n",
       "      <td>2024-04-25 03:36:29.337716</td>\n",
       "    </tr>\n",
       "    <tr>\n",
       "      <th>6</th>\n",
       "      <td>placa-de-video-rtx-4070-ti-ventus-3x-trio-oc-m...</td>\n",
       "      <td>rtx 4070 ti</td>\n",
       "      <td>https://www.kabum.com.br//produto/418040/placa...</td>\n",
       "      <td>418040</td>\n",
       "      <td>MSI</td>\n",
       "      <td>1730</td>\n",
       "      <td>6601.06</td>\n",
       "      <td>0.00</td>\n",
       "      <td>0.00</td>\n",
       "      <td>0.00</td>\n",
       "      <td>0.00</td>\n",
       "      <td>6601.06</td>\n",
       "      <td>0</td>\n",
       "      <td>0</td>\n",
       "      <td>0</td>\n",
       "      <td>True</td>\n",
       "      <td>NaN</td>\n",
       "      <td>2024-04-25 03:36:29.337716</td>\n",
       "    </tr>\n",
       "    <tr>\n",
       "      <th>7</th>\n",
       "      <td>placa-de-video-rtx-4070-ti-super-gigabyte-aero...</td>\n",
       "      <td>rtx 4070 ti</td>\n",
       "      <td>https://www.kabum.com.br//produto/517736/placa...</td>\n",
       "      <td>517736</td>\n",
       "      <td>Gigabyte</td>\n",
       "      <td>1896</td>\n",
       "      <td>6941.16</td>\n",
       "      <td>6732.93</td>\n",
       "      <td>5722.99</td>\n",
       "      <td>6941.16</td>\n",
       "      <td>6941.16</td>\n",
       "      <td>5899.99</td>\n",
       "      <td>15</td>\n",
       "      <td>0</td>\n",
       "      <td>0</td>\n",
       "      <td>True</td>\n",
       "      <td>36 meses de garantia</td>\n",
       "      <td>2024-04-25 03:36:29.337716</td>\n",
       "    </tr>\n",
       "    <tr>\n",
       "      <th>8</th>\n",
       "      <td>placa-de-video-rtx-4070-ti-rog-strix-gaming-as...</td>\n",
       "      <td>rtx 4070 ti</td>\n",
       "      <td>https://www.kabum.com.br//produto/403370/placa...</td>\n",
       "      <td>403370</td>\n",
       "      <td>ASUS</td>\n",
       "      <td>2640</td>\n",
       "      <td>7999.99</td>\n",
       "      <td>7759.99</td>\n",
       "      <td>6595.99</td>\n",
       "      <td>7999.99</td>\n",
       "      <td>7999.99</td>\n",
       "      <td>6799.99</td>\n",
       "      <td>15</td>\n",
       "      <td>5</td>\n",
       "      <td>4</td>\n",
       "      <td>True</td>\n",
       "      <td>36 meses de garantia</td>\n",
       "      <td>2024-04-25 03:36:29.337716</td>\n",
       "    </tr>\n",
       "    <tr>\n",
       "      <th>9</th>\n",
       "      <td>placa-de-video-rtx-4070-ti-super-msi-16g-gamin...</td>\n",
       "      <td>rtx 4070 ti</td>\n",
       "      <td>https://www.kabum.com.br//produto/520529/placa...</td>\n",
       "      <td>520529</td>\n",
       "      <td>MSI</td>\n",
       "      <td>1800</td>\n",
       "      <td>7411.75</td>\n",
       "      <td>7189.40</td>\n",
       "      <td>6110.99</td>\n",
       "      <td>7411.75</td>\n",
       "      <td>7411.75</td>\n",
       "      <td>6299.99</td>\n",
       "      <td>15</td>\n",
       "      <td>5</td>\n",
       "      <td>2</td>\n",
       "      <td>True</td>\n",
       "      <td>12 meses de garantia</td>\n",
       "      <td>2024-04-25 03:36:29.337716</td>\n",
       "    </tr>\n",
       "  </tbody>\n",
       "</table>\n",
       "</div>"
      ],
      "text/plain": [
       "                                           full_name        model  \\\n",
       "0  placa-de-video-rtx-4070-ti-ventus-msi-nvidia-g...  rtx 4070 ti   \n",
       "1  placa-de-video-rtx-4070-ti-super-gigabyte-gami...  rtx 4070 ti   \n",
       "2  placa-de-video-rtx-4070-ti-super-msi-16g-ventu...  rtx 4070 ti   \n",
       "3  placa-de-video-rtx-4070-ti-gaming-x-slim-12g-m...  rtx 4070 ti   \n",
       "4  placa-de-video-rtx-4070-ti-super-gaming-verto-...  rtx 4070 ti   \n",
       "5  placa-de-video-rtx-4070-ti-super-sg-galax-nvid...  rtx 4070 ti   \n",
       "6  placa-de-video-rtx-4070-ti-ventus-3x-trio-oc-m...  rtx 4070 ti   \n",
       "7  placa-de-video-rtx-4070-ti-super-gigabyte-aero...  rtx 4070 ti   \n",
       "8  placa-de-video-rtx-4070-ti-rog-strix-gaming-as...  rtx 4070 ti   \n",
       "9  placa-de-video-rtx-4070-ti-super-msi-16g-gamin...  rtx 4070 ti   \n",
       "\n",
       "                                                link     sku brand_name  \\\n",
       "0  https://www.kabum.com.br//produto/403373/placa...  403373        MSI   \n",
       "1  https://www.kabum.com.br//produto/517737/placa...  517737   Gigabyte   \n",
       "2  https://www.kabum.com.br//produto/520532/placa...  520532        MSI   \n",
       "3  https://www.kabum.com.br//produto/495568/placa...  495568        MSI   \n",
       "4  https://www.kabum.com.br//produto/520758/placa...  520758        Pny   \n",
       "5  https://www.kabum.com.br//produto/518725/placa...  518725      Galax   \n",
       "6  https://www.kabum.com.br//produto/418040/placa...  418040        MSI   \n",
       "7  https://www.kabum.com.br//produto/517736/placa...  517736   Gigabyte   \n",
       "8  https://www.kabum.com.br//produto/403370/placa...  403370       ASUS   \n",
       "9  https://www.kabum.com.br//produto/520529/placa...  520529        MSI   \n",
       "\n",
       "   weight    price  primePrice  primePriceWithDiscount  oldPrice  \\\n",
       "0    1732  6117.64     5934.11                 5043.99   6117.64   \n",
       "1    1816  6941.16        0.00                    0.00      0.00   \n",
       "2    1198  6352.93        0.00                    0.00      0.00   \n",
       "3    1890  6117.64     5934.11                 5043.99   6117.64   \n",
       "4    1570  5199.99        0.00                    0.00      0.00   \n",
       "5    5735  7176.46     6823.52                 5799.99   7176.46   \n",
       "6    1730  6601.06        0.00                    0.00      0.00   \n",
       "7    1896  6941.16     6732.93                 5722.99   6941.16   \n",
       "8    2640  7999.99     7759.99                 6595.99   7999.99   \n",
       "9    1800  7411.75     7189.40                 6110.99   7411.75   \n",
       "\n",
       "   oldPrimePrice  priceWithDiscount  discountPercentage  rating  ratingCount  \\\n",
       "0        6117.64            5199.99                  15       4            8   \n",
       "1           0.00            5899.99                  15       0            0   \n",
       "2           0.00            5399.99                  15       5            2   \n",
       "3        6117.64            5199.99                  15       5            9   \n",
       "4           0.00            5199.99                   0       0            0   \n",
       "5        7176.46            6099.99                  15       5            2   \n",
       "6           0.00            6601.06                   0       0            0   \n",
       "7        6941.16            5899.99                  15       0            0   \n",
       "8        7999.99            6799.99                  15       5            4   \n",
       "9        7411.75            6299.99                  15       5            2   \n",
       "\n",
       "   available              warranty                        date  \n",
       "0       True  36 meses de garantia  2024-04-25 03:36:29.337716  \n",
       "1       True  36 meses de garantia  2024-04-25 03:36:29.337716  \n",
       "2       True  12 meses de garantia  2024-04-25 03:36:29.337716  \n",
       "3       True  12 meses de garantia  2024-04-25 03:36:29.337716  \n",
       "4       True  36 meses de garantia  2024-04-25 03:36:29.337716  \n",
       "5       True  12 meses de garantia  2024-04-25 03:36:29.337716  \n",
       "6       True                   NaN  2024-04-25 03:36:29.337716  \n",
       "7       True  36 meses de garantia  2024-04-25 03:36:29.337716  \n",
       "8       True  36 meses de garantia  2024-04-25 03:36:29.337716  \n",
       "9       True  12 meses de garantia  2024-04-25 03:36:29.337716  "
      ]
     },
     "execution_count": 81,
     "metadata": {},
     "output_type": "execute_result"
    }
   ],
   "source": [
    "import pandas as pd\n",
    "import numpy as np\n",
    "\n",
    "df = pd.read_csv(\"../data/scraped_data.csv\", sep=\";\", encoding='latin1')\n",
    "df.head(10)"
   ]
  },
  {
   "cell_type": "code",
   "execution_count": 82,
   "metadata": {},
   "outputs": [
    {
     "name": "stdout",
     "output_type": "stream",
     "text": [
      "full_name                  object\n",
      "model                      object\n",
      "link                       object\n",
      "sku                         int64\n",
      "brand_name                 object\n",
      "weight                      int64\n",
      "price                     float64\n",
      "primePrice                float64\n",
      "primePriceWithDiscount    float64\n",
      "oldPrice                  float64\n",
      "oldPrimePrice             float64\n",
      "priceWithDiscount         float64\n",
      "discountPercentage          int64\n",
      "rating                      int64\n",
      "ratingCount                 int64\n",
      "available                    bool\n",
      "warranty                   object\n",
      "date                       object\n",
      "dtype: object\n"
     ]
    }
   ],
   "source": [
    "print(df.dtypes)"
   ]
  },
  {
   "cell_type": "code",
   "execution_count": 32,
   "metadata": {},
   "outputs": [],
   "source": [
    "import numpy as np\n",
    "import re\n",
    "\n",
    "def extrair_numeros(texto):\n",
    "    if pd.isna(texto):\n",
    "        return 0\n",
    "    else:\n",
    "        numeros = re.findall(r'\\d+', texto)\n",
    "        if numeros:\n",
    "            return int(numeros[0])\n",
    "        else:\n",
    "            return 0"
   ]
  },
  {
   "cell_type": "code",
   "execution_count": 83,
   "metadata": {},
   "outputs": [],
   "source": [
    "df2 = df\n",
    "\n",
    "df2['full_name'] = df2['full_name'].astype(str).str.strip()\n",
    "df2['available'] = df['available'].astype(int)\n",
    "df2['warranty'] = df2['warranty'].apply(extrair_numeros)\n",
    "df2['date'] = pd.to_datetime(df2['date'])\n",
    "df2['model'] = df2['model'].astype(str).str.upper()"
   ]
  },
  {
   "cell_type": "code",
   "execution_count": 84,
   "metadata": {},
   "outputs": [
    {
     "data": {
      "text/html": [
       "<div>\n",
       "<style scoped>\n",
       "    .dataframe tbody tr th:only-of-type {\n",
       "        vertical-align: middle;\n",
       "    }\n",
       "\n",
       "    .dataframe tbody tr th {\n",
       "        vertical-align: top;\n",
       "    }\n",
       "\n",
       "    .dataframe thead th {\n",
       "        text-align: right;\n",
       "    }\n",
       "</style>\n",
       "<table border=\"1\" class=\"dataframe\">\n",
       "  <thead>\n",
       "    <tr style=\"text-align: right;\">\n",
       "      <th></th>\n",
       "      <th>full_name</th>\n",
       "      <th>model</th>\n",
       "      <th>link</th>\n",
       "      <th>sku</th>\n",
       "      <th>brand_name</th>\n",
       "      <th>weight</th>\n",
       "      <th>price</th>\n",
       "      <th>primePrice</th>\n",
       "      <th>primePriceWithDiscount</th>\n",
       "      <th>oldPrice</th>\n",
       "      <th>oldPrimePrice</th>\n",
       "      <th>priceWithDiscount</th>\n",
       "      <th>discountPercentage</th>\n",
       "      <th>rating</th>\n",
       "      <th>ratingCount</th>\n",
       "      <th>available</th>\n",
       "      <th>warranty</th>\n",
       "      <th>date</th>\n",
       "    </tr>\n",
       "  </thead>\n",
       "  <tbody>\n",
       "    <tr>\n",
       "      <th>0</th>\n",
       "      <td>placa-de-video-rtx-4070-ti-ventus-msi-nvidia-g...</td>\n",
       "      <td>RTX 4070 TI</td>\n",
       "      <td>https://www.kabum.com.br//produto/403373/placa...</td>\n",
       "      <td>403373</td>\n",
       "      <td>MSI</td>\n",
       "      <td>1732</td>\n",
       "      <td>6117.64</td>\n",
       "      <td>5934.11</td>\n",
       "      <td>5043.99</td>\n",
       "      <td>6117.64</td>\n",
       "      <td>6117.64</td>\n",
       "      <td>5199.99</td>\n",
       "      <td>15</td>\n",
       "      <td>4</td>\n",
       "      <td>8</td>\n",
       "      <td>1</td>\n",
       "      <td>36</td>\n",
       "      <td>2024-04-25 03:36:29.337716</td>\n",
       "    </tr>\n",
       "    <tr>\n",
       "      <th>1</th>\n",
       "      <td>placa-de-video-rtx-4070-ti-super-gigabyte-gami...</td>\n",
       "      <td>RTX 4070 TI</td>\n",
       "      <td>https://www.kabum.com.br//produto/517737/placa...</td>\n",
       "      <td>517737</td>\n",
       "      <td>Gigabyte</td>\n",
       "      <td>1816</td>\n",
       "      <td>6941.16</td>\n",
       "      <td>0.00</td>\n",
       "      <td>0.00</td>\n",
       "      <td>0.00</td>\n",
       "      <td>0.00</td>\n",
       "      <td>5899.99</td>\n",
       "      <td>15</td>\n",
       "      <td>0</td>\n",
       "      <td>0</td>\n",
       "      <td>1</td>\n",
       "      <td>36</td>\n",
       "      <td>2024-04-25 03:36:29.337716</td>\n",
       "    </tr>\n",
       "    <tr>\n",
       "      <th>2</th>\n",
       "      <td>placa-de-video-rtx-4070-ti-super-msi-16g-ventu...</td>\n",
       "      <td>RTX 4070 TI</td>\n",
       "      <td>https://www.kabum.com.br//produto/520532/placa...</td>\n",
       "      <td>520532</td>\n",
       "      <td>MSI</td>\n",
       "      <td>1198</td>\n",
       "      <td>6352.93</td>\n",
       "      <td>0.00</td>\n",
       "      <td>0.00</td>\n",
       "      <td>0.00</td>\n",
       "      <td>0.00</td>\n",
       "      <td>5399.99</td>\n",
       "      <td>15</td>\n",
       "      <td>5</td>\n",
       "      <td>2</td>\n",
       "      <td>1</td>\n",
       "      <td>12</td>\n",
       "      <td>2024-04-25 03:36:29.337716</td>\n",
       "    </tr>\n",
       "    <tr>\n",
       "      <th>3</th>\n",
       "      <td>placa-de-video-rtx-4070-ti-gaming-x-slim-12g-m...</td>\n",
       "      <td>RTX 4070 TI</td>\n",
       "      <td>https://www.kabum.com.br//produto/495568/placa...</td>\n",
       "      <td>495568</td>\n",
       "      <td>MSI</td>\n",
       "      <td>1890</td>\n",
       "      <td>6117.64</td>\n",
       "      <td>5934.11</td>\n",
       "      <td>5043.99</td>\n",
       "      <td>6117.64</td>\n",
       "      <td>6117.64</td>\n",
       "      <td>5199.99</td>\n",
       "      <td>15</td>\n",
       "      <td>5</td>\n",
       "      <td>9</td>\n",
       "      <td>1</td>\n",
       "      <td>12</td>\n",
       "      <td>2024-04-25 03:36:29.337716</td>\n",
       "    </tr>\n",
       "    <tr>\n",
       "      <th>4</th>\n",
       "      <td>placa-de-video-rtx-4070-ti-super-gaming-verto-...</td>\n",
       "      <td>RTX 4070 TI</td>\n",
       "      <td>https://www.kabum.com.br//produto/520758/placa...</td>\n",
       "      <td>520758</td>\n",
       "      <td>Pny</td>\n",
       "      <td>1570</td>\n",
       "      <td>5199.99</td>\n",
       "      <td>0.00</td>\n",
       "      <td>0.00</td>\n",
       "      <td>0.00</td>\n",
       "      <td>0.00</td>\n",
       "      <td>5199.99</td>\n",
       "      <td>0</td>\n",
       "      <td>0</td>\n",
       "      <td>0</td>\n",
       "      <td>1</td>\n",
       "      <td>36</td>\n",
       "      <td>2024-04-25 03:36:29.337716</td>\n",
       "    </tr>\n",
       "  </tbody>\n",
       "</table>\n",
       "</div>"
      ],
      "text/plain": [
       "                                           full_name        model  \\\n",
       "0  placa-de-video-rtx-4070-ti-ventus-msi-nvidia-g...  RTX 4070 TI   \n",
       "1  placa-de-video-rtx-4070-ti-super-gigabyte-gami...  RTX 4070 TI   \n",
       "2  placa-de-video-rtx-4070-ti-super-msi-16g-ventu...  RTX 4070 TI   \n",
       "3  placa-de-video-rtx-4070-ti-gaming-x-slim-12g-m...  RTX 4070 TI   \n",
       "4  placa-de-video-rtx-4070-ti-super-gaming-verto-...  RTX 4070 TI   \n",
       "\n",
       "                                                link     sku brand_name  \\\n",
       "0  https://www.kabum.com.br//produto/403373/placa...  403373        MSI   \n",
       "1  https://www.kabum.com.br//produto/517737/placa...  517737   Gigabyte   \n",
       "2  https://www.kabum.com.br//produto/520532/placa...  520532        MSI   \n",
       "3  https://www.kabum.com.br//produto/495568/placa...  495568        MSI   \n",
       "4  https://www.kabum.com.br//produto/520758/placa...  520758        Pny   \n",
       "\n",
       "   weight    price  primePrice  primePriceWithDiscount  oldPrice  \\\n",
       "0    1732  6117.64     5934.11                 5043.99   6117.64   \n",
       "1    1816  6941.16        0.00                    0.00      0.00   \n",
       "2    1198  6352.93        0.00                    0.00      0.00   \n",
       "3    1890  6117.64     5934.11                 5043.99   6117.64   \n",
       "4    1570  5199.99        0.00                    0.00      0.00   \n",
       "\n",
       "   oldPrimePrice  priceWithDiscount  discountPercentage  rating  ratingCount  \\\n",
       "0        6117.64            5199.99                  15       4            8   \n",
       "1           0.00            5899.99                  15       0            0   \n",
       "2           0.00            5399.99                  15       5            2   \n",
       "3        6117.64            5199.99                  15       5            9   \n",
       "4           0.00            5199.99                   0       0            0   \n",
       "\n",
       "   available  warranty                       date  \n",
       "0          1        36 2024-04-25 03:36:29.337716  \n",
       "1          1        36 2024-04-25 03:36:29.337716  \n",
       "2          1        12 2024-04-25 03:36:29.337716  \n",
       "3          1        12 2024-04-25 03:36:29.337716  \n",
       "4          1        36 2024-04-25 03:36:29.337716  "
      ]
     },
     "execution_count": 84,
     "metadata": {},
     "output_type": "execute_result"
    }
   ],
   "source": [
    "df2.head(5)"
   ]
  },
  {
   "cell_type": "code",
   "execution_count": 85,
   "metadata": {},
   "outputs": [
    {
     "name": "stdout",
     "output_type": "stream",
     "text": [
      "full_name                 0\n",
      "model                     0\n",
      "link                      0\n",
      "sku                       0\n",
      "brand_name                0\n",
      "weight                    0\n",
      "price                     0\n",
      "primePrice                0\n",
      "primePriceWithDiscount    0\n",
      "oldPrice                  0\n",
      "oldPrimePrice             0\n",
      "priceWithDiscount         0\n",
      "discountPercentage        0\n",
      "rating                    0\n",
      "ratingCount               0\n",
      "available                 0\n",
      "warranty                  0\n",
      "date                      0\n",
      "dtype: int64\n"
     ]
    }
   ],
   "source": [
    "print(df2.isna().sum())"
   ]
  },
  {
   "cell_type": "code",
   "execution_count": 86,
   "metadata": {},
   "outputs": [],
   "source": [
    "df3 = df2['full_name']\n",
    "\n",
    "df3 = df3.str.replace('Placa', '')\n",
    "df3 = df3.str.replace('de Vídeo', '')\n",
    "df3 = df3.str.replace('De Vídeo', '')\n",
    "df3 = df3.str.replace('De Video', '')\n",
    "df3 = df3.str.strip()\n",
    "\n",
    "df_names = df3.unique()\n",
    "df_names = [name[:45] for name in df_names]"
   ]
  },
  {
   "cell_type": "code",
   "execution_count": 87,
   "metadata": {},
   "outputs": [
    {
     "data": {
      "application/vnd.plotly.v1+json": {
       "config": {
        "plotlyServerURL": "https://plot.ly"
       },
       "data": [
        {
         "mode": "lines+markers",
         "name": "placa-de-video-rtx-4070-ti-ventus-msi-nvidia-geforce-12-gb-gddr6x-dlss-3-ray-tracing-geforce-rtx-4070-ti-ventus-3x-12g-oc",
         "type": "scatter",
         "x": [
          "2024-04-25T03:36:00"
         ],
         "y": [
          6117.64
         ]
        },
        {
         "mode": "lines+markers",
         "name": "placa-de-video-rtx-4070-ti-super-gigabyte-gaming-oc-nvidia-geforce-16gb-gddr6-dlss-ray-tracing-gv-n407tsgaming-oc-16gd",
         "type": "scatter",
         "x": [
          "2024-04-25T03:36:00"
         ],
         "y": [
          6941.16
         ]
        },
        {
         "mode": "lines+markers",
         "name": "placa-de-video-rtx-4070-ti-super-msi-16g-ventus-2x-oc-nvidia-geforce-16gb-gddr6x-dlss-ray-tracing",
         "type": "scatter",
         "x": [
          "2024-04-25T03:36:00"
         ],
         "y": [
          6352.93
         ]
        },
        {
         "mode": "lines+markers",
         "name": "placa-de-video-rtx-4070-ti-gaming-x-slim-12g-msi-nvidia-geforce-12gb-gddr6x-g-sync-dlss-ray-tracing",
         "type": "scatter",
         "x": [
          "2024-04-25T03:36:00"
         ],
         "y": [
          6117.64
         ]
        },
        {
         "mode": "lines+markers",
         "name": "placa-de-video-rtx-4070-ti-super-gaming-verto-triple-fan-pny-nvidia-geforce-16gb-gddr6x-dlss-3-ray-tracing-vcg4070ts16tfxpb1-o",
         "type": "scatter",
         "x": [
          "2024-04-25T03:36:00"
         ],
         "y": [
          5199.99
         ]
        },
        {
         "mode": "lines+markers",
         "name": "placa-de-video-rtx-4070-ti-super-sg-galax-nvidia-geforce-16gb-gddr6x-dlss-ray-tracing-47uzm6md6mer",
         "type": "scatter",
         "x": [
          "2024-04-25T03:36:00"
         ],
         "y": [
          7176.46
         ]
        },
        {
         "mode": "lines+markers",
         "name": "placa-de-video-rtx-4070-ti-ventus-3x-trio-oc-msi-nvidia-12gb-ddr6-192-bits-912-v513001",
         "type": "scatter",
         "x": [
          "2024-04-25T03:36:00"
         ],
         "y": [
          6601.06
         ]
        },
        {
         "mode": "lines+markers",
         "name": "placa-de-video-rtx-4070-ti-super-gigabyte-aero-nvidia-geforce-16gb-gddr6-dlss-ray-tracing-gv-n407tsaero-oc-16gd",
         "type": "scatter",
         "x": [
          "2024-04-25T03:36:00"
         ],
         "y": [
          6941.16
         ]
        },
        {
         "mode": "lines+markers",
         "name": "placa-de-video-rtx-4070-ti-rog-strix-gaming-asus-nvidia-geforce-12-gb-gddr6x-argb-ray-tracing-rog-strix-rtx4070ti-o12g-gaming",
         "type": "scatter",
         "x": [
          "2024-04-25T03:36:00"
         ],
         "y": [
          7999.99
         ]
        },
        {
         "mode": "lines+markers",
         "name": "placa-de-video-rtx-4070-ti-super-msi-16g-gaming-x-slim-nvidia-geforce-16gb-gddr6x-dlss-ray-tracing",
         "type": "scatter",
         "x": [
          "2024-04-25T03:36:00"
         ],
         "y": [
          7411.75
         ]
        },
        {
         "mode": "lines+markers",
         "name": "placa-de-video-rtx-4070-ti-super-gigabyte-windforce-nvidia-geforce-16gb-gddr6-dlss-ray-tracing-gv-n407tswf3oc-16gd",
         "type": "scatter",
         "x": [
          "2024-04-25T03:36:00"
         ],
         "y": [
          6470.58
         ]
        },
        {
         "mode": "lines+markers",
         "name": "placa-de-video-rtx-4070-ti-super-gamingpro-white-oc-palit-nvidia-geforce-16gb-gddr6x-dlss-ray-trancing-g-sync-ned47tst19t2-1043w",
         "type": "scatter",
         "x": [
          "2024-04-25T03:36:00"
         ],
         "y": [
          6941.16
         ]
        },
        {
         "mode": "lines+markers",
         "name": "placa-de-video-msi-geforce-rtx-4070-ti-ventus-3x-e-12g-oc-12",
         "type": "scatter",
         "x": [
          "2024-04-25T03:36:00"
         ],
         "y": [
          4978.84
         ]
        },
        {
         "mode": "lines+markers",
         "name": "placa-de-video-rtx-4070-ti-gigabyte-nvidia-geforce-12-gb-gddr6x-dlss-3-ray-tracing-gv-n407teagle-oc-12gd",
         "type": "scatter",
         "x": [
          "2024-04-25T03:36:00"
         ],
         "y": [
          7294.11
         ]
        },
        {
         "mode": "lines+markers",
         "name": "placa-de-video-gigabyte-geforce-rtx-4070-ti-super-eagle-oc-16gb-gddr6x-256-bits",
         "type": "scatter",
         "x": [
          "2024-04-25T03:36:00"
         ],
         "y": [
          6124.89
         ]
        },
        {
         "mode": "lines+markers",
         "name": "placa-de-video-rtx-4070-ti-xlr8-gaming-verto-tf-oc-pny-nvidia-geforce-12gb-gddr6x-dlss-3-ray-tracing-vcg4070t12tfxxpb1-o",
         "type": "scatter",
         "x": [
          "2024-04-25T03:36:00"
         ],
         "y": [
          6235.28
         ]
        },
        {
         "mode": "lines+markers",
         "name": "placa-de-video-colorful-igame-rtx-4070-ti-ultra-w-oc-v",
         "type": "scatter",
         "x": [
          "2024-04-25T03:36:00"
         ],
         "y": [
          5599
         ]
        },
        {
         "mode": "lines+markers",
         "name": "placa-de-video-rtx-4070-ti-super-ex-galax-nvidia-geforce-16gb-gddr6x-47uzm6md9bup",
         "type": "scatter",
         "x": [
          "2024-04-25T03:36:00"
         ],
         "y": [
          9373.9
         ]
        },
        {
         "mode": "lines+markers",
         "name": "placa-de-video-rtx-4070-ti-super-oc-asus-tuf-gaming-geforce-16gb-gddr6x",
         "type": "scatter",
         "x": [
          "2024-04-25T03:36:00"
         ],
         "y": [
          8855.57
         ]
        },
        {
         "mode": "lines+markers",
         "name": "placa-de-video-colorful-igame-rtx-4070-ti-advanced-oc-v",
         "type": "scatter",
         "x": [
          "2024-04-25T03:36:00"
         ],
         "y": [
          6211
         ]
        },
        {
         "mode": "lines+markers",
         "name": "placa-de-video-galax-geforce-rtx-4070-ti-super-sg-oc-16gb-gddr6x-256-bit-47uzm6md6mer",
         "type": "scatter",
         "x": [
          "2024-04-25T03:36:00"
         ],
         "y": [
          8697.39
         ]
        },
        {
         "mode": "lines+markers",
         "name": "placa-de-video-colorful-nvidia-geforce-rtx-4070-ti-nb-ex-v-12gb-gddr6x-ray-tracing-de-3-geracao-dlss-3-g-sync-285w-tdp-3xdp-1xhdmi",
         "type": "scatter",
         "x": [
          "2024-04-25T03:36:00"
         ],
         "y": [
          5599
         ]
        },
        {
         "mode": "lines+markers",
         "name": "placa-de-video-gigabyte-nvidia-geforce-rtx-4070-ti-eagle-oc-12gb-gddr6x-192bits-gv-n407teagle",
         "type": "scatter",
         "x": [
          "2024-04-25T03:36:00"
         ],
         "y": [
          6999.9
         ]
        },
        {
         "mode": "lines+markers",
         "name": "placa-de-video-rtx-4070-ti-msi-geforce-super-ventus-3x-oc-16gb-gddr6x-256-bits-912-v513-627",
         "type": "scatter",
         "x": [
          "2024-04-25T03:36:00"
         ],
         "y": [
          6590.8
         ]
        },
        {
         "mode": "lines+markers",
         "name": "placa-de-video-rtx-4070-ti-super-gamingpro-oc-palit-nvidia-geforce-16gb-gddr6x-dlss-ray-trancing-g-sync-ned47tsh19t2-1043a",
         "type": "scatter",
         "x": [
          "2024-04-25T03:36:00"
         ],
         "y": [
          6941.16
         ]
        },
        {
         "mode": "lines+markers",
         "name": "zotac-gaming-geforce-rtx-4070-ti-super-trinity-oc-white-edition-16gb-gddr6x-zt-d40730q-10p",
         "type": "scatter",
         "x": [
          "2024-04-25T03:36:00"
         ],
         "y": [
          9019.45
         ]
        },
        {
         "mode": "lines+markers",
         "name": "placa-de-video-palit-gamingpro-nvidia-rtx-4070-ti-12gb-gddr6x-192bits",
         "type": "scatter",
         "x": [
          "2024-04-25T03:36:00"
         ],
         "y": [
          5568.07
         ]
        },
        {
         "mode": "lines+markers",
         "name": "placa-de-video-nvidia-gigabyte-geforce-rtx-4070-ti-super-windforce-oc-16gb-gddr6x-256-bits-gv-n407tswf3oc-16gd",
         "type": "scatter",
         "x": [
          "2024-04-25T03:36:00"
         ],
         "y": [
          8273.28
         ]
        }
       ],
       "layout": {
        "legend": {
         "font": {
          "size": 10
         },
         "itemwidth": 30,
         "orientation": "v",
         "x": 10,
         "y": 0
        },
        "margin": {
         "b": 150,
         "l": 50,
         "r": 50,
         "t": 80
        },
        "template": {
         "data": {
          "bar": [
           {
            "error_x": {
             "color": "#2a3f5f"
            },
            "error_y": {
             "color": "#2a3f5f"
            },
            "marker": {
             "line": {
              "color": "#E5ECF6",
              "width": 0.5
             },
             "pattern": {
              "fillmode": "overlay",
              "size": 10,
              "solidity": 0.2
             }
            },
            "type": "bar"
           }
          ],
          "barpolar": [
           {
            "marker": {
             "line": {
              "color": "#E5ECF6",
              "width": 0.5
             },
             "pattern": {
              "fillmode": "overlay",
              "size": 10,
              "solidity": 0.2
             }
            },
            "type": "barpolar"
           }
          ],
          "carpet": [
           {
            "aaxis": {
             "endlinecolor": "#2a3f5f",
             "gridcolor": "white",
             "linecolor": "white",
             "minorgridcolor": "white",
             "startlinecolor": "#2a3f5f"
            },
            "baxis": {
             "endlinecolor": "#2a3f5f",
             "gridcolor": "white",
             "linecolor": "white",
             "minorgridcolor": "white",
             "startlinecolor": "#2a3f5f"
            },
            "type": "carpet"
           }
          ],
          "choropleth": [
           {
            "colorbar": {
             "outlinewidth": 0,
             "ticks": ""
            },
            "type": "choropleth"
           }
          ],
          "contour": [
           {
            "colorbar": {
             "outlinewidth": 0,
             "ticks": ""
            },
            "colorscale": [
             [
              0,
              "#0d0887"
             ],
             [
              0.1111111111111111,
              "#46039f"
             ],
             [
              0.2222222222222222,
              "#7201a8"
             ],
             [
              0.3333333333333333,
              "#9c179e"
             ],
             [
              0.4444444444444444,
              "#bd3786"
             ],
             [
              0.5555555555555556,
              "#d8576b"
             ],
             [
              0.6666666666666666,
              "#ed7953"
             ],
             [
              0.7777777777777778,
              "#fb9f3a"
             ],
             [
              0.8888888888888888,
              "#fdca26"
             ],
             [
              1,
              "#f0f921"
             ]
            ],
            "type": "contour"
           }
          ],
          "contourcarpet": [
           {
            "colorbar": {
             "outlinewidth": 0,
             "ticks": ""
            },
            "type": "contourcarpet"
           }
          ],
          "heatmap": [
           {
            "colorbar": {
             "outlinewidth": 0,
             "ticks": ""
            },
            "colorscale": [
             [
              0,
              "#0d0887"
             ],
             [
              0.1111111111111111,
              "#46039f"
             ],
             [
              0.2222222222222222,
              "#7201a8"
             ],
             [
              0.3333333333333333,
              "#9c179e"
             ],
             [
              0.4444444444444444,
              "#bd3786"
             ],
             [
              0.5555555555555556,
              "#d8576b"
             ],
             [
              0.6666666666666666,
              "#ed7953"
             ],
             [
              0.7777777777777778,
              "#fb9f3a"
             ],
             [
              0.8888888888888888,
              "#fdca26"
             ],
             [
              1,
              "#f0f921"
             ]
            ],
            "type": "heatmap"
           }
          ],
          "heatmapgl": [
           {
            "colorbar": {
             "outlinewidth": 0,
             "ticks": ""
            },
            "colorscale": [
             [
              0,
              "#0d0887"
             ],
             [
              0.1111111111111111,
              "#46039f"
             ],
             [
              0.2222222222222222,
              "#7201a8"
             ],
             [
              0.3333333333333333,
              "#9c179e"
             ],
             [
              0.4444444444444444,
              "#bd3786"
             ],
             [
              0.5555555555555556,
              "#d8576b"
             ],
             [
              0.6666666666666666,
              "#ed7953"
             ],
             [
              0.7777777777777778,
              "#fb9f3a"
             ],
             [
              0.8888888888888888,
              "#fdca26"
             ],
             [
              1,
              "#f0f921"
             ]
            ],
            "type": "heatmapgl"
           }
          ],
          "histogram": [
           {
            "marker": {
             "pattern": {
              "fillmode": "overlay",
              "size": 10,
              "solidity": 0.2
             }
            },
            "type": "histogram"
           }
          ],
          "histogram2d": [
           {
            "colorbar": {
             "outlinewidth": 0,
             "ticks": ""
            },
            "colorscale": [
             [
              0,
              "#0d0887"
             ],
             [
              0.1111111111111111,
              "#46039f"
             ],
             [
              0.2222222222222222,
              "#7201a8"
             ],
             [
              0.3333333333333333,
              "#9c179e"
             ],
             [
              0.4444444444444444,
              "#bd3786"
             ],
             [
              0.5555555555555556,
              "#d8576b"
             ],
             [
              0.6666666666666666,
              "#ed7953"
             ],
             [
              0.7777777777777778,
              "#fb9f3a"
             ],
             [
              0.8888888888888888,
              "#fdca26"
             ],
             [
              1,
              "#f0f921"
             ]
            ],
            "type": "histogram2d"
           }
          ],
          "histogram2dcontour": [
           {
            "colorbar": {
             "outlinewidth": 0,
             "ticks": ""
            },
            "colorscale": [
             [
              0,
              "#0d0887"
             ],
             [
              0.1111111111111111,
              "#46039f"
             ],
             [
              0.2222222222222222,
              "#7201a8"
             ],
             [
              0.3333333333333333,
              "#9c179e"
             ],
             [
              0.4444444444444444,
              "#bd3786"
             ],
             [
              0.5555555555555556,
              "#d8576b"
             ],
             [
              0.6666666666666666,
              "#ed7953"
             ],
             [
              0.7777777777777778,
              "#fb9f3a"
             ],
             [
              0.8888888888888888,
              "#fdca26"
             ],
             [
              1,
              "#f0f921"
             ]
            ],
            "type": "histogram2dcontour"
           }
          ],
          "mesh3d": [
           {
            "colorbar": {
             "outlinewidth": 0,
             "ticks": ""
            },
            "type": "mesh3d"
           }
          ],
          "parcoords": [
           {
            "line": {
             "colorbar": {
              "outlinewidth": 0,
              "ticks": ""
             }
            },
            "type": "parcoords"
           }
          ],
          "pie": [
           {
            "automargin": true,
            "type": "pie"
           }
          ],
          "scatter": [
           {
            "fillpattern": {
             "fillmode": "overlay",
             "size": 10,
             "solidity": 0.2
            },
            "type": "scatter"
           }
          ],
          "scatter3d": [
           {
            "line": {
             "colorbar": {
              "outlinewidth": 0,
              "ticks": ""
             }
            },
            "marker": {
             "colorbar": {
              "outlinewidth": 0,
              "ticks": ""
             }
            },
            "type": "scatter3d"
           }
          ],
          "scattercarpet": [
           {
            "marker": {
             "colorbar": {
              "outlinewidth": 0,
              "ticks": ""
             }
            },
            "type": "scattercarpet"
           }
          ],
          "scattergeo": [
           {
            "marker": {
             "colorbar": {
              "outlinewidth": 0,
              "ticks": ""
             }
            },
            "type": "scattergeo"
           }
          ],
          "scattergl": [
           {
            "marker": {
             "colorbar": {
              "outlinewidth": 0,
              "ticks": ""
             }
            },
            "type": "scattergl"
           }
          ],
          "scattermapbox": [
           {
            "marker": {
             "colorbar": {
              "outlinewidth": 0,
              "ticks": ""
             }
            },
            "type": "scattermapbox"
           }
          ],
          "scatterpolar": [
           {
            "marker": {
             "colorbar": {
              "outlinewidth": 0,
              "ticks": ""
             }
            },
            "type": "scatterpolar"
           }
          ],
          "scatterpolargl": [
           {
            "marker": {
             "colorbar": {
              "outlinewidth": 0,
              "ticks": ""
             }
            },
            "type": "scatterpolargl"
           }
          ],
          "scatterternary": [
           {
            "marker": {
             "colorbar": {
              "outlinewidth": 0,
              "ticks": ""
             }
            },
            "type": "scatterternary"
           }
          ],
          "surface": [
           {
            "colorbar": {
             "outlinewidth": 0,
             "ticks": ""
            },
            "colorscale": [
             [
              0,
              "#0d0887"
             ],
             [
              0.1111111111111111,
              "#46039f"
             ],
             [
              0.2222222222222222,
              "#7201a8"
             ],
             [
              0.3333333333333333,
              "#9c179e"
             ],
             [
              0.4444444444444444,
              "#bd3786"
             ],
             [
              0.5555555555555556,
              "#d8576b"
             ],
             [
              0.6666666666666666,
              "#ed7953"
             ],
             [
              0.7777777777777778,
              "#fb9f3a"
             ],
             [
              0.8888888888888888,
              "#fdca26"
             ],
             [
              1,
              "#f0f921"
             ]
            ],
            "type": "surface"
           }
          ],
          "table": [
           {
            "cells": {
             "fill": {
              "color": "#EBF0F8"
             },
             "line": {
              "color": "white"
             }
            },
            "header": {
             "fill": {
              "color": "#C8D4E3"
             },
             "line": {
              "color": "white"
             }
            },
            "type": "table"
           }
          ]
         },
         "layout": {
          "annotationdefaults": {
           "arrowcolor": "#2a3f5f",
           "arrowhead": 0,
           "arrowwidth": 1
          },
          "autotypenumbers": "strict",
          "coloraxis": {
           "colorbar": {
            "outlinewidth": 0,
            "ticks": ""
           }
          },
          "colorscale": {
           "diverging": [
            [
             0,
             "#8e0152"
            ],
            [
             0.1,
             "#c51b7d"
            ],
            [
             0.2,
             "#de77ae"
            ],
            [
             0.3,
             "#f1b6da"
            ],
            [
             0.4,
             "#fde0ef"
            ],
            [
             0.5,
             "#f7f7f7"
            ],
            [
             0.6,
             "#e6f5d0"
            ],
            [
             0.7,
             "#b8e186"
            ],
            [
             0.8,
             "#7fbc41"
            ],
            [
             0.9,
             "#4d9221"
            ],
            [
             1,
             "#276419"
            ]
           ],
           "sequential": [
            [
             0,
             "#0d0887"
            ],
            [
             0.1111111111111111,
             "#46039f"
            ],
            [
             0.2222222222222222,
             "#7201a8"
            ],
            [
             0.3333333333333333,
             "#9c179e"
            ],
            [
             0.4444444444444444,
             "#bd3786"
            ],
            [
             0.5555555555555556,
             "#d8576b"
            ],
            [
             0.6666666666666666,
             "#ed7953"
            ],
            [
             0.7777777777777778,
             "#fb9f3a"
            ],
            [
             0.8888888888888888,
             "#fdca26"
            ],
            [
             1,
             "#f0f921"
            ]
           ],
           "sequentialminus": [
            [
             0,
             "#0d0887"
            ],
            [
             0.1111111111111111,
             "#46039f"
            ],
            [
             0.2222222222222222,
             "#7201a8"
            ],
            [
             0.3333333333333333,
             "#9c179e"
            ],
            [
             0.4444444444444444,
             "#bd3786"
            ],
            [
             0.5555555555555556,
             "#d8576b"
            ],
            [
             0.6666666666666666,
             "#ed7953"
            ],
            [
             0.7777777777777778,
             "#fb9f3a"
            ],
            [
             0.8888888888888888,
             "#fdca26"
            ],
            [
             1,
             "#f0f921"
            ]
           ]
          },
          "colorway": [
           "#636efa",
           "#EF553B",
           "#00cc96",
           "#ab63fa",
           "#FFA15A",
           "#19d3f3",
           "#FF6692",
           "#B6E880",
           "#FF97FF",
           "#FECB52"
          ],
          "font": {
           "color": "#2a3f5f"
          },
          "geo": {
           "bgcolor": "white",
           "lakecolor": "white",
           "landcolor": "#E5ECF6",
           "showlakes": true,
           "showland": true,
           "subunitcolor": "white"
          },
          "hoverlabel": {
           "align": "left"
          },
          "hovermode": "closest",
          "mapbox": {
           "style": "light"
          },
          "paper_bgcolor": "white",
          "plot_bgcolor": "#E5ECF6",
          "polar": {
           "angularaxis": {
            "gridcolor": "white",
            "linecolor": "white",
            "ticks": ""
           },
           "bgcolor": "#E5ECF6",
           "radialaxis": {
            "gridcolor": "white",
            "linecolor": "white",
            "ticks": ""
           }
          },
          "scene": {
           "xaxis": {
            "backgroundcolor": "#E5ECF6",
            "gridcolor": "white",
            "gridwidth": 2,
            "linecolor": "white",
            "showbackground": true,
            "ticks": "",
            "zerolinecolor": "white"
           },
           "yaxis": {
            "backgroundcolor": "#E5ECF6",
            "gridcolor": "white",
            "gridwidth": 2,
            "linecolor": "white",
            "showbackground": true,
            "ticks": "",
            "zerolinecolor": "white"
           },
           "zaxis": {
            "backgroundcolor": "#E5ECF6",
            "gridcolor": "white",
            "gridwidth": 2,
            "linecolor": "white",
            "showbackground": true,
            "ticks": "",
            "zerolinecolor": "white"
           }
          },
          "shapedefaults": {
           "line": {
            "color": "#2a3f5f"
           }
          },
          "ternary": {
           "aaxis": {
            "gridcolor": "white",
            "linecolor": "white",
            "ticks": ""
           },
           "baxis": {
            "gridcolor": "white",
            "linecolor": "white",
            "ticks": ""
           },
           "bgcolor": "#E5ECF6",
           "caxis": {
            "gridcolor": "white",
            "linecolor": "white",
            "ticks": ""
           }
          },
          "title": {
           "x": 0.05
          },
          "xaxis": {
           "automargin": true,
           "gridcolor": "white",
           "linecolor": "white",
           "ticks": "",
           "title": {
            "standoff": 15
           },
           "zerolinecolor": "white",
           "zerolinewidth": 2
          },
          "yaxis": {
           "automargin": true,
           "gridcolor": "white",
           "linecolor": "white",
           "ticks": "",
           "title": {
            "standoff": 15
           },
           "zerolinecolor": "white",
           "zerolinewidth": 2
          }
         }
        },
        "title": {
         "text": "Evolução dos Preços - Modelo: RTX 4070 TI"
        },
        "xaxis": {
         "title": {
          "text": "Data"
         }
        },
        "yaxis": {
         "tickformat": ".2f",
         "tickprefix": "R$ ",
         "title": {
          "text": "Preço"
         }
        }
       }
      }
     },
     "metadata": {},
     "output_type": "display_data"
    },
    {
     "data": {
      "application/vnd.plotly.v1+json": {
       "config": {
        "plotlyServerURL": "https://plot.ly"
       },
       "data": [
        {
         "mode": "lines+markers",
         "name": "placa-de-video-rtx-4080-super-sg-galax-nvidia-geforce-16gb-gddr6x-dlss-ray-tracing-g-sync-48szm6md9rsg",
         "type": "scatter",
         "x": [
          "2024-04-25T03:36:00"
         ],
         "y": [
          8470.58
         ]
        },
        {
         "mode": "lines+markers",
         "name": "placa-de-video-rtx-4080-super-msi-16g-ventus-3x-oc-nvidia-geforce-16gb-gddr6x-dlss-ray-tracing",
         "type": "scatter",
         "x": [
          "2024-04-25T03:36:00"
         ],
         "y": [
          9058.81
         ]
        },
        {
         "mode": "lines+markers",
         "name": "placa-de-video-rtx-4080-black-st-galax-nvidia-16gb-gddr6x-256-bits-3-dp-hdmi-2-1-dlss3-48nzm6md6lts",
         "type": "scatter",
         "x": [
          "2024-04-25T03:36:00"
         ],
         "y": [
          7850
         ]
        },
        {
         "mode": "lines+markers",
         "name": "placa-de-video-rtx-4080-super-oc-gaming-verto-triple-fan-pny-nvidia-geforce-16gb-gddr6x-dlss-3-ray-tracing-vcg4080s16tfxpb1-o",
         "type": "scatter",
         "x": [
          "2024-04-25T03:36:00"
         ],
         "y": [
          8235.28
         ]
        },
        {
         "mode": "lines+markers",
         "name": "placa-de-video-rtx-4080-rog-strix-edition-asus-nvidia-geforce-16gb-gddr6x-argb-dlss-ray-tracing-branco-rog-strix-rtx4080-o16g-white",
         "type": "scatter",
         "x": [
          "2024-04-25T03:36:00"
         ],
         "y": [
          10588.22
         ]
        },
        {
         "mode": "lines+markers",
         "name": "placa-de-video-rtx-4080-edition-asus-rog-strix-nvidia-geforce-16-gb-gddr6x-argb-dlss-ray-tracing-rog-strix-rtx4080-o16g-gaming",
         "type": "scatter",
         "x": [
          "2024-04-25T03:36:00"
         ],
         "y": [
          9999.99
         ]
        },
        {
         "mode": "lines+markers",
         "name": "placa-de-video-rtx-4080-super-oc-gaming-verto-epic-x-rgb-triple-fan-pny-nvidia-geforce-16gb-gddr6x-dlss-3-ray-tracing-vcg4080s16tfxxpb1-o",
         "type": "scatter",
         "x": [
          "2024-04-25T03:36:00"
         ],
         "y": [
          8470.58
         ]
        },
        {
         "mode": "lines+markers",
         "name": "placa-de-video-rtx-4080-super-gamingpro-oc-palit-nvidia-geforce-16gb-gddr6x-dlss-ray-trancing-g-sync-ned408st19t2-1032a",
         "type": "scatter",
         "x": [
          "2024-04-25T03:36:00"
         ],
         "y": [
          8470.58
         ]
        },
        {
         "mode": "lines+markers",
         "name": "placa-de-video-rtx-4080-super-windforce-gigabyte-nvidia-geforce-16gb-gddr6x-dlss-ray-tracing-gv-n408swf3-16gd",
         "type": "scatter",
         "x": [
          "2024-04-25T03:36:00"
         ],
         "y": [
          7999.9
         ]
        },
        {
         "mode": "lines+markers",
         "name": "placa-de-video-rtx-4080-16gb-super-256-bits-gddr6x-ventus-3x-oc-912-v511-233",
         "type": "scatter",
         "x": [
          "2024-04-25T03:36:00"
         ],
         "y": [
          11991.7
         ]
        },
        {
         "mode": "lines+markers",
         "name": "placa-de-video-rtx-4080-tuf-oc-edition-asus-nvidia-geforce-16-gb-gddr6x-argb-dlss-ray-tracing-tuf-rtx4080-o16g-gaming",
         "type": "scatter",
         "x": [
          "2024-04-25T03:36:00"
         ],
         "y": [
          9999.99
         ]
        },
        {
         "mode": "lines+markers",
         "name": "placa-de-video-rtx-4080-xlr8-gaming-verto-epic-x-rgb-pny-nvidia-geforce-16-gb-gddr6x-dlss-ray-tracing-vcg408016tfxxpb1-o",
         "type": "scatter",
         "x": [
          "2024-04-25T03:36:00"
         ],
         "y": [
          8235.28
         ]
        },
        {
         "mode": "lines+markers",
         "name": "placa-de-video-rtx-4080-super-gigabyte-gaming-oc-nvidia-geforce-16gb-gddr6-dlss-ray-tracing-gv-n408sgaming-oc-16gd",
         "type": "scatter",
         "x": [
          "2024-04-25T03:36:00"
         ],
         "y": [
          11764.69
         ]
        },
        {
         "mode": "lines+markers",
         "name": "placa-de-video-rtx-4080-sg-1-click-oc-galax-geforce-16gb-gddr6x-argb-dlss-ray-tracing-48nzm6md6lsgbr",
         "type": "scatter",
         "x": [
          "2024-04-25T03:36:00"
         ],
         "y": [
          9999.9
         ]
        },
        {
         "mode": "lines+markers",
         "name": "placa-de-video-rtx-4080-super-sg-galax-nvidia-geforce-16gb-gddr6x-256bits",
         "type": "scatter",
         "x": [
          "2024-04-25T03:36:00"
         ],
         "y": [
          11689.9
         ]
        },
        {
         "mode": "lines+markers",
         "name": "placa-de-video-colorful-igame-rtx-4080-16gb-vulcan-oc-v",
         "type": "scatter",
         "x": [
          "2024-04-25T03:36:00"
         ],
         "y": [
          9399
         ]
        },
        {
         "mode": "lines+markers",
         "name": "placa-de-video-msi-nvidia-geforce-rtx-4080-16gb-256-bit-gddr6x",
         "type": "scatter",
         "x": [
          "2024-04-25T03:36:00"
         ],
         "y": [
          11179.99
         ]
        },
        {
         "mode": "lines+markers",
         "name": "placa-de-video-nvidia-msi-geforce-rtx-4080-gaming-x-trio-16gb-ddr6-256-bits-912-v511-046",
         "type": "scatter",
         "x": [
          "2024-04-25T03:36:00"
         ],
         "y": [
          10026.9
         ]
        },
        {
         "mode": "lines+markers",
         "name": "placa-de-video-rtx-4080-gaming-x-trio-msi-nvidia-geforce-16-gb-gddr6x-dlss-ray-tracing-geforce-rtx-4080-16gb-gaming-x-trio",
         "type": "scatter",
         "x": [
          "2024-04-25T03:36:00"
         ],
         "y": [
          8490
         ]
        },
        {
         "mode": "lines+markers",
         "name": "zotac-gaming-geforce-rtx-4080-super-trinity-white-edition-16gb-gddr6x-zt-d40820q-10p",
         "type": "scatter",
         "x": [
          "2024-04-25T03:36:00"
         ],
         "y": [
          11468.45
         ]
        },
        {
         "mode": "lines+markers",
         "name": "bloco-placa-de-video-gpu-block-asus-rtx-4080-tuf-e-strix-barrow-rgb",
         "type": "scatter",
         "x": [
          "2024-04-25T03:36:00"
         ],
         "y": [
          1190.88
         ]
        },
        {
         "mode": "lines+markers",
         "name": "placa-de-video-nvidia-gigabyte-geforce-rtx-4080-gaming-oc-16gb-gddr6x-256-bits-gv-n4080gaming-oc-16",
         "type": "scatter",
         "x": [
          "2024-04-25T03:36:00"
         ],
         "y": [
          10705.22
         ]
        }
       ],
       "layout": {
        "legend": {
         "font": {
          "size": 10
         },
         "itemwidth": 30,
         "orientation": "v",
         "x": 10,
         "y": 0
        },
        "margin": {
         "b": 150,
         "l": 50,
         "r": 50,
         "t": 80
        },
        "template": {
         "data": {
          "bar": [
           {
            "error_x": {
             "color": "#2a3f5f"
            },
            "error_y": {
             "color": "#2a3f5f"
            },
            "marker": {
             "line": {
              "color": "#E5ECF6",
              "width": 0.5
             },
             "pattern": {
              "fillmode": "overlay",
              "size": 10,
              "solidity": 0.2
             }
            },
            "type": "bar"
           }
          ],
          "barpolar": [
           {
            "marker": {
             "line": {
              "color": "#E5ECF6",
              "width": 0.5
             },
             "pattern": {
              "fillmode": "overlay",
              "size": 10,
              "solidity": 0.2
             }
            },
            "type": "barpolar"
           }
          ],
          "carpet": [
           {
            "aaxis": {
             "endlinecolor": "#2a3f5f",
             "gridcolor": "white",
             "linecolor": "white",
             "minorgridcolor": "white",
             "startlinecolor": "#2a3f5f"
            },
            "baxis": {
             "endlinecolor": "#2a3f5f",
             "gridcolor": "white",
             "linecolor": "white",
             "minorgridcolor": "white",
             "startlinecolor": "#2a3f5f"
            },
            "type": "carpet"
           }
          ],
          "choropleth": [
           {
            "colorbar": {
             "outlinewidth": 0,
             "ticks": ""
            },
            "type": "choropleth"
           }
          ],
          "contour": [
           {
            "colorbar": {
             "outlinewidth": 0,
             "ticks": ""
            },
            "colorscale": [
             [
              0,
              "#0d0887"
             ],
             [
              0.1111111111111111,
              "#46039f"
             ],
             [
              0.2222222222222222,
              "#7201a8"
             ],
             [
              0.3333333333333333,
              "#9c179e"
             ],
             [
              0.4444444444444444,
              "#bd3786"
             ],
             [
              0.5555555555555556,
              "#d8576b"
             ],
             [
              0.6666666666666666,
              "#ed7953"
             ],
             [
              0.7777777777777778,
              "#fb9f3a"
             ],
             [
              0.8888888888888888,
              "#fdca26"
             ],
             [
              1,
              "#f0f921"
             ]
            ],
            "type": "contour"
           }
          ],
          "contourcarpet": [
           {
            "colorbar": {
             "outlinewidth": 0,
             "ticks": ""
            },
            "type": "contourcarpet"
           }
          ],
          "heatmap": [
           {
            "colorbar": {
             "outlinewidth": 0,
             "ticks": ""
            },
            "colorscale": [
             [
              0,
              "#0d0887"
             ],
             [
              0.1111111111111111,
              "#46039f"
             ],
             [
              0.2222222222222222,
              "#7201a8"
             ],
             [
              0.3333333333333333,
              "#9c179e"
             ],
             [
              0.4444444444444444,
              "#bd3786"
             ],
             [
              0.5555555555555556,
              "#d8576b"
             ],
             [
              0.6666666666666666,
              "#ed7953"
             ],
             [
              0.7777777777777778,
              "#fb9f3a"
             ],
             [
              0.8888888888888888,
              "#fdca26"
             ],
             [
              1,
              "#f0f921"
             ]
            ],
            "type": "heatmap"
           }
          ],
          "heatmapgl": [
           {
            "colorbar": {
             "outlinewidth": 0,
             "ticks": ""
            },
            "colorscale": [
             [
              0,
              "#0d0887"
             ],
             [
              0.1111111111111111,
              "#46039f"
             ],
             [
              0.2222222222222222,
              "#7201a8"
             ],
             [
              0.3333333333333333,
              "#9c179e"
             ],
             [
              0.4444444444444444,
              "#bd3786"
             ],
             [
              0.5555555555555556,
              "#d8576b"
             ],
             [
              0.6666666666666666,
              "#ed7953"
             ],
             [
              0.7777777777777778,
              "#fb9f3a"
             ],
             [
              0.8888888888888888,
              "#fdca26"
             ],
             [
              1,
              "#f0f921"
             ]
            ],
            "type": "heatmapgl"
           }
          ],
          "histogram": [
           {
            "marker": {
             "pattern": {
              "fillmode": "overlay",
              "size": 10,
              "solidity": 0.2
             }
            },
            "type": "histogram"
           }
          ],
          "histogram2d": [
           {
            "colorbar": {
             "outlinewidth": 0,
             "ticks": ""
            },
            "colorscale": [
             [
              0,
              "#0d0887"
             ],
             [
              0.1111111111111111,
              "#46039f"
             ],
             [
              0.2222222222222222,
              "#7201a8"
             ],
             [
              0.3333333333333333,
              "#9c179e"
             ],
             [
              0.4444444444444444,
              "#bd3786"
             ],
             [
              0.5555555555555556,
              "#d8576b"
             ],
             [
              0.6666666666666666,
              "#ed7953"
             ],
             [
              0.7777777777777778,
              "#fb9f3a"
             ],
             [
              0.8888888888888888,
              "#fdca26"
             ],
             [
              1,
              "#f0f921"
             ]
            ],
            "type": "histogram2d"
           }
          ],
          "histogram2dcontour": [
           {
            "colorbar": {
             "outlinewidth": 0,
             "ticks": ""
            },
            "colorscale": [
             [
              0,
              "#0d0887"
             ],
             [
              0.1111111111111111,
              "#46039f"
             ],
             [
              0.2222222222222222,
              "#7201a8"
             ],
             [
              0.3333333333333333,
              "#9c179e"
             ],
             [
              0.4444444444444444,
              "#bd3786"
             ],
             [
              0.5555555555555556,
              "#d8576b"
             ],
             [
              0.6666666666666666,
              "#ed7953"
             ],
             [
              0.7777777777777778,
              "#fb9f3a"
             ],
             [
              0.8888888888888888,
              "#fdca26"
             ],
             [
              1,
              "#f0f921"
             ]
            ],
            "type": "histogram2dcontour"
           }
          ],
          "mesh3d": [
           {
            "colorbar": {
             "outlinewidth": 0,
             "ticks": ""
            },
            "type": "mesh3d"
           }
          ],
          "parcoords": [
           {
            "line": {
             "colorbar": {
              "outlinewidth": 0,
              "ticks": ""
             }
            },
            "type": "parcoords"
           }
          ],
          "pie": [
           {
            "automargin": true,
            "type": "pie"
           }
          ],
          "scatter": [
           {
            "fillpattern": {
             "fillmode": "overlay",
             "size": 10,
             "solidity": 0.2
            },
            "type": "scatter"
           }
          ],
          "scatter3d": [
           {
            "line": {
             "colorbar": {
              "outlinewidth": 0,
              "ticks": ""
             }
            },
            "marker": {
             "colorbar": {
              "outlinewidth": 0,
              "ticks": ""
             }
            },
            "type": "scatter3d"
           }
          ],
          "scattercarpet": [
           {
            "marker": {
             "colorbar": {
              "outlinewidth": 0,
              "ticks": ""
             }
            },
            "type": "scattercarpet"
           }
          ],
          "scattergeo": [
           {
            "marker": {
             "colorbar": {
              "outlinewidth": 0,
              "ticks": ""
             }
            },
            "type": "scattergeo"
           }
          ],
          "scattergl": [
           {
            "marker": {
             "colorbar": {
              "outlinewidth": 0,
              "ticks": ""
             }
            },
            "type": "scattergl"
           }
          ],
          "scattermapbox": [
           {
            "marker": {
             "colorbar": {
              "outlinewidth": 0,
              "ticks": ""
             }
            },
            "type": "scattermapbox"
           }
          ],
          "scatterpolar": [
           {
            "marker": {
             "colorbar": {
              "outlinewidth": 0,
              "ticks": ""
             }
            },
            "type": "scatterpolar"
           }
          ],
          "scatterpolargl": [
           {
            "marker": {
             "colorbar": {
              "outlinewidth": 0,
              "ticks": ""
             }
            },
            "type": "scatterpolargl"
           }
          ],
          "scatterternary": [
           {
            "marker": {
             "colorbar": {
              "outlinewidth": 0,
              "ticks": ""
             }
            },
            "type": "scatterternary"
           }
          ],
          "surface": [
           {
            "colorbar": {
             "outlinewidth": 0,
             "ticks": ""
            },
            "colorscale": [
             [
              0,
              "#0d0887"
             ],
             [
              0.1111111111111111,
              "#46039f"
             ],
             [
              0.2222222222222222,
              "#7201a8"
             ],
             [
              0.3333333333333333,
              "#9c179e"
             ],
             [
              0.4444444444444444,
              "#bd3786"
             ],
             [
              0.5555555555555556,
              "#d8576b"
             ],
             [
              0.6666666666666666,
              "#ed7953"
             ],
             [
              0.7777777777777778,
              "#fb9f3a"
             ],
             [
              0.8888888888888888,
              "#fdca26"
             ],
             [
              1,
              "#f0f921"
             ]
            ],
            "type": "surface"
           }
          ],
          "table": [
           {
            "cells": {
             "fill": {
              "color": "#EBF0F8"
             },
             "line": {
              "color": "white"
             }
            },
            "header": {
             "fill": {
              "color": "#C8D4E3"
             },
             "line": {
              "color": "white"
             }
            },
            "type": "table"
           }
          ]
         },
         "layout": {
          "annotationdefaults": {
           "arrowcolor": "#2a3f5f",
           "arrowhead": 0,
           "arrowwidth": 1
          },
          "autotypenumbers": "strict",
          "coloraxis": {
           "colorbar": {
            "outlinewidth": 0,
            "ticks": ""
           }
          },
          "colorscale": {
           "diverging": [
            [
             0,
             "#8e0152"
            ],
            [
             0.1,
             "#c51b7d"
            ],
            [
             0.2,
             "#de77ae"
            ],
            [
             0.3,
             "#f1b6da"
            ],
            [
             0.4,
             "#fde0ef"
            ],
            [
             0.5,
             "#f7f7f7"
            ],
            [
             0.6,
             "#e6f5d0"
            ],
            [
             0.7,
             "#b8e186"
            ],
            [
             0.8,
             "#7fbc41"
            ],
            [
             0.9,
             "#4d9221"
            ],
            [
             1,
             "#276419"
            ]
           ],
           "sequential": [
            [
             0,
             "#0d0887"
            ],
            [
             0.1111111111111111,
             "#46039f"
            ],
            [
             0.2222222222222222,
             "#7201a8"
            ],
            [
             0.3333333333333333,
             "#9c179e"
            ],
            [
             0.4444444444444444,
             "#bd3786"
            ],
            [
             0.5555555555555556,
             "#d8576b"
            ],
            [
             0.6666666666666666,
             "#ed7953"
            ],
            [
             0.7777777777777778,
             "#fb9f3a"
            ],
            [
             0.8888888888888888,
             "#fdca26"
            ],
            [
             1,
             "#f0f921"
            ]
           ],
           "sequentialminus": [
            [
             0,
             "#0d0887"
            ],
            [
             0.1111111111111111,
             "#46039f"
            ],
            [
             0.2222222222222222,
             "#7201a8"
            ],
            [
             0.3333333333333333,
             "#9c179e"
            ],
            [
             0.4444444444444444,
             "#bd3786"
            ],
            [
             0.5555555555555556,
             "#d8576b"
            ],
            [
             0.6666666666666666,
             "#ed7953"
            ],
            [
             0.7777777777777778,
             "#fb9f3a"
            ],
            [
             0.8888888888888888,
             "#fdca26"
            ],
            [
             1,
             "#f0f921"
            ]
           ]
          },
          "colorway": [
           "#636efa",
           "#EF553B",
           "#00cc96",
           "#ab63fa",
           "#FFA15A",
           "#19d3f3",
           "#FF6692",
           "#B6E880",
           "#FF97FF",
           "#FECB52"
          ],
          "font": {
           "color": "#2a3f5f"
          },
          "geo": {
           "bgcolor": "white",
           "lakecolor": "white",
           "landcolor": "#E5ECF6",
           "showlakes": true,
           "showland": true,
           "subunitcolor": "white"
          },
          "hoverlabel": {
           "align": "left"
          },
          "hovermode": "closest",
          "mapbox": {
           "style": "light"
          },
          "paper_bgcolor": "white",
          "plot_bgcolor": "#E5ECF6",
          "polar": {
           "angularaxis": {
            "gridcolor": "white",
            "linecolor": "white",
            "ticks": ""
           },
           "bgcolor": "#E5ECF6",
           "radialaxis": {
            "gridcolor": "white",
            "linecolor": "white",
            "ticks": ""
           }
          },
          "scene": {
           "xaxis": {
            "backgroundcolor": "#E5ECF6",
            "gridcolor": "white",
            "gridwidth": 2,
            "linecolor": "white",
            "showbackground": true,
            "ticks": "",
            "zerolinecolor": "white"
           },
           "yaxis": {
            "backgroundcolor": "#E5ECF6",
            "gridcolor": "white",
            "gridwidth": 2,
            "linecolor": "white",
            "showbackground": true,
            "ticks": "",
            "zerolinecolor": "white"
           },
           "zaxis": {
            "backgroundcolor": "#E5ECF6",
            "gridcolor": "white",
            "gridwidth": 2,
            "linecolor": "white",
            "showbackground": true,
            "ticks": "",
            "zerolinecolor": "white"
           }
          },
          "shapedefaults": {
           "line": {
            "color": "#2a3f5f"
           }
          },
          "ternary": {
           "aaxis": {
            "gridcolor": "white",
            "linecolor": "white",
            "ticks": ""
           },
           "baxis": {
            "gridcolor": "white",
            "linecolor": "white",
            "ticks": ""
           },
           "bgcolor": "#E5ECF6",
           "caxis": {
            "gridcolor": "white",
            "linecolor": "white",
            "ticks": ""
           }
          },
          "title": {
           "x": 0.05
          },
          "xaxis": {
           "automargin": true,
           "gridcolor": "white",
           "linecolor": "white",
           "ticks": "",
           "title": {
            "standoff": 15
           },
           "zerolinecolor": "white",
           "zerolinewidth": 2
          },
          "yaxis": {
           "automargin": true,
           "gridcolor": "white",
           "linecolor": "white",
           "ticks": "",
           "title": {
            "standoff": 15
           },
           "zerolinecolor": "white",
           "zerolinewidth": 2
          }
         }
        },
        "title": {
         "text": "Evolução dos Preços - Modelo: RTX 4080"
        },
        "xaxis": {
         "title": {
          "text": "Data"
         }
        },
        "yaxis": {
         "tickformat": ".2f",
         "tickprefix": "R$ ",
         "title": {
          "text": "Preço"
         }
        }
       }
      }
     },
     "metadata": {},
     "output_type": "display_data"
    },
    {
     "data": {
      "application/vnd.plotly.v1+json": {
       "config": {
        "plotlyServerURL": "https://plot.ly"
       },
       "data": [
        {
         "mode": "lines+markers",
         "name": "placa-de-video-rx-7800-xt-challenger-16g-oc-asrock-amd-radeon-16gb-gddr6-rdna-3-ray-tracing-90-ga4szz-00uanf",
         "type": "scatter",
         "x": [
          "2024-04-25T03:36:00"
         ],
         "y": [
          4117.64
         ]
        },
        {
         "mode": "lines+markers",
         "name": "placa-de-video-rx-7800-xt-phantom-gaming-16g-oc-asrock-amd-radeon-16gb-argb-ray-tracing-90-ga4mzz-00uanf",
         "type": "scatter",
         "x": [
          "2024-04-25T03:36:00"
         ],
         "y": [
          4470.58
         ]
        },
        {
         "mode": "lines+markers",
         "name": "placa-de-video-asus-tuf-gaming-amd-radeon-rx-7800-xt-oc-edition-16gb-gddr6-rgb-ray-tracing-90yv0jj0-m0na00",
         "type": "scatter",
         "x": [
          "2024-04-25T03:36:00"
         ],
         "y": [
          4470.58
         ]
        },
        {
         "mode": "lines+markers",
         "name": "placa-de-video-asus-tuf-gaming-amd-radeon-rx-7800-xt-oc",
         "type": "scatter",
         "x": [
          "2024-04-25T03:36:00"
         ],
         "y": [
          4222.11
         ]
        }
       ],
       "layout": {
        "legend": {
         "font": {
          "size": 10
         },
         "itemwidth": 30,
         "orientation": "v",
         "x": 10,
         "y": 0
        },
        "margin": {
         "b": 150,
         "l": 50,
         "r": 50,
         "t": 80
        },
        "template": {
         "data": {
          "bar": [
           {
            "error_x": {
             "color": "#2a3f5f"
            },
            "error_y": {
             "color": "#2a3f5f"
            },
            "marker": {
             "line": {
              "color": "#E5ECF6",
              "width": 0.5
             },
             "pattern": {
              "fillmode": "overlay",
              "size": 10,
              "solidity": 0.2
             }
            },
            "type": "bar"
           }
          ],
          "barpolar": [
           {
            "marker": {
             "line": {
              "color": "#E5ECF6",
              "width": 0.5
             },
             "pattern": {
              "fillmode": "overlay",
              "size": 10,
              "solidity": 0.2
             }
            },
            "type": "barpolar"
           }
          ],
          "carpet": [
           {
            "aaxis": {
             "endlinecolor": "#2a3f5f",
             "gridcolor": "white",
             "linecolor": "white",
             "minorgridcolor": "white",
             "startlinecolor": "#2a3f5f"
            },
            "baxis": {
             "endlinecolor": "#2a3f5f",
             "gridcolor": "white",
             "linecolor": "white",
             "minorgridcolor": "white",
             "startlinecolor": "#2a3f5f"
            },
            "type": "carpet"
           }
          ],
          "choropleth": [
           {
            "colorbar": {
             "outlinewidth": 0,
             "ticks": ""
            },
            "type": "choropleth"
           }
          ],
          "contour": [
           {
            "colorbar": {
             "outlinewidth": 0,
             "ticks": ""
            },
            "colorscale": [
             [
              0,
              "#0d0887"
             ],
             [
              0.1111111111111111,
              "#46039f"
             ],
             [
              0.2222222222222222,
              "#7201a8"
             ],
             [
              0.3333333333333333,
              "#9c179e"
             ],
             [
              0.4444444444444444,
              "#bd3786"
             ],
             [
              0.5555555555555556,
              "#d8576b"
             ],
             [
              0.6666666666666666,
              "#ed7953"
             ],
             [
              0.7777777777777778,
              "#fb9f3a"
             ],
             [
              0.8888888888888888,
              "#fdca26"
             ],
             [
              1,
              "#f0f921"
             ]
            ],
            "type": "contour"
           }
          ],
          "contourcarpet": [
           {
            "colorbar": {
             "outlinewidth": 0,
             "ticks": ""
            },
            "type": "contourcarpet"
           }
          ],
          "heatmap": [
           {
            "colorbar": {
             "outlinewidth": 0,
             "ticks": ""
            },
            "colorscale": [
             [
              0,
              "#0d0887"
             ],
             [
              0.1111111111111111,
              "#46039f"
             ],
             [
              0.2222222222222222,
              "#7201a8"
             ],
             [
              0.3333333333333333,
              "#9c179e"
             ],
             [
              0.4444444444444444,
              "#bd3786"
             ],
             [
              0.5555555555555556,
              "#d8576b"
             ],
             [
              0.6666666666666666,
              "#ed7953"
             ],
             [
              0.7777777777777778,
              "#fb9f3a"
             ],
             [
              0.8888888888888888,
              "#fdca26"
             ],
             [
              1,
              "#f0f921"
             ]
            ],
            "type": "heatmap"
           }
          ],
          "heatmapgl": [
           {
            "colorbar": {
             "outlinewidth": 0,
             "ticks": ""
            },
            "colorscale": [
             [
              0,
              "#0d0887"
             ],
             [
              0.1111111111111111,
              "#46039f"
             ],
             [
              0.2222222222222222,
              "#7201a8"
             ],
             [
              0.3333333333333333,
              "#9c179e"
             ],
             [
              0.4444444444444444,
              "#bd3786"
             ],
             [
              0.5555555555555556,
              "#d8576b"
             ],
             [
              0.6666666666666666,
              "#ed7953"
             ],
             [
              0.7777777777777778,
              "#fb9f3a"
             ],
             [
              0.8888888888888888,
              "#fdca26"
             ],
             [
              1,
              "#f0f921"
             ]
            ],
            "type": "heatmapgl"
           }
          ],
          "histogram": [
           {
            "marker": {
             "pattern": {
              "fillmode": "overlay",
              "size": 10,
              "solidity": 0.2
             }
            },
            "type": "histogram"
           }
          ],
          "histogram2d": [
           {
            "colorbar": {
             "outlinewidth": 0,
             "ticks": ""
            },
            "colorscale": [
             [
              0,
              "#0d0887"
             ],
             [
              0.1111111111111111,
              "#46039f"
             ],
             [
              0.2222222222222222,
              "#7201a8"
             ],
             [
              0.3333333333333333,
              "#9c179e"
             ],
             [
              0.4444444444444444,
              "#bd3786"
             ],
             [
              0.5555555555555556,
              "#d8576b"
             ],
             [
              0.6666666666666666,
              "#ed7953"
             ],
             [
              0.7777777777777778,
              "#fb9f3a"
             ],
             [
              0.8888888888888888,
              "#fdca26"
             ],
             [
              1,
              "#f0f921"
             ]
            ],
            "type": "histogram2d"
           }
          ],
          "histogram2dcontour": [
           {
            "colorbar": {
             "outlinewidth": 0,
             "ticks": ""
            },
            "colorscale": [
             [
              0,
              "#0d0887"
             ],
             [
              0.1111111111111111,
              "#46039f"
             ],
             [
              0.2222222222222222,
              "#7201a8"
             ],
             [
              0.3333333333333333,
              "#9c179e"
             ],
             [
              0.4444444444444444,
              "#bd3786"
             ],
             [
              0.5555555555555556,
              "#d8576b"
             ],
             [
              0.6666666666666666,
              "#ed7953"
             ],
             [
              0.7777777777777778,
              "#fb9f3a"
             ],
             [
              0.8888888888888888,
              "#fdca26"
             ],
             [
              1,
              "#f0f921"
             ]
            ],
            "type": "histogram2dcontour"
           }
          ],
          "mesh3d": [
           {
            "colorbar": {
             "outlinewidth": 0,
             "ticks": ""
            },
            "type": "mesh3d"
           }
          ],
          "parcoords": [
           {
            "line": {
             "colorbar": {
              "outlinewidth": 0,
              "ticks": ""
             }
            },
            "type": "parcoords"
           }
          ],
          "pie": [
           {
            "automargin": true,
            "type": "pie"
           }
          ],
          "scatter": [
           {
            "fillpattern": {
             "fillmode": "overlay",
             "size": 10,
             "solidity": 0.2
            },
            "type": "scatter"
           }
          ],
          "scatter3d": [
           {
            "line": {
             "colorbar": {
              "outlinewidth": 0,
              "ticks": ""
             }
            },
            "marker": {
             "colorbar": {
              "outlinewidth": 0,
              "ticks": ""
             }
            },
            "type": "scatter3d"
           }
          ],
          "scattercarpet": [
           {
            "marker": {
             "colorbar": {
              "outlinewidth": 0,
              "ticks": ""
             }
            },
            "type": "scattercarpet"
           }
          ],
          "scattergeo": [
           {
            "marker": {
             "colorbar": {
              "outlinewidth": 0,
              "ticks": ""
             }
            },
            "type": "scattergeo"
           }
          ],
          "scattergl": [
           {
            "marker": {
             "colorbar": {
              "outlinewidth": 0,
              "ticks": ""
             }
            },
            "type": "scattergl"
           }
          ],
          "scattermapbox": [
           {
            "marker": {
             "colorbar": {
              "outlinewidth": 0,
              "ticks": ""
             }
            },
            "type": "scattermapbox"
           }
          ],
          "scatterpolar": [
           {
            "marker": {
             "colorbar": {
              "outlinewidth": 0,
              "ticks": ""
             }
            },
            "type": "scatterpolar"
           }
          ],
          "scatterpolargl": [
           {
            "marker": {
             "colorbar": {
              "outlinewidth": 0,
              "ticks": ""
             }
            },
            "type": "scatterpolargl"
           }
          ],
          "scatterternary": [
           {
            "marker": {
             "colorbar": {
              "outlinewidth": 0,
              "ticks": ""
             }
            },
            "type": "scatterternary"
           }
          ],
          "surface": [
           {
            "colorbar": {
             "outlinewidth": 0,
             "ticks": ""
            },
            "colorscale": [
             [
              0,
              "#0d0887"
             ],
             [
              0.1111111111111111,
              "#46039f"
             ],
             [
              0.2222222222222222,
              "#7201a8"
             ],
             [
              0.3333333333333333,
              "#9c179e"
             ],
             [
              0.4444444444444444,
              "#bd3786"
             ],
             [
              0.5555555555555556,
              "#d8576b"
             ],
             [
              0.6666666666666666,
              "#ed7953"
             ],
             [
              0.7777777777777778,
              "#fb9f3a"
             ],
             [
              0.8888888888888888,
              "#fdca26"
             ],
             [
              1,
              "#f0f921"
             ]
            ],
            "type": "surface"
           }
          ],
          "table": [
           {
            "cells": {
             "fill": {
              "color": "#EBF0F8"
             },
             "line": {
              "color": "white"
             }
            },
            "header": {
             "fill": {
              "color": "#C8D4E3"
             },
             "line": {
              "color": "white"
             }
            },
            "type": "table"
           }
          ]
         },
         "layout": {
          "annotationdefaults": {
           "arrowcolor": "#2a3f5f",
           "arrowhead": 0,
           "arrowwidth": 1
          },
          "autotypenumbers": "strict",
          "coloraxis": {
           "colorbar": {
            "outlinewidth": 0,
            "ticks": ""
           }
          },
          "colorscale": {
           "diverging": [
            [
             0,
             "#8e0152"
            ],
            [
             0.1,
             "#c51b7d"
            ],
            [
             0.2,
             "#de77ae"
            ],
            [
             0.3,
             "#f1b6da"
            ],
            [
             0.4,
             "#fde0ef"
            ],
            [
             0.5,
             "#f7f7f7"
            ],
            [
             0.6,
             "#e6f5d0"
            ],
            [
             0.7,
             "#b8e186"
            ],
            [
             0.8,
             "#7fbc41"
            ],
            [
             0.9,
             "#4d9221"
            ],
            [
             1,
             "#276419"
            ]
           ],
           "sequential": [
            [
             0,
             "#0d0887"
            ],
            [
             0.1111111111111111,
             "#46039f"
            ],
            [
             0.2222222222222222,
             "#7201a8"
            ],
            [
             0.3333333333333333,
             "#9c179e"
            ],
            [
             0.4444444444444444,
             "#bd3786"
            ],
            [
             0.5555555555555556,
             "#d8576b"
            ],
            [
             0.6666666666666666,
             "#ed7953"
            ],
            [
             0.7777777777777778,
             "#fb9f3a"
            ],
            [
             0.8888888888888888,
             "#fdca26"
            ],
            [
             1,
             "#f0f921"
            ]
           ],
           "sequentialminus": [
            [
             0,
             "#0d0887"
            ],
            [
             0.1111111111111111,
             "#46039f"
            ],
            [
             0.2222222222222222,
             "#7201a8"
            ],
            [
             0.3333333333333333,
             "#9c179e"
            ],
            [
             0.4444444444444444,
             "#bd3786"
            ],
            [
             0.5555555555555556,
             "#d8576b"
            ],
            [
             0.6666666666666666,
             "#ed7953"
            ],
            [
             0.7777777777777778,
             "#fb9f3a"
            ],
            [
             0.8888888888888888,
             "#fdca26"
            ],
            [
             1,
             "#f0f921"
            ]
           ]
          },
          "colorway": [
           "#636efa",
           "#EF553B",
           "#00cc96",
           "#ab63fa",
           "#FFA15A",
           "#19d3f3",
           "#FF6692",
           "#B6E880",
           "#FF97FF",
           "#FECB52"
          ],
          "font": {
           "color": "#2a3f5f"
          },
          "geo": {
           "bgcolor": "white",
           "lakecolor": "white",
           "landcolor": "#E5ECF6",
           "showlakes": true,
           "showland": true,
           "subunitcolor": "white"
          },
          "hoverlabel": {
           "align": "left"
          },
          "hovermode": "closest",
          "mapbox": {
           "style": "light"
          },
          "paper_bgcolor": "white",
          "plot_bgcolor": "#E5ECF6",
          "polar": {
           "angularaxis": {
            "gridcolor": "white",
            "linecolor": "white",
            "ticks": ""
           },
           "bgcolor": "#E5ECF6",
           "radialaxis": {
            "gridcolor": "white",
            "linecolor": "white",
            "ticks": ""
           }
          },
          "scene": {
           "xaxis": {
            "backgroundcolor": "#E5ECF6",
            "gridcolor": "white",
            "gridwidth": 2,
            "linecolor": "white",
            "showbackground": true,
            "ticks": "",
            "zerolinecolor": "white"
           },
           "yaxis": {
            "backgroundcolor": "#E5ECF6",
            "gridcolor": "white",
            "gridwidth": 2,
            "linecolor": "white",
            "showbackground": true,
            "ticks": "",
            "zerolinecolor": "white"
           },
           "zaxis": {
            "backgroundcolor": "#E5ECF6",
            "gridcolor": "white",
            "gridwidth": 2,
            "linecolor": "white",
            "showbackground": true,
            "ticks": "",
            "zerolinecolor": "white"
           }
          },
          "shapedefaults": {
           "line": {
            "color": "#2a3f5f"
           }
          },
          "ternary": {
           "aaxis": {
            "gridcolor": "white",
            "linecolor": "white",
            "ticks": ""
           },
           "baxis": {
            "gridcolor": "white",
            "linecolor": "white",
            "ticks": ""
           },
           "bgcolor": "#E5ECF6",
           "caxis": {
            "gridcolor": "white",
            "linecolor": "white",
            "ticks": ""
           }
          },
          "title": {
           "x": 0.05
          },
          "xaxis": {
           "automargin": true,
           "gridcolor": "white",
           "linecolor": "white",
           "ticks": "",
           "title": {
            "standoff": 15
           },
           "zerolinecolor": "white",
           "zerolinewidth": 2
          },
          "yaxis": {
           "automargin": true,
           "gridcolor": "white",
           "linecolor": "white",
           "ticks": "",
           "title": {
            "standoff": 15
           },
           "zerolinecolor": "white",
           "zerolinewidth": 2
          }
         }
        },
        "title": {
         "text": "Evolução dos Preços - Modelo: RX 7800 XT"
        },
        "xaxis": {
         "title": {
          "text": "Data"
         }
        },
        "yaxis": {
         "tickformat": ".2f",
         "tickprefix": "R$ ",
         "title": {
          "text": "Preço"
         }
        }
       }
      }
     },
     "metadata": {},
     "output_type": "display_data"
    },
    {
     "data": {
      "application/vnd.plotly.v1+json": {
       "config": {
        "plotlyServerURL": "https://plot.ly"
       },
       "data": [
        {
         "mode": "lines+markers",
         "name": "placa-de-video-rx-7700-xt-fighter-powercolor-amd-radeon-12gb-gddr6-ray-tracing-rx7700xt-12g-f-oc",
         "type": "scatter",
         "x": [
          "2024-04-25T03:36:00"
         ],
         "y": [
          3529.4
         ]
        },
        {
         "mode": "lines+markers",
         "name": "placa-de-video-rx-7700-xt-hellhound-powercolor-amd-radeon-12gb-gddr6-ray-tracing-rx7700xt-12g-l-oc",
         "type": "scatter",
         "x": [
          "2024-04-25T03:36:00"
         ],
         "y": [
          3529.4
         ]
        },
        {
         "mode": "lines+markers",
         "name": "placa-de-video-rx-7700-xt-phantom-gaming-12g-oc-asrock-amd-radeon-12gb-gddr6-ray-tracing-90-ga4lzz-00uanf",
         "type": "scatter",
         "x": [
          "2024-04-25T03:36:00"
         ],
         "y": [
          3647.05
         ]
        },
        {
         "mode": "lines+markers",
         "name": "placa-de-video-rx-7700-xt-gaming-sapphire-pulse-amd-radeon-12gb-gddr6-dual-hdmi-11335-04-20g",
         "type": "scatter",
         "x": [
          "2024-04-25T03:36:00"
         ],
         "y": [
          3529.4
         ]
        },
        {
         "mode": "lines+markers",
         "name": "placa-de-video-rx-7700-xt-steel-legend-12g-oc-asrock-amd-radeon-12gb-gddr6-amd-rdna-3-ray-tracing-90-ga4pzz-00uanf",
         "type": "scatter",
         "x": [
          "2024-04-25T03:36:00"
         ],
         "y": [
          3764.69
         ]
        },
        {
         "mode": "lines+markers",
         "name": "placa-de-video-rx-7700-xt-challenger-12g-oc-asrock-amd-radeon-12gb-gddr6-90-ga4qzz-00uanf",
         "type": "scatter",
         "x": [
          "2024-04-25T03:36:00"
         ],
         "y": [
          3647.05
         ]
        }
       ],
       "layout": {
        "legend": {
         "font": {
          "size": 10
         },
         "itemwidth": 30,
         "orientation": "v",
         "x": 10,
         "y": 0
        },
        "margin": {
         "b": 150,
         "l": 50,
         "r": 50,
         "t": 80
        },
        "template": {
         "data": {
          "bar": [
           {
            "error_x": {
             "color": "#2a3f5f"
            },
            "error_y": {
             "color": "#2a3f5f"
            },
            "marker": {
             "line": {
              "color": "#E5ECF6",
              "width": 0.5
             },
             "pattern": {
              "fillmode": "overlay",
              "size": 10,
              "solidity": 0.2
             }
            },
            "type": "bar"
           }
          ],
          "barpolar": [
           {
            "marker": {
             "line": {
              "color": "#E5ECF6",
              "width": 0.5
             },
             "pattern": {
              "fillmode": "overlay",
              "size": 10,
              "solidity": 0.2
             }
            },
            "type": "barpolar"
           }
          ],
          "carpet": [
           {
            "aaxis": {
             "endlinecolor": "#2a3f5f",
             "gridcolor": "white",
             "linecolor": "white",
             "minorgridcolor": "white",
             "startlinecolor": "#2a3f5f"
            },
            "baxis": {
             "endlinecolor": "#2a3f5f",
             "gridcolor": "white",
             "linecolor": "white",
             "minorgridcolor": "white",
             "startlinecolor": "#2a3f5f"
            },
            "type": "carpet"
           }
          ],
          "choropleth": [
           {
            "colorbar": {
             "outlinewidth": 0,
             "ticks": ""
            },
            "type": "choropleth"
           }
          ],
          "contour": [
           {
            "colorbar": {
             "outlinewidth": 0,
             "ticks": ""
            },
            "colorscale": [
             [
              0,
              "#0d0887"
             ],
             [
              0.1111111111111111,
              "#46039f"
             ],
             [
              0.2222222222222222,
              "#7201a8"
             ],
             [
              0.3333333333333333,
              "#9c179e"
             ],
             [
              0.4444444444444444,
              "#bd3786"
             ],
             [
              0.5555555555555556,
              "#d8576b"
             ],
             [
              0.6666666666666666,
              "#ed7953"
             ],
             [
              0.7777777777777778,
              "#fb9f3a"
             ],
             [
              0.8888888888888888,
              "#fdca26"
             ],
             [
              1,
              "#f0f921"
             ]
            ],
            "type": "contour"
           }
          ],
          "contourcarpet": [
           {
            "colorbar": {
             "outlinewidth": 0,
             "ticks": ""
            },
            "type": "contourcarpet"
           }
          ],
          "heatmap": [
           {
            "colorbar": {
             "outlinewidth": 0,
             "ticks": ""
            },
            "colorscale": [
             [
              0,
              "#0d0887"
             ],
             [
              0.1111111111111111,
              "#46039f"
             ],
             [
              0.2222222222222222,
              "#7201a8"
             ],
             [
              0.3333333333333333,
              "#9c179e"
             ],
             [
              0.4444444444444444,
              "#bd3786"
             ],
             [
              0.5555555555555556,
              "#d8576b"
             ],
             [
              0.6666666666666666,
              "#ed7953"
             ],
             [
              0.7777777777777778,
              "#fb9f3a"
             ],
             [
              0.8888888888888888,
              "#fdca26"
             ],
             [
              1,
              "#f0f921"
             ]
            ],
            "type": "heatmap"
           }
          ],
          "heatmapgl": [
           {
            "colorbar": {
             "outlinewidth": 0,
             "ticks": ""
            },
            "colorscale": [
             [
              0,
              "#0d0887"
             ],
             [
              0.1111111111111111,
              "#46039f"
             ],
             [
              0.2222222222222222,
              "#7201a8"
             ],
             [
              0.3333333333333333,
              "#9c179e"
             ],
             [
              0.4444444444444444,
              "#bd3786"
             ],
             [
              0.5555555555555556,
              "#d8576b"
             ],
             [
              0.6666666666666666,
              "#ed7953"
             ],
             [
              0.7777777777777778,
              "#fb9f3a"
             ],
             [
              0.8888888888888888,
              "#fdca26"
             ],
             [
              1,
              "#f0f921"
             ]
            ],
            "type": "heatmapgl"
           }
          ],
          "histogram": [
           {
            "marker": {
             "pattern": {
              "fillmode": "overlay",
              "size": 10,
              "solidity": 0.2
             }
            },
            "type": "histogram"
           }
          ],
          "histogram2d": [
           {
            "colorbar": {
             "outlinewidth": 0,
             "ticks": ""
            },
            "colorscale": [
             [
              0,
              "#0d0887"
             ],
             [
              0.1111111111111111,
              "#46039f"
             ],
             [
              0.2222222222222222,
              "#7201a8"
             ],
             [
              0.3333333333333333,
              "#9c179e"
             ],
             [
              0.4444444444444444,
              "#bd3786"
             ],
             [
              0.5555555555555556,
              "#d8576b"
             ],
             [
              0.6666666666666666,
              "#ed7953"
             ],
             [
              0.7777777777777778,
              "#fb9f3a"
             ],
             [
              0.8888888888888888,
              "#fdca26"
             ],
             [
              1,
              "#f0f921"
             ]
            ],
            "type": "histogram2d"
           }
          ],
          "histogram2dcontour": [
           {
            "colorbar": {
             "outlinewidth": 0,
             "ticks": ""
            },
            "colorscale": [
             [
              0,
              "#0d0887"
             ],
             [
              0.1111111111111111,
              "#46039f"
             ],
             [
              0.2222222222222222,
              "#7201a8"
             ],
             [
              0.3333333333333333,
              "#9c179e"
             ],
             [
              0.4444444444444444,
              "#bd3786"
             ],
             [
              0.5555555555555556,
              "#d8576b"
             ],
             [
              0.6666666666666666,
              "#ed7953"
             ],
             [
              0.7777777777777778,
              "#fb9f3a"
             ],
             [
              0.8888888888888888,
              "#fdca26"
             ],
             [
              1,
              "#f0f921"
             ]
            ],
            "type": "histogram2dcontour"
           }
          ],
          "mesh3d": [
           {
            "colorbar": {
             "outlinewidth": 0,
             "ticks": ""
            },
            "type": "mesh3d"
           }
          ],
          "parcoords": [
           {
            "line": {
             "colorbar": {
              "outlinewidth": 0,
              "ticks": ""
             }
            },
            "type": "parcoords"
           }
          ],
          "pie": [
           {
            "automargin": true,
            "type": "pie"
           }
          ],
          "scatter": [
           {
            "fillpattern": {
             "fillmode": "overlay",
             "size": 10,
             "solidity": 0.2
            },
            "type": "scatter"
           }
          ],
          "scatter3d": [
           {
            "line": {
             "colorbar": {
              "outlinewidth": 0,
              "ticks": ""
             }
            },
            "marker": {
             "colorbar": {
              "outlinewidth": 0,
              "ticks": ""
             }
            },
            "type": "scatter3d"
           }
          ],
          "scattercarpet": [
           {
            "marker": {
             "colorbar": {
              "outlinewidth": 0,
              "ticks": ""
             }
            },
            "type": "scattercarpet"
           }
          ],
          "scattergeo": [
           {
            "marker": {
             "colorbar": {
              "outlinewidth": 0,
              "ticks": ""
             }
            },
            "type": "scattergeo"
           }
          ],
          "scattergl": [
           {
            "marker": {
             "colorbar": {
              "outlinewidth": 0,
              "ticks": ""
             }
            },
            "type": "scattergl"
           }
          ],
          "scattermapbox": [
           {
            "marker": {
             "colorbar": {
              "outlinewidth": 0,
              "ticks": ""
             }
            },
            "type": "scattermapbox"
           }
          ],
          "scatterpolar": [
           {
            "marker": {
             "colorbar": {
              "outlinewidth": 0,
              "ticks": ""
             }
            },
            "type": "scatterpolar"
           }
          ],
          "scatterpolargl": [
           {
            "marker": {
             "colorbar": {
              "outlinewidth": 0,
              "ticks": ""
             }
            },
            "type": "scatterpolargl"
           }
          ],
          "scatterternary": [
           {
            "marker": {
             "colorbar": {
              "outlinewidth": 0,
              "ticks": ""
             }
            },
            "type": "scatterternary"
           }
          ],
          "surface": [
           {
            "colorbar": {
             "outlinewidth": 0,
             "ticks": ""
            },
            "colorscale": [
             [
              0,
              "#0d0887"
             ],
             [
              0.1111111111111111,
              "#46039f"
             ],
             [
              0.2222222222222222,
              "#7201a8"
             ],
             [
              0.3333333333333333,
              "#9c179e"
             ],
             [
              0.4444444444444444,
              "#bd3786"
             ],
             [
              0.5555555555555556,
              "#d8576b"
             ],
             [
              0.6666666666666666,
              "#ed7953"
             ],
             [
              0.7777777777777778,
              "#fb9f3a"
             ],
             [
              0.8888888888888888,
              "#fdca26"
             ],
             [
              1,
              "#f0f921"
             ]
            ],
            "type": "surface"
           }
          ],
          "table": [
           {
            "cells": {
             "fill": {
              "color": "#EBF0F8"
             },
             "line": {
              "color": "white"
             }
            },
            "header": {
             "fill": {
              "color": "#C8D4E3"
             },
             "line": {
              "color": "white"
             }
            },
            "type": "table"
           }
          ]
         },
         "layout": {
          "annotationdefaults": {
           "arrowcolor": "#2a3f5f",
           "arrowhead": 0,
           "arrowwidth": 1
          },
          "autotypenumbers": "strict",
          "coloraxis": {
           "colorbar": {
            "outlinewidth": 0,
            "ticks": ""
           }
          },
          "colorscale": {
           "diverging": [
            [
             0,
             "#8e0152"
            ],
            [
             0.1,
             "#c51b7d"
            ],
            [
             0.2,
             "#de77ae"
            ],
            [
             0.3,
             "#f1b6da"
            ],
            [
             0.4,
             "#fde0ef"
            ],
            [
             0.5,
             "#f7f7f7"
            ],
            [
             0.6,
             "#e6f5d0"
            ],
            [
             0.7,
             "#b8e186"
            ],
            [
             0.8,
             "#7fbc41"
            ],
            [
             0.9,
             "#4d9221"
            ],
            [
             1,
             "#276419"
            ]
           ],
           "sequential": [
            [
             0,
             "#0d0887"
            ],
            [
             0.1111111111111111,
             "#46039f"
            ],
            [
             0.2222222222222222,
             "#7201a8"
            ],
            [
             0.3333333333333333,
             "#9c179e"
            ],
            [
             0.4444444444444444,
             "#bd3786"
            ],
            [
             0.5555555555555556,
             "#d8576b"
            ],
            [
             0.6666666666666666,
             "#ed7953"
            ],
            [
             0.7777777777777778,
             "#fb9f3a"
            ],
            [
             0.8888888888888888,
             "#fdca26"
            ],
            [
             1,
             "#f0f921"
            ]
           ],
           "sequentialminus": [
            [
             0,
             "#0d0887"
            ],
            [
             0.1111111111111111,
             "#46039f"
            ],
            [
             0.2222222222222222,
             "#7201a8"
            ],
            [
             0.3333333333333333,
             "#9c179e"
            ],
            [
             0.4444444444444444,
             "#bd3786"
            ],
            [
             0.5555555555555556,
             "#d8576b"
            ],
            [
             0.6666666666666666,
             "#ed7953"
            ],
            [
             0.7777777777777778,
             "#fb9f3a"
            ],
            [
             0.8888888888888888,
             "#fdca26"
            ],
            [
             1,
             "#f0f921"
            ]
           ]
          },
          "colorway": [
           "#636efa",
           "#EF553B",
           "#00cc96",
           "#ab63fa",
           "#FFA15A",
           "#19d3f3",
           "#FF6692",
           "#B6E880",
           "#FF97FF",
           "#FECB52"
          ],
          "font": {
           "color": "#2a3f5f"
          },
          "geo": {
           "bgcolor": "white",
           "lakecolor": "white",
           "landcolor": "#E5ECF6",
           "showlakes": true,
           "showland": true,
           "subunitcolor": "white"
          },
          "hoverlabel": {
           "align": "left"
          },
          "hovermode": "closest",
          "mapbox": {
           "style": "light"
          },
          "paper_bgcolor": "white",
          "plot_bgcolor": "#E5ECF6",
          "polar": {
           "angularaxis": {
            "gridcolor": "white",
            "linecolor": "white",
            "ticks": ""
           },
           "bgcolor": "#E5ECF6",
           "radialaxis": {
            "gridcolor": "white",
            "linecolor": "white",
            "ticks": ""
           }
          },
          "scene": {
           "xaxis": {
            "backgroundcolor": "#E5ECF6",
            "gridcolor": "white",
            "gridwidth": 2,
            "linecolor": "white",
            "showbackground": true,
            "ticks": "",
            "zerolinecolor": "white"
           },
           "yaxis": {
            "backgroundcolor": "#E5ECF6",
            "gridcolor": "white",
            "gridwidth": 2,
            "linecolor": "white",
            "showbackground": true,
            "ticks": "",
            "zerolinecolor": "white"
           },
           "zaxis": {
            "backgroundcolor": "#E5ECF6",
            "gridcolor": "white",
            "gridwidth": 2,
            "linecolor": "white",
            "showbackground": true,
            "ticks": "",
            "zerolinecolor": "white"
           }
          },
          "shapedefaults": {
           "line": {
            "color": "#2a3f5f"
           }
          },
          "ternary": {
           "aaxis": {
            "gridcolor": "white",
            "linecolor": "white",
            "ticks": ""
           },
           "baxis": {
            "gridcolor": "white",
            "linecolor": "white",
            "ticks": ""
           },
           "bgcolor": "#E5ECF6",
           "caxis": {
            "gridcolor": "white",
            "linecolor": "white",
            "ticks": ""
           }
          },
          "title": {
           "x": 0.05
          },
          "xaxis": {
           "automargin": true,
           "gridcolor": "white",
           "linecolor": "white",
           "ticks": "",
           "title": {
            "standoff": 15
           },
           "zerolinecolor": "white",
           "zerolinewidth": 2
          },
          "yaxis": {
           "automargin": true,
           "gridcolor": "white",
           "linecolor": "white",
           "ticks": "",
           "title": {
            "standoff": 15
           },
           "zerolinecolor": "white",
           "zerolinewidth": 2
          }
         }
        },
        "title": {
         "text": "Evolução dos Preços - Modelo: RX 7700 XT"
        },
        "xaxis": {
         "title": {
          "text": "Data"
         }
        },
        "yaxis": {
         "tickformat": ".2f",
         "tickprefix": "R$ ",
         "title": {
          "text": "Preço"
         }
        }
       }
      }
     },
     "metadata": {},
     "output_type": "display_data"
    },
    {
     "data": {
      "application/vnd.plotly.v1+json": {
       "config": {
        "plotlyServerURL": "https://plot.ly"
       },
       "data": [
        {
         "mode": "lines+markers",
         "name": "placa-de-video-rx-7600-xt-amd-steel-legend-16g-oc-16-gb-gddr6-rx7600xt-sl-16go",
         "type": "scatter",
         "x": [
          "2024-04-25T03:37:00"
         ],
         "y": [
          2941.16
         ]
        },
        {
         "mode": "lines+markers",
         "name": "placa-de-video-powercolor-amd-radeon-rx-7600-xt-fighter-16gb-gddr6-ray-tracing-freesync-rx7600xt-16g-f",
         "type": "scatter",
         "x": [
          "2024-04-25T03:37:00"
         ],
         "y": [
          2705.87
         ]
        },
        {
         "mode": "lines+markers",
         "name": "placa-de-video-radeon-rx-7600-xt-hellhound-amd-16gb-gddr6-rx7600xt-16g-l-oc",
         "type": "scatter",
         "x": [
          "2024-04-25T03:37:00"
         ],
         "y": [
          2941.16
         ]
        },
        {
         "mode": "lines+markers",
         "name": "placa-de-video-rx-7600-xt-asus-amd-radeon-dual-o16g-16gb-gddr6-90yv0k21-m0na00",
         "type": "scatter",
         "x": [
          "2024-04-25T03:37:00"
         ],
         "y": [
          2599.99
         ]
        },
        {
         "mode": "lines+markers",
         "name": "placa-de-video-rx-7600-xt-asus-amd-radeon-tuf-o16g-gaming-16gb-gddr6-90yv0k20-m0na00",
         "type": "scatter",
         "x": [
          "2024-04-25T03:37:00"
         ],
         "y": [
          2799.99
         ]
        }
       ],
       "layout": {
        "legend": {
         "font": {
          "size": 10
         },
         "itemwidth": 30,
         "orientation": "v",
         "x": 10,
         "y": 0
        },
        "margin": {
         "b": 150,
         "l": 50,
         "r": 50,
         "t": 80
        },
        "template": {
         "data": {
          "bar": [
           {
            "error_x": {
             "color": "#2a3f5f"
            },
            "error_y": {
             "color": "#2a3f5f"
            },
            "marker": {
             "line": {
              "color": "#E5ECF6",
              "width": 0.5
             },
             "pattern": {
              "fillmode": "overlay",
              "size": 10,
              "solidity": 0.2
             }
            },
            "type": "bar"
           }
          ],
          "barpolar": [
           {
            "marker": {
             "line": {
              "color": "#E5ECF6",
              "width": 0.5
             },
             "pattern": {
              "fillmode": "overlay",
              "size": 10,
              "solidity": 0.2
             }
            },
            "type": "barpolar"
           }
          ],
          "carpet": [
           {
            "aaxis": {
             "endlinecolor": "#2a3f5f",
             "gridcolor": "white",
             "linecolor": "white",
             "minorgridcolor": "white",
             "startlinecolor": "#2a3f5f"
            },
            "baxis": {
             "endlinecolor": "#2a3f5f",
             "gridcolor": "white",
             "linecolor": "white",
             "minorgridcolor": "white",
             "startlinecolor": "#2a3f5f"
            },
            "type": "carpet"
           }
          ],
          "choropleth": [
           {
            "colorbar": {
             "outlinewidth": 0,
             "ticks": ""
            },
            "type": "choropleth"
           }
          ],
          "contour": [
           {
            "colorbar": {
             "outlinewidth": 0,
             "ticks": ""
            },
            "colorscale": [
             [
              0,
              "#0d0887"
             ],
             [
              0.1111111111111111,
              "#46039f"
             ],
             [
              0.2222222222222222,
              "#7201a8"
             ],
             [
              0.3333333333333333,
              "#9c179e"
             ],
             [
              0.4444444444444444,
              "#bd3786"
             ],
             [
              0.5555555555555556,
              "#d8576b"
             ],
             [
              0.6666666666666666,
              "#ed7953"
             ],
             [
              0.7777777777777778,
              "#fb9f3a"
             ],
             [
              0.8888888888888888,
              "#fdca26"
             ],
             [
              1,
              "#f0f921"
             ]
            ],
            "type": "contour"
           }
          ],
          "contourcarpet": [
           {
            "colorbar": {
             "outlinewidth": 0,
             "ticks": ""
            },
            "type": "contourcarpet"
           }
          ],
          "heatmap": [
           {
            "colorbar": {
             "outlinewidth": 0,
             "ticks": ""
            },
            "colorscale": [
             [
              0,
              "#0d0887"
             ],
             [
              0.1111111111111111,
              "#46039f"
             ],
             [
              0.2222222222222222,
              "#7201a8"
             ],
             [
              0.3333333333333333,
              "#9c179e"
             ],
             [
              0.4444444444444444,
              "#bd3786"
             ],
             [
              0.5555555555555556,
              "#d8576b"
             ],
             [
              0.6666666666666666,
              "#ed7953"
             ],
             [
              0.7777777777777778,
              "#fb9f3a"
             ],
             [
              0.8888888888888888,
              "#fdca26"
             ],
             [
              1,
              "#f0f921"
             ]
            ],
            "type": "heatmap"
           }
          ],
          "heatmapgl": [
           {
            "colorbar": {
             "outlinewidth": 0,
             "ticks": ""
            },
            "colorscale": [
             [
              0,
              "#0d0887"
             ],
             [
              0.1111111111111111,
              "#46039f"
             ],
             [
              0.2222222222222222,
              "#7201a8"
             ],
             [
              0.3333333333333333,
              "#9c179e"
             ],
             [
              0.4444444444444444,
              "#bd3786"
             ],
             [
              0.5555555555555556,
              "#d8576b"
             ],
             [
              0.6666666666666666,
              "#ed7953"
             ],
             [
              0.7777777777777778,
              "#fb9f3a"
             ],
             [
              0.8888888888888888,
              "#fdca26"
             ],
             [
              1,
              "#f0f921"
             ]
            ],
            "type": "heatmapgl"
           }
          ],
          "histogram": [
           {
            "marker": {
             "pattern": {
              "fillmode": "overlay",
              "size": 10,
              "solidity": 0.2
             }
            },
            "type": "histogram"
           }
          ],
          "histogram2d": [
           {
            "colorbar": {
             "outlinewidth": 0,
             "ticks": ""
            },
            "colorscale": [
             [
              0,
              "#0d0887"
             ],
             [
              0.1111111111111111,
              "#46039f"
             ],
             [
              0.2222222222222222,
              "#7201a8"
             ],
             [
              0.3333333333333333,
              "#9c179e"
             ],
             [
              0.4444444444444444,
              "#bd3786"
             ],
             [
              0.5555555555555556,
              "#d8576b"
             ],
             [
              0.6666666666666666,
              "#ed7953"
             ],
             [
              0.7777777777777778,
              "#fb9f3a"
             ],
             [
              0.8888888888888888,
              "#fdca26"
             ],
             [
              1,
              "#f0f921"
             ]
            ],
            "type": "histogram2d"
           }
          ],
          "histogram2dcontour": [
           {
            "colorbar": {
             "outlinewidth": 0,
             "ticks": ""
            },
            "colorscale": [
             [
              0,
              "#0d0887"
             ],
             [
              0.1111111111111111,
              "#46039f"
             ],
             [
              0.2222222222222222,
              "#7201a8"
             ],
             [
              0.3333333333333333,
              "#9c179e"
             ],
             [
              0.4444444444444444,
              "#bd3786"
             ],
             [
              0.5555555555555556,
              "#d8576b"
             ],
             [
              0.6666666666666666,
              "#ed7953"
             ],
             [
              0.7777777777777778,
              "#fb9f3a"
             ],
             [
              0.8888888888888888,
              "#fdca26"
             ],
             [
              1,
              "#f0f921"
             ]
            ],
            "type": "histogram2dcontour"
           }
          ],
          "mesh3d": [
           {
            "colorbar": {
             "outlinewidth": 0,
             "ticks": ""
            },
            "type": "mesh3d"
           }
          ],
          "parcoords": [
           {
            "line": {
             "colorbar": {
              "outlinewidth": 0,
              "ticks": ""
             }
            },
            "type": "parcoords"
           }
          ],
          "pie": [
           {
            "automargin": true,
            "type": "pie"
           }
          ],
          "scatter": [
           {
            "fillpattern": {
             "fillmode": "overlay",
             "size": 10,
             "solidity": 0.2
            },
            "type": "scatter"
           }
          ],
          "scatter3d": [
           {
            "line": {
             "colorbar": {
              "outlinewidth": 0,
              "ticks": ""
             }
            },
            "marker": {
             "colorbar": {
              "outlinewidth": 0,
              "ticks": ""
             }
            },
            "type": "scatter3d"
           }
          ],
          "scattercarpet": [
           {
            "marker": {
             "colorbar": {
              "outlinewidth": 0,
              "ticks": ""
             }
            },
            "type": "scattercarpet"
           }
          ],
          "scattergeo": [
           {
            "marker": {
             "colorbar": {
              "outlinewidth": 0,
              "ticks": ""
             }
            },
            "type": "scattergeo"
           }
          ],
          "scattergl": [
           {
            "marker": {
             "colorbar": {
              "outlinewidth": 0,
              "ticks": ""
             }
            },
            "type": "scattergl"
           }
          ],
          "scattermapbox": [
           {
            "marker": {
             "colorbar": {
              "outlinewidth": 0,
              "ticks": ""
             }
            },
            "type": "scattermapbox"
           }
          ],
          "scatterpolar": [
           {
            "marker": {
             "colorbar": {
              "outlinewidth": 0,
              "ticks": ""
             }
            },
            "type": "scatterpolar"
           }
          ],
          "scatterpolargl": [
           {
            "marker": {
             "colorbar": {
              "outlinewidth": 0,
              "ticks": ""
             }
            },
            "type": "scatterpolargl"
           }
          ],
          "scatterternary": [
           {
            "marker": {
             "colorbar": {
              "outlinewidth": 0,
              "ticks": ""
             }
            },
            "type": "scatterternary"
           }
          ],
          "surface": [
           {
            "colorbar": {
             "outlinewidth": 0,
             "ticks": ""
            },
            "colorscale": [
             [
              0,
              "#0d0887"
             ],
             [
              0.1111111111111111,
              "#46039f"
             ],
             [
              0.2222222222222222,
              "#7201a8"
             ],
             [
              0.3333333333333333,
              "#9c179e"
             ],
             [
              0.4444444444444444,
              "#bd3786"
             ],
             [
              0.5555555555555556,
              "#d8576b"
             ],
             [
              0.6666666666666666,
              "#ed7953"
             ],
             [
              0.7777777777777778,
              "#fb9f3a"
             ],
             [
              0.8888888888888888,
              "#fdca26"
             ],
             [
              1,
              "#f0f921"
             ]
            ],
            "type": "surface"
           }
          ],
          "table": [
           {
            "cells": {
             "fill": {
              "color": "#EBF0F8"
             },
             "line": {
              "color": "white"
             }
            },
            "header": {
             "fill": {
              "color": "#C8D4E3"
             },
             "line": {
              "color": "white"
             }
            },
            "type": "table"
           }
          ]
         },
         "layout": {
          "annotationdefaults": {
           "arrowcolor": "#2a3f5f",
           "arrowhead": 0,
           "arrowwidth": 1
          },
          "autotypenumbers": "strict",
          "coloraxis": {
           "colorbar": {
            "outlinewidth": 0,
            "ticks": ""
           }
          },
          "colorscale": {
           "diverging": [
            [
             0,
             "#8e0152"
            ],
            [
             0.1,
             "#c51b7d"
            ],
            [
             0.2,
             "#de77ae"
            ],
            [
             0.3,
             "#f1b6da"
            ],
            [
             0.4,
             "#fde0ef"
            ],
            [
             0.5,
             "#f7f7f7"
            ],
            [
             0.6,
             "#e6f5d0"
            ],
            [
             0.7,
             "#b8e186"
            ],
            [
             0.8,
             "#7fbc41"
            ],
            [
             0.9,
             "#4d9221"
            ],
            [
             1,
             "#276419"
            ]
           ],
           "sequential": [
            [
             0,
             "#0d0887"
            ],
            [
             0.1111111111111111,
             "#46039f"
            ],
            [
             0.2222222222222222,
             "#7201a8"
            ],
            [
             0.3333333333333333,
             "#9c179e"
            ],
            [
             0.4444444444444444,
             "#bd3786"
            ],
            [
             0.5555555555555556,
             "#d8576b"
            ],
            [
             0.6666666666666666,
             "#ed7953"
            ],
            [
             0.7777777777777778,
             "#fb9f3a"
            ],
            [
             0.8888888888888888,
             "#fdca26"
            ],
            [
             1,
             "#f0f921"
            ]
           ],
           "sequentialminus": [
            [
             0,
             "#0d0887"
            ],
            [
             0.1111111111111111,
             "#46039f"
            ],
            [
             0.2222222222222222,
             "#7201a8"
            ],
            [
             0.3333333333333333,
             "#9c179e"
            ],
            [
             0.4444444444444444,
             "#bd3786"
            ],
            [
             0.5555555555555556,
             "#d8576b"
            ],
            [
             0.6666666666666666,
             "#ed7953"
            ],
            [
             0.7777777777777778,
             "#fb9f3a"
            ],
            [
             0.8888888888888888,
             "#fdca26"
            ],
            [
             1,
             "#f0f921"
            ]
           ]
          },
          "colorway": [
           "#636efa",
           "#EF553B",
           "#00cc96",
           "#ab63fa",
           "#FFA15A",
           "#19d3f3",
           "#FF6692",
           "#B6E880",
           "#FF97FF",
           "#FECB52"
          ],
          "font": {
           "color": "#2a3f5f"
          },
          "geo": {
           "bgcolor": "white",
           "lakecolor": "white",
           "landcolor": "#E5ECF6",
           "showlakes": true,
           "showland": true,
           "subunitcolor": "white"
          },
          "hoverlabel": {
           "align": "left"
          },
          "hovermode": "closest",
          "mapbox": {
           "style": "light"
          },
          "paper_bgcolor": "white",
          "plot_bgcolor": "#E5ECF6",
          "polar": {
           "angularaxis": {
            "gridcolor": "white",
            "linecolor": "white",
            "ticks": ""
           },
           "bgcolor": "#E5ECF6",
           "radialaxis": {
            "gridcolor": "white",
            "linecolor": "white",
            "ticks": ""
           }
          },
          "scene": {
           "xaxis": {
            "backgroundcolor": "#E5ECF6",
            "gridcolor": "white",
            "gridwidth": 2,
            "linecolor": "white",
            "showbackground": true,
            "ticks": "",
            "zerolinecolor": "white"
           },
           "yaxis": {
            "backgroundcolor": "#E5ECF6",
            "gridcolor": "white",
            "gridwidth": 2,
            "linecolor": "white",
            "showbackground": true,
            "ticks": "",
            "zerolinecolor": "white"
           },
           "zaxis": {
            "backgroundcolor": "#E5ECF6",
            "gridcolor": "white",
            "gridwidth": 2,
            "linecolor": "white",
            "showbackground": true,
            "ticks": "",
            "zerolinecolor": "white"
           }
          },
          "shapedefaults": {
           "line": {
            "color": "#2a3f5f"
           }
          },
          "ternary": {
           "aaxis": {
            "gridcolor": "white",
            "linecolor": "white",
            "ticks": ""
           },
           "baxis": {
            "gridcolor": "white",
            "linecolor": "white",
            "ticks": ""
           },
           "bgcolor": "#E5ECF6",
           "caxis": {
            "gridcolor": "white",
            "linecolor": "white",
            "ticks": ""
           }
          },
          "title": {
           "x": 0.05
          },
          "xaxis": {
           "automargin": true,
           "gridcolor": "white",
           "linecolor": "white",
           "ticks": "",
           "title": {
            "standoff": 15
           },
           "zerolinecolor": "white",
           "zerolinewidth": 2
          },
          "yaxis": {
           "automargin": true,
           "gridcolor": "white",
           "linecolor": "white",
           "ticks": "",
           "title": {
            "standoff": 15
           },
           "zerolinecolor": "white",
           "zerolinewidth": 2
          }
         }
        },
        "title": {
         "text": "Evolução dos Preços - Modelo: RX 7600 XT"
        },
        "xaxis": {
         "title": {
          "text": "Data"
         }
        },
        "yaxis": {
         "tickformat": ".2f",
         "tickprefix": "R$ ",
         "title": {
          "text": "Preço"
         }
        }
       }
      }
     },
     "metadata": {},
     "output_type": "display_data"
    }
   ],
   "source": [
    "import plotly.graph_objs as go\n",
    "\n",
    "figs = []  # Lista para armazenar os gráficos individuais\n",
    "\n",
    "# Iterar sobre os modelos únicos\n",
    "for model in df2['model'].unique():\n",
    "    fig = go.Figure()\n",
    "    model_data = df2[df2['model'] == model].copy()\n",
    "    model_data['date'] = model_data['date'].dt.floor('min')  # Truncar para minutos\n",
    "\n",
    "    for product in model_data['full_name'].unique():\n",
    "        product_data = model_data[model_data['full_name'] == product]\n",
    "        fig.add_trace(go.Scatter(x=product_data['date'], y=product_data['price'], mode='lines+markers', name=product))\n",
    "\n",
    "    fig.update_layout(title=f'Evolução dos Preços - Modelo: {model}',\n",
    "                      xaxis_title='Data',\n",
    "                      yaxis_title='Preço',\n",
    "                      yaxis_tickprefix='R$ ',\n",
    "                      yaxis_tickformat='.2f',\n",
    "                      margin=dict(l=50, r=50, t=80, b=150),\n",
    "                      legend=dict(x=10, y=0, orientation='v', font=dict(size=10), itemwidth=30))\n",
    "\n",
    "    figs.append(fig)\n",
    "\n",
    "# Exibir os gráficos\n",
    "for i, fig in enumerate(figs, 1):\n",
    "    fig.show()\n"
   ]
  },
  {
   "cell_type": "code",
   "execution_count": 88,
   "metadata": {},
   "outputs": [
    {
     "data": {
      "text/html": [
       "<div>\n",
       "<style scoped>\n",
       "    .dataframe tbody tr th:only-of-type {\n",
       "        vertical-align: middle;\n",
       "    }\n",
       "\n",
       "    .dataframe tbody tr th {\n",
       "        vertical-align: top;\n",
       "    }\n",
       "\n",
       "    .dataframe thead th {\n",
       "        text-align: right;\n",
       "    }\n",
       "</style>\n",
       "<table border=\"1\" class=\"dataframe\">\n",
       "  <thead>\n",
       "    <tr style=\"text-align: right;\">\n",
       "      <th></th>\n",
       "      <th>full_name</th>\n",
       "      <th>model</th>\n",
       "      <th>link</th>\n",
       "      <th>sku</th>\n",
       "      <th>brand_name</th>\n",
       "      <th>weight</th>\n",
       "      <th>price</th>\n",
       "      <th>primePrice</th>\n",
       "      <th>primePriceWithDiscount</th>\n",
       "      <th>oldPrice</th>\n",
       "      <th>oldPrimePrice</th>\n",
       "      <th>priceWithDiscount</th>\n",
       "      <th>discountPercentage</th>\n",
       "      <th>rating</th>\n",
       "      <th>ratingCount</th>\n",
       "      <th>available</th>\n",
       "      <th>warranty</th>\n",
       "      <th>date</th>\n",
       "    </tr>\n",
       "  </thead>\n",
       "  <tbody>\n",
       "    <tr>\n",
       "      <th>0</th>\n",
       "      <td>placa-de-video-rtx-4070-ti-ventus-msi-nvidia-g...</td>\n",
       "      <td>RTX 4070 TI</td>\n",
       "      <td>https://www.kabum.com.br//produto/403373/placa...</td>\n",
       "      <td>403373</td>\n",
       "      <td>MSI</td>\n",
       "      <td>1732</td>\n",
       "      <td>6117.64</td>\n",
       "      <td>5934.11</td>\n",
       "      <td>5043.99</td>\n",
       "      <td>6117.64</td>\n",
       "      <td>6117.64</td>\n",
       "      <td>5199.99</td>\n",
       "      <td>15</td>\n",
       "      <td>4</td>\n",
       "      <td>8</td>\n",
       "      <td>1</td>\n",
       "      <td>36</td>\n",
       "      <td>2024-04-25 03:36:29.337716</td>\n",
       "    </tr>\n",
       "  </tbody>\n",
       "</table>\n",
       "</div>"
      ],
      "text/plain": [
       "                                           full_name        model  \\\n",
       "0  placa-de-video-rtx-4070-ti-ventus-msi-nvidia-g...  RTX 4070 TI   \n",
       "\n",
       "                                                link     sku brand_name  \\\n",
       "0  https://www.kabum.com.br//produto/403373/placa...  403373        MSI   \n",
       "\n",
       "   weight    price  primePrice  primePriceWithDiscount  oldPrice  \\\n",
       "0    1732  6117.64     5934.11                 5043.99   6117.64   \n",
       "\n",
       "   oldPrimePrice  priceWithDiscount  discountPercentage  rating  ratingCount  \\\n",
       "0        6117.64            5199.99                  15       4            8   \n",
       "\n",
       "   available  warranty                       date  \n",
       "0          1        36 2024-04-25 03:36:29.337716  "
      ]
     },
     "execution_count": 88,
     "metadata": {},
     "output_type": "execute_result"
    }
   ],
   "source": [
    "df2.head(1)"
   ]
  },
  {
   "cell_type": "code",
   "execution_count": 89,
   "metadata": {},
   "outputs": [],
   "source": [
    "data_inicial = df['date'].min()\n",
    "df2['hour'] = (df['date'] - data_inicial).dt.total_seconds() / 3600"
   ]
  },
  {
   "cell_type": "code",
   "execution_count": 90,
   "metadata": {},
   "outputs": [
    {
     "data": {
      "text/html": [
       "<div>\n",
       "<style scoped>\n",
       "    .dataframe tbody tr th:only-of-type {\n",
       "        vertical-align: middle;\n",
       "    }\n",
       "\n",
       "    .dataframe tbody tr th {\n",
       "        vertical-align: top;\n",
       "    }\n",
       "\n",
       "    .dataframe thead th {\n",
       "        text-align: right;\n",
       "    }\n",
       "</style>\n",
       "<table border=\"1\" class=\"dataframe\">\n",
       "  <thead>\n",
       "    <tr style=\"text-align: right;\">\n",
       "      <th></th>\n",
       "      <th>full_name</th>\n",
       "      <th>model</th>\n",
       "      <th>link</th>\n",
       "      <th>sku</th>\n",
       "      <th>brand_name</th>\n",
       "      <th>weight</th>\n",
       "      <th>price</th>\n",
       "      <th>primePrice</th>\n",
       "      <th>primePriceWithDiscount</th>\n",
       "      <th>oldPrice</th>\n",
       "      <th>oldPrimePrice</th>\n",
       "      <th>priceWithDiscount</th>\n",
       "      <th>discountPercentage</th>\n",
       "      <th>rating</th>\n",
       "      <th>ratingCount</th>\n",
       "      <th>available</th>\n",
       "      <th>warranty</th>\n",
       "      <th>date</th>\n",
       "      <th>hour</th>\n",
       "    </tr>\n",
       "  </thead>\n",
       "  <tbody>\n",
       "    <tr>\n",
       "      <th>0</th>\n",
       "      <td>placa-de-video-rtx-4070-ti-ventus-msi-nvidia-g...</td>\n",
       "      <td>RTX 4070 TI</td>\n",
       "      <td>https://www.kabum.com.br//produto/403373/placa...</td>\n",
       "      <td>403373</td>\n",
       "      <td>MSI</td>\n",
       "      <td>1732</td>\n",
       "      <td>6117.64</td>\n",
       "      <td>5934.11</td>\n",
       "      <td>5043.99</td>\n",
       "      <td>6117.64</td>\n",
       "      <td>6117.64</td>\n",
       "      <td>5199.99</td>\n",
       "      <td>15</td>\n",
       "      <td>4</td>\n",
       "      <td>8</td>\n",
       "      <td>1</td>\n",
       "      <td>36</td>\n",
       "      <td>2024-04-25 03:36:29.337716</td>\n",
       "      <td>0.0</td>\n",
       "    </tr>\n",
       "  </tbody>\n",
       "</table>\n",
       "</div>"
      ],
      "text/plain": [
       "                                           full_name        model  \\\n",
       "0  placa-de-video-rtx-4070-ti-ventus-msi-nvidia-g...  RTX 4070 TI   \n",
       "\n",
       "                                                link     sku brand_name  \\\n",
       "0  https://www.kabum.com.br//produto/403373/placa...  403373        MSI   \n",
       "\n",
       "   weight    price  primePrice  primePriceWithDiscount  oldPrice  \\\n",
       "0    1732  6117.64     5934.11                 5043.99   6117.64   \n",
       "\n",
       "   oldPrimePrice  priceWithDiscount  discountPercentage  rating  ratingCount  \\\n",
       "0        6117.64            5199.99                  15       4            8   \n",
       "\n",
       "   available  warranty                       date  hour  \n",
       "0          1        36 2024-04-25 03:36:29.337716   0.0  "
      ]
     },
     "execution_count": 90,
     "metadata": {},
     "output_type": "execute_result"
    }
   ],
   "source": [
    "df2.head(1)"
   ]
  },
  {
   "cell_type": "code",
   "execution_count": 16,
   "metadata": {},
   "outputs": [
    {
     "ename": "NameError",
     "evalue": "name 'df_produtos' is not defined",
     "output_type": "error",
     "traceback": [
      "\u001b[1;31m---------------------------------------------------------------------------\u001b[0m",
      "\u001b[1;31mNameError\u001b[0m                                 Traceback (most recent call last)",
      "Cell \u001b[1;32mIn[16], line 1\u001b[0m\n\u001b[1;32m----> 1\u001b[0m \u001b[43mdf_produtos\u001b[49m\u001b[38;5;241m.\u001b[39mreplace(\u001b[38;5;28;01mFalse\u001b[39;00m, \u001b[38;5;241m0\u001b[39m, inplace\u001b[38;5;241m=\u001b[39m\u001b[38;5;28;01mTrue\u001b[39;00m)\n\u001b[0;32m      2\u001b[0m df_produtos\u001b[38;5;241m.\u001b[39mreplace(\u001b[38;5;28;01mTrue\u001b[39;00m, \u001b[38;5;241m1\u001b[39m, inplace\u001b[38;5;241m=\u001b[39m\u001b[38;5;28;01mTrue\u001b[39;00m)\n\u001b[0;32m      3\u001b[0m df_produtos\n",
      "\u001b[1;31mNameError\u001b[0m: name 'df_produtos' is not defined"
     ]
    }
   ],
   "source": [
    "# df_produtos.replace(False, 0, inplace=True)\n",
    "# df_produtos.replace(True, 1, inplace=True)\n",
    "# df_produtos"
   ]
  },
  {
   "cell_type": "code",
   "execution_count": 92,
   "metadata": {},
   "outputs": [],
   "source": [
    "import datetime\n",
    "from sklearn.linear_model import LinearRegression\n",
    "from sklearn.preprocessing import PolynomialFeatures\n",
    "from sklearn.tree import DecisionTreeRegressor\n",
    "from sklearn.model_selection import train_test_split\n",
    "from sklearn.metrics import r2_score\n",
    "from sklearn.preprocessing import Normalizer\n",
    "\n",
    "df_produtos = df2\n",
    "\n",
    "df_produtos = df_produtos.drop(['full_name', 'link', 'sku', 'weight', 'date'], axis=1)\n",
    "\n",
    "df_produtos = pd.get_dummies(df_produtos, columns=['brand_name', 'model'])\n",
    "\n",
    "X = df_produtos.drop(['price'], axis=1)\n",
    "y = df_produtos['price']\n",
    "\n",
    "X_train, X_test, y_train, y_test = train_test_split(X, y, test_size=0.35, random_state=42)"
   ]
  },
  {
   "cell_type": "code",
   "execution_count": 94,
   "metadata": {},
   "outputs": [
    {
     "name": "stdout",
     "output_type": "stream",
     "text": [
      "R² médio: 0.9934413521306313\n",
      "Desvio padrão dos R²: 0.003376429047315227\n"
     ]
    }
   ],
   "source": [
    "from sklearn.model_selection import cross_val_score, KFold\n",
    "\n",
    "modelo = LinearRegression()\n",
    "\n",
    "num_folds = 5\n",
    "\n",
    "# Criar um objeto KFold para dividir os dados em folds\n",
    "kf = KFold(n_splits=num_folds, shuffle=True, random_state=42)\n",
    "\n",
    "scores = cross_val_score(modelo, X, y, cv=kf, scoring='r2')\n",
    "\n",
    "print(\"R² médio:\", scores.mean())\n",
    "print(\"Desvio padrão dos R²:\", scores.std())"
   ]
  },
  {
   "cell_type": "code",
   "execution_count": 95,
   "metadata": {},
   "outputs": [
    {
     "name": "stdout",
     "output_type": "stream",
     "text": [
      "Coeficiente de Determinação (R²) - Regressão Linear: 0.8731868946848608\n",
      "Coeficiente de Determinação (R²) - Árvore de Decisão: 0.9180977340132067\n"
     ]
    }
   ],
   "source": [
    "modelo_linear = LinearRegression()\n",
    "modelo_linear.fit(X_train, y_train)\n",
    "y_pred = modelo_linear.predict(X_test)\n",
    "r2_linear = r2_score(y_test, y_pred)\n",
    "\n",
    "modelo_decision_tree = DecisionTreeRegressor()\n",
    "modelo_decision_tree.fit(X_train, y_train)\n",
    "y_pred_decision_tree = modelo_decision_tree.predict(X_test)\n",
    "r2_decision_tree = r2_score(y_test, y_pred_decision_tree)\n",
    "\n",
    "print(f\"Coeficiente de Determinação (R²) - Regressão Linear: {r2_linear}\")\n",
    "print(f\"Coeficiente de Determinação (R²) - Árvore de Decisão: {r2_decision_tree}\")"
   ]
  },
  {
   "cell_type": "code",
   "execution_count": 96,
   "metadata": {},
   "outputs": [],
   "source": [
    "from sklearn.linear_model import LinearRegression\n",
    "from sklearn.datasets import make_regression\n",
    "from sklearn.model_selection import GridSearchCV\n",
    "from sklearn.metrics import mean_squared_error"
   ]
  },
  {
   "cell_type": "code",
   "execution_count": 97,
   "metadata": {},
   "outputs": [
    {
     "name": "stdout",
     "output_type": "stream",
     "text": [
      "Best parameters: {'n_jobs': 1}\n",
      "Best score: 0.99\n",
      "Mean squared error: 845854.62\n"
     ]
    }
   ],
   "source": [
    "# Generate a random regression dataset\n",
    "X, y = make_regression(n_samples=100, n_features=10, noise=0.1)\n",
    "\n",
    "# Define the parameter grid for the grid search\n",
    "param_grid = {\n",
    "    'n_jobs': [1, 2, 3, 4, 5, 6, 7]\n",
    "}\n",
    "\n",
    "# Create a linear regression model\n",
    "model = LinearRegression()\n",
    "\n",
    "# Create a grid search object\n",
    "grid_search = GridSearchCV(\n",
    "    estimator=model,\n",
    "    param_grid=param_grid,\n",
    "    cv=3\n",
    ")\n",
    "\n",
    "# Fit the grid search object to the dataset\n",
    "grid_search.fit(X_train, y_train)\n",
    "\n",
    "# Print the best parameters and the best score\n",
    "print(f'Best parameters: {grid_search.best_params_}')\n",
    "print(f'Best score: {grid_search.best_score_:.2f}')\n",
    "\n",
    "# Predict the numerical values using the best model\n",
    "y_pred = grid_search.best_estimator_.predict(X_test)\n",
    "\n",
    "# Evaluate the performance using mean squared error\n",
    "mse = mean_squared_error(y_test, y_pred)\n",
    "print(f'Mean squared error: {mse:.2f}')"
   ]
  },
  {
   "cell_type": "code",
   "execution_count": 98,
   "metadata": {},
   "outputs": [
    {
     "name": "stdout",
     "output_type": "stream",
     "text": [
      "Mean squared error: 845854.62\n",
      "Erro de treinamento: 4873.43\n",
      "Erro de teste: 845854.62\n",
      "\n"
     ]
    }
   ],
   "source": [
    "# Create a linear regression model\n",
    "model = LinearRegression()\n",
    "\n",
    "# Fit the grid search object to the dataset\n",
    "model.fit(X_train, y_train)\n",
    "\n",
    "# Predict the numerical values using the best model\n",
    "y_pred = model.predict(X_test)\n",
    "\n",
    "# Evaluate the performance using mean squared error\n",
    "mse = mean_squared_error(y_test, y_pred)\n",
    "print(f'Mean squared error: {mse:.2f}')\n",
    "\n",
    "train_error = mean_squared_error(y_train, model.predict(X_train))\n",
    "test_error = mean_squared_error(y_test, model.predict(X_test))\n",
    "\n",
    "print(f\"Erro de treinamento: {train_error:.2f}\")\n",
    "print(f\"Erro de teste: {test_error:.2f}\\n\")"
   ]
  },
  {
   "cell_type": "code",
   "execution_count": 99,
   "metadata": {},
   "outputs": [
    {
     "data": {
      "application/vnd.plotly.v1+json": {
       "config": {
        "plotlyServerURL": "https://plot.ly"
       },
       "data": [
        {
         "marker": {
          "color": "blue"
         },
         "mode": "markers",
         "name": "Predicted vs. Actual",
         "type": "scatter",
         "x": [
          4222.11,
          2941.16,
          6117.64,
          10026.9,
          7176.46,
          2705.87,
          5599,
          4978.84,
          2799.99,
          7850,
          9999.99,
          7411.75,
          9999.9,
          7294.11,
          8470.58,
          9019.45,
          6117.64,
          9373.9,
          11764.69,
          7999.99,
          6601.06,
          2599.99,
          5199.99
         ],
         "y": [
          4032.8386874477746,
          3053.977827633158,
          6123.652483934558,
          10056.078005663789,
          7158.35559616229,
          2728.3207754058476,
          5666.6572669136,
          4875.332326521895,
          2035.2105169434735,
          3656.5139196939353,
          9885.624020231884,
          7455.131956751285,
          10109.505064516252,
          6905.67831583167,
          8455.526124449687,
          8785.010794785529,
          6220.708688744957,
          9330.341034807312,
          11351.68654381248,
          7990.714515121591,
          6418.577224093138,
          1822.371292349565,
          4794.195329681129
         ]
        },
        {
         "line": {
          "color": "black",
          "dash": "dash"
         },
         "mode": "lines",
         "name": "Ideal Line",
         "type": "scatter",
         "x": [
          2599.99,
          11764.69
         ],
         "y": [
          2599.99,
          11764.69
         ]
        }
       ],
       "layout": {
        "legend": {
         "x": 0,
         "y": 1
        },
        "template": {
         "data": {
          "bar": [
           {
            "error_x": {
             "color": "#2a3f5f"
            },
            "error_y": {
             "color": "#2a3f5f"
            },
            "marker": {
             "line": {
              "color": "#E5ECF6",
              "width": 0.5
             },
             "pattern": {
              "fillmode": "overlay",
              "size": 10,
              "solidity": 0.2
             }
            },
            "type": "bar"
           }
          ],
          "barpolar": [
           {
            "marker": {
             "line": {
              "color": "#E5ECF6",
              "width": 0.5
             },
             "pattern": {
              "fillmode": "overlay",
              "size": 10,
              "solidity": 0.2
             }
            },
            "type": "barpolar"
           }
          ],
          "carpet": [
           {
            "aaxis": {
             "endlinecolor": "#2a3f5f",
             "gridcolor": "white",
             "linecolor": "white",
             "minorgridcolor": "white",
             "startlinecolor": "#2a3f5f"
            },
            "baxis": {
             "endlinecolor": "#2a3f5f",
             "gridcolor": "white",
             "linecolor": "white",
             "minorgridcolor": "white",
             "startlinecolor": "#2a3f5f"
            },
            "type": "carpet"
           }
          ],
          "choropleth": [
           {
            "colorbar": {
             "outlinewidth": 0,
             "ticks": ""
            },
            "type": "choropleth"
           }
          ],
          "contour": [
           {
            "colorbar": {
             "outlinewidth": 0,
             "ticks": ""
            },
            "colorscale": [
             [
              0,
              "#0d0887"
             ],
             [
              0.1111111111111111,
              "#46039f"
             ],
             [
              0.2222222222222222,
              "#7201a8"
             ],
             [
              0.3333333333333333,
              "#9c179e"
             ],
             [
              0.4444444444444444,
              "#bd3786"
             ],
             [
              0.5555555555555556,
              "#d8576b"
             ],
             [
              0.6666666666666666,
              "#ed7953"
             ],
             [
              0.7777777777777778,
              "#fb9f3a"
             ],
             [
              0.8888888888888888,
              "#fdca26"
             ],
             [
              1,
              "#f0f921"
             ]
            ],
            "type": "contour"
           }
          ],
          "contourcarpet": [
           {
            "colorbar": {
             "outlinewidth": 0,
             "ticks": ""
            },
            "type": "contourcarpet"
           }
          ],
          "heatmap": [
           {
            "colorbar": {
             "outlinewidth": 0,
             "ticks": ""
            },
            "colorscale": [
             [
              0,
              "#0d0887"
             ],
             [
              0.1111111111111111,
              "#46039f"
             ],
             [
              0.2222222222222222,
              "#7201a8"
             ],
             [
              0.3333333333333333,
              "#9c179e"
             ],
             [
              0.4444444444444444,
              "#bd3786"
             ],
             [
              0.5555555555555556,
              "#d8576b"
             ],
             [
              0.6666666666666666,
              "#ed7953"
             ],
             [
              0.7777777777777778,
              "#fb9f3a"
             ],
             [
              0.8888888888888888,
              "#fdca26"
             ],
             [
              1,
              "#f0f921"
             ]
            ],
            "type": "heatmap"
           }
          ],
          "heatmapgl": [
           {
            "colorbar": {
             "outlinewidth": 0,
             "ticks": ""
            },
            "colorscale": [
             [
              0,
              "#0d0887"
             ],
             [
              0.1111111111111111,
              "#46039f"
             ],
             [
              0.2222222222222222,
              "#7201a8"
             ],
             [
              0.3333333333333333,
              "#9c179e"
             ],
             [
              0.4444444444444444,
              "#bd3786"
             ],
             [
              0.5555555555555556,
              "#d8576b"
             ],
             [
              0.6666666666666666,
              "#ed7953"
             ],
             [
              0.7777777777777778,
              "#fb9f3a"
             ],
             [
              0.8888888888888888,
              "#fdca26"
             ],
             [
              1,
              "#f0f921"
             ]
            ],
            "type": "heatmapgl"
           }
          ],
          "histogram": [
           {
            "marker": {
             "pattern": {
              "fillmode": "overlay",
              "size": 10,
              "solidity": 0.2
             }
            },
            "type": "histogram"
           }
          ],
          "histogram2d": [
           {
            "colorbar": {
             "outlinewidth": 0,
             "ticks": ""
            },
            "colorscale": [
             [
              0,
              "#0d0887"
             ],
             [
              0.1111111111111111,
              "#46039f"
             ],
             [
              0.2222222222222222,
              "#7201a8"
             ],
             [
              0.3333333333333333,
              "#9c179e"
             ],
             [
              0.4444444444444444,
              "#bd3786"
             ],
             [
              0.5555555555555556,
              "#d8576b"
             ],
             [
              0.6666666666666666,
              "#ed7953"
             ],
             [
              0.7777777777777778,
              "#fb9f3a"
             ],
             [
              0.8888888888888888,
              "#fdca26"
             ],
             [
              1,
              "#f0f921"
             ]
            ],
            "type": "histogram2d"
           }
          ],
          "histogram2dcontour": [
           {
            "colorbar": {
             "outlinewidth": 0,
             "ticks": ""
            },
            "colorscale": [
             [
              0,
              "#0d0887"
             ],
             [
              0.1111111111111111,
              "#46039f"
             ],
             [
              0.2222222222222222,
              "#7201a8"
             ],
             [
              0.3333333333333333,
              "#9c179e"
             ],
             [
              0.4444444444444444,
              "#bd3786"
             ],
             [
              0.5555555555555556,
              "#d8576b"
             ],
             [
              0.6666666666666666,
              "#ed7953"
             ],
             [
              0.7777777777777778,
              "#fb9f3a"
             ],
             [
              0.8888888888888888,
              "#fdca26"
             ],
             [
              1,
              "#f0f921"
             ]
            ],
            "type": "histogram2dcontour"
           }
          ],
          "mesh3d": [
           {
            "colorbar": {
             "outlinewidth": 0,
             "ticks": ""
            },
            "type": "mesh3d"
           }
          ],
          "parcoords": [
           {
            "line": {
             "colorbar": {
              "outlinewidth": 0,
              "ticks": ""
             }
            },
            "type": "parcoords"
           }
          ],
          "pie": [
           {
            "automargin": true,
            "type": "pie"
           }
          ],
          "scatter": [
           {
            "fillpattern": {
             "fillmode": "overlay",
             "size": 10,
             "solidity": 0.2
            },
            "type": "scatter"
           }
          ],
          "scatter3d": [
           {
            "line": {
             "colorbar": {
              "outlinewidth": 0,
              "ticks": ""
             }
            },
            "marker": {
             "colorbar": {
              "outlinewidth": 0,
              "ticks": ""
             }
            },
            "type": "scatter3d"
           }
          ],
          "scattercarpet": [
           {
            "marker": {
             "colorbar": {
              "outlinewidth": 0,
              "ticks": ""
             }
            },
            "type": "scattercarpet"
           }
          ],
          "scattergeo": [
           {
            "marker": {
             "colorbar": {
              "outlinewidth": 0,
              "ticks": ""
             }
            },
            "type": "scattergeo"
           }
          ],
          "scattergl": [
           {
            "marker": {
             "colorbar": {
              "outlinewidth": 0,
              "ticks": ""
             }
            },
            "type": "scattergl"
           }
          ],
          "scattermapbox": [
           {
            "marker": {
             "colorbar": {
              "outlinewidth": 0,
              "ticks": ""
             }
            },
            "type": "scattermapbox"
           }
          ],
          "scatterpolar": [
           {
            "marker": {
             "colorbar": {
              "outlinewidth": 0,
              "ticks": ""
             }
            },
            "type": "scatterpolar"
           }
          ],
          "scatterpolargl": [
           {
            "marker": {
             "colorbar": {
              "outlinewidth": 0,
              "ticks": ""
             }
            },
            "type": "scatterpolargl"
           }
          ],
          "scatterternary": [
           {
            "marker": {
             "colorbar": {
              "outlinewidth": 0,
              "ticks": ""
             }
            },
            "type": "scatterternary"
           }
          ],
          "surface": [
           {
            "colorbar": {
             "outlinewidth": 0,
             "ticks": ""
            },
            "colorscale": [
             [
              0,
              "#0d0887"
             ],
             [
              0.1111111111111111,
              "#46039f"
             ],
             [
              0.2222222222222222,
              "#7201a8"
             ],
             [
              0.3333333333333333,
              "#9c179e"
             ],
             [
              0.4444444444444444,
              "#bd3786"
             ],
             [
              0.5555555555555556,
              "#d8576b"
             ],
             [
              0.6666666666666666,
              "#ed7953"
             ],
             [
              0.7777777777777778,
              "#fb9f3a"
             ],
             [
              0.8888888888888888,
              "#fdca26"
             ],
             [
              1,
              "#f0f921"
             ]
            ],
            "type": "surface"
           }
          ],
          "table": [
           {
            "cells": {
             "fill": {
              "color": "#EBF0F8"
             },
             "line": {
              "color": "white"
             }
            },
            "header": {
             "fill": {
              "color": "#C8D4E3"
             },
             "line": {
              "color": "white"
             }
            },
            "type": "table"
           }
          ]
         },
         "layout": {
          "annotationdefaults": {
           "arrowcolor": "#2a3f5f",
           "arrowhead": 0,
           "arrowwidth": 1
          },
          "autotypenumbers": "strict",
          "coloraxis": {
           "colorbar": {
            "outlinewidth": 0,
            "ticks": ""
           }
          },
          "colorscale": {
           "diverging": [
            [
             0,
             "#8e0152"
            ],
            [
             0.1,
             "#c51b7d"
            ],
            [
             0.2,
             "#de77ae"
            ],
            [
             0.3,
             "#f1b6da"
            ],
            [
             0.4,
             "#fde0ef"
            ],
            [
             0.5,
             "#f7f7f7"
            ],
            [
             0.6,
             "#e6f5d0"
            ],
            [
             0.7,
             "#b8e186"
            ],
            [
             0.8,
             "#7fbc41"
            ],
            [
             0.9,
             "#4d9221"
            ],
            [
             1,
             "#276419"
            ]
           ],
           "sequential": [
            [
             0,
             "#0d0887"
            ],
            [
             0.1111111111111111,
             "#46039f"
            ],
            [
             0.2222222222222222,
             "#7201a8"
            ],
            [
             0.3333333333333333,
             "#9c179e"
            ],
            [
             0.4444444444444444,
             "#bd3786"
            ],
            [
             0.5555555555555556,
             "#d8576b"
            ],
            [
             0.6666666666666666,
             "#ed7953"
            ],
            [
             0.7777777777777778,
             "#fb9f3a"
            ],
            [
             0.8888888888888888,
             "#fdca26"
            ],
            [
             1,
             "#f0f921"
            ]
           ],
           "sequentialminus": [
            [
             0,
             "#0d0887"
            ],
            [
             0.1111111111111111,
             "#46039f"
            ],
            [
             0.2222222222222222,
             "#7201a8"
            ],
            [
             0.3333333333333333,
             "#9c179e"
            ],
            [
             0.4444444444444444,
             "#bd3786"
            ],
            [
             0.5555555555555556,
             "#d8576b"
            ],
            [
             0.6666666666666666,
             "#ed7953"
            ],
            [
             0.7777777777777778,
             "#fb9f3a"
            ],
            [
             0.8888888888888888,
             "#fdca26"
            ],
            [
             1,
             "#f0f921"
            ]
           ]
          },
          "colorway": [
           "#636efa",
           "#EF553B",
           "#00cc96",
           "#ab63fa",
           "#FFA15A",
           "#19d3f3",
           "#FF6692",
           "#B6E880",
           "#FF97FF",
           "#FECB52"
          ],
          "font": {
           "color": "#2a3f5f"
          },
          "geo": {
           "bgcolor": "white",
           "lakecolor": "white",
           "landcolor": "#E5ECF6",
           "showlakes": true,
           "showland": true,
           "subunitcolor": "white"
          },
          "hoverlabel": {
           "align": "left"
          },
          "hovermode": "closest",
          "mapbox": {
           "style": "light"
          },
          "paper_bgcolor": "white",
          "plot_bgcolor": "#E5ECF6",
          "polar": {
           "angularaxis": {
            "gridcolor": "white",
            "linecolor": "white",
            "ticks": ""
           },
           "bgcolor": "#E5ECF6",
           "radialaxis": {
            "gridcolor": "white",
            "linecolor": "white",
            "ticks": ""
           }
          },
          "scene": {
           "xaxis": {
            "backgroundcolor": "#E5ECF6",
            "gridcolor": "white",
            "gridwidth": 2,
            "linecolor": "white",
            "showbackground": true,
            "ticks": "",
            "zerolinecolor": "white"
           },
           "yaxis": {
            "backgroundcolor": "#E5ECF6",
            "gridcolor": "white",
            "gridwidth": 2,
            "linecolor": "white",
            "showbackground": true,
            "ticks": "",
            "zerolinecolor": "white"
           },
           "zaxis": {
            "backgroundcolor": "#E5ECF6",
            "gridcolor": "white",
            "gridwidth": 2,
            "linecolor": "white",
            "showbackground": true,
            "ticks": "",
            "zerolinecolor": "white"
           }
          },
          "shapedefaults": {
           "line": {
            "color": "#2a3f5f"
           }
          },
          "ternary": {
           "aaxis": {
            "gridcolor": "white",
            "linecolor": "white",
            "ticks": ""
           },
           "baxis": {
            "gridcolor": "white",
            "linecolor": "white",
            "ticks": ""
           },
           "bgcolor": "#E5ECF6",
           "caxis": {
            "gridcolor": "white",
            "linecolor": "white",
            "ticks": ""
           }
          },
          "title": {
           "x": 0.05
          },
          "xaxis": {
           "automargin": true,
           "gridcolor": "white",
           "linecolor": "white",
           "ticks": "",
           "title": {
            "standoff": 15
           },
           "zerolinecolor": "white",
           "zerolinewidth": 2
          },
          "yaxis": {
           "automargin": true,
           "gridcolor": "white",
           "linecolor": "white",
           "ticks": "",
           "title": {
            "standoff": 15
           },
           "zerolinecolor": "white",
           "zerolinewidth": 2
          }
         }
        },
        "title": {
         "text": "Predicted vs. Actual"
        },
        "xaxis": {
         "title": {
          "text": "Actual"
         }
        },
        "yaxis": {
         "title": {
          "text": "Predicted"
         }
        }
       }
      }
     },
     "metadata": {},
     "output_type": "display_data"
    },
    {
     "data": {
      "application/vnd.plotly.v1+json": {
       "config": {
        "plotlyServerURL": "https://plot.ly"
       },
       "data": [
        {
         "mode": "lines+markers",
         "name": "Training score",
         "type": "scatter",
         "x": [
          3,
          10,
          18,
          25,
          33
         ],
         "y": [
          1,
          1,
          0.9999516692674103,
          0.9996658308116606,
          0.9994621928363114
         ]
        },
        {
         "mode": "lines+markers",
         "name": "Cross-validation score",
         "type": "scatter",
         "x": [
          3,
          10,
          18,
          25,
          33
         ],
         "y": [
          0.9520353031448863,
          0.9121606903401028,
          0.974811022089575,
          0.981731643977181,
          -1.0632662805341169
         ]
        },
        {
         "fill": "toself",
         "fillcolor": "rgba(255, 0, 0, 0.1)",
         "line": {
          "color": "rgba(255, 0, 0, 0)"
         },
         "name": "Training score ± 1 std",
         "type": "scatter",
         "x": [
          3,
          10,
          18,
          25,
          33,
          33,
          25,
          18,
          10,
          3
         ],
         "y": [
          1,
          1,
          0.9998629529337678,
          0.9993844481946857,
          0.9991539759834576,
          0.9997704096891653,
          0.9999472134286355,
          1.0000403856010527,
          1,
          1
         ]
        },
        {
         "fill": "toself",
         "fillcolor": "rgba(0, 255, 0, 0.1)",
         "line": {
          "color": "rgba(0, 255, 0, 0)"
         },
         "name": "Cross-validation score ± 1 std",
         "type": "scatter",
         "x": [
          3,
          10,
          18,
          25,
          33,
          33,
          25,
          18,
          10,
          3
         ],
         "y": [
          0.9151441409866322,
          0.7897628839840171,
          0.9489446918976703,
          0.9646370306528222,
          -5.170187830003707,
          3.0436552689354737,
          0.9988262573015398,
          1.0006773522814798,
          1.0345584966961887,
          0.9889264653031403
         ]
        }
       ],
       "layout": {
        "template": {
         "data": {
          "bar": [
           {
            "error_x": {
             "color": "#2a3f5f"
            },
            "error_y": {
             "color": "#2a3f5f"
            },
            "marker": {
             "line": {
              "color": "#E5ECF6",
              "width": 0.5
             },
             "pattern": {
              "fillmode": "overlay",
              "size": 10,
              "solidity": 0.2
             }
            },
            "type": "bar"
           }
          ],
          "barpolar": [
           {
            "marker": {
             "line": {
              "color": "#E5ECF6",
              "width": 0.5
             },
             "pattern": {
              "fillmode": "overlay",
              "size": 10,
              "solidity": 0.2
             }
            },
            "type": "barpolar"
           }
          ],
          "carpet": [
           {
            "aaxis": {
             "endlinecolor": "#2a3f5f",
             "gridcolor": "white",
             "linecolor": "white",
             "minorgridcolor": "white",
             "startlinecolor": "#2a3f5f"
            },
            "baxis": {
             "endlinecolor": "#2a3f5f",
             "gridcolor": "white",
             "linecolor": "white",
             "minorgridcolor": "white",
             "startlinecolor": "#2a3f5f"
            },
            "type": "carpet"
           }
          ],
          "choropleth": [
           {
            "colorbar": {
             "outlinewidth": 0,
             "ticks": ""
            },
            "type": "choropleth"
           }
          ],
          "contour": [
           {
            "colorbar": {
             "outlinewidth": 0,
             "ticks": ""
            },
            "colorscale": [
             [
              0,
              "#0d0887"
             ],
             [
              0.1111111111111111,
              "#46039f"
             ],
             [
              0.2222222222222222,
              "#7201a8"
             ],
             [
              0.3333333333333333,
              "#9c179e"
             ],
             [
              0.4444444444444444,
              "#bd3786"
             ],
             [
              0.5555555555555556,
              "#d8576b"
             ],
             [
              0.6666666666666666,
              "#ed7953"
             ],
             [
              0.7777777777777778,
              "#fb9f3a"
             ],
             [
              0.8888888888888888,
              "#fdca26"
             ],
             [
              1,
              "#f0f921"
             ]
            ],
            "type": "contour"
           }
          ],
          "contourcarpet": [
           {
            "colorbar": {
             "outlinewidth": 0,
             "ticks": ""
            },
            "type": "contourcarpet"
           }
          ],
          "heatmap": [
           {
            "colorbar": {
             "outlinewidth": 0,
             "ticks": ""
            },
            "colorscale": [
             [
              0,
              "#0d0887"
             ],
             [
              0.1111111111111111,
              "#46039f"
             ],
             [
              0.2222222222222222,
              "#7201a8"
             ],
             [
              0.3333333333333333,
              "#9c179e"
             ],
             [
              0.4444444444444444,
              "#bd3786"
             ],
             [
              0.5555555555555556,
              "#d8576b"
             ],
             [
              0.6666666666666666,
              "#ed7953"
             ],
             [
              0.7777777777777778,
              "#fb9f3a"
             ],
             [
              0.8888888888888888,
              "#fdca26"
             ],
             [
              1,
              "#f0f921"
             ]
            ],
            "type": "heatmap"
           }
          ],
          "heatmapgl": [
           {
            "colorbar": {
             "outlinewidth": 0,
             "ticks": ""
            },
            "colorscale": [
             [
              0,
              "#0d0887"
             ],
             [
              0.1111111111111111,
              "#46039f"
             ],
             [
              0.2222222222222222,
              "#7201a8"
             ],
             [
              0.3333333333333333,
              "#9c179e"
             ],
             [
              0.4444444444444444,
              "#bd3786"
             ],
             [
              0.5555555555555556,
              "#d8576b"
             ],
             [
              0.6666666666666666,
              "#ed7953"
             ],
             [
              0.7777777777777778,
              "#fb9f3a"
             ],
             [
              0.8888888888888888,
              "#fdca26"
             ],
             [
              1,
              "#f0f921"
             ]
            ],
            "type": "heatmapgl"
           }
          ],
          "histogram": [
           {
            "marker": {
             "pattern": {
              "fillmode": "overlay",
              "size": 10,
              "solidity": 0.2
             }
            },
            "type": "histogram"
           }
          ],
          "histogram2d": [
           {
            "colorbar": {
             "outlinewidth": 0,
             "ticks": ""
            },
            "colorscale": [
             [
              0,
              "#0d0887"
             ],
             [
              0.1111111111111111,
              "#46039f"
             ],
             [
              0.2222222222222222,
              "#7201a8"
             ],
             [
              0.3333333333333333,
              "#9c179e"
             ],
             [
              0.4444444444444444,
              "#bd3786"
             ],
             [
              0.5555555555555556,
              "#d8576b"
             ],
             [
              0.6666666666666666,
              "#ed7953"
             ],
             [
              0.7777777777777778,
              "#fb9f3a"
             ],
             [
              0.8888888888888888,
              "#fdca26"
             ],
             [
              1,
              "#f0f921"
             ]
            ],
            "type": "histogram2d"
           }
          ],
          "histogram2dcontour": [
           {
            "colorbar": {
             "outlinewidth": 0,
             "ticks": ""
            },
            "colorscale": [
             [
              0,
              "#0d0887"
             ],
             [
              0.1111111111111111,
              "#46039f"
             ],
             [
              0.2222222222222222,
              "#7201a8"
             ],
             [
              0.3333333333333333,
              "#9c179e"
             ],
             [
              0.4444444444444444,
              "#bd3786"
             ],
             [
              0.5555555555555556,
              "#d8576b"
             ],
             [
              0.6666666666666666,
              "#ed7953"
             ],
             [
              0.7777777777777778,
              "#fb9f3a"
             ],
             [
              0.8888888888888888,
              "#fdca26"
             ],
             [
              1,
              "#f0f921"
             ]
            ],
            "type": "histogram2dcontour"
           }
          ],
          "mesh3d": [
           {
            "colorbar": {
             "outlinewidth": 0,
             "ticks": ""
            },
            "type": "mesh3d"
           }
          ],
          "parcoords": [
           {
            "line": {
             "colorbar": {
              "outlinewidth": 0,
              "ticks": ""
             }
            },
            "type": "parcoords"
           }
          ],
          "pie": [
           {
            "automargin": true,
            "type": "pie"
           }
          ],
          "scatter": [
           {
            "fillpattern": {
             "fillmode": "overlay",
             "size": 10,
             "solidity": 0.2
            },
            "type": "scatter"
           }
          ],
          "scatter3d": [
           {
            "line": {
             "colorbar": {
              "outlinewidth": 0,
              "ticks": ""
             }
            },
            "marker": {
             "colorbar": {
              "outlinewidth": 0,
              "ticks": ""
             }
            },
            "type": "scatter3d"
           }
          ],
          "scattercarpet": [
           {
            "marker": {
             "colorbar": {
              "outlinewidth": 0,
              "ticks": ""
             }
            },
            "type": "scattercarpet"
           }
          ],
          "scattergeo": [
           {
            "marker": {
             "colorbar": {
              "outlinewidth": 0,
              "ticks": ""
             }
            },
            "type": "scattergeo"
           }
          ],
          "scattergl": [
           {
            "marker": {
             "colorbar": {
              "outlinewidth": 0,
              "ticks": ""
             }
            },
            "type": "scattergl"
           }
          ],
          "scattermapbox": [
           {
            "marker": {
             "colorbar": {
              "outlinewidth": 0,
              "ticks": ""
             }
            },
            "type": "scattermapbox"
           }
          ],
          "scatterpolar": [
           {
            "marker": {
             "colorbar": {
              "outlinewidth": 0,
              "ticks": ""
             }
            },
            "type": "scatterpolar"
           }
          ],
          "scatterpolargl": [
           {
            "marker": {
             "colorbar": {
              "outlinewidth": 0,
              "ticks": ""
             }
            },
            "type": "scatterpolargl"
           }
          ],
          "scatterternary": [
           {
            "marker": {
             "colorbar": {
              "outlinewidth": 0,
              "ticks": ""
             }
            },
            "type": "scatterternary"
           }
          ],
          "surface": [
           {
            "colorbar": {
             "outlinewidth": 0,
             "ticks": ""
            },
            "colorscale": [
             [
              0,
              "#0d0887"
             ],
             [
              0.1111111111111111,
              "#46039f"
             ],
             [
              0.2222222222222222,
              "#7201a8"
             ],
             [
              0.3333333333333333,
              "#9c179e"
             ],
             [
              0.4444444444444444,
              "#bd3786"
             ],
             [
              0.5555555555555556,
              "#d8576b"
             ],
             [
              0.6666666666666666,
              "#ed7953"
             ],
             [
              0.7777777777777778,
              "#fb9f3a"
             ],
             [
              0.8888888888888888,
              "#fdca26"
             ],
             [
              1,
              "#f0f921"
             ]
            ],
            "type": "surface"
           }
          ],
          "table": [
           {
            "cells": {
             "fill": {
              "color": "#EBF0F8"
             },
             "line": {
              "color": "white"
             }
            },
            "header": {
             "fill": {
              "color": "#C8D4E3"
             },
             "line": {
              "color": "white"
             }
            },
            "type": "table"
           }
          ]
         },
         "layout": {
          "annotationdefaults": {
           "arrowcolor": "#2a3f5f",
           "arrowhead": 0,
           "arrowwidth": 1
          },
          "autotypenumbers": "strict",
          "coloraxis": {
           "colorbar": {
            "outlinewidth": 0,
            "ticks": ""
           }
          },
          "colorscale": {
           "diverging": [
            [
             0,
             "#8e0152"
            ],
            [
             0.1,
             "#c51b7d"
            ],
            [
             0.2,
             "#de77ae"
            ],
            [
             0.3,
             "#f1b6da"
            ],
            [
             0.4,
             "#fde0ef"
            ],
            [
             0.5,
             "#f7f7f7"
            ],
            [
             0.6,
             "#e6f5d0"
            ],
            [
             0.7,
             "#b8e186"
            ],
            [
             0.8,
             "#7fbc41"
            ],
            [
             0.9,
             "#4d9221"
            ],
            [
             1,
             "#276419"
            ]
           ],
           "sequential": [
            [
             0,
             "#0d0887"
            ],
            [
             0.1111111111111111,
             "#46039f"
            ],
            [
             0.2222222222222222,
             "#7201a8"
            ],
            [
             0.3333333333333333,
             "#9c179e"
            ],
            [
             0.4444444444444444,
             "#bd3786"
            ],
            [
             0.5555555555555556,
             "#d8576b"
            ],
            [
             0.6666666666666666,
             "#ed7953"
            ],
            [
             0.7777777777777778,
             "#fb9f3a"
            ],
            [
             0.8888888888888888,
             "#fdca26"
            ],
            [
             1,
             "#f0f921"
            ]
           ],
           "sequentialminus": [
            [
             0,
             "#0d0887"
            ],
            [
             0.1111111111111111,
             "#46039f"
            ],
            [
             0.2222222222222222,
             "#7201a8"
            ],
            [
             0.3333333333333333,
             "#9c179e"
            ],
            [
             0.4444444444444444,
             "#bd3786"
            ],
            [
             0.5555555555555556,
             "#d8576b"
            ],
            [
             0.6666666666666666,
             "#ed7953"
            ],
            [
             0.7777777777777778,
             "#fb9f3a"
            ],
            [
             0.8888888888888888,
             "#fdca26"
            ],
            [
             1,
             "#f0f921"
            ]
           ]
          },
          "colorway": [
           "#636efa",
           "#EF553B",
           "#00cc96",
           "#ab63fa",
           "#FFA15A",
           "#19d3f3",
           "#FF6692",
           "#B6E880",
           "#FF97FF",
           "#FECB52"
          ],
          "font": {
           "color": "#2a3f5f"
          },
          "geo": {
           "bgcolor": "white",
           "lakecolor": "white",
           "landcolor": "#E5ECF6",
           "showlakes": true,
           "showland": true,
           "subunitcolor": "white"
          },
          "hoverlabel": {
           "align": "left"
          },
          "hovermode": "closest",
          "mapbox": {
           "style": "light"
          },
          "paper_bgcolor": "white",
          "plot_bgcolor": "#E5ECF6",
          "polar": {
           "angularaxis": {
            "gridcolor": "white",
            "linecolor": "white",
            "ticks": ""
           },
           "bgcolor": "#E5ECF6",
           "radialaxis": {
            "gridcolor": "white",
            "linecolor": "white",
            "ticks": ""
           }
          },
          "scene": {
           "xaxis": {
            "backgroundcolor": "#E5ECF6",
            "gridcolor": "white",
            "gridwidth": 2,
            "linecolor": "white",
            "showbackground": true,
            "ticks": "",
            "zerolinecolor": "white"
           },
           "yaxis": {
            "backgroundcolor": "#E5ECF6",
            "gridcolor": "white",
            "gridwidth": 2,
            "linecolor": "white",
            "showbackground": true,
            "ticks": "",
            "zerolinecolor": "white"
           },
           "zaxis": {
            "backgroundcolor": "#E5ECF6",
            "gridcolor": "white",
            "gridwidth": 2,
            "linecolor": "white",
            "showbackground": true,
            "ticks": "",
            "zerolinecolor": "white"
           }
          },
          "shapedefaults": {
           "line": {
            "color": "#2a3f5f"
           }
          },
          "ternary": {
           "aaxis": {
            "gridcolor": "white",
            "linecolor": "white",
            "ticks": ""
           },
           "baxis": {
            "gridcolor": "white",
            "linecolor": "white",
            "ticks": ""
           },
           "bgcolor": "#E5ECF6",
           "caxis": {
            "gridcolor": "white",
            "linecolor": "white",
            "ticks": ""
           }
          },
          "title": {
           "x": 0.05
          },
          "xaxis": {
           "automargin": true,
           "gridcolor": "white",
           "linecolor": "white",
           "ticks": "",
           "title": {
            "standoff": 15
           },
           "zerolinecolor": "white",
           "zerolinewidth": 2
          },
          "yaxis": {
           "automargin": true,
           "gridcolor": "white",
           "linecolor": "white",
           "ticks": "",
           "title": {
            "standoff": 15
           },
           "zerolinecolor": "white",
           "zerolinewidth": 2
          }
         }
        },
        "title": {
         "text": "Learning Curves"
        },
        "xaxis": {
         "title": {
          "text": "Training examples"
         }
        },
        "yaxis": {
         "range": [
          0,
          1.01
         ],
         "title": {
          "text": "Score"
         }
        }
       }
      }
     },
     "metadata": {},
     "output_type": "display_data"
    }
   ],
   "source": [
    "import plotly.graph_objs as go\n",
    "import plotly.express as px\n",
    "import numpy as np\n",
    "from sklearn.model_selection import learning_curve\n",
    "\n",
    "# Função para plotar a curva de aprendizado com Plotly\n",
    "def plot_learning_curve(estimator, title, X, y, ylim=None, cv=None,\n",
    "                        n_jobs=None, train_sizes=np.linspace(.1, 1.0, 5)):\n",
    "    fig = go.Figure()\n",
    "    fig.update_layout(title=title, xaxis_title=\"Training examples\", yaxis_title=\"Score\", yaxis=dict(range=ylim))\n",
    "    train_sizes, train_scores, test_scores = learning_curve(\n",
    "        estimator, X, y, cv=cv, n_jobs=n_jobs, train_sizes=train_sizes)\n",
    "    train_scores_mean = np.mean(train_scores, axis=1)\n",
    "    train_scores_std = np.std(train_scores, axis=1)\n",
    "    test_scores_mean = np.mean(test_scores, axis=1)\n",
    "    test_scores_std = np.std(test_scores, axis=1)\n",
    "\n",
    "    fig.add_trace(go.Scatter(x=train_sizes, y=train_scores_mean, mode='lines+markers', name='Training score'))\n",
    "    fig.add_trace(go.Scatter(x=train_sizes, y=test_scores_mean, mode='lines+markers', name='Cross-validation score'))\n",
    "\n",
    "    fig.add_trace(go.Scatter(\n",
    "        x=np.concatenate([train_sizes, train_sizes[::-1]]),\n",
    "        y=np.concatenate([train_scores_mean - train_scores_std,\n",
    "                          (train_scores_mean + train_scores_std)[::-1]]),\n",
    "        fill='toself',\n",
    "        fillcolor='rgba(255, 0, 0, 0.1)',\n",
    "        line=dict(color='rgba(255, 0, 0, 0)'),\n",
    "        name='Training score ± 1 std'\n",
    "    ))\n",
    "\n",
    "    fig.add_trace(go.Scatter(\n",
    "        x=np.concatenate([train_sizes, train_sizes[::-1]]),\n",
    "        y=np.concatenate([test_scores_mean - test_scores_std,\n",
    "                          (test_scores_mean + test_scores_std)[::-1]]),\n",
    "        fill='toself',\n",
    "        fillcolor='rgba(0, 255, 0, 0.1)',\n",
    "        line=dict(color='rgba(0, 255, 0, 0)'),\n",
    "        name='Cross-validation score ± 1 std'\n",
    "    ))\n",
    "\n",
    "    fig.show()\n",
    "\n",
    "# Plotar o gráfico de dispersão\n",
    "fig = go.Figure()\n",
    "fig.add_trace(go.Scatter(x=y_test, y=y_pred, mode='markers', marker=dict(color='blue'), name='Predicted vs. Actual'))\n",
    "fig.add_trace(go.Scatter(x=[min(y_test), max(y_test)], y=[min(y_test), max(y_test)], mode='lines', line=dict(color='black', dash='dash'), name='Ideal Line'))\n",
    "fig.update_layout(title='Predicted vs. Actual', xaxis_title='Actual', yaxis_title='Predicted', legend=dict(x=0, y=1))\n",
    "fig.show()\n",
    "\n",
    "# Plotar a curva de aprendizado\n",
    "title = \"Learning Curves\"\n",
    "plot_learning_curve(model, title, X_train, y_train, ylim=(0.0, 1.01), cv=None, n_jobs=8)"
   ]
  }
 ],
 "metadata": {
  "kernelspec": {
   "display_name": "Python 3",
   "language": "python",
   "name": "python3"
  },
  "language_info": {
   "codemirror_mode": {
    "name": "ipython",
    "version": 3
   },
   "file_extension": ".py",
   "mimetype": "text/x-python",
   "name": "python",
   "nbconvert_exporter": "python",
   "pygments_lexer": "ipython3",
   "version": "3.12.0"
  }
 },
 "nbformat": 4,
 "nbformat_minor": 2
}
