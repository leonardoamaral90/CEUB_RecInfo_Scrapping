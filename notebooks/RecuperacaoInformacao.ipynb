{
 "cells": [
  {
   "cell_type": "markdown",
   "metadata": {},
   "source": [
    "## 1. Instalação dos pacotes necessários"
   ]
  },
  {
   "cell_type": "code",
   "execution_count": 208,
   "metadata": {},
   "outputs": [],
   "source": [
    "# %pip install requests\n",
    "# %pip install beautifulsoup4\n",
    "# %pip install pandas\n",
    "# %pip install numpy\n",
    "# %pip install scikit-learn\n",
    "# %pip install plotly"
   ]
  },
  {
   "cell_type": "markdown",
   "metadata": {},
   "source": [
    "## 2. Script do WebScrapping"
   ]
  },
  {
   "cell_type": "code",
   "execution_count": 209,
   "metadata": {},
   "outputs": [],
   "source": [
    "# import requests\n",
    "# import time\n",
    "# import datetime\n",
    "# import os\n",
    "# import json\n",
    "# import re\n",
    "# import pprint\n",
    "\n",
    "# from bs4 import BeautifulSoup\n",
    "# from urllib.parse import urlparse\n",
    "\n",
    "# headers = {'User-Agent': 'Mozilla/5.0'}\n",
    "    \n",
    "# def get_price(url):\n",
    "#     response = requests.get(url, headers=headers)\n",
    "#     soup = BeautifulSoup(response.text, 'html.parser')\n",
    "    \n",
    "#     for svg in soup.find_all('svg'):\n",
    "#         svg.extract()\n",
    "        \n",
    "#     product_info = []\n",
    "    \n",
    "#     cards = soup.find_all('article', {'class': 'productCard'})\n",
    "    \n",
    "#     for card in cards:\n",
    "#         review_div = card.find('div', {'class': 'labelTotalAvaliacoes'})\n",
    "#         if review_div:\n",
    "#             review = review_div.text.strip()\n",
    "#         full_name = card.find('span', {'class': 'nameCard'}).text.strip()\n",
    "#         product_link = card.find('a', {'class': 'productLink'})['href']\n",
    "        \n",
    "#         product_info.append({ 'full_name': full_name,\n",
    "#                              'link': product_link })\n",
    "    \n",
    "#     return product_info\n",
    "\n",
    "# def get_product_info(url, product):\n",
    "#     url = f\"{url}{product['link']}\"\n",
    "#     response = requests.get(url, headers=headers)\n",
    "#     soup = BeautifulSoup(response.text, 'html.parser')\n",
    "\n",
    "#     script = soup.find('script', {'type': 'application/ld+json'})\n",
    "#     if script:\n",
    "#         script_text = script.text\n",
    "#         json_data = json.loads(script_text)\n",
    "#         sku = json_data.get('sku')\n",
    "#         brand_name = json_data.get('brand', {}).get('name')\n",
    "\n",
    "    \n",
    "#     script_nd = soup.find('script', {'type': 'application/json', 'id': '__NEXT_DATA__'})\n",
    "#     if script_nd:\n",
    "#         script_nd_text = script_nd.text\n",
    "#         json_data_nd = json.loads(script_nd_text)\n",
    "#         json_initial = json_data_nd.get('props').get('pageProps').get('initialZustandState').get('descriptionProduct')\n",
    "#         json_catalog_product = json_data_nd.get('props').get('pageProps').get('initialZustandState').get('catalogProduct')\n",
    "        \n",
    "#         weight = json_catalog_product.get('weight')\n",
    "#         price = json_catalog_product.get('price')\n",
    "#         primePrice = json_catalog_product.get('primePrice')\n",
    "#         primePriceWithDiscount = json_catalog_product.get('primePriceWithDiscount')\n",
    "#         oldPrice = json_catalog_product.get('oldPrice')\n",
    "#         oldPrimePrice = json_catalog_product.get('oldPrimePrice')\n",
    "#         priceWithDiscount = json_catalog_product.get('priceWithDiscount')\n",
    "#         discountPercentage = json_catalog_product.get('discountPercentage')\n",
    "#         rating = json_catalog_product.get('rating')\n",
    "#         ratingCount = json_catalog_product.get('ratingCount')\n",
    "#         available = json_catalog_product.get('available')\n",
    "#         warranty = json_initial.get('warrantyString')\n",
    "    \n",
    "#     product_info = { 'sku': sku,\n",
    "#                     'brand_name': brand_name,\n",
    "#                     'weight': weight,\n",
    "#                     'price': price,\n",
    "#                     'primePrice': primePrice,\n",
    "#                     'primePriceWithDiscount': primePriceWithDiscount,\n",
    "#                     'oldPrice': oldPrice,\n",
    "#                     'oldPrimePrice': oldPrimePrice,\n",
    "#                     'priceWithDiscount': priceWithDiscount,\n",
    "#                     'discountPercentage': discountPercentage,\n",
    "#                     'rating': rating,\n",
    "#                     'ratingCount': ratingCount,\n",
    "#                     'available': available,\n",
    "#                     'warranty': warranty}\n",
    "    \n",
    "#     return product_info\n",
    "\n",
    "# def get_dominio(url):\n",
    "#     parsed_url = urlparse(url)\n",
    "#     return parsed_url.netloc\n",
    "\n",
    "# def save_to_file(data):\n",
    "#     file_exists = False\n",
    "#     if os.path.isfile(\"scraped_data.csv\"):\n",
    "#         file_exists = True\n",
    "    \n",
    "#     with open(\"scraped_data.csv\", \"a\") as file:\n",
    "#         if not file_exists:\n",
    "#             keys = data[0].keys()\n",
    "#             print(';'.join(keys))\n",
    "#             file.write(f\"{';'.join(keys)};date\\n\")\n",
    "            \n",
    "#         for item in data:\n",
    "#             file.write(f\"{item['full_name']};{item['link']};{item['sku']};{item['brand_name']};{item['weight']};\n",
    "#                        {item['price']};{item['primePrice']};{item['primePriceWithDiscount']};{item['oldPrice']};\n",
    "#                        {item['oldPrimePrice']};{item['priceWithDiscount']};{item['discountPercentage']};{item['rating']};\n",
    "#                        {item['ratingCount']};{item['available']};{item['warranty']};{datetime.datetime.now()}\\n\")\n",
    "\n",
    "# def main():\n",
    "#     pesquisa = 'rtx 4070 ti'\n",
    "#     url = f\"https://www.kabum.com.br/busca/{pesquisa}\"\n",
    "    \n",
    "#     intervalo = 60 * 10 # 10 minutos\n",
    "#     contador = 0\n",
    "    \n",
    "#     # while True:\n",
    "#     try:\n",
    "#         products = get_price(url)\n",
    "#         products_info = []\n",
    "#         for product in products:\n",
    "#             info = get_product_info(f'https://{get_dominio(url)}/', product)\n",
    "#             products_info.append(info)\n",
    "        \n",
    "#         list_products = []\n",
    "#         if len(products) == len(products_info):\n",
    "#             for p, pi in zip(products, products_info):\n",
    "#                 list_products.append({  'full_name': p['full_name'],\n",
    "#                                         'link': p['link'],\n",
    "#                                         'sku': pi['sku'],\n",
    "#                                         'weight': pi['weight'],\n",
    "#                                         'price': pi['price'],\n",
    "#                                         'primePrice': pi['primePrice'],\n",
    "#                                         'primePriceWithDiscount': pi['primePriceWithDiscount'],\n",
    "#                                         'oldPrice': pi['oldPrice'],\n",
    "#                                         'oldPrimePrice': pi['oldPrimePrice'],\n",
    "#                                         'priceWithDiscount': pi['priceWithDiscount'],\n",
    "#                                         'discountPercentage': pi['discountPercentage'],\n",
    "#                                         'rating': pi['rating'],\n",
    "#                                         'ratingCount': pi['ratingCount'],\n",
    "#                                         'available': pi['available'],\n",
    "#                                         'warranty': pi['warranty']\n",
    "#                                     })\n",
    "        \n",
    "#         # print(json.dumps(products[0], indent=4))\n",
    "#         # print(json.dumps(products_info[0], indent=4))\n",
    "#         # print(json.dumps(list_products, indent=4))\n",
    "        \n",
    "#         save_to_file(list_products)\n",
    "#     except Exception as e:\n",
    "#         print(f\"Erro ao obter preços dos produtos na Kabum: {e}\")\n",
    "#     contador += 1\n",
    "#         # time.sleep(intervalo)\n",
    "\n",
    "# if __name__ == \"__main__\":\n",
    "#     main()"
   ]
  },
  {
   "cell_type": "markdown",
   "metadata": {},
   "source": [
    "## 3. Importação das Bibliotecas Utilizadas"
   ]
  },
  {
   "cell_type": "code",
   "execution_count": 210,
   "metadata": {},
   "outputs": [],
   "source": [
    "import datetime\n",
    "import numpy as np\n",
    "import pandas as pd\n",
    "import plotly.graph_objs as go\n",
    "import plotly.express as px\n",
    "\n",
    "from sklearn.linear_model import LinearRegression\n",
    "from sklearn.preprocessing import PolynomialFeatures, Normalizer\n",
    "from sklearn.tree import DecisionTreeRegressor\n",
    "from sklearn.model_selection import train_test_split, cross_val_score, KFold, GridSearchCV, learning_curve\n",
    "from sklearn.metrics import r2_score, mean_squared_error\n",
    "from sklearn.datasets import make_regression"
   ]
  },
  {
   "cell_type": "markdown",
   "metadata": {},
   "source": [
    "## 4. Carregando os Dados"
   ]
  },
  {
   "cell_type": "code",
   "execution_count": 252,
   "metadata": {},
   "outputs": [
    {
     "data": {
      "text/html": [
       "<div>\n",
       "<style scoped>\n",
       "    .dataframe tbody tr th:only-of-type {\n",
       "        vertical-align: middle;\n",
       "    }\n",
       "\n",
       "    .dataframe tbody tr th {\n",
       "        vertical-align: top;\n",
       "    }\n",
       "\n",
       "    .dataframe thead th {\n",
       "        text-align: right;\n",
       "    }\n",
       "</style>\n",
       "<table border=\"1\" class=\"dataframe\">\n",
       "  <thead>\n",
       "    <tr style=\"text-align: right;\">\n",
       "      <th></th>\n",
       "      <th>full_name</th>\n",
       "      <th>model</th>\n",
       "      <th>link</th>\n",
       "      <th>sku</th>\n",
       "      <th>brand_name</th>\n",
       "      <th>weight</th>\n",
       "      <th>price</th>\n",
       "      <th>primePrice</th>\n",
       "      <th>primePriceWithDiscount</th>\n",
       "      <th>oldPrice</th>\n",
       "      <th>oldPrimePrice</th>\n",
       "      <th>priceWithDiscount</th>\n",
       "      <th>discountPercentage</th>\n",
       "      <th>rating</th>\n",
       "      <th>ratingCount</th>\n",
       "      <th>available</th>\n",
       "      <th>warranty</th>\n",
       "      <th>date</th>\n",
       "    </tr>\n",
       "  </thead>\n",
       "  <tbody>\n",
       "    <tr>\n",
       "      <th>0</th>\n",
       "      <td>placa-de-video-rtx-4070-ti-ventus-msi-nvidia-g...</td>\n",
       "      <td>rtx 4070 ti</td>\n",
       "      <td>https://www.kabum.com.br//produto/403373/placa...</td>\n",
       "      <td>403373</td>\n",
       "      <td>MSI</td>\n",
       "      <td>1732</td>\n",
       "      <td>6117.64</td>\n",
       "      <td>5934.11</td>\n",
       "      <td>5043.99</td>\n",
       "      <td>6117.64</td>\n",
       "      <td>6117.64</td>\n",
       "      <td>5199.99</td>\n",
       "      <td>15</td>\n",
       "      <td>4</td>\n",
       "      <td>8</td>\n",
       "      <td>True</td>\n",
       "      <td>36 meses de garantia</td>\n",
       "      <td>2024-04-25 03:36:29.337716</td>\n",
       "    </tr>\n",
       "    <tr>\n",
       "      <th>1</th>\n",
       "      <td>placa-de-video-rtx-4070-ti-super-gigabyte-gami...</td>\n",
       "      <td>rtx 4070 ti</td>\n",
       "      <td>https://www.kabum.com.br//produto/517737/placa...</td>\n",
       "      <td>517737</td>\n",
       "      <td>Gigabyte</td>\n",
       "      <td>1816</td>\n",
       "      <td>6941.16</td>\n",
       "      <td>0.00</td>\n",
       "      <td>0.00</td>\n",
       "      <td>0.00</td>\n",
       "      <td>0.00</td>\n",
       "      <td>5899.99</td>\n",
       "      <td>15</td>\n",
       "      <td>0</td>\n",
       "      <td>0</td>\n",
       "      <td>True</td>\n",
       "      <td>36 meses de garantia</td>\n",
       "      <td>2024-04-25 03:36:29.337716</td>\n",
       "    </tr>\n",
       "    <tr>\n",
       "      <th>2</th>\n",
       "      <td>placa-de-video-rtx-4070-ti-super-msi-16g-ventu...</td>\n",
       "      <td>rtx 4070 ti</td>\n",
       "      <td>https://www.kabum.com.br//produto/520532/placa...</td>\n",
       "      <td>520532</td>\n",
       "      <td>MSI</td>\n",
       "      <td>1198</td>\n",
       "      <td>6352.93</td>\n",
       "      <td>0.00</td>\n",
       "      <td>0.00</td>\n",
       "      <td>0.00</td>\n",
       "      <td>0.00</td>\n",
       "      <td>5399.99</td>\n",
       "      <td>15</td>\n",
       "      <td>5</td>\n",
       "      <td>2</td>\n",
       "      <td>True</td>\n",
       "      <td>12 meses de garantia</td>\n",
       "      <td>2024-04-25 03:36:29.337716</td>\n",
       "    </tr>\n",
       "    <tr>\n",
       "      <th>3</th>\n",
       "      <td>placa-de-video-rtx-4070-ti-gaming-x-slim-12g-m...</td>\n",
       "      <td>rtx 4070 ti</td>\n",
       "      <td>https://www.kabum.com.br//produto/495568/placa...</td>\n",
       "      <td>495568</td>\n",
       "      <td>MSI</td>\n",
       "      <td>1890</td>\n",
       "      <td>6117.64</td>\n",
       "      <td>5934.11</td>\n",
       "      <td>5043.99</td>\n",
       "      <td>6117.64</td>\n",
       "      <td>6117.64</td>\n",
       "      <td>5199.99</td>\n",
       "      <td>15</td>\n",
       "      <td>5</td>\n",
       "      <td>9</td>\n",
       "      <td>True</td>\n",
       "      <td>12 meses de garantia</td>\n",
       "      <td>2024-04-25 03:36:29.337716</td>\n",
       "    </tr>\n",
       "    <tr>\n",
       "      <th>4</th>\n",
       "      <td>placa-de-video-rtx-4070-ti-super-gaming-verto-...</td>\n",
       "      <td>rtx 4070 ti</td>\n",
       "      <td>https://www.kabum.com.br//produto/520758/placa...</td>\n",
       "      <td>520758</td>\n",
       "      <td>Pny</td>\n",
       "      <td>1570</td>\n",
       "      <td>5199.99</td>\n",
       "      <td>0.00</td>\n",
       "      <td>0.00</td>\n",
       "      <td>0.00</td>\n",
       "      <td>0.00</td>\n",
       "      <td>5199.99</td>\n",
       "      <td>0</td>\n",
       "      <td>0</td>\n",
       "      <td>0</td>\n",
       "      <td>True</td>\n",
       "      <td>36 meses de garantia</td>\n",
       "      <td>2024-04-25 03:36:29.337716</td>\n",
       "    </tr>\n",
       "  </tbody>\n",
       "</table>\n",
       "</div>"
      ],
      "text/plain": [
       "                                           full_name        model  \\\n",
       "0  placa-de-video-rtx-4070-ti-ventus-msi-nvidia-g...  rtx 4070 ti   \n",
       "1  placa-de-video-rtx-4070-ti-super-gigabyte-gami...  rtx 4070 ti   \n",
       "2  placa-de-video-rtx-4070-ti-super-msi-16g-ventu...  rtx 4070 ti   \n",
       "3  placa-de-video-rtx-4070-ti-gaming-x-slim-12g-m...  rtx 4070 ti   \n",
       "4  placa-de-video-rtx-4070-ti-super-gaming-verto-...  rtx 4070 ti   \n",
       "\n",
       "                                                link     sku brand_name  \\\n",
       "0  https://www.kabum.com.br//produto/403373/placa...  403373        MSI   \n",
       "1  https://www.kabum.com.br//produto/517737/placa...  517737   Gigabyte   \n",
       "2  https://www.kabum.com.br//produto/520532/placa...  520532        MSI   \n",
       "3  https://www.kabum.com.br//produto/495568/placa...  495568        MSI   \n",
       "4  https://www.kabum.com.br//produto/520758/placa...  520758        Pny   \n",
       "\n",
       "   weight    price  primePrice  primePriceWithDiscount  oldPrice  \\\n",
       "0    1732  6117.64     5934.11                 5043.99   6117.64   \n",
       "1    1816  6941.16        0.00                    0.00      0.00   \n",
       "2    1198  6352.93        0.00                    0.00      0.00   \n",
       "3    1890  6117.64     5934.11                 5043.99   6117.64   \n",
       "4    1570  5199.99        0.00                    0.00      0.00   \n",
       "\n",
       "   oldPrimePrice  priceWithDiscount  discountPercentage  rating  ratingCount  \\\n",
       "0        6117.64            5199.99                  15       4            8   \n",
       "1           0.00            5899.99                  15       0            0   \n",
       "2           0.00            5399.99                  15       5            2   \n",
       "3        6117.64            5199.99                  15       5            9   \n",
       "4           0.00            5199.99                   0       0            0   \n",
       "\n",
       "   available              warranty                        date  \n",
       "0       True  36 meses de garantia  2024-04-25 03:36:29.337716  \n",
       "1       True  36 meses de garantia  2024-04-25 03:36:29.337716  \n",
       "2       True  12 meses de garantia  2024-04-25 03:36:29.337716  \n",
       "3       True  12 meses de garantia  2024-04-25 03:36:29.337716  \n",
       "4       True  36 meses de garantia  2024-04-25 03:36:29.337716  "
      ]
     },
     "execution_count": 252,
     "metadata": {},
     "output_type": "execute_result"
    }
   ],
   "source": [
    "# Carrega os dados coletados do arquivo CSV\n",
    "df = pd.read_csv(\"../data/scraped_data.csv\", sep=\";\")\n",
    "\n",
    "# Exibe as primeiras linhas do dataframe\n",
    "df.head()"
   ]
  },
  {
   "cell_type": "markdown",
   "metadata": {},
   "source": [
    "## 5. Análise Exploratória"
   ]
  },
  {
   "cell_type": "markdown",
   "metadata": {},
   "source": [
    "### 5.1. Tamanho do DataFrame"
   ]
  },
  {
   "cell_type": "code",
   "execution_count": 253,
   "metadata": {},
   "outputs": [
    {
     "name": "stdout",
     "output_type": "stream",
     "text": [
      "O dataframe possui 340 linhas e 18 colunas.\n"
     ]
    }
   ],
   "source": [
    "# Verifica o tamanho do dataframe\n",
    "print(f'O dataframe possui {len(df)} linhas e {len(df.columns)} colunas.')"
   ]
  },
  {
   "cell_type": "markdown",
   "metadata": {},
   "source": [
    "### 5.2. Tipos de Dados"
   ]
  },
  {
   "cell_type": "code",
   "execution_count": 254,
   "metadata": {},
   "outputs": [
    {
     "name": "stdout",
     "output_type": "stream",
     "text": [
      "\n",
      "Tipos de dados das colunas:\n",
      "full_name                  object\n",
      "model                      object\n",
      "link                       object\n",
      "sku                         int64\n",
      "brand_name                 object\n",
      "weight                      int64\n",
      "price                     float64\n",
      "primePrice                float64\n",
      "primePriceWithDiscount    float64\n",
      "oldPrice                  float64\n",
      "oldPrimePrice             float64\n",
      "priceWithDiscount         float64\n",
      "discountPercentage          int64\n",
      "rating                      int64\n",
      "ratingCount                 int64\n",
      "available                    bool\n",
      "warranty                   object\n",
      "date                       object\n",
      "dtype: object\n"
     ]
    }
   ],
   "source": [
    "# Verifica os tipos de dados das colunas\n",
    "print('\\nTipos de dados das colunas:')\n",
    "print(df.dtypes)"
   ]
  },
  {
   "cell_type": "markdown",
   "metadata": {},
   "source": [
    "### 5.3. Verificação de Valores Nulos"
   ]
  },
  {
   "cell_type": "code",
   "execution_count": 255,
   "metadata": {},
   "outputs": [
    {
     "name": "stdout",
     "output_type": "stream",
     "text": [
      "\n",
      "Valores nulos por coluna:\n",
      "full_name                   0\n",
      "model                       0\n",
      "link                        0\n",
      "sku                         0\n",
      "brand_name                  0\n",
      "weight                      0\n",
      "price                       0\n",
      "primePrice                  0\n",
      "primePriceWithDiscount      0\n",
      "oldPrice                    0\n",
      "oldPrimePrice               0\n",
      "priceWithDiscount           0\n",
      "discountPercentage          0\n",
      "rating                      0\n",
      "ratingCount                 0\n",
      "available                   0\n",
      "warranty                  147\n",
      "date                        0\n",
      "dtype: int64\n"
     ]
    }
   ],
   "source": [
    "# Verifica se há valores nulos no dataframe\n",
    "print('\\nValores nulos por coluna:')\n",
    "print(df.isnull().sum())"
   ]
  },
  {
   "cell_type": "markdown",
   "metadata": {},
   "source": [
    "### 5.4. Métodos úteis"
   ]
  },
  {
   "cell_type": "code",
   "execution_count": 256,
   "metadata": {},
   "outputs": [],
   "source": [
    "def extrair_numeros(texto):\n",
    "    if pd.isna(texto):\n",
    "        return 0\n",
    "    else:\n",
    "        numeros = re.findall(r'\\d+', texto)\n",
    "        if numeros:\n",
    "            return int(numeros[0])\n",
    "        else:\n",
    "            return 0"
   ]
  },
  {
   "cell_type": "markdown",
   "metadata": {},
   "source": [
    "### 5.5. Tratativas das Colunas"
   ]
  },
  {
   "cell_type": "code",
   "execution_count": 257,
   "metadata": {},
   "outputs": [],
   "source": [
    "# Faz uma cópia do DataFrame original 'df' e atribui à variável 'df2'\n",
    "df2 = df.copy()\n",
    "\n",
    "# Remove espaços em branco no início e no fim de cada string na coluna 'full_name'\n",
    "df2['full_name'] = df2['full_name'].str.strip()\n",
    "\n",
    "# Converte a coluna 'available' para o tipo de dado inteiro\n",
    "df2['available'] = df2['available'].astype(int)\n",
    "\n",
    "# Verifica se os valores na coluna 'warranty' são do tipo string antes de chamar a função 'extrair_numeros'\n",
    "# df2['warranty'] = df2['warranty'].apply(lambda x: extrair_numeros(str(x)))\n",
    "df2['warranty'] = df2['warranty'].astype(str).apply(extrair_numeros)\n",
    "\n",
    "# Converte a coluna 'date' para o tipo de dado datetime\n",
    "df2['date'] = pd.to_datetime(df2['date'])\n",
    "\n",
    "# Converte os valores da coluna 'model' para letras maiúsculas\n",
    "df2['model'] = df2['model'].str.upper()"
   ]
  },
  {
   "cell_type": "code",
   "execution_count": 258,
   "metadata": {},
   "outputs": [],
   "source": [
    "# Cria uma nova Series 'df3' contendo apenas os valores da coluna 'full_name' do DataFrame 'df2'\n",
    "df3 = df2['full_name']\n",
    "\n",
    "# Remove a palavra 'Placa' de cada string na Series 'df3'\n",
    "df3 = df3.str.replace('Placa', '')\n",
    "\n",
    "# Remove as variações de 'de vídeo' de cada string na Series 'df3'\n",
    "df3 = df3.str.replace('de Vídeo', '')\n",
    "df3 = df3.str.replace('De Vídeo', '')\n",
    "df3 = df3.str.replace('De Video', '')\n",
    "\n",
    "# Remove espaços em branco no início e no fim de cada string na Series 'df3'\n",
    "df3 = df3.str.strip()\n",
    "\n",
    "# Obtém os valores únicos da Series 'df3'\n",
    "df_names = df3.unique()\n",
    "\n",
    "# Limita o comprimento de cada nome a 45 caracteres\n",
    "df_names = [name[:45] for name in df_names]"
   ]
  },
  {
   "cell_type": "markdown",
   "metadata": {},
   "source": [
    "### 5.6. Análise Gráfica dos Dados"
   ]
  },
  {
   "cell_type": "code",
   "execution_count": 259,
   "metadata": {},
   "outputs": [
    {
     "data": {
      "application/vnd.plotly.v1+json": {
       "config": {
        "plotlyServerURL": "https://plot.ly"
       },
       "data": [
        {
         "mode": "lines+markers",
         "name": "placa-de-video-rtx-4070-ti-ventus-msi-nvidia-geforce-12-gb-gddr6x-dlss-3-ray-tracing-geforce-rtx-4070-ti-ventus-3x-12g-oc",
         "type": "scatter",
         "x": [
          "2024-04-25T03:36:00",
          "2024-04-25T08:17:00",
          "2024-04-25T09:19:00",
          "2024-04-25T10:20:00"
         ],
         "y": [
          6117.64,
          6117.64,
          6117.64,
          6117.64
         ]
        },
        {
         "mode": "lines+markers",
         "name": "placa-de-video-rtx-4070-ti-super-gigabyte-gaming-oc-nvidia-geforce-16gb-gddr6-dlss-ray-tracing-gv-n407tsgaming-oc-16gd",
         "type": "scatter",
         "x": [
          "2024-04-25T03:36:00",
          "2024-04-25T08:17:00",
          "2024-04-25T09:19:00",
          "2024-04-25T10:20:00"
         ],
         "y": [
          6941.16,
          6941.16,
          6941.16,
          6941.16
         ]
        },
        {
         "mode": "lines+markers",
         "name": "placa-de-video-rtx-4070-ti-super-msi-16g-ventus-2x-oc-nvidia-geforce-16gb-gddr6x-dlss-ray-tracing",
         "type": "scatter",
         "x": [
          "2024-04-25T03:36:00",
          "2024-04-25T08:17:00",
          "2024-04-25T09:19:00",
          "2024-04-25T10:20:00"
         ],
         "y": [
          6352.93,
          6352.93,
          6352.93,
          6352.93
         ]
        },
        {
         "mode": "lines+markers",
         "name": "placa-de-video-rtx-4070-ti-gaming-x-slim-12g-msi-nvidia-geforce-12gb-gddr6x-g-sync-dlss-ray-tracing",
         "type": "scatter",
         "x": [
          "2024-04-25T03:36:00",
          "2024-04-25T08:17:00",
          "2024-04-25T09:19:00"
         ],
         "y": [
          6117.64,
          6117.64,
          6117.64
         ]
        },
        {
         "mode": "lines+markers",
         "name": "placa-de-video-rtx-4070-ti-super-gaming-verto-triple-fan-pny-nvidia-geforce-16gb-gddr6x-dlss-3-ray-tracing-vcg4070ts16tfxpb1-o",
         "type": "scatter",
         "x": [
          "2024-04-25T03:36:00",
          "2024-04-25T08:17:00",
          "2024-04-25T09:19:00",
          "2024-04-25T10:20:00"
         ],
         "y": [
          5199.99,
          5199.99,
          5199.99,
          5199.99
         ]
        },
        {
         "mode": "lines+markers",
         "name": "placa-de-video-rtx-4070-ti-super-sg-galax-nvidia-geforce-16gb-gddr6x-dlss-ray-tracing-47uzm6md6mer",
         "type": "scatter",
         "x": [
          "2024-04-25T03:36:00",
          "2024-04-25T08:17:00",
          "2024-04-25T09:19:00",
          "2024-04-25T10:20:00"
         ],
         "y": [
          7176.46,
          7176.46,
          7176.46,
          7176.46
         ]
        },
        {
         "mode": "lines+markers",
         "name": "placa-de-video-rtx-4070-ti-ventus-3x-trio-oc-msi-nvidia-12gb-ddr6-192-bits-912-v513001",
         "type": "scatter",
         "x": [
          "2024-04-25T03:36:00",
          "2024-04-25T08:17:00",
          "2024-04-25T09:19:00",
          "2024-04-25T10:20:00"
         ],
         "y": [
          6601.06,
          6601.06,
          6601.06,
          6601.06
         ]
        },
        {
         "mode": "lines+markers",
         "name": "placa-de-video-rtx-4070-ti-super-gigabyte-aero-nvidia-geforce-16gb-gddr6-dlss-ray-tracing-gv-n407tsaero-oc-16gd",
         "type": "scatter",
         "x": [
          "2024-04-25T03:36:00",
          "2024-04-25T08:17:00",
          "2024-04-25T09:19:00",
          "2024-04-25T10:20:00"
         ],
         "y": [
          6941.16,
          6941.16,
          6941.16,
          6941.16
         ]
        },
        {
         "mode": "lines+markers",
         "name": "placa-de-video-rtx-4070-ti-rog-strix-gaming-asus-nvidia-geforce-12-gb-gddr6x-argb-ray-tracing-rog-strix-rtx4070ti-o12g-gaming",
         "type": "scatter",
         "x": [
          "2024-04-25T03:36:00",
          "2024-04-25T08:17:00",
          "2024-04-25T09:19:00",
          "2024-04-25T10:20:00"
         ],
         "y": [
          7999.99,
          7999.99,
          7999.99,
          7999.99
         ]
        },
        {
         "mode": "lines+markers",
         "name": "placa-de-video-rtx-4070-ti-super-msi-16g-gaming-x-slim-nvidia-geforce-16gb-gddr6x-dlss-ray-tracing",
         "type": "scatter",
         "x": [
          "2024-04-25T03:36:00",
          "2024-04-25T08:17:00",
          "2024-04-25T09:19:00",
          "2024-04-25T10:20:00"
         ],
         "y": [
          7411.75,
          7411.75,
          7411.75,
          7411.75
         ]
        },
        {
         "mode": "lines+markers",
         "name": "placa-de-video-rtx-4070-ti-super-gigabyte-windforce-nvidia-geforce-16gb-gddr6-dlss-ray-tracing-gv-n407tswf3oc-16gd",
         "type": "scatter",
         "x": [
          "2024-04-25T03:36:00",
          "2024-04-25T08:17:00",
          "2024-04-25T09:19:00",
          "2024-04-25T10:20:00"
         ],
         "y": [
          6470.58,
          6470.58,
          6470.58,
          6470.58
         ]
        },
        {
         "mode": "lines+markers",
         "name": "placa-de-video-rtx-4070-ti-super-gamingpro-white-oc-palit-nvidia-geforce-16gb-gddr6x-dlss-ray-trancing-g-sync-ned47tst19t2-1043w",
         "type": "scatter",
         "x": [
          "2024-04-25T03:36:00",
          "2024-04-25T08:17:00",
          "2024-04-25T09:19:00",
          "2024-04-25T10:20:00"
         ],
         "y": [
          6941.16,
          6941.16,
          6941.16,
          6941.16
         ]
        },
        {
         "mode": "lines+markers",
         "name": "placa-de-video-msi-geforce-rtx-4070-ti-ventus-3x-e-12g-oc-12",
         "type": "scatter",
         "x": [
          "2024-04-25T03:36:00",
          "2024-04-25T08:17:00",
          "2024-04-25T09:19:00",
          "2024-04-25T10:20:00"
         ],
         "y": [
          4978.84,
          4978.84,
          4978.84,
          4978.84
         ]
        },
        {
         "mode": "lines+markers",
         "name": "placa-de-video-rtx-4070-ti-gigabyte-nvidia-geforce-12-gb-gddr6x-dlss-3-ray-tracing-gv-n407teagle-oc-12gd",
         "type": "scatter",
         "x": [
          "2024-04-25T03:36:00",
          "2024-04-25T08:17:00",
          "2024-04-25T09:19:00",
          "2024-04-25T10:20:00"
         ],
         "y": [
          7294.11,
          7294.11,
          7294.11,
          7294.11
         ]
        },
        {
         "mode": "lines+markers",
         "name": "placa-de-video-gigabyte-geforce-rtx-4070-ti-super-eagle-oc-16gb-gddr6x-256-bits",
         "type": "scatter",
         "x": [
          "2024-04-25T03:36:00",
          "2024-04-25T08:17:00",
          "2024-04-25T09:19:00",
          "2024-04-25T10:20:00"
         ],
         "y": [
          6124.89,
          6124.89,
          6124.89,
          6124.89
         ]
        },
        {
         "mode": "lines+markers",
         "name": "placa-de-video-rtx-4070-ti-xlr8-gaming-verto-tf-oc-pny-nvidia-geforce-12gb-gddr6x-dlss-3-ray-tracing-vcg4070t12tfxxpb1-o",
         "type": "scatter",
         "x": [
          "2024-04-25T03:36:00",
          "2024-04-25T08:17:00",
          "2024-04-25T09:19:00",
          "2024-04-25T10:20:00"
         ],
         "y": [
          6235.28,
          6235.28,
          6235.28,
          6235.28
         ]
        },
        {
         "mode": "lines+markers",
         "name": "placa-de-video-colorful-igame-rtx-4070-ti-ultra-w-oc-v",
         "type": "scatter",
         "x": [
          "2024-04-25T03:36:00",
          "2024-04-25T08:17:00",
          "2024-04-25T09:19:00",
          "2024-04-25T10:20:00"
         ],
         "y": [
          5599,
          5599,
          5599,
          5599
         ]
        },
        {
         "mode": "lines+markers",
         "name": "placa-de-video-rtx-4070-ti-super-ex-galax-nvidia-geforce-16gb-gddr6x-47uzm6md9bup",
         "type": "scatter",
         "x": [
          "2024-04-25T03:36:00",
          "2024-04-25T08:17:00",
          "2024-04-25T09:19:00",
          "2024-04-25T10:20:00"
         ],
         "y": [
          9373.9,
          9373.9,
          9373.9,
          9373.9
         ]
        },
        {
         "mode": "lines+markers",
         "name": "placa-de-video-rtx-4070-ti-super-oc-asus-tuf-gaming-geforce-16gb-gddr6x",
         "type": "scatter",
         "x": [
          "2024-04-25T03:36:00",
          "2024-04-25T08:17:00",
          "2024-04-25T09:19:00",
          "2024-04-25T10:20:00"
         ],
         "y": [
          8855.57,
          8855.57,
          8855.57,
          8855.57
         ]
        },
        {
         "mode": "lines+markers",
         "name": "placa-de-video-colorful-igame-rtx-4070-ti-advanced-oc-v",
         "type": "scatter",
         "x": [
          "2024-04-25T03:36:00",
          "2024-04-25T08:17:00",
          "2024-04-25T09:19:00",
          "2024-04-25T10:20:00"
         ],
         "y": [
          6211,
          6211,
          6211,
          6211
         ]
        },
        {
         "mode": "lines+markers",
         "name": "placa-de-video-galax-geforce-rtx-4070-ti-super-sg-oc-16gb-gddr6x-256-bit-47uzm6md6mer",
         "type": "scatter",
         "x": [
          "2024-04-25T03:36:00",
          "2024-04-25T08:17:00",
          "2024-04-25T09:19:00",
          "2024-04-25T10:20:00"
         ],
         "y": [
          8697.39,
          8697.39,
          8697.39,
          8697.39
         ]
        },
        {
         "mode": "lines+markers",
         "name": "placa-de-video-colorful-nvidia-geforce-rtx-4070-ti-nb-ex-v-12gb-gddr6x-ray-tracing-de-3-geracao-dlss-3-g-sync-285w-tdp-3xdp-1xhdmi",
         "type": "scatter",
         "x": [
          "2024-04-25T03:36:00",
          "2024-04-25T08:17:00",
          "2024-04-25T09:19:00",
          "2024-04-25T10:20:00"
         ],
         "y": [
          5599,
          5599,
          5599,
          5599
         ]
        },
        {
         "mode": "lines+markers",
         "name": "placa-de-video-gigabyte-nvidia-geforce-rtx-4070-ti-eagle-oc-12gb-gddr6x-192bits-gv-n407teagle",
         "type": "scatter",
         "x": [
          "2024-04-25T03:36:00",
          "2024-04-25T08:17:00",
          "2024-04-25T09:19:00",
          "2024-04-25T10:20:00"
         ],
         "y": [
          6999.9,
          6999.9,
          6999.9,
          6999.9
         ]
        },
        {
         "mode": "lines+markers",
         "name": "placa-de-video-rtx-4070-ti-msi-geforce-super-ventus-3x-oc-16gb-gddr6x-256-bits-912-v513-627",
         "type": "scatter",
         "x": [
          "2024-04-25T03:36:00",
          "2024-04-25T08:17:00",
          "2024-04-25T09:19:00",
          "2024-04-25T10:20:00"
         ],
         "y": [
          6590.8,
          6590.8,
          6590.8,
          6590.8
         ]
        },
        {
         "mode": "lines+markers",
         "name": "placa-de-video-rtx-4070-ti-super-gamingpro-oc-palit-nvidia-geforce-16gb-gddr6x-dlss-ray-trancing-g-sync-ned47tsh19t2-1043a",
         "type": "scatter",
         "x": [
          "2024-04-25T03:36:00",
          "2024-04-25T08:17:00",
          "2024-04-25T09:19:00",
          "2024-04-25T10:20:00"
         ],
         "y": [
          6941.16,
          6941.16,
          6941.16,
          6941.16
         ]
        },
        {
         "mode": "lines+markers",
         "name": "zotac-gaming-geforce-rtx-4070-ti-super-trinity-oc-white-edition-16gb-gddr6x-zt-d40730q-10p",
         "type": "scatter",
         "x": [
          "2024-04-25T03:36:00",
          "2024-04-25T08:17:00",
          "2024-04-25T09:19:00",
          "2024-04-25T10:20:00"
         ],
         "y": [
          9019.45,
          9019.45,
          9019.45,
          9019.45
         ]
        },
        {
         "mode": "lines+markers",
         "name": "placa-de-video-palit-gamingpro-nvidia-rtx-4070-ti-12gb-gddr6x-192bits",
         "type": "scatter",
         "x": [
          "2024-04-25T03:36:00",
          "2024-04-25T08:17:00",
          "2024-04-25T09:19:00",
          "2024-04-25T10:20:00"
         ],
         "y": [
          5568.07,
          5568.07,
          5568.07,
          5568.07
         ]
        },
        {
         "mode": "lines+markers",
         "name": "placa-de-video-nvidia-gigabyte-geforce-rtx-4070-ti-super-windforce-oc-16gb-gddr6x-256-bits-gv-n407tswf3oc-16gd",
         "type": "scatter",
         "x": [
          "2024-04-25T03:36:00",
          "2024-04-25T08:17:00",
          "2024-04-25T09:19:00",
          "2024-04-25T10:20:00"
         ],
         "y": [
          8273.28,
          8273.28,
          8273.28,
          8273.28
         ]
        }
       ],
       "layout": {
        "legend": {
         "font": {
          "size": 10
         },
         "itemwidth": 30,
         "orientation": "v",
         "x": 10,
         "y": 0
        },
        "margin": {
         "b": 150,
         "l": 50,
         "r": 50,
         "t": 80
        },
        "template": {
         "data": {
          "bar": [
           {
            "error_x": {
             "color": "#2a3f5f"
            },
            "error_y": {
             "color": "#2a3f5f"
            },
            "marker": {
             "line": {
              "color": "#E5ECF6",
              "width": 0.5
             },
             "pattern": {
              "fillmode": "overlay",
              "size": 10,
              "solidity": 0.2
             }
            },
            "type": "bar"
           }
          ],
          "barpolar": [
           {
            "marker": {
             "line": {
              "color": "#E5ECF6",
              "width": 0.5
             },
             "pattern": {
              "fillmode": "overlay",
              "size": 10,
              "solidity": 0.2
             }
            },
            "type": "barpolar"
           }
          ],
          "carpet": [
           {
            "aaxis": {
             "endlinecolor": "#2a3f5f",
             "gridcolor": "white",
             "linecolor": "white",
             "minorgridcolor": "white",
             "startlinecolor": "#2a3f5f"
            },
            "baxis": {
             "endlinecolor": "#2a3f5f",
             "gridcolor": "white",
             "linecolor": "white",
             "minorgridcolor": "white",
             "startlinecolor": "#2a3f5f"
            },
            "type": "carpet"
           }
          ],
          "choropleth": [
           {
            "colorbar": {
             "outlinewidth": 0,
             "ticks": ""
            },
            "type": "choropleth"
           }
          ],
          "contour": [
           {
            "colorbar": {
             "outlinewidth": 0,
             "ticks": ""
            },
            "colorscale": [
             [
              0,
              "#0d0887"
             ],
             [
              0.1111111111111111,
              "#46039f"
             ],
             [
              0.2222222222222222,
              "#7201a8"
             ],
             [
              0.3333333333333333,
              "#9c179e"
             ],
             [
              0.4444444444444444,
              "#bd3786"
             ],
             [
              0.5555555555555556,
              "#d8576b"
             ],
             [
              0.6666666666666666,
              "#ed7953"
             ],
             [
              0.7777777777777778,
              "#fb9f3a"
             ],
             [
              0.8888888888888888,
              "#fdca26"
             ],
             [
              1,
              "#f0f921"
             ]
            ],
            "type": "contour"
           }
          ],
          "contourcarpet": [
           {
            "colorbar": {
             "outlinewidth": 0,
             "ticks": ""
            },
            "type": "contourcarpet"
           }
          ],
          "heatmap": [
           {
            "colorbar": {
             "outlinewidth": 0,
             "ticks": ""
            },
            "colorscale": [
             [
              0,
              "#0d0887"
             ],
             [
              0.1111111111111111,
              "#46039f"
             ],
             [
              0.2222222222222222,
              "#7201a8"
             ],
             [
              0.3333333333333333,
              "#9c179e"
             ],
             [
              0.4444444444444444,
              "#bd3786"
             ],
             [
              0.5555555555555556,
              "#d8576b"
             ],
             [
              0.6666666666666666,
              "#ed7953"
             ],
             [
              0.7777777777777778,
              "#fb9f3a"
             ],
             [
              0.8888888888888888,
              "#fdca26"
             ],
             [
              1,
              "#f0f921"
             ]
            ],
            "type": "heatmap"
           }
          ],
          "heatmapgl": [
           {
            "colorbar": {
             "outlinewidth": 0,
             "ticks": ""
            },
            "colorscale": [
             [
              0,
              "#0d0887"
             ],
             [
              0.1111111111111111,
              "#46039f"
             ],
             [
              0.2222222222222222,
              "#7201a8"
             ],
             [
              0.3333333333333333,
              "#9c179e"
             ],
             [
              0.4444444444444444,
              "#bd3786"
             ],
             [
              0.5555555555555556,
              "#d8576b"
             ],
             [
              0.6666666666666666,
              "#ed7953"
             ],
             [
              0.7777777777777778,
              "#fb9f3a"
             ],
             [
              0.8888888888888888,
              "#fdca26"
             ],
             [
              1,
              "#f0f921"
             ]
            ],
            "type": "heatmapgl"
           }
          ],
          "histogram": [
           {
            "marker": {
             "pattern": {
              "fillmode": "overlay",
              "size": 10,
              "solidity": 0.2
             }
            },
            "type": "histogram"
           }
          ],
          "histogram2d": [
           {
            "colorbar": {
             "outlinewidth": 0,
             "ticks": ""
            },
            "colorscale": [
             [
              0,
              "#0d0887"
             ],
             [
              0.1111111111111111,
              "#46039f"
             ],
             [
              0.2222222222222222,
              "#7201a8"
             ],
             [
              0.3333333333333333,
              "#9c179e"
             ],
             [
              0.4444444444444444,
              "#bd3786"
             ],
             [
              0.5555555555555556,
              "#d8576b"
             ],
             [
              0.6666666666666666,
              "#ed7953"
             ],
             [
              0.7777777777777778,
              "#fb9f3a"
             ],
             [
              0.8888888888888888,
              "#fdca26"
             ],
             [
              1,
              "#f0f921"
             ]
            ],
            "type": "histogram2d"
           }
          ],
          "histogram2dcontour": [
           {
            "colorbar": {
             "outlinewidth": 0,
             "ticks": ""
            },
            "colorscale": [
             [
              0,
              "#0d0887"
             ],
             [
              0.1111111111111111,
              "#46039f"
             ],
             [
              0.2222222222222222,
              "#7201a8"
             ],
             [
              0.3333333333333333,
              "#9c179e"
             ],
             [
              0.4444444444444444,
              "#bd3786"
             ],
             [
              0.5555555555555556,
              "#d8576b"
             ],
             [
              0.6666666666666666,
              "#ed7953"
             ],
             [
              0.7777777777777778,
              "#fb9f3a"
             ],
             [
              0.8888888888888888,
              "#fdca26"
             ],
             [
              1,
              "#f0f921"
             ]
            ],
            "type": "histogram2dcontour"
           }
          ],
          "mesh3d": [
           {
            "colorbar": {
             "outlinewidth": 0,
             "ticks": ""
            },
            "type": "mesh3d"
           }
          ],
          "parcoords": [
           {
            "line": {
             "colorbar": {
              "outlinewidth": 0,
              "ticks": ""
             }
            },
            "type": "parcoords"
           }
          ],
          "pie": [
           {
            "automargin": true,
            "type": "pie"
           }
          ],
          "scatter": [
           {
            "fillpattern": {
             "fillmode": "overlay",
             "size": 10,
             "solidity": 0.2
            },
            "type": "scatter"
           }
          ],
          "scatter3d": [
           {
            "line": {
             "colorbar": {
              "outlinewidth": 0,
              "ticks": ""
             }
            },
            "marker": {
             "colorbar": {
              "outlinewidth": 0,
              "ticks": ""
             }
            },
            "type": "scatter3d"
           }
          ],
          "scattercarpet": [
           {
            "marker": {
             "colorbar": {
              "outlinewidth": 0,
              "ticks": ""
             }
            },
            "type": "scattercarpet"
           }
          ],
          "scattergeo": [
           {
            "marker": {
             "colorbar": {
              "outlinewidth": 0,
              "ticks": ""
             }
            },
            "type": "scattergeo"
           }
          ],
          "scattergl": [
           {
            "marker": {
             "colorbar": {
              "outlinewidth": 0,
              "ticks": ""
             }
            },
            "type": "scattergl"
           }
          ],
          "scattermapbox": [
           {
            "marker": {
             "colorbar": {
              "outlinewidth": 0,
              "ticks": ""
             }
            },
            "type": "scattermapbox"
           }
          ],
          "scatterpolar": [
           {
            "marker": {
             "colorbar": {
              "outlinewidth": 0,
              "ticks": ""
             }
            },
            "type": "scatterpolar"
           }
          ],
          "scatterpolargl": [
           {
            "marker": {
             "colorbar": {
              "outlinewidth": 0,
              "ticks": ""
             }
            },
            "type": "scatterpolargl"
           }
          ],
          "scatterternary": [
           {
            "marker": {
             "colorbar": {
              "outlinewidth": 0,
              "ticks": ""
             }
            },
            "type": "scatterternary"
           }
          ],
          "surface": [
           {
            "colorbar": {
             "outlinewidth": 0,
             "ticks": ""
            },
            "colorscale": [
             [
              0,
              "#0d0887"
             ],
             [
              0.1111111111111111,
              "#46039f"
             ],
             [
              0.2222222222222222,
              "#7201a8"
             ],
             [
              0.3333333333333333,
              "#9c179e"
             ],
             [
              0.4444444444444444,
              "#bd3786"
             ],
             [
              0.5555555555555556,
              "#d8576b"
             ],
             [
              0.6666666666666666,
              "#ed7953"
             ],
             [
              0.7777777777777778,
              "#fb9f3a"
             ],
             [
              0.8888888888888888,
              "#fdca26"
             ],
             [
              1,
              "#f0f921"
             ]
            ],
            "type": "surface"
           }
          ],
          "table": [
           {
            "cells": {
             "fill": {
              "color": "#EBF0F8"
             },
             "line": {
              "color": "white"
             }
            },
            "header": {
             "fill": {
              "color": "#C8D4E3"
             },
             "line": {
              "color": "white"
             }
            },
            "type": "table"
           }
          ]
         },
         "layout": {
          "annotationdefaults": {
           "arrowcolor": "#2a3f5f",
           "arrowhead": 0,
           "arrowwidth": 1
          },
          "autotypenumbers": "strict",
          "coloraxis": {
           "colorbar": {
            "outlinewidth": 0,
            "ticks": ""
           }
          },
          "colorscale": {
           "diverging": [
            [
             0,
             "#8e0152"
            ],
            [
             0.1,
             "#c51b7d"
            ],
            [
             0.2,
             "#de77ae"
            ],
            [
             0.3,
             "#f1b6da"
            ],
            [
             0.4,
             "#fde0ef"
            ],
            [
             0.5,
             "#f7f7f7"
            ],
            [
             0.6,
             "#e6f5d0"
            ],
            [
             0.7,
             "#b8e186"
            ],
            [
             0.8,
             "#7fbc41"
            ],
            [
             0.9,
             "#4d9221"
            ],
            [
             1,
             "#276419"
            ]
           ],
           "sequential": [
            [
             0,
             "#0d0887"
            ],
            [
             0.1111111111111111,
             "#46039f"
            ],
            [
             0.2222222222222222,
             "#7201a8"
            ],
            [
             0.3333333333333333,
             "#9c179e"
            ],
            [
             0.4444444444444444,
             "#bd3786"
            ],
            [
             0.5555555555555556,
             "#d8576b"
            ],
            [
             0.6666666666666666,
             "#ed7953"
            ],
            [
             0.7777777777777778,
             "#fb9f3a"
            ],
            [
             0.8888888888888888,
             "#fdca26"
            ],
            [
             1,
             "#f0f921"
            ]
           ],
           "sequentialminus": [
            [
             0,
             "#0d0887"
            ],
            [
             0.1111111111111111,
             "#46039f"
            ],
            [
             0.2222222222222222,
             "#7201a8"
            ],
            [
             0.3333333333333333,
             "#9c179e"
            ],
            [
             0.4444444444444444,
             "#bd3786"
            ],
            [
             0.5555555555555556,
             "#d8576b"
            ],
            [
             0.6666666666666666,
             "#ed7953"
            ],
            [
             0.7777777777777778,
             "#fb9f3a"
            ],
            [
             0.8888888888888888,
             "#fdca26"
            ],
            [
             1,
             "#f0f921"
            ]
           ]
          },
          "colorway": [
           "#636efa",
           "#EF553B",
           "#00cc96",
           "#ab63fa",
           "#FFA15A",
           "#19d3f3",
           "#FF6692",
           "#B6E880",
           "#FF97FF",
           "#FECB52"
          ],
          "font": {
           "color": "#2a3f5f"
          },
          "geo": {
           "bgcolor": "white",
           "lakecolor": "white",
           "landcolor": "#E5ECF6",
           "showlakes": true,
           "showland": true,
           "subunitcolor": "white"
          },
          "hoverlabel": {
           "align": "left"
          },
          "hovermode": "closest",
          "mapbox": {
           "style": "light"
          },
          "paper_bgcolor": "white",
          "plot_bgcolor": "#E5ECF6",
          "polar": {
           "angularaxis": {
            "gridcolor": "white",
            "linecolor": "white",
            "ticks": ""
           },
           "bgcolor": "#E5ECF6",
           "radialaxis": {
            "gridcolor": "white",
            "linecolor": "white",
            "ticks": ""
           }
          },
          "scene": {
           "xaxis": {
            "backgroundcolor": "#E5ECF6",
            "gridcolor": "white",
            "gridwidth": 2,
            "linecolor": "white",
            "showbackground": true,
            "ticks": "",
            "zerolinecolor": "white"
           },
           "yaxis": {
            "backgroundcolor": "#E5ECF6",
            "gridcolor": "white",
            "gridwidth": 2,
            "linecolor": "white",
            "showbackground": true,
            "ticks": "",
            "zerolinecolor": "white"
           },
           "zaxis": {
            "backgroundcolor": "#E5ECF6",
            "gridcolor": "white",
            "gridwidth": 2,
            "linecolor": "white",
            "showbackground": true,
            "ticks": "",
            "zerolinecolor": "white"
           }
          },
          "shapedefaults": {
           "line": {
            "color": "#2a3f5f"
           }
          },
          "ternary": {
           "aaxis": {
            "gridcolor": "white",
            "linecolor": "white",
            "ticks": ""
           },
           "baxis": {
            "gridcolor": "white",
            "linecolor": "white",
            "ticks": ""
           },
           "bgcolor": "#E5ECF6",
           "caxis": {
            "gridcolor": "white",
            "linecolor": "white",
            "ticks": ""
           }
          },
          "title": {
           "x": 0.05
          },
          "xaxis": {
           "automargin": true,
           "gridcolor": "white",
           "linecolor": "white",
           "ticks": "",
           "title": {
            "standoff": 15
           },
           "zerolinecolor": "white",
           "zerolinewidth": 2
          },
          "yaxis": {
           "automargin": true,
           "gridcolor": "white",
           "linecolor": "white",
           "ticks": "",
           "title": {
            "standoff": 15
           },
           "zerolinecolor": "white",
           "zerolinewidth": 2
          }
         }
        },
        "title": {
         "text": "Evolução dos Preços - Modelo: RTX 4070 TI"
        },
        "xaxis": {
         "title": {
          "text": "Data"
         }
        },
        "yaxis": {
         "tickformat": ".2f",
         "tickprefix": "R$ ",
         "title": {
          "text": "Preço"
         }
        }
       }
      }
     },
     "metadata": {},
     "output_type": "display_data"
    },
    {
     "data": {
      "application/vnd.plotly.v1+json": {
       "config": {
        "plotlyServerURL": "https://plot.ly"
       },
       "data": [
        {
         "mode": "lines+markers",
         "name": "placa-de-video-rtx-4080-super-sg-galax-nvidia-geforce-16gb-gddr6x-dlss-ray-tracing-g-sync-48szm6md9rsg",
         "type": "scatter",
         "x": [
          "2024-04-25T03:36:00",
          "2024-04-25T08:18:00",
          "2024-04-25T09:19:00",
          "2024-04-25T10:20:00"
         ],
         "y": [
          8470.58,
          8470.58,
          8470.58,
          8470.58
         ]
        },
        {
         "mode": "lines+markers",
         "name": "placa-de-video-rtx-4080-super-msi-16g-ventus-3x-oc-nvidia-geforce-16gb-gddr6x-dlss-ray-tracing",
         "type": "scatter",
         "x": [
          "2024-04-25T03:36:00",
          "2024-04-25T08:18:00",
          "2024-04-25T09:19:00",
          "2024-04-25T10:20:00"
         ],
         "y": [
          9058.81,
          9058.81,
          9058.81,
          9058.81
         ]
        },
        {
         "mode": "lines+markers",
         "name": "placa-de-video-rtx-4080-black-st-galax-nvidia-16gb-gddr6x-256-bits-3-dp-hdmi-2-1-dlss3-48nzm6md6lts",
         "type": "scatter",
         "x": [
          "2024-04-25T03:36:00",
          "2024-04-25T08:18:00",
          "2024-04-25T09:19:00",
          "2024-04-25T10:20:00"
         ],
         "y": [
          7850,
          7850,
          7850,
          7850
         ]
        },
        {
         "mode": "lines+markers",
         "name": "placa-de-video-rtx-4080-super-oc-gaming-verto-triple-fan-pny-nvidia-geforce-16gb-gddr6x-dlss-3-ray-tracing-vcg4080s16tfxpb1-o",
         "type": "scatter",
         "x": [
          "2024-04-25T03:36:00",
          "2024-04-25T08:18:00",
          "2024-04-25T09:19:00",
          "2024-04-25T10:20:00"
         ],
         "y": [
          8235.28,
          8235.28,
          8235.28,
          8235.28
         ]
        },
        {
         "mode": "lines+markers",
         "name": "placa-de-video-rtx-4080-rog-strix-edition-asus-nvidia-geforce-16gb-gddr6x-argb-dlss-ray-tracing-branco-rog-strix-rtx4080-o16g-white",
         "type": "scatter",
         "x": [
          "2024-04-25T03:36:00",
          "2024-04-25T08:18:00",
          "2024-04-25T09:19:00",
          "2024-04-25T10:20:00"
         ],
         "y": [
          10588.22,
          10588.22,
          10588.22,
          10588.22
         ]
        },
        {
         "mode": "lines+markers",
         "name": "placa-de-video-rtx-4080-edition-asus-rog-strix-nvidia-geforce-16-gb-gddr6x-argb-dlss-ray-tracing-rog-strix-rtx4080-o16g-gaming",
         "type": "scatter",
         "x": [
          "2024-04-25T03:36:00",
          "2024-04-25T08:18:00",
          "2024-04-25T09:19:00",
          "2024-04-25T10:20:00"
         ],
         "y": [
          9999.99,
          9999.99,
          9999.99,
          9999.99
         ]
        },
        {
         "mode": "lines+markers",
         "name": "placa-de-video-rtx-4080-super-oc-gaming-verto-epic-x-rgb-triple-fan-pny-nvidia-geforce-16gb-gddr6x-dlss-3-ray-tracing-vcg4080s16tfxxpb1-o",
         "type": "scatter",
         "x": [
          "2024-04-25T03:36:00",
          "2024-04-25T08:18:00",
          "2024-04-25T09:19:00",
          "2024-04-25T10:20:00"
         ],
         "y": [
          8470.58,
          8470.58,
          8470.58,
          8470.58
         ]
        },
        {
         "mode": "lines+markers",
         "name": "placa-de-video-rtx-4080-super-gamingpro-oc-palit-nvidia-geforce-16gb-gddr6x-dlss-ray-trancing-g-sync-ned408st19t2-1032a",
         "type": "scatter",
         "x": [
          "2024-04-25T03:36:00",
          "2024-04-25T08:18:00",
          "2024-04-25T09:19:00",
          "2024-04-25T10:20:00"
         ],
         "y": [
          8470.58,
          8470.58,
          8470.58,
          8470.58
         ]
        },
        {
         "mode": "lines+markers",
         "name": "placa-de-video-rtx-4080-super-windforce-gigabyte-nvidia-geforce-16gb-gddr6x-dlss-ray-tracing-gv-n408swf3-16gd",
         "type": "scatter",
         "x": [
          "2024-04-25T03:36:00",
          "2024-04-25T08:18:00",
          "2024-04-25T09:19:00",
          "2024-04-25T10:20:00"
         ],
         "y": [
          7999.9,
          7999.9,
          7999.9,
          7999.9
         ]
        },
        {
         "mode": "lines+markers",
         "name": "placa-de-video-rtx-4080-16gb-super-256-bits-gddr6x-ventus-3x-oc-912-v511-233",
         "type": "scatter",
         "x": [
          "2024-04-25T03:36:00",
          "2024-04-25T08:18:00",
          "2024-04-25T09:19:00",
          "2024-04-25T10:20:00"
         ],
         "y": [
          11991.7,
          11991.7,
          11991.7,
          11991.7
         ]
        },
        {
         "mode": "lines+markers",
         "name": "placa-de-video-rtx-4080-tuf-oc-edition-asus-nvidia-geforce-16-gb-gddr6x-argb-dlss-ray-tracing-tuf-rtx4080-o16g-gaming",
         "type": "scatter",
         "x": [
          "2024-04-25T03:36:00",
          "2024-04-25T08:18:00",
          "2024-04-25T09:19:00",
          "2024-04-25T10:20:00"
         ],
         "y": [
          9999.99,
          9999.99,
          9999.99,
          9999.99
         ]
        },
        {
         "mode": "lines+markers",
         "name": "placa-de-video-rtx-4080-xlr8-gaming-verto-epic-x-rgb-pny-nvidia-geforce-16-gb-gddr6x-dlss-ray-tracing-vcg408016tfxxpb1-o",
         "type": "scatter",
         "x": [
          "2024-04-25T03:36:00",
          "2024-04-25T08:18:00",
          "2024-04-25T09:19:00",
          "2024-04-25T10:20:00"
         ],
         "y": [
          8235.28,
          8235.28,
          8235.28,
          8235.28
         ]
        },
        {
         "mode": "lines+markers",
         "name": "placa-de-video-rtx-4080-super-gigabyte-gaming-oc-nvidia-geforce-16gb-gddr6-dlss-ray-tracing-gv-n408sgaming-oc-16gd",
         "type": "scatter",
         "x": [
          "2024-04-25T03:36:00",
          "2024-04-25T08:18:00",
          "2024-04-25T09:19:00",
          "2024-04-25T10:20:00"
         ],
         "y": [
          11764.69,
          11764.69,
          11764.69,
          11764.69
         ]
        },
        {
         "mode": "lines+markers",
         "name": "placa-de-video-rtx-4080-sg-1-click-oc-galax-geforce-16gb-gddr6x-argb-dlss-ray-tracing-48nzm6md6lsgbr",
         "type": "scatter",
         "x": [
          "2024-04-25T03:36:00",
          "2024-04-25T08:18:00",
          "2024-04-25T09:19:00",
          "2024-04-25T10:20:00"
         ],
         "y": [
          9999.9,
          9999.9,
          9999.9,
          9999.9
         ]
        },
        {
         "mode": "lines+markers",
         "name": "placa-de-video-rtx-4080-super-sg-galax-nvidia-geforce-16gb-gddr6x-256bits",
         "type": "scatter",
         "x": [
          "2024-04-25T03:36:00",
          "2024-04-25T08:18:00",
          "2024-04-25T09:19:00",
          "2024-04-25T10:20:00"
         ],
         "y": [
          11689.9,
          11689.9,
          11689.9,
          11689.9
         ]
        },
        {
         "mode": "lines+markers",
         "name": "placa-de-video-colorful-igame-rtx-4080-16gb-vulcan-oc-v",
         "type": "scatter",
         "x": [
          "2024-04-25T03:36:00",
          "2024-04-25T08:18:00",
          "2024-04-25T09:19:00",
          "2024-04-25T10:20:00"
         ],
         "y": [
          9399,
          9399,
          9399,
          9399
         ]
        },
        {
         "mode": "lines+markers",
         "name": "placa-de-video-msi-nvidia-geforce-rtx-4080-16gb-256-bit-gddr6x",
         "type": "scatter",
         "x": [
          "2024-04-25T03:36:00",
          "2024-04-25T08:18:00",
          "2024-04-25T09:19:00",
          "2024-04-25T10:20:00"
         ],
         "y": [
          11179.99,
          11179.99,
          11179.99,
          11179.99
         ]
        },
        {
         "mode": "lines+markers",
         "name": "placa-de-video-nvidia-msi-geforce-rtx-4080-gaming-x-trio-16gb-ddr6-256-bits-912-v511-046",
         "type": "scatter",
         "x": [
          "2024-04-25T03:36:00",
          "2024-04-25T08:18:00",
          "2024-04-25T09:19:00",
          "2024-04-25T10:20:00"
         ],
         "y": [
          10026.9,
          10026.9,
          10026.9,
          10026.9
         ]
        },
        {
         "mode": "lines+markers",
         "name": "placa-de-video-rtx-4080-gaming-x-trio-msi-nvidia-geforce-16-gb-gddr6x-dlss-ray-tracing-geforce-rtx-4080-16gb-gaming-x-trio",
         "type": "scatter",
         "x": [
          "2024-04-25T03:36:00",
          "2024-04-25T08:18:00",
          "2024-04-25T09:19:00",
          "2024-04-25T10:20:00"
         ],
         "y": [
          8490,
          8490,
          8490,
          8490
         ]
        },
        {
         "mode": "lines+markers",
         "name": "zotac-gaming-geforce-rtx-4080-super-trinity-white-edition-16gb-gddr6x-zt-d40820q-10p",
         "type": "scatter",
         "x": [
          "2024-04-25T03:36:00",
          "2024-04-25T08:18:00",
          "2024-04-25T09:19:00",
          "2024-04-25T10:20:00"
         ],
         "y": [
          11468.45,
          11468.45,
          11468.45,
          11468.45
         ]
        },
        {
         "mode": "lines+markers",
         "name": "bloco-placa-de-video-gpu-block-asus-rtx-4080-tuf-e-strix-barrow-rgb",
         "type": "scatter",
         "x": [
          "2024-04-25T03:36:00",
          "2024-04-25T08:18:00",
          "2024-04-25T09:19:00",
          "2024-04-25T10:20:00"
         ],
         "y": [
          1190.88,
          1190.88,
          1190.88,
          1190.88
         ]
        },
        {
         "mode": "lines+markers",
         "name": "placa-de-video-nvidia-gigabyte-geforce-rtx-4080-gaming-oc-16gb-gddr6x-256-bits-gv-n4080gaming-oc-16",
         "type": "scatter",
         "x": [
          "2024-04-25T03:36:00",
          "2024-04-25T08:18:00",
          "2024-04-25T09:19:00",
          "2024-04-25T10:20:00"
         ],
         "y": [
          10705.22,
          10705.22,
          10705.22,
          10705.22
         ]
        }
       ],
       "layout": {
        "legend": {
         "font": {
          "size": 10
         },
         "itemwidth": 30,
         "orientation": "v",
         "x": 10,
         "y": 0
        },
        "margin": {
         "b": 150,
         "l": 50,
         "r": 50,
         "t": 80
        },
        "template": {
         "data": {
          "bar": [
           {
            "error_x": {
             "color": "#2a3f5f"
            },
            "error_y": {
             "color": "#2a3f5f"
            },
            "marker": {
             "line": {
              "color": "#E5ECF6",
              "width": 0.5
             },
             "pattern": {
              "fillmode": "overlay",
              "size": 10,
              "solidity": 0.2
             }
            },
            "type": "bar"
           }
          ],
          "barpolar": [
           {
            "marker": {
             "line": {
              "color": "#E5ECF6",
              "width": 0.5
             },
             "pattern": {
              "fillmode": "overlay",
              "size": 10,
              "solidity": 0.2
             }
            },
            "type": "barpolar"
           }
          ],
          "carpet": [
           {
            "aaxis": {
             "endlinecolor": "#2a3f5f",
             "gridcolor": "white",
             "linecolor": "white",
             "minorgridcolor": "white",
             "startlinecolor": "#2a3f5f"
            },
            "baxis": {
             "endlinecolor": "#2a3f5f",
             "gridcolor": "white",
             "linecolor": "white",
             "minorgridcolor": "white",
             "startlinecolor": "#2a3f5f"
            },
            "type": "carpet"
           }
          ],
          "choropleth": [
           {
            "colorbar": {
             "outlinewidth": 0,
             "ticks": ""
            },
            "type": "choropleth"
           }
          ],
          "contour": [
           {
            "colorbar": {
             "outlinewidth": 0,
             "ticks": ""
            },
            "colorscale": [
             [
              0,
              "#0d0887"
             ],
             [
              0.1111111111111111,
              "#46039f"
             ],
             [
              0.2222222222222222,
              "#7201a8"
             ],
             [
              0.3333333333333333,
              "#9c179e"
             ],
             [
              0.4444444444444444,
              "#bd3786"
             ],
             [
              0.5555555555555556,
              "#d8576b"
             ],
             [
              0.6666666666666666,
              "#ed7953"
             ],
             [
              0.7777777777777778,
              "#fb9f3a"
             ],
             [
              0.8888888888888888,
              "#fdca26"
             ],
             [
              1,
              "#f0f921"
             ]
            ],
            "type": "contour"
           }
          ],
          "contourcarpet": [
           {
            "colorbar": {
             "outlinewidth": 0,
             "ticks": ""
            },
            "type": "contourcarpet"
           }
          ],
          "heatmap": [
           {
            "colorbar": {
             "outlinewidth": 0,
             "ticks": ""
            },
            "colorscale": [
             [
              0,
              "#0d0887"
             ],
             [
              0.1111111111111111,
              "#46039f"
             ],
             [
              0.2222222222222222,
              "#7201a8"
             ],
             [
              0.3333333333333333,
              "#9c179e"
             ],
             [
              0.4444444444444444,
              "#bd3786"
             ],
             [
              0.5555555555555556,
              "#d8576b"
             ],
             [
              0.6666666666666666,
              "#ed7953"
             ],
             [
              0.7777777777777778,
              "#fb9f3a"
             ],
             [
              0.8888888888888888,
              "#fdca26"
             ],
             [
              1,
              "#f0f921"
             ]
            ],
            "type": "heatmap"
           }
          ],
          "heatmapgl": [
           {
            "colorbar": {
             "outlinewidth": 0,
             "ticks": ""
            },
            "colorscale": [
             [
              0,
              "#0d0887"
             ],
             [
              0.1111111111111111,
              "#46039f"
             ],
             [
              0.2222222222222222,
              "#7201a8"
             ],
             [
              0.3333333333333333,
              "#9c179e"
             ],
             [
              0.4444444444444444,
              "#bd3786"
             ],
             [
              0.5555555555555556,
              "#d8576b"
             ],
             [
              0.6666666666666666,
              "#ed7953"
             ],
             [
              0.7777777777777778,
              "#fb9f3a"
             ],
             [
              0.8888888888888888,
              "#fdca26"
             ],
             [
              1,
              "#f0f921"
             ]
            ],
            "type": "heatmapgl"
           }
          ],
          "histogram": [
           {
            "marker": {
             "pattern": {
              "fillmode": "overlay",
              "size": 10,
              "solidity": 0.2
             }
            },
            "type": "histogram"
           }
          ],
          "histogram2d": [
           {
            "colorbar": {
             "outlinewidth": 0,
             "ticks": ""
            },
            "colorscale": [
             [
              0,
              "#0d0887"
             ],
             [
              0.1111111111111111,
              "#46039f"
             ],
             [
              0.2222222222222222,
              "#7201a8"
             ],
             [
              0.3333333333333333,
              "#9c179e"
             ],
             [
              0.4444444444444444,
              "#bd3786"
             ],
             [
              0.5555555555555556,
              "#d8576b"
             ],
             [
              0.6666666666666666,
              "#ed7953"
             ],
             [
              0.7777777777777778,
              "#fb9f3a"
             ],
             [
              0.8888888888888888,
              "#fdca26"
             ],
             [
              1,
              "#f0f921"
             ]
            ],
            "type": "histogram2d"
           }
          ],
          "histogram2dcontour": [
           {
            "colorbar": {
             "outlinewidth": 0,
             "ticks": ""
            },
            "colorscale": [
             [
              0,
              "#0d0887"
             ],
             [
              0.1111111111111111,
              "#46039f"
             ],
             [
              0.2222222222222222,
              "#7201a8"
             ],
             [
              0.3333333333333333,
              "#9c179e"
             ],
             [
              0.4444444444444444,
              "#bd3786"
             ],
             [
              0.5555555555555556,
              "#d8576b"
             ],
             [
              0.6666666666666666,
              "#ed7953"
             ],
             [
              0.7777777777777778,
              "#fb9f3a"
             ],
             [
              0.8888888888888888,
              "#fdca26"
             ],
             [
              1,
              "#f0f921"
             ]
            ],
            "type": "histogram2dcontour"
           }
          ],
          "mesh3d": [
           {
            "colorbar": {
             "outlinewidth": 0,
             "ticks": ""
            },
            "type": "mesh3d"
           }
          ],
          "parcoords": [
           {
            "line": {
             "colorbar": {
              "outlinewidth": 0,
              "ticks": ""
             }
            },
            "type": "parcoords"
           }
          ],
          "pie": [
           {
            "automargin": true,
            "type": "pie"
           }
          ],
          "scatter": [
           {
            "fillpattern": {
             "fillmode": "overlay",
             "size": 10,
             "solidity": 0.2
            },
            "type": "scatter"
           }
          ],
          "scatter3d": [
           {
            "line": {
             "colorbar": {
              "outlinewidth": 0,
              "ticks": ""
             }
            },
            "marker": {
             "colorbar": {
              "outlinewidth": 0,
              "ticks": ""
             }
            },
            "type": "scatter3d"
           }
          ],
          "scattercarpet": [
           {
            "marker": {
             "colorbar": {
              "outlinewidth": 0,
              "ticks": ""
             }
            },
            "type": "scattercarpet"
           }
          ],
          "scattergeo": [
           {
            "marker": {
             "colorbar": {
              "outlinewidth": 0,
              "ticks": ""
             }
            },
            "type": "scattergeo"
           }
          ],
          "scattergl": [
           {
            "marker": {
             "colorbar": {
              "outlinewidth": 0,
              "ticks": ""
             }
            },
            "type": "scattergl"
           }
          ],
          "scattermapbox": [
           {
            "marker": {
             "colorbar": {
              "outlinewidth": 0,
              "ticks": ""
             }
            },
            "type": "scattermapbox"
           }
          ],
          "scatterpolar": [
           {
            "marker": {
             "colorbar": {
              "outlinewidth": 0,
              "ticks": ""
             }
            },
            "type": "scatterpolar"
           }
          ],
          "scatterpolargl": [
           {
            "marker": {
             "colorbar": {
              "outlinewidth": 0,
              "ticks": ""
             }
            },
            "type": "scatterpolargl"
           }
          ],
          "scatterternary": [
           {
            "marker": {
             "colorbar": {
              "outlinewidth": 0,
              "ticks": ""
             }
            },
            "type": "scatterternary"
           }
          ],
          "surface": [
           {
            "colorbar": {
             "outlinewidth": 0,
             "ticks": ""
            },
            "colorscale": [
             [
              0,
              "#0d0887"
             ],
             [
              0.1111111111111111,
              "#46039f"
             ],
             [
              0.2222222222222222,
              "#7201a8"
             ],
             [
              0.3333333333333333,
              "#9c179e"
             ],
             [
              0.4444444444444444,
              "#bd3786"
             ],
             [
              0.5555555555555556,
              "#d8576b"
             ],
             [
              0.6666666666666666,
              "#ed7953"
             ],
             [
              0.7777777777777778,
              "#fb9f3a"
             ],
             [
              0.8888888888888888,
              "#fdca26"
             ],
             [
              1,
              "#f0f921"
             ]
            ],
            "type": "surface"
           }
          ],
          "table": [
           {
            "cells": {
             "fill": {
              "color": "#EBF0F8"
             },
             "line": {
              "color": "white"
             }
            },
            "header": {
             "fill": {
              "color": "#C8D4E3"
             },
             "line": {
              "color": "white"
             }
            },
            "type": "table"
           }
          ]
         },
         "layout": {
          "annotationdefaults": {
           "arrowcolor": "#2a3f5f",
           "arrowhead": 0,
           "arrowwidth": 1
          },
          "autotypenumbers": "strict",
          "coloraxis": {
           "colorbar": {
            "outlinewidth": 0,
            "ticks": ""
           }
          },
          "colorscale": {
           "diverging": [
            [
             0,
             "#8e0152"
            ],
            [
             0.1,
             "#c51b7d"
            ],
            [
             0.2,
             "#de77ae"
            ],
            [
             0.3,
             "#f1b6da"
            ],
            [
             0.4,
             "#fde0ef"
            ],
            [
             0.5,
             "#f7f7f7"
            ],
            [
             0.6,
             "#e6f5d0"
            ],
            [
             0.7,
             "#b8e186"
            ],
            [
             0.8,
             "#7fbc41"
            ],
            [
             0.9,
             "#4d9221"
            ],
            [
             1,
             "#276419"
            ]
           ],
           "sequential": [
            [
             0,
             "#0d0887"
            ],
            [
             0.1111111111111111,
             "#46039f"
            ],
            [
             0.2222222222222222,
             "#7201a8"
            ],
            [
             0.3333333333333333,
             "#9c179e"
            ],
            [
             0.4444444444444444,
             "#bd3786"
            ],
            [
             0.5555555555555556,
             "#d8576b"
            ],
            [
             0.6666666666666666,
             "#ed7953"
            ],
            [
             0.7777777777777778,
             "#fb9f3a"
            ],
            [
             0.8888888888888888,
             "#fdca26"
            ],
            [
             1,
             "#f0f921"
            ]
           ],
           "sequentialminus": [
            [
             0,
             "#0d0887"
            ],
            [
             0.1111111111111111,
             "#46039f"
            ],
            [
             0.2222222222222222,
             "#7201a8"
            ],
            [
             0.3333333333333333,
             "#9c179e"
            ],
            [
             0.4444444444444444,
             "#bd3786"
            ],
            [
             0.5555555555555556,
             "#d8576b"
            ],
            [
             0.6666666666666666,
             "#ed7953"
            ],
            [
             0.7777777777777778,
             "#fb9f3a"
            ],
            [
             0.8888888888888888,
             "#fdca26"
            ],
            [
             1,
             "#f0f921"
            ]
           ]
          },
          "colorway": [
           "#636efa",
           "#EF553B",
           "#00cc96",
           "#ab63fa",
           "#FFA15A",
           "#19d3f3",
           "#FF6692",
           "#B6E880",
           "#FF97FF",
           "#FECB52"
          ],
          "font": {
           "color": "#2a3f5f"
          },
          "geo": {
           "bgcolor": "white",
           "lakecolor": "white",
           "landcolor": "#E5ECF6",
           "showlakes": true,
           "showland": true,
           "subunitcolor": "white"
          },
          "hoverlabel": {
           "align": "left"
          },
          "hovermode": "closest",
          "mapbox": {
           "style": "light"
          },
          "paper_bgcolor": "white",
          "plot_bgcolor": "#E5ECF6",
          "polar": {
           "angularaxis": {
            "gridcolor": "white",
            "linecolor": "white",
            "ticks": ""
           },
           "bgcolor": "#E5ECF6",
           "radialaxis": {
            "gridcolor": "white",
            "linecolor": "white",
            "ticks": ""
           }
          },
          "scene": {
           "xaxis": {
            "backgroundcolor": "#E5ECF6",
            "gridcolor": "white",
            "gridwidth": 2,
            "linecolor": "white",
            "showbackground": true,
            "ticks": "",
            "zerolinecolor": "white"
           },
           "yaxis": {
            "backgroundcolor": "#E5ECF6",
            "gridcolor": "white",
            "gridwidth": 2,
            "linecolor": "white",
            "showbackground": true,
            "ticks": "",
            "zerolinecolor": "white"
           },
           "zaxis": {
            "backgroundcolor": "#E5ECF6",
            "gridcolor": "white",
            "gridwidth": 2,
            "linecolor": "white",
            "showbackground": true,
            "ticks": "",
            "zerolinecolor": "white"
           }
          },
          "shapedefaults": {
           "line": {
            "color": "#2a3f5f"
           }
          },
          "ternary": {
           "aaxis": {
            "gridcolor": "white",
            "linecolor": "white",
            "ticks": ""
           },
           "baxis": {
            "gridcolor": "white",
            "linecolor": "white",
            "ticks": ""
           },
           "bgcolor": "#E5ECF6",
           "caxis": {
            "gridcolor": "white",
            "linecolor": "white",
            "ticks": ""
           }
          },
          "title": {
           "x": 0.05
          },
          "xaxis": {
           "automargin": true,
           "gridcolor": "white",
           "linecolor": "white",
           "ticks": "",
           "title": {
            "standoff": 15
           },
           "zerolinecolor": "white",
           "zerolinewidth": 2
          },
          "yaxis": {
           "automargin": true,
           "gridcolor": "white",
           "linecolor": "white",
           "ticks": "",
           "title": {
            "standoff": 15
           },
           "zerolinecolor": "white",
           "zerolinewidth": 2
          }
         }
        },
        "title": {
         "text": "Evolução dos Preços - Modelo: RTX 4080"
        },
        "xaxis": {
         "title": {
          "text": "Data"
         }
        },
        "yaxis": {
         "tickformat": ".2f",
         "tickprefix": "R$ ",
         "title": {
          "text": "Preço"
         }
        }
       }
      }
     },
     "metadata": {},
     "output_type": "display_data"
    },
    {
     "data": {
      "application/vnd.plotly.v1+json": {
       "config": {
        "plotlyServerURL": "https://plot.ly"
       },
       "data": [
        {
         "mode": "lines+markers",
         "name": "placa-de-video-rx-7800-xt-challenger-16g-oc-asrock-amd-radeon-16gb-gddr6-rdna-3-ray-tracing-90-ga4szz-00uanf",
         "type": "scatter",
         "x": [
          "2024-04-25T03:36:00",
          "2024-04-25T08:18:00",
          "2024-04-25T09:19:00",
          "2024-04-25T10:20:00"
         ],
         "y": [
          4117.64,
          4117.64,
          4117.64,
          4117.64
         ]
        },
        {
         "mode": "lines+markers",
         "name": "placa-de-video-rx-7800-xt-phantom-gaming-16g-oc-asrock-amd-radeon-16gb-argb-ray-tracing-90-ga4mzz-00uanf",
         "type": "scatter",
         "x": [
          "2024-04-25T03:36:00",
          "2024-04-25T08:18:00",
          "2024-04-25T09:19:00",
          "2024-04-25T10:20:00"
         ],
         "y": [
          4470.58,
          4470.58,
          4470.58,
          4470.58
         ]
        },
        {
         "mode": "lines+markers",
         "name": "placa-de-video-asus-tuf-gaming-amd-radeon-rx-7800-xt-oc-edition-16gb-gddr6-rgb-ray-tracing-90yv0jj0-m0na00",
         "type": "scatter",
         "x": [
          "2024-04-25T03:36:00",
          "2024-04-25T08:18:00",
          "2024-04-25T09:19:00",
          "2024-04-25T10:20:00"
         ],
         "y": [
          4470.58,
          4470.58,
          4470.58,
          4470.58
         ]
        },
        {
         "mode": "lines+markers",
         "name": "placa-de-video-asus-tuf-gaming-amd-radeon-rx-7800-xt-oc",
         "type": "scatter",
         "x": [
          "2024-04-25T03:36:00",
          "2024-04-25T08:18:00",
          "2024-04-25T09:19:00",
          "2024-04-25T10:20:00"
         ],
         "y": [
          4222.11,
          4222.11,
          4222.11,
          4222.11
         ]
        }
       ],
       "layout": {
        "legend": {
         "font": {
          "size": 10
         },
         "itemwidth": 30,
         "orientation": "v",
         "x": 10,
         "y": 0
        },
        "margin": {
         "b": 150,
         "l": 50,
         "r": 50,
         "t": 80
        },
        "template": {
         "data": {
          "bar": [
           {
            "error_x": {
             "color": "#2a3f5f"
            },
            "error_y": {
             "color": "#2a3f5f"
            },
            "marker": {
             "line": {
              "color": "#E5ECF6",
              "width": 0.5
             },
             "pattern": {
              "fillmode": "overlay",
              "size": 10,
              "solidity": 0.2
             }
            },
            "type": "bar"
           }
          ],
          "barpolar": [
           {
            "marker": {
             "line": {
              "color": "#E5ECF6",
              "width": 0.5
             },
             "pattern": {
              "fillmode": "overlay",
              "size": 10,
              "solidity": 0.2
             }
            },
            "type": "barpolar"
           }
          ],
          "carpet": [
           {
            "aaxis": {
             "endlinecolor": "#2a3f5f",
             "gridcolor": "white",
             "linecolor": "white",
             "minorgridcolor": "white",
             "startlinecolor": "#2a3f5f"
            },
            "baxis": {
             "endlinecolor": "#2a3f5f",
             "gridcolor": "white",
             "linecolor": "white",
             "minorgridcolor": "white",
             "startlinecolor": "#2a3f5f"
            },
            "type": "carpet"
           }
          ],
          "choropleth": [
           {
            "colorbar": {
             "outlinewidth": 0,
             "ticks": ""
            },
            "type": "choropleth"
           }
          ],
          "contour": [
           {
            "colorbar": {
             "outlinewidth": 0,
             "ticks": ""
            },
            "colorscale": [
             [
              0,
              "#0d0887"
             ],
             [
              0.1111111111111111,
              "#46039f"
             ],
             [
              0.2222222222222222,
              "#7201a8"
             ],
             [
              0.3333333333333333,
              "#9c179e"
             ],
             [
              0.4444444444444444,
              "#bd3786"
             ],
             [
              0.5555555555555556,
              "#d8576b"
             ],
             [
              0.6666666666666666,
              "#ed7953"
             ],
             [
              0.7777777777777778,
              "#fb9f3a"
             ],
             [
              0.8888888888888888,
              "#fdca26"
             ],
             [
              1,
              "#f0f921"
             ]
            ],
            "type": "contour"
           }
          ],
          "contourcarpet": [
           {
            "colorbar": {
             "outlinewidth": 0,
             "ticks": ""
            },
            "type": "contourcarpet"
           }
          ],
          "heatmap": [
           {
            "colorbar": {
             "outlinewidth": 0,
             "ticks": ""
            },
            "colorscale": [
             [
              0,
              "#0d0887"
             ],
             [
              0.1111111111111111,
              "#46039f"
             ],
             [
              0.2222222222222222,
              "#7201a8"
             ],
             [
              0.3333333333333333,
              "#9c179e"
             ],
             [
              0.4444444444444444,
              "#bd3786"
             ],
             [
              0.5555555555555556,
              "#d8576b"
             ],
             [
              0.6666666666666666,
              "#ed7953"
             ],
             [
              0.7777777777777778,
              "#fb9f3a"
             ],
             [
              0.8888888888888888,
              "#fdca26"
             ],
             [
              1,
              "#f0f921"
             ]
            ],
            "type": "heatmap"
           }
          ],
          "heatmapgl": [
           {
            "colorbar": {
             "outlinewidth": 0,
             "ticks": ""
            },
            "colorscale": [
             [
              0,
              "#0d0887"
             ],
             [
              0.1111111111111111,
              "#46039f"
             ],
             [
              0.2222222222222222,
              "#7201a8"
             ],
             [
              0.3333333333333333,
              "#9c179e"
             ],
             [
              0.4444444444444444,
              "#bd3786"
             ],
             [
              0.5555555555555556,
              "#d8576b"
             ],
             [
              0.6666666666666666,
              "#ed7953"
             ],
             [
              0.7777777777777778,
              "#fb9f3a"
             ],
             [
              0.8888888888888888,
              "#fdca26"
             ],
             [
              1,
              "#f0f921"
             ]
            ],
            "type": "heatmapgl"
           }
          ],
          "histogram": [
           {
            "marker": {
             "pattern": {
              "fillmode": "overlay",
              "size": 10,
              "solidity": 0.2
             }
            },
            "type": "histogram"
           }
          ],
          "histogram2d": [
           {
            "colorbar": {
             "outlinewidth": 0,
             "ticks": ""
            },
            "colorscale": [
             [
              0,
              "#0d0887"
             ],
             [
              0.1111111111111111,
              "#46039f"
             ],
             [
              0.2222222222222222,
              "#7201a8"
             ],
             [
              0.3333333333333333,
              "#9c179e"
             ],
             [
              0.4444444444444444,
              "#bd3786"
             ],
             [
              0.5555555555555556,
              "#d8576b"
             ],
             [
              0.6666666666666666,
              "#ed7953"
             ],
             [
              0.7777777777777778,
              "#fb9f3a"
             ],
             [
              0.8888888888888888,
              "#fdca26"
             ],
             [
              1,
              "#f0f921"
             ]
            ],
            "type": "histogram2d"
           }
          ],
          "histogram2dcontour": [
           {
            "colorbar": {
             "outlinewidth": 0,
             "ticks": ""
            },
            "colorscale": [
             [
              0,
              "#0d0887"
             ],
             [
              0.1111111111111111,
              "#46039f"
             ],
             [
              0.2222222222222222,
              "#7201a8"
             ],
             [
              0.3333333333333333,
              "#9c179e"
             ],
             [
              0.4444444444444444,
              "#bd3786"
             ],
             [
              0.5555555555555556,
              "#d8576b"
             ],
             [
              0.6666666666666666,
              "#ed7953"
             ],
             [
              0.7777777777777778,
              "#fb9f3a"
             ],
             [
              0.8888888888888888,
              "#fdca26"
             ],
             [
              1,
              "#f0f921"
             ]
            ],
            "type": "histogram2dcontour"
           }
          ],
          "mesh3d": [
           {
            "colorbar": {
             "outlinewidth": 0,
             "ticks": ""
            },
            "type": "mesh3d"
           }
          ],
          "parcoords": [
           {
            "line": {
             "colorbar": {
              "outlinewidth": 0,
              "ticks": ""
             }
            },
            "type": "parcoords"
           }
          ],
          "pie": [
           {
            "automargin": true,
            "type": "pie"
           }
          ],
          "scatter": [
           {
            "fillpattern": {
             "fillmode": "overlay",
             "size": 10,
             "solidity": 0.2
            },
            "type": "scatter"
           }
          ],
          "scatter3d": [
           {
            "line": {
             "colorbar": {
              "outlinewidth": 0,
              "ticks": ""
             }
            },
            "marker": {
             "colorbar": {
              "outlinewidth": 0,
              "ticks": ""
             }
            },
            "type": "scatter3d"
           }
          ],
          "scattercarpet": [
           {
            "marker": {
             "colorbar": {
              "outlinewidth": 0,
              "ticks": ""
             }
            },
            "type": "scattercarpet"
           }
          ],
          "scattergeo": [
           {
            "marker": {
             "colorbar": {
              "outlinewidth": 0,
              "ticks": ""
             }
            },
            "type": "scattergeo"
           }
          ],
          "scattergl": [
           {
            "marker": {
             "colorbar": {
              "outlinewidth": 0,
              "ticks": ""
             }
            },
            "type": "scattergl"
           }
          ],
          "scattermapbox": [
           {
            "marker": {
             "colorbar": {
              "outlinewidth": 0,
              "ticks": ""
             }
            },
            "type": "scattermapbox"
           }
          ],
          "scatterpolar": [
           {
            "marker": {
             "colorbar": {
              "outlinewidth": 0,
              "ticks": ""
             }
            },
            "type": "scatterpolar"
           }
          ],
          "scatterpolargl": [
           {
            "marker": {
             "colorbar": {
              "outlinewidth": 0,
              "ticks": ""
             }
            },
            "type": "scatterpolargl"
           }
          ],
          "scatterternary": [
           {
            "marker": {
             "colorbar": {
              "outlinewidth": 0,
              "ticks": ""
             }
            },
            "type": "scatterternary"
           }
          ],
          "surface": [
           {
            "colorbar": {
             "outlinewidth": 0,
             "ticks": ""
            },
            "colorscale": [
             [
              0,
              "#0d0887"
             ],
             [
              0.1111111111111111,
              "#46039f"
             ],
             [
              0.2222222222222222,
              "#7201a8"
             ],
             [
              0.3333333333333333,
              "#9c179e"
             ],
             [
              0.4444444444444444,
              "#bd3786"
             ],
             [
              0.5555555555555556,
              "#d8576b"
             ],
             [
              0.6666666666666666,
              "#ed7953"
             ],
             [
              0.7777777777777778,
              "#fb9f3a"
             ],
             [
              0.8888888888888888,
              "#fdca26"
             ],
             [
              1,
              "#f0f921"
             ]
            ],
            "type": "surface"
           }
          ],
          "table": [
           {
            "cells": {
             "fill": {
              "color": "#EBF0F8"
             },
             "line": {
              "color": "white"
             }
            },
            "header": {
             "fill": {
              "color": "#C8D4E3"
             },
             "line": {
              "color": "white"
             }
            },
            "type": "table"
           }
          ]
         },
         "layout": {
          "annotationdefaults": {
           "arrowcolor": "#2a3f5f",
           "arrowhead": 0,
           "arrowwidth": 1
          },
          "autotypenumbers": "strict",
          "coloraxis": {
           "colorbar": {
            "outlinewidth": 0,
            "ticks": ""
           }
          },
          "colorscale": {
           "diverging": [
            [
             0,
             "#8e0152"
            ],
            [
             0.1,
             "#c51b7d"
            ],
            [
             0.2,
             "#de77ae"
            ],
            [
             0.3,
             "#f1b6da"
            ],
            [
             0.4,
             "#fde0ef"
            ],
            [
             0.5,
             "#f7f7f7"
            ],
            [
             0.6,
             "#e6f5d0"
            ],
            [
             0.7,
             "#b8e186"
            ],
            [
             0.8,
             "#7fbc41"
            ],
            [
             0.9,
             "#4d9221"
            ],
            [
             1,
             "#276419"
            ]
           ],
           "sequential": [
            [
             0,
             "#0d0887"
            ],
            [
             0.1111111111111111,
             "#46039f"
            ],
            [
             0.2222222222222222,
             "#7201a8"
            ],
            [
             0.3333333333333333,
             "#9c179e"
            ],
            [
             0.4444444444444444,
             "#bd3786"
            ],
            [
             0.5555555555555556,
             "#d8576b"
            ],
            [
             0.6666666666666666,
             "#ed7953"
            ],
            [
             0.7777777777777778,
             "#fb9f3a"
            ],
            [
             0.8888888888888888,
             "#fdca26"
            ],
            [
             1,
             "#f0f921"
            ]
           ],
           "sequentialminus": [
            [
             0,
             "#0d0887"
            ],
            [
             0.1111111111111111,
             "#46039f"
            ],
            [
             0.2222222222222222,
             "#7201a8"
            ],
            [
             0.3333333333333333,
             "#9c179e"
            ],
            [
             0.4444444444444444,
             "#bd3786"
            ],
            [
             0.5555555555555556,
             "#d8576b"
            ],
            [
             0.6666666666666666,
             "#ed7953"
            ],
            [
             0.7777777777777778,
             "#fb9f3a"
            ],
            [
             0.8888888888888888,
             "#fdca26"
            ],
            [
             1,
             "#f0f921"
            ]
           ]
          },
          "colorway": [
           "#636efa",
           "#EF553B",
           "#00cc96",
           "#ab63fa",
           "#FFA15A",
           "#19d3f3",
           "#FF6692",
           "#B6E880",
           "#FF97FF",
           "#FECB52"
          ],
          "font": {
           "color": "#2a3f5f"
          },
          "geo": {
           "bgcolor": "white",
           "lakecolor": "white",
           "landcolor": "#E5ECF6",
           "showlakes": true,
           "showland": true,
           "subunitcolor": "white"
          },
          "hoverlabel": {
           "align": "left"
          },
          "hovermode": "closest",
          "mapbox": {
           "style": "light"
          },
          "paper_bgcolor": "white",
          "plot_bgcolor": "#E5ECF6",
          "polar": {
           "angularaxis": {
            "gridcolor": "white",
            "linecolor": "white",
            "ticks": ""
           },
           "bgcolor": "#E5ECF6",
           "radialaxis": {
            "gridcolor": "white",
            "linecolor": "white",
            "ticks": ""
           }
          },
          "scene": {
           "xaxis": {
            "backgroundcolor": "#E5ECF6",
            "gridcolor": "white",
            "gridwidth": 2,
            "linecolor": "white",
            "showbackground": true,
            "ticks": "",
            "zerolinecolor": "white"
           },
           "yaxis": {
            "backgroundcolor": "#E5ECF6",
            "gridcolor": "white",
            "gridwidth": 2,
            "linecolor": "white",
            "showbackground": true,
            "ticks": "",
            "zerolinecolor": "white"
           },
           "zaxis": {
            "backgroundcolor": "#E5ECF6",
            "gridcolor": "white",
            "gridwidth": 2,
            "linecolor": "white",
            "showbackground": true,
            "ticks": "",
            "zerolinecolor": "white"
           }
          },
          "shapedefaults": {
           "line": {
            "color": "#2a3f5f"
           }
          },
          "ternary": {
           "aaxis": {
            "gridcolor": "white",
            "linecolor": "white",
            "ticks": ""
           },
           "baxis": {
            "gridcolor": "white",
            "linecolor": "white",
            "ticks": ""
           },
           "bgcolor": "#E5ECF6",
           "caxis": {
            "gridcolor": "white",
            "linecolor": "white",
            "ticks": ""
           }
          },
          "title": {
           "x": 0.05
          },
          "xaxis": {
           "automargin": true,
           "gridcolor": "white",
           "linecolor": "white",
           "ticks": "",
           "title": {
            "standoff": 15
           },
           "zerolinecolor": "white",
           "zerolinewidth": 2
          },
          "yaxis": {
           "automargin": true,
           "gridcolor": "white",
           "linecolor": "white",
           "ticks": "",
           "title": {
            "standoff": 15
           },
           "zerolinecolor": "white",
           "zerolinewidth": 2
          }
         }
        },
        "title": {
         "text": "Evolução dos Preços - Modelo: RX 7800 XT"
        },
        "xaxis": {
         "title": {
          "text": "Data"
         }
        },
        "yaxis": {
         "tickformat": ".2f",
         "tickprefix": "R$ ",
         "title": {
          "text": "Preço"
         }
        }
       }
      }
     },
     "metadata": {},
     "output_type": "display_data"
    },
    {
     "data": {
      "application/vnd.plotly.v1+json": {
       "config": {
        "plotlyServerURL": "https://plot.ly"
       },
       "data": [
        {
         "mode": "lines+markers",
         "name": "placa-de-video-rx-7700-xt-fighter-powercolor-amd-radeon-12gb-gddr6-ray-tracing-rx7700xt-12g-f-oc",
         "type": "scatter",
         "x": [
          "2024-04-25T03:36:00",
          "2024-04-25T08:18:00",
          "2024-04-25T09:19:00",
          "2024-04-25T10:20:00"
         ],
         "y": [
          3529.4,
          3529.4,
          3529.4,
          3529.4
         ]
        },
        {
         "mode": "lines+markers",
         "name": "placa-de-video-rx-7700-xt-hellhound-powercolor-amd-radeon-12gb-gddr6-ray-tracing-rx7700xt-12g-l-oc",
         "type": "scatter",
         "x": [
          "2024-04-25T03:36:00",
          "2024-04-25T08:18:00",
          "2024-04-25T09:19:00",
          "2024-04-25T10:20:00"
         ],
         "y": [
          3529.4,
          3529.4,
          3529.4,
          3529.4
         ]
        },
        {
         "mode": "lines+markers",
         "name": "placa-de-video-rx-7700-xt-phantom-gaming-12g-oc-asrock-amd-radeon-12gb-gddr6-ray-tracing-90-ga4lzz-00uanf",
         "type": "scatter",
         "x": [
          "2024-04-25T03:36:00",
          "2024-04-25T08:18:00",
          "2024-04-25T09:19:00",
          "2024-04-25T10:20:00"
         ],
         "y": [
          3647.05,
          3647.05,
          3647.05,
          3647.05
         ]
        },
        {
         "mode": "lines+markers",
         "name": "placa-de-video-rx-7700-xt-gaming-sapphire-pulse-amd-radeon-12gb-gddr6-dual-hdmi-11335-04-20g",
         "type": "scatter",
         "x": [
          "2024-04-25T03:36:00",
          "2024-04-25T08:18:00",
          "2024-04-25T09:19:00",
          "2024-04-25T10:20:00"
         ],
         "y": [
          3529.4,
          3529.4,
          3529.4,
          3529.4
         ]
        },
        {
         "mode": "lines+markers",
         "name": "placa-de-video-rx-7700-xt-steel-legend-12g-oc-asrock-amd-radeon-12gb-gddr6-amd-rdna-3-ray-tracing-90-ga4pzz-00uanf",
         "type": "scatter",
         "x": [
          "2024-04-25T03:36:00",
          "2024-04-25T08:18:00",
          "2024-04-25T09:19:00",
          "2024-04-25T10:20:00"
         ],
         "y": [
          3764.69,
          3764.69,
          3764.69,
          3764.69
         ]
        },
        {
         "mode": "lines+markers",
         "name": "placa-de-video-rx-7700-xt-challenger-12g-oc-asrock-amd-radeon-12gb-gddr6-90-ga4qzz-00uanf",
         "type": "scatter",
         "x": [
          "2024-04-25T03:36:00",
          "2024-04-25T08:18:00",
          "2024-04-25T09:19:00",
          "2024-04-25T10:20:00"
         ],
         "y": [
          3647.05,
          3647.05,
          3647.05,
          3647.05
         ]
        }
       ],
       "layout": {
        "legend": {
         "font": {
          "size": 10
         },
         "itemwidth": 30,
         "orientation": "v",
         "x": 10,
         "y": 0
        },
        "margin": {
         "b": 150,
         "l": 50,
         "r": 50,
         "t": 80
        },
        "template": {
         "data": {
          "bar": [
           {
            "error_x": {
             "color": "#2a3f5f"
            },
            "error_y": {
             "color": "#2a3f5f"
            },
            "marker": {
             "line": {
              "color": "#E5ECF6",
              "width": 0.5
             },
             "pattern": {
              "fillmode": "overlay",
              "size": 10,
              "solidity": 0.2
             }
            },
            "type": "bar"
           }
          ],
          "barpolar": [
           {
            "marker": {
             "line": {
              "color": "#E5ECF6",
              "width": 0.5
             },
             "pattern": {
              "fillmode": "overlay",
              "size": 10,
              "solidity": 0.2
             }
            },
            "type": "barpolar"
           }
          ],
          "carpet": [
           {
            "aaxis": {
             "endlinecolor": "#2a3f5f",
             "gridcolor": "white",
             "linecolor": "white",
             "minorgridcolor": "white",
             "startlinecolor": "#2a3f5f"
            },
            "baxis": {
             "endlinecolor": "#2a3f5f",
             "gridcolor": "white",
             "linecolor": "white",
             "minorgridcolor": "white",
             "startlinecolor": "#2a3f5f"
            },
            "type": "carpet"
           }
          ],
          "choropleth": [
           {
            "colorbar": {
             "outlinewidth": 0,
             "ticks": ""
            },
            "type": "choropleth"
           }
          ],
          "contour": [
           {
            "colorbar": {
             "outlinewidth": 0,
             "ticks": ""
            },
            "colorscale": [
             [
              0,
              "#0d0887"
             ],
             [
              0.1111111111111111,
              "#46039f"
             ],
             [
              0.2222222222222222,
              "#7201a8"
             ],
             [
              0.3333333333333333,
              "#9c179e"
             ],
             [
              0.4444444444444444,
              "#bd3786"
             ],
             [
              0.5555555555555556,
              "#d8576b"
             ],
             [
              0.6666666666666666,
              "#ed7953"
             ],
             [
              0.7777777777777778,
              "#fb9f3a"
             ],
             [
              0.8888888888888888,
              "#fdca26"
             ],
             [
              1,
              "#f0f921"
             ]
            ],
            "type": "contour"
           }
          ],
          "contourcarpet": [
           {
            "colorbar": {
             "outlinewidth": 0,
             "ticks": ""
            },
            "type": "contourcarpet"
           }
          ],
          "heatmap": [
           {
            "colorbar": {
             "outlinewidth": 0,
             "ticks": ""
            },
            "colorscale": [
             [
              0,
              "#0d0887"
             ],
             [
              0.1111111111111111,
              "#46039f"
             ],
             [
              0.2222222222222222,
              "#7201a8"
             ],
             [
              0.3333333333333333,
              "#9c179e"
             ],
             [
              0.4444444444444444,
              "#bd3786"
             ],
             [
              0.5555555555555556,
              "#d8576b"
             ],
             [
              0.6666666666666666,
              "#ed7953"
             ],
             [
              0.7777777777777778,
              "#fb9f3a"
             ],
             [
              0.8888888888888888,
              "#fdca26"
             ],
             [
              1,
              "#f0f921"
             ]
            ],
            "type": "heatmap"
           }
          ],
          "heatmapgl": [
           {
            "colorbar": {
             "outlinewidth": 0,
             "ticks": ""
            },
            "colorscale": [
             [
              0,
              "#0d0887"
             ],
             [
              0.1111111111111111,
              "#46039f"
             ],
             [
              0.2222222222222222,
              "#7201a8"
             ],
             [
              0.3333333333333333,
              "#9c179e"
             ],
             [
              0.4444444444444444,
              "#bd3786"
             ],
             [
              0.5555555555555556,
              "#d8576b"
             ],
             [
              0.6666666666666666,
              "#ed7953"
             ],
             [
              0.7777777777777778,
              "#fb9f3a"
             ],
             [
              0.8888888888888888,
              "#fdca26"
             ],
             [
              1,
              "#f0f921"
             ]
            ],
            "type": "heatmapgl"
           }
          ],
          "histogram": [
           {
            "marker": {
             "pattern": {
              "fillmode": "overlay",
              "size": 10,
              "solidity": 0.2
             }
            },
            "type": "histogram"
           }
          ],
          "histogram2d": [
           {
            "colorbar": {
             "outlinewidth": 0,
             "ticks": ""
            },
            "colorscale": [
             [
              0,
              "#0d0887"
             ],
             [
              0.1111111111111111,
              "#46039f"
             ],
             [
              0.2222222222222222,
              "#7201a8"
             ],
             [
              0.3333333333333333,
              "#9c179e"
             ],
             [
              0.4444444444444444,
              "#bd3786"
             ],
             [
              0.5555555555555556,
              "#d8576b"
             ],
             [
              0.6666666666666666,
              "#ed7953"
             ],
             [
              0.7777777777777778,
              "#fb9f3a"
             ],
             [
              0.8888888888888888,
              "#fdca26"
             ],
             [
              1,
              "#f0f921"
             ]
            ],
            "type": "histogram2d"
           }
          ],
          "histogram2dcontour": [
           {
            "colorbar": {
             "outlinewidth": 0,
             "ticks": ""
            },
            "colorscale": [
             [
              0,
              "#0d0887"
             ],
             [
              0.1111111111111111,
              "#46039f"
             ],
             [
              0.2222222222222222,
              "#7201a8"
             ],
             [
              0.3333333333333333,
              "#9c179e"
             ],
             [
              0.4444444444444444,
              "#bd3786"
             ],
             [
              0.5555555555555556,
              "#d8576b"
             ],
             [
              0.6666666666666666,
              "#ed7953"
             ],
             [
              0.7777777777777778,
              "#fb9f3a"
             ],
             [
              0.8888888888888888,
              "#fdca26"
             ],
             [
              1,
              "#f0f921"
             ]
            ],
            "type": "histogram2dcontour"
           }
          ],
          "mesh3d": [
           {
            "colorbar": {
             "outlinewidth": 0,
             "ticks": ""
            },
            "type": "mesh3d"
           }
          ],
          "parcoords": [
           {
            "line": {
             "colorbar": {
              "outlinewidth": 0,
              "ticks": ""
             }
            },
            "type": "parcoords"
           }
          ],
          "pie": [
           {
            "automargin": true,
            "type": "pie"
           }
          ],
          "scatter": [
           {
            "fillpattern": {
             "fillmode": "overlay",
             "size": 10,
             "solidity": 0.2
            },
            "type": "scatter"
           }
          ],
          "scatter3d": [
           {
            "line": {
             "colorbar": {
              "outlinewidth": 0,
              "ticks": ""
             }
            },
            "marker": {
             "colorbar": {
              "outlinewidth": 0,
              "ticks": ""
             }
            },
            "type": "scatter3d"
           }
          ],
          "scattercarpet": [
           {
            "marker": {
             "colorbar": {
              "outlinewidth": 0,
              "ticks": ""
             }
            },
            "type": "scattercarpet"
           }
          ],
          "scattergeo": [
           {
            "marker": {
             "colorbar": {
              "outlinewidth": 0,
              "ticks": ""
             }
            },
            "type": "scattergeo"
           }
          ],
          "scattergl": [
           {
            "marker": {
             "colorbar": {
              "outlinewidth": 0,
              "ticks": ""
             }
            },
            "type": "scattergl"
           }
          ],
          "scattermapbox": [
           {
            "marker": {
             "colorbar": {
              "outlinewidth": 0,
              "ticks": ""
             }
            },
            "type": "scattermapbox"
           }
          ],
          "scatterpolar": [
           {
            "marker": {
             "colorbar": {
              "outlinewidth": 0,
              "ticks": ""
             }
            },
            "type": "scatterpolar"
           }
          ],
          "scatterpolargl": [
           {
            "marker": {
             "colorbar": {
              "outlinewidth": 0,
              "ticks": ""
             }
            },
            "type": "scatterpolargl"
           }
          ],
          "scatterternary": [
           {
            "marker": {
             "colorbar": {
              "outlinewidth": 0,
              "ticks": ""
             }
            },
            "type": "scatterternary"
           }
          ],
          "surface": [
           {
            "colorbar": {
             "outlinewidth": 0,
             "ticks": ""
            },
            "colorscale": [
             [
              0,
              "#0d0887"
             ],
             [
              0.1111111111111111,
              "#46039f"
             ],
             [
              0.2222222222222222,
              "#7201a8"
             ],
             [
              0.3333333333333333,
              "#9c179e"
             ],
             [
              0.4444444444444444,
              "#bd3786"
             ],
             [
              0.5555555555555556,
              "#d8576b"
             ],
             [
              0.6666666666666666,
              "#ed7953"
             ],
             [
              0.7777777777777778,
              "#fb9f3a"
             ],
             [
              0.8888888888888888,
              "#fdca26"
             ],
             [
              1,
              "#f0f921"
             ]
            ],
            "type": "surface"
           }
          ],
          "table": [
           {
            "cells": {
             "fill": {
              "color": "#EBF0F8"
             },
             "line": {
              "color": "white"
             }
            },
            "header": {
             "fill": {
              "color": "#C8D4E3"
             },
             "line": {
              "color": "white"
             }
            },
            "type": "table"
           }
          ]
         },
         "layout": {
          "annotationdefaults": {
           "arrowcolor": "#2a3f5f",
           "arrowhead": 0,
           "arrowwidth": 1
          },
          "autotypenumbers": "strict",
          "coloraxis": {
           "colorbar": {
            "outlinewidth": 0,
            "ticks": ""
           }
          },
          "colorscale": {
           "diverging": [
            [
             0,
             "#8e0152"
            ],
            [
             0.1,
             "#c51b7d"
            ],
            [
             0.2,
             "#de77ae"
            ],
            [
             0.3,
             "#f1b6da"
            ],
            [
             0.4,
             "#fde0ef"
            ],
            [
             0.5,
             "#f7f7f7"
            ],
            [
             0.6,
             "#e6f5d0"
            ],
            [
             0.7,
             "#b8e186"
            ],
            [
             0.8,
             "#7fbc41"
            ],
            [
             0.9,
             "#4d9221"
            ],
            [
             1,
             "#276419"
            ]
           ],
           "sequential": [
            [
             0,
             "#0d0887"
            ],
            [
             0.1111111111111111,
             "#46039f"
            ],
            [
             0.2222222222222222,
             "#7201a8"
            ],
            [
             0.3333333333333333,
             "#9c179e"
            ],
            [
             0.4444444444444444,
             "#bd3786"
            ],
            [
             0.5555555555555556,
             "#d8576b"
            ],
            [
             0.6666666666666666,
             "#ed7953"
            ],
            [
             0.7777777777777778,
             "#fb9f3a"
            ],
            [
             0.8888888888888888,
             "#fdca26"
            ],
            [
             1,
             "#f0f921"
            ]
           ],
           "sequentialminus": [
            [
             0,
             "#0d0887"
            ],
            [
             0.1111111111111111,
             "#46039f"
            ],
            [
             0.2222222222222222,
             "#7201a8"
            ],
            [
             0.3333333333333333,
             "#9c179e"
            ],
            [
             0.4444444444444444,
             "#bd3786"
            ],
            [
             0.5555555555555556,
             "#d8576b"
            ],
            [
             0.6666666666666666,
             "#ed7953"
            ],
            [
             0.7777777777777778,
             "#fb9f3a"
            ],
            [
             0.8888888888888888,
             "#fdca26"
            ],
            [
             1,
             "#f0f921"
            ]
           ]
          },
          "colorway": [
           "#636efa",
           "#EF553B",
           "#00cc96",
           "#ab63fa",
           "#FFA15A",
           "#19d3f3",
           "#FF6692",
           "#B6E880",
           "#FF97FF",
           "#FECB52"
          ],
          "font": {
           "color": "#2a3f5f"
          },
          "geo": {
           "bgcolor": "white",
           "lakecolor": "white",
           "landcolor": "#E5ECF6",
           "showlakes": true,
           "showland": true,
           "subunitcolor": "white"
          },
          "hoverlabel": {
           "align": "left"
          },
          "hovermode": "closest",
          "mapbox": {
           "style": "light"
          },
          "paper_bgcolor": "white",
          "plot_bgcolor": "#E5ECF6",
          "polar": {
           "angularaxis": {
            "gridcolor": "white",
            "linecolor": "white",
            "ticks": ""
           },
           "bgcolor": "#E5ECF6",
           "radialaxis": {
            "gridcolor": "white",
            "linecolor": "white",
            "ticks": ""
           }
          },
          "scene": {
           "xaxis": {
            "backgroundcolor": "#E5ECF6",
            "gridcolor": "white",
            "gridwidth": 2,
            "linecolor": "white",
            "showbackground": true,
            "ticks": "",
            "zerolinecolor": "white"
           },
           "yaxis": {
            "backgroundcolor": "#E5ECF6",
            "gridcolor": "white",
            "gridwidth": 2,
            "linecolor": "white",
            "showbackground": true,
            "ticks": "",
            "zerolinecolor": "white"
           },
           "zaxis": {
            "backgroundcolor": "#E5ECF6",
            "gridcolor": "white",
            "gridwidth": 2,
            "linecolor": "white",
            "showbackground": true,
            "ticks": "",
            "zerolinecolor": "white"
           }
          },
          "shapedefaults": {
           "line": {
            "color": "#2a3f5f"
           }
          },
          "ternary": {
           "aaxis": {
            "gridcolor": "white",
            "linecolor": "white",
            "ticks": ""
           },
           "baxis": {
            "gridcolor": "white",
            "linecolor": "white",
            "ticks": ""
           },
           "bgcolor": "#E5ECF6",
           "caxis": {
            "gridcolor": "white",
            "linecolor": "white",
            "ticks": ""
           }
          },
          "title": {
           "x": 0.05
          },
          "xaxis": {
           "automargin": true,
           "gridcolor": "white",
           "linecolor": "white",
           "ticks": "",
           "title": {
            "standoff": 15
           },
           "zerolinecolor": "white",
           "zerolinewidth": 2
          },
          "yaxis": {
           "automargin": true,
           "gridcolor": "white",
           "linecolor": "white",
           "ticks": "",
           "title": {
            "standoff": 15
           },
           "zerolinecolor": "white",
           "zerolinewidth": 2
          }
         }
        },
        "title": {
         "text": "Evolução dos Preços - Modelo: RX 7700 XT"
        },
        "xaxis": {
         "title": {
          "text": "Data"
         }
        },
        "yaxis": {
         "tickformat": ".2f",
         "tickprefix": "R$ ",
         "title": {
          "text": "Preço"
         }
        }
       }
      }
     },
     "metadata": {},
     "output_type": "display_data"
    },
    {
     "data": {
      "application/vnd.plotly.v1+json": {
       "config": {
        "plotlyServerURL": "https://plot.ly"
       },
       "data": [
        {
         "mode": "lines+markers",
         "name": "placa-de-video-rx-7600-xt-amd-steel-legend-16g-oc-16-gb-gddr6-rx7600xt-sl-16go",
         "type": "scatter",
         "x": [
          "2024-04-25T03:37:00",
          "2024-04-25T08:18:00",
          "2024-04-25T09:19:00",
          "2024-04-25T10:21:00"
         ],
         "y": [
          2941.16,
          2941.16,
          2941.16,
          2941.16
         ]
        },
        {
         "mode": "lines+markers",
         "name": "placa-de-video-powercolor-amd-radeon-rx-7600-xt-fighter-16gb-gddr6-ray-tracing-freesync-rx7600xt-16g-f",
         "type": "scatter",
         "x": [
          "2024-04-25T03:37:00",
          "2024-04-25T08:18:00",
          "2024-04-25T09:19:00",
          "2024-04-25T10:21:00"
         ],
         "y": [
          2705.87,
          2705.87,
          2705.87,
          2705.87
         ]
        },
        {
         "mode": "lines+markers",
         "name": "placa-de-video-radeon-rx-7600-xt-hellhound-amd-16gb-gddr6-rx7600xt-16g-l-oc",
         "type": "scatter",
         "x": [
          "2024-04-25T03:37:00",
          "2024-04-25T08:18:00",
          "2024-04-25T09:19:00",
          "2024-04-25T10:21:00"
         ],
         "y": [
          2941.16,
          2941.16,
          2941.16,
          2941.16
         ]
        },
        {
         "mode": "lines+markers",
         "name": "placa-de-video-rx-7600-xt-asus-amd-radeon-dual-o16g-16gb-gddr6-90yv0k21-m0na00",
         "type": "scatter",
         "x": [
          "2024-04-25T03:37:00",
          "2024-04-25T08:18:00",
          "2024-04-25T09:19:00",
          "2024-04-25T10:21:00"
         ],
         "y": [
          2599.99,
          2599.99,
          2599.99,
          2599.99
         ]
        },
        {
         "mode": "lines+markers",
         "name": "placa-de-video-rx-7600-xt-asus-amd-radeon-tuf-o16g-gaming-16gb-gddr6-90yv0k20-m0na00",
         "type": "scatter",
         "x": [
          "2024-04-25T03:37:00",
          "2024-04-25T08:18:00",
          "2024-04-25T09:19:00",
          "2024-04-25T10:21:00"
         ],
         "y": [
          2799.99,
          2799.99,
          2799.99,
          2799.99
         ]
        }
       ],
       "layout": {
        "legend": {
         "font": {
          "size": 10
         },
         "itemwidth": 30,
         "orientation": "v",
         "x": 10,
         "y": 0
        },
        "margin": {
         "b": 150,
         "l": 50,
         "r": 50,
         "t": 80
        },
        "template": {
         "data": {
          "bar": [
           {
            "error_x": {
             "color": "#2a3f5f"
            },
            "error_y": {
             "color": "#2a3f5f"
            },
            "marker": {
             "line": {
              "color": "#E5ECF6",
              "width": 0.5
             },
             "pattern": {
              "fillmode": "overlay",
              "size": 10,
              "solidity": 0.2
             }
            },
            "type": "bar"
           }
          ],
          "barpolar": [
           {
            "marker": {
             "line": {
              "color": "#E5ECF6",
              "width": 0.5
             },
             "pattern": {
              "fillmode": "overlay",
              "size": 10,
              "solidity": 0.2
             }
            },
            "type": "barpolar"
           }
          ],
          "carpet": [
           {
            "aaxis": {
             "endlinecolor": "#2a3f5f",
             "gridcolor": "white",
             "linecolor": "white",
             "minorgridcolor": "white",
             "startlinecolor": "#2a3f5f"
            },
            "baxis": {
             "endlinecolor": "#2a3f5f",
             "gridcolor": "white",
             "linecolor": "white",
             "minorgridcolor": "white",
             "startlinecolor": "#2a3f5f"
            },
            "type": "carpet"
           }
          ],
          "choropleth": [
           {
            "colorbar": {
             "outlinewidth": 0,
             "ticks": ""
            },
            "type": "choropleth"
           }
          ],
          "contour": [
           {
            "colorbar": {
             "outlinewidth": 0,
             "ticks": ""
            },
            "colorscale": [
             [
              0,
              "#0d0887"
             ],
             [
              0.1111111111111111,
              "#46039f"
             ],
             [
              0.2222222222222222,
              "#7201a8"
             ],
             [
              0.3333333333333333,
              "#9c179e"
             ],
             [
              0.4444444444444444,
              "#bd3786"
             ],
             [
              0.5555555555555556,
              "#d8576b"
             ],
             [
              0.6666666666666666,
              "#ed7953"
             ],
             [
              0.7777777777777778,
              "#fb9f3a"
             ],
             [
              0.8888888888888888,
              "#fdca26"
             ],
             [
              1,
              "#f0f921"
             ]
            ],
            "type": "contour"
           }
          ],
          "contourcarpet": [
           {
            "colorbar": {
             "outlinewidth": 0,
             "ticks": ""
            },
            "type": "contourcarpet"
           }
          ],
          "heatmap": [
           {
            "colorbar": {
             "outlinewidth": 0,
             "ticks": ""
            },
            "colorscale": [
             [
              0,
              "#0d0887"
             ],
             [
              0.1111111111111111,
              "#46039f"
             ],
             [
              0.2222222222222222,
              "#7201a8"
             ],
             [
              0.3333333333333333,
              "#9c179e"
             ],
             [
              0.4444444444444444,
              "#bd3786"
             ],
             [
              0.5555555555555556,
              "#d8576b"
             ],
             [
              0.6666666666666666,
              "#ed7953"
             ],
             [
              0.7777777777777778,
              "#fb9f3a"
             ],
             [
              0.8888888888888888,
              "#fdca26"
             ],
             [
              1,
              "#f0f921"
             ]
            ],
            "type": "heatmap"
           }
          ],
          "heatmapgl": [
           {
            "colorbar": {
             "outlinewidth": 0,
             "ticks": ""
            },
            "colorscale": [
             [
              0,
              "#0d0887"
             ],
             [
              0.1111111111111111,
              "#46039f"
             ],
             [
              0.2222222222222222,
              "#7201a8"
             ],
             [
              0.3333333333333333,
              "#9c179e"
             ],
             [
              0.4444444444444444,
              "#bd3786"
             ],
             [
              0.5555555555555556,
              "#d8576b"
             ],
             [
              0.6666666666666666,
              "#ed7953"
             ],
             [
              0.7777777777777778,
              "#fb9f3a"
             ],
             [
              0.8888888888888888,
              "#fdca26"
             ],
             [
              1,
              "#f0f921"
             ]
            ],
            "type": "heatmapgl"
           }
          ],
          "histogram": [
           {
            "marker": {
             "pattern": {
              "fillmode": "overlay",
              "size": 10,
              "solidity": 0.2
             }
            },
            "type": "histogram"
           }
          ],
          "histogram2d": [
           {
            "colorbar": {
             "outlinewidth": 0,
             "ticks": ""
            },
            "colorscale": [
             [
              0,
              "#0d0887"
             ],
             [
              0.1111111111111111,
              "#46039f"
             ],
             [
              0.2222222222222222,
              "#7201a8"
             ],
             [
              0.3333333333333333,
              "#9c179e"
             ],
             [
              0.4444444444444444,
              "#bd3786"
             ],
             [
              0.5555555555555556,
              "#d8576b"
             ],
             [
              0.6666666666666666,
              "#ed7953"
             ],
             [
              0.7777777777777778,
              "#fb9f3a"
             ],
             [
              0.8888888888888888,
              "#fdca26"
             ],
             [
              1,
              "#f0f921"
             ]
            ],
            "type": "histogram2d"
           }
          ],
          "histogram2dcontour": [
           {
            "colorbar": {
             "outlinewidth": 0,
             "ticks": ""
            },
            "colorscale": [
             [
              0,
              "#0d0887"
             ],
             [
              0.1111111111111111,
              "#46039f"
             ],
             [
              0.2222222222222222,
              "#7201a8"
             ],
             [
              0.3333333333333333,
              "#9c179e"
             ],
             [
              0.4444444444444444,
              "#bd3786"
             ],
             [
              0.5555555555555556,
              "#d8576b"
             ],
             [
              0.6666666666666666,
              "#ed7953"
             ],
             [
              0.7777777777777778,
              "#fb9f3a"
             ],
             [
              0.8888888888888888,
              "#fdca26"
             ],
             [
              1,
              "#f0f921"
             ]
            ],
            "type": "histogram2dcontour"
           }
          ],
          "mesh3d": [
           {
            "colorbar": {
             "outlinewidth": 0,
             "ticks": ""
            },
            "type": "mesh3d"
           }
          ],
          "parcoords": [
           {
            "line": {
             "colorbar": {
              "outlinewidth": 0,
              "ticks": ""
             }
            },
            "type": "parcoords"
           }
          ],
          "pie": [
           {
            "automargin": true,
            "type": "pie"
           }
          ],
          "scatter": [
           {
            "fillpattern": {
             "fillmode": "overlay",
             "size": 10,
             "solidity": 0.2
            },
            "type": "scatter"
           }
          ],
          "scatter3d": [
           {
            "line": {
             "colorbar": {
              "outlinewidth": 0,
              "ticks": ""
             }
            },
            "marker": {
             "colorbar": {
              "outlinewidth": 0,
              "ticks": ""
             }
            },
            "type": "scatter3d"
           }
          ],
          "scattercarpet": [
           {
            "marker": {
             "colorbar": {
              "outlinewidth": 0,
              "ticks": ""
             }
            },
            "type": "scattercarpet"
           }
          ],
          "scattergeo": [
           {
            "marker": {
             "colorbar": {
              "outlinewidth": 0,
              "ticks": ""
             }
            },
            "type": "scattergeo"
           }
          ],
          "scattergl": [
           {
            "marker": {
             "colorbar": {
              "outlinewidth": 0,
              "ticks": ""
             }
            },
            "type": "scattergl"
           }
          ],
          "scattermapbox": [
           {
            "marker": {
             "colorbar": {
              "outlinewidth": 0,
              "ticks": ""
             }
            },
            "type": "scattermapbox"
           }
          ],
          "scatterpolar": [
           {
            "marker": {
             "colorbar": {
              "outlinewidth": 0,
              "ticks": ""
             }
            },
            "type": "scatterpolar"
           }
          ],
          "scatterpolargl": [
           {
            "marker": {
             "colorbar": {
              "outlinewidth": 0,
              "ticks": ""
             }
            },
            "type": "scatterpolargl"
           }
          ],
          "scatterternary": [
           {
            "marker": {
             "colorbar": {
              "outlinewidth": 0,
              "ticks": ""
             }
            },
            "type": "scatterternary"
           }
          ],
          "surface": [
           {
            "colorbar": {
             "outlinewidth": 0,
             "ticks": ""
            },
            "colorscale": [
             [
              0,
              "#0d0887"
             ],
             [
              0.1111111111111111,
              "#46039f"
             ],
             [
              0.2222222222222222,
              "#7201a8"
             ],
             [
              0.3333333333333333,
              "#9c179e"
             ],
             [
              0.4444444444444444,
              "#bd3786"
             ],
             [
              0.5555555555555556,
              "#d8576b"
             ],
             [
              0.6666666666666666,
              "#ed7953"
             ],
             [
              0.7777777777777778,
              "#fb9f3a"
             ],
             [
              0.8888888888888888,
              "#fdca26"
             ],
             [
              1,
              "#f0f921"
             ]
            ],
            "type": "surface"
           }
          ],
          "table": [
           {
            "cells": {
             "fill": {
              "color": "#EBF0F8"
             },
             "line": {
              "color": "white"
             }
            },
            "header": {
             "fill": {
              "color": "#C8D4E3"
             },
             "line": {
              "color": "white"
             }
            },
            "type": "table"
           }
          ]
         },
         "layout": {
          "annotationdefaults": {
           "arrowcolor": "#2a3f5f",
           "arrowhead": 0,
           "arrowwidth": 1
          },
          "autotypenumbers": "strict",
          "coloraxis": {
           "colorbar": {
            "outlinewidth": 0,
            "ticks": ""
           }
          },
          "colorscale": {
           "diverging": [
            [
             0,
             "#8e0152"
            ],
            [
             0.1,
             "#c51b7d"
            ],
            [
             0.2,
             "#de77ae"
            ],
            [
             0.3,
             "#f1b6da"
            ],
            [
             0.4,
             "#fde0ef"
            ],
            [
             0.5,
             "#f7f7f7"
            ],
            [
             0.6,
             "#e6f5d0"
            ],
            [
             0.7,
             "#b8e186"
            ],
            [
             0.8,
             "#7fbc41"
            ],
            [
             0.9,
             "#4d9221"
            ],
            [
             1,
             "#276419"
            ]
           ],
           "sequential": [
            [
             0,
             "#0d0887"
            ],
            [
             0.1111111111111111,
             "#46039f"
            ],
            [
             0.2222222222222222,
             "#7201a8"
            ],
            [
             0.3333333333333333,
             "#9c179e"
            ],
            [
             0.4444444444444444,
             "#bd3786"
            ],
            [
             0.5555555555555556,
             "#d8576b"
            ],
            [
             0.6666666666666666,
             "#ed7953"
            ],
            [
             0.7777777777777778,
             "#fb9f3a"
            ],
            [
             0.8888888888888888,
             "#fdca26"
            ],
            [
             1,
             "#f0f921"
            ]
           ],
           "sequentialminus": [
            [
             0,
             "#0d0887"
            ],
            [
             0.1111111111111111,
             "#46039f"
            ],
            [
             0.2222222222222222,
             "#7201a8"
            ],
            [
             0.3333333333333333,
             "#9c179e"
            ],
            [
             0.4444444444444444,
             "#bd3786"
            ],
            [
             0.5555555555555556,
             "#d8576b"
            ],
            [
             0.6666666666666666,
             "#ed7953"
            ],
            [
             0.7777777777777778,
             "#fb9f3a"
            ],
            [
             0.8888888888888888,
             "#fdca26"
            ],
            [
             1,
             "#f0f921"
            ]
           ]
          },
          "colorway": [
           "#636efa",
           "#EF553B",
           "#00cc96",
           "#ab63fa",
           "#FFA15A",
           "#19d3f3",
           "#FF6692",
           "#B6E880",
           "#FF97FF",
           "#FECB52"
          ],
          "font": {
           "color": "#2a3f5f"
          },
          "geo": {
           "bgcolor": "white",
           "lakecolor": "white",
           "landcolor": "#E5ECF6",
           "showlakes": true,
           "showland": true,
           "subunitcolor": "white"
          },
          "hoverlabel": {
           "align": "left"
          },
          "hovermode": "closest",
          "mapbox": {
           "style": "light"
          },
          "paper_bgcolor": "white",
          "plot_bgcolor": "#E5ECF6",
          "polar": {
           "angularaxis": {
            "gridcolor": "white",
            "linecolor": "white",
            "ticks": ""
           },
           "bgcolor": "#E5ECF6",
           "radialaxis": {
            "gridcolor": "white",
            "linecolor": "white",
            "ticks": ""
           }
          },
          "scene": {
           "xaxis": {
            "backgroundcolor": "#E5ECF6",
            "gridcolor": "white",
            "gridwidth": 2,
            "linecolor": "white",
            "showbackground": true,
            "ticks": "",
            "zerolinecolor": "white"
           },
           "yaxis": {
            "backgroundcolor": "#E5ECF6",
            "gridcolor": "white",
            "gridwidth": 2,
            "linecolor": "white",
            "showbackground": true,
            "ticks": "",
            "zerolinecolor": "white"
           },
           "zaxis": {
            "backgroundcolor": "#E5ECF6",
            "gridcolor": "white",
            "gridwidth": 2,
            "linecolor": "white",
            "showbackground": true,
            "ticks": "",
            "zerolinecolor": "white"
           }
          },
          "shapedefaults": {
           "line": {
            "color": "#2a3f5f"
           }
          },
          "ternary": {
           "aaxis": {
            "gridcolor": "white",
            "linecolor": "white",
            "ticks": ""
           },
           "baxis": {
            "gridcolor": "white",
            "linecolor": "white",
            "ticks": ""
           },
           "bgcolor": "#E5ECF6",
           "caxis": {
            "gridcolor": "white",
            "linecolor": "white",
            "ticks": ""
           }
          },
          "title": {
           "x": 0.05
          },
          "xaxis": {
           "automargin": true,
           "gridcolor": "white",
           "linecolor": "white",
           "ticks": "",
           "title": {
            "standoff": 15
           },
           "zerolinecolor": "white",
           "zerolinewidth": 2
          },
          "yaxis": {
           "automargin": true,
           "gridcolor": "white",
           "linecolor": "white",
           "ticks": "",
           "title": {
            "standoff": 15
           },
           "zerolinecolor": "white",
           "zerolinewidth": 2
          }
         }
        },
        "title": {
         "text": "Evolução dos Preços - Modelo: RX 7600 XT"
        },
        "xaxis": {
         "title": {
          "text": "Data"
         }
        },
        "yaxis": {
         "tickformat": ".2f",
         "tickprefix": "R$ ",
         "title": {
          "text": "Preço"
         }
        }
       }
      }
     },
     "metadata": {},
     "output_type": "display_data"
    },
    {
     "data": {
      "application/vnd.plotly.v1+json": {
       "config": {
        "plotlyServerURL": "https://plot.ly"
       },
       "data": [
        {
         "mode": "lines+markers",
         "name": "placa-de-video-rtx-4060-ti-ventus-3x-8g-oc-msi-nvidia-geforce-8-gb-gddr6-dlss-ray-tracing",
         "type": "scatter",
         "x": [
          "2024-04-25T08:17:00",
          "2024-04-25T09:18:00",
          "2024-04-25T10:20:00"
         ],
         "y": [
          3398.68,
          3398.68,
          3398.68
         ]
        },
        {
         "mode": "lines+markers",
         "name": "placa-de-video-rtx-4060-ti-oc-edition-asus-tuf-gaming-nvidia-geforce-8-gb-gddr6-argb-dlss-tuf-rtx4060ti-o8g-gaming",
         "type": "scatter",
         "x": [
          "2024-04-25T08:17:00",
          "2024-04-25T09:18:00",
          "2024-04-25T10:20:00"
         ],
         "y": [
          3444.43,
          3444.43,
          3444.43
         ]
        },
        {
         "mode": "lines+markers",
         "name": "placa-de-video-rtx-4060-ti-click-oc-galax-nvidia-geforce-8-gb-gddr6-dlss-ray-tracing-46isl8md8coc",
         "type": "scatter",
         "x": [
          "2024-04-25T08:17:00",
          "2024-04-25T09:18:00",
          "2024-04-25T10:20:00"
         ],
         "y": [
          2941.16,
          2941.16,
          2941.16
         ]
        },
        {
         "mode": "lines+markers",
         "name": "placa-de-video-rtx-4060-ti-eagle-oc-gigabyte-nvidia-geforce-8-gb-gddr6-dlss-ray-tracing-gv-n406teagle-oc-8gd-g10",
         "type": "scatter",
         "x": [
          "2024-04-25T08:17:00",
          "2024-04-25T09:18:00",
          "2024-04-25T10:20:00"
         ],
         "y": [
          3111.1,
          3111.1,
          3111.1
         ]
        },
        {
         "mode": "lines+markers",
         "name": "placa-de-video-rtx-4060-ti-xlr8-gaming-verto-epic-x-pny-nvidia-geforce-8gb-gddr6-argb-dlss-ray-tracing-g-sync-vcg4060t8tfxxpb1",
         "type": "scatter",
         "x": [
          "2024-04-25T08:17:00",
          "2024-04-25T09:18:00",
          "2024-04-25T10:20:00"
         ],
         "y": [
          2941.16,
          2941.16,
          2941.16
         ]
        },
        {
         "mode": "lines+markers",
         "name": "placa-de-video-rtx-4060-ti-oc-edition-asus-nvidia-geforce-8-gb-gddr6-dlss-ray-tracing-dual-rtx4060ti-o8g",
         "type": "scatter",
         "x": [
          "2024-04-25T08:17:00",
          "2024-04-25T09:18:00",
          "2024-04-25T10:20:00"
         ],
         "y": [
          3464.04,
          3464.04,
          3464.04
         ]
        },
        {
         "mode": "lines+markers",
         "name": "placa-de-video-rtx-4060-ti-ventus-3x-16g-oc-msi-nvidia-geforce-dlss-ray-tracing-g-sync",
         "type": "scatter",
         "x": [
          "2024-04-25T08:17:00",
          "2024-04-25T09:18:00",
          "2024-04-25T10:20:00"
         ],
         "y": [
          3529.4,
          3529.4,
          3529.4
         ]
        },
        {
         "mode": "lines+markers",
         "name": "placa-de-video-rtx-4060-ti-dual-o8g-white-asus-nvidia-geforce-8gb-gddr6-dlss-ray-trancing-g-sync-90yv0j42-m0na00",
         "type": "scatter",
         "x": [
          "2024-04-25T08:17:00",
          "2024-04-25T09:18:00",
          "2024-04-25T10:20:00"
         ],
         "y": [
          3164.69,
          3164.69,
          3164.69
         ]
        },
        {
         "mode": "lines+markers",
         "name": "placa-de-video-rtx-4060-ti-ventus-2x-oc-msi-nvidia-8gb-gddr6-912-v515-024",
         "type": "scatter",
         "x": [
          "2024-04-25T08:17:00",
          "2024-04-25T09:18:00",
          "2024-04-25T10:20:00"
         ],
         "y": [
          2987.54,
          2987.54,
          2987.54
         ]
        },
        {
         "mode": "lines+markers",
         "name": "placa-de-video-rtx-4060-ti-dual-palit-nvidia-geforce-8gb-gddr6-rgb-128bit-g-sync-ray-tracing-dlss-ne6406t019p1-1060d",
         "type": "scatter",
         "x": [
          "2024-04-25T08:17:00",
          "2024-04-25T09:18:00",
          "2024-04-25T10:20:00"
         ],
         "y": [
          3058.81,
          3058.81,
          3058.81
         ]
        },
        {
         "mode": "lines+markers",
         "name": "placa-de-video-rtx-4060-ti-rog-strix-o8g-gaming-nvidia-geforce-8gb-gddr6-argb-dlss-ray-tracing-g-sync-rog-strix-rtx4060ti-o8g-gaming",
         "type": "scatter",
         "x": [
          "2024-04-25T08:17:00",
          "2024-04-25T09:18:00",
          "2024-04-25T10:20:00"
         ],
         "y": [
          3764.69,
          3764.69,
          3764.69
         ]
        },
        {
         "mode": "lines+markers",
         "name": "placa-de-video-rtx-4060-ti-asus-tuf-gaming-nvidia-geforce-8gb-gddr6-dlss-ray-tracing-g-sync-90yv0j51-m0na00",
         "type": "scatter",
         "x": [
          "2024-04-25T08:17:00",
          "2024-04-25T09:18:00",
          "2024-04-25T10:20:00"
         ],
         "y": [
          3294.11,
          3294.11,
          3294.11
         ]
        },
        {
         "mode": "lines+markers",
         "name": "placa-de-video-rtx-4060-ti-rog-strix-8g-gaming-nvidia-geforce-8gb-gddr6-dlss-ray-tracing-g-sync-90yv0j53-m0na00",
         "type": "scatter",
         "x": [
          "2024-04-25T08:17:00",
          "2024-04-25T09:18:00",
          "2024-04-25T10:20:00"
         ],
         "y": [
          3882.34,
          3882.34,
          3882.34
         ]
        },
        {
         "mode": "lines+markers",
         "name": "placa-de-video-rtx-4060-ti-gaming-x-8g-msi-nvidia-geforce-8-gb-gddr6-dlss-ray-tracing",
         "type": "scatter",
         "x": [
          "2024-04-25T08:17:00",
          "2024-04-25T09:18:00",
          "2024-04-25T10:20:00"
         ],
         "y": [
          3294.11,
          3294.11,
          3294.11
         ]
        },
        {
         "mode": "lines+markers",
         "name": "placa-de-video-rtx-4060-ti-ventus-3x-oc-msi-nvidia-8gb-gddr6-912-v515-040",
         "type": "scatter",
         "x": [
          "2024-04-25T08:17:00",
          "2024-04-25T09:18:00",
          "2024-04-25T10:20:00"
         ],
         "y": [
          3010.42,
          3010.42,
          2947.26
         ]
        },
        {
         "mode": "lines+markers",
         "name": "placa-de-video-rtx-4060-ti-ex-1-click-oc-galax-nvidia-geforce-16gb-gddr6-dlss-g-sync-ray-tracing-46izl8md8yex",
         "type": "scatter",
         "x": [
          "2024-04-25T08:17:00",
          "2024-04-25T09:18:00",
          "2024-04-25T10:20:00"
         ],
         "y": [
          5058.81,
          5058.81,
          5058.81
         ]
        },
        {
         "mode": "lines+markers",
         "name": "placa-de-video-colorful-geforce-rtx-4060-ti-nb-duo-8gb-v",
         "type": "scatter",
         "x": [
          "2024-04-25T08:17:00",
          "2024-04-25T09:18:00",
          "2024-04-25T10:20:00"
         ],
         "y": [
          2699,
          2699,
          2699
         ]
        },
        {
         "mode": "lines+markers",
         "name": "placa-de-video-rtx-4060-ti-eagle-gigabyte-geforce-8gb-gddr6-128-bits-gv-n406teagle-8gd",
         "type": "scatter",
         "x": [
          "2024-04-25T08:17:00",
          "2024-04-25T09:18:00",
          "2024-04-25T10:20:00"
         ],
         "y": [
          5299.99,
          5299.99,
          5299.99
         ]
        },
        {
         "mode": "lines+markers",
         "name": "placa-de-video-rtx-4060-ti-gaming-x-msi-nvidia-geforce-8gb-gddr6-dlss-ray-tracing-912-v515-022",
         "type": "scatter",
         "x": [
          "2024-04-25T08:17:00",
          "2024-04-25T09:18:00",
          "2024-04-25T10:20:00"
         ],
         "y": [
          3176.02,
          3176.02,
          3176.02
         ]
        },
        {
         "mode": "lines+markers",
         "name": "placa-de-video-rtx-4060-ti-gaming-x-slim-msi-nvidia-16gb-gddr6-128bits-white-912-v517-001",
         "type": "scatter",
         "x": [
          "2024-04-25T08:17:00",
          "2024-04-25T09:18:00",
          "2024-04-25T10:20:00"
         ],
         "y": [
          5187,
          5187,
          5187
         ]
        },
        {
         "mode": "lines+markers",
         "name": "placa-de-video-rtx-4060-ti-palit-dual-8gb-128bits-gddr6-pci-e-ne6406t019p1-1060d-5793",
         "type": "scatter",
         "x": [
          "2024-04-25T08:17:00",
          "2024-04-25T09:18:00",
          "2024-04-25T10:20:00"
         ],
         "y": [
          3161,
          3161,
          3161
         ]
        },
        {
         "mode": "lines+markers",
         "name": "placa-de-video-rtx-4060-ti-black-ex-galax-nvidia-16gb-gddr6-128bits-46izl8md8yex",
         "type": "scatter",
         "x": [
          "2024-04-25T08:17:00",
          "2024-04-25T09:18:00",
          "2024-04-25T10:20:00"
         ],
         "y": [
          5279.89,
          5279.89,
          5279.89
         ]
        },
        {
         "mode": "lines+markers",
         "name": "placa-de-video-geforce-rtx-4060-ti-16gb-gddr6-128bit-panther-oc-series-gainward-ne6406tu19t1-1061z",
         "type": "scatter",
         "x": [
          "2024-04-25T08:17:00",
          "2024-04-25T09:18:00",
          "2024-04-25T10:20:00"
         ],
         "y": [
          5329.99,
          5329.99,
          5329.99
         ]
        },
        {
         "mode": "lines+markers",
         "name": "placa-de-video-asus-geforce-rtx-4060-ti-dual-white-oc-8g-gddr6-128-bits-dual-rtx4060ti-o8g-white",
         "type": "scatter",
         "x": [
          "2024-04-25T08:17:00",
          "2024-04-25T09:18:00",
          "2024-04-25T10:20:00"
         ],
         "y": [
          2831.47,
          2831.47,
          2778.84
         ]
        },
        {
         "mode": "lines+markers",
         "name": "placa-de-video-asus-dual-geforce-rtx-4060-ti-oc-edition-8gb-gddr6-128-bits-dual-rtx4060ti-08g",
         "type": "scatter",
         "x": [
          "2024-04-25T08:17:00",
          "2024-04-25T09:18:00",
          "2024-04-25T10:20:00"
         ],
         "y": [
          2778.84,
          2778.84,
          2778.84
         ]
        },
        {
         "mode": "lines+markers",
         "name": "placa-de-video-manli-nvidia-geforce-rtx-4060-ti-8gb-gddr6-dlss-ray-tracing-preto-unissex-unico",
         "type": "scatter",
         "x": [
          "2024-04-25T08:17:00",
          "2024-04-25T09:18:00",
          "2024-04-25T10:20:00"
         ],
         "y": [
          3522.11,
          3522.11,
          3522.11
         ]
        },
        {
         "mode": "lines+markers",
         "name": "placa-de-video-gigabyte-nvidia-geforce-rtx-4060-ti-aero-oc-16gb-gddr6-dlss-ray-tracing-gv-n406taero-oc-16gd",
         "type": "scatter",
         "x": [
          "2024-04-25T08:17:00",
          "2024-04-25T09:18:00",
          "2024-04-25T10:20:00"
         ],
         "y": [
          4819.99,
          4819.99,
          4819.99
         ]
        }
       ],
       "layout": {
        "legend": {
         "font": {
          "size": 10
         },
         "itemwidth": 30,
         "orientation": "v",
         "x": 10,
         "y": 0
        },
        "margin": {
         "b": 150,
         "l": 50,
         "r": 50,
         "t": 80
        },
        "template": {
         "data": {
          "bar": [
           {
            "error_x": {
             "color": "#2a3f5f"
            },
            "error_y": {
             "color": "#2a3f5f"
            },
            "marker": {
             "line": {
              "color": "#E5ECF6",
              "width": 0.5
             },
             "pattern": {
              "fillmode": "overlay",
              "size": 10,
              "solidity": 0.2
             }
            },
            "type": "bar"
           }
          ],
          "barpolar": [
           {
            "marker": {
             "line": {
              "color": "#E5ECF6",
              "width": 0.5
             },
             "pattern": {
              "fillmode": "overlay",
              "size": 10,
              "solidity": 0.2
             }
            },
            "type": "barpolar"
           }
          ],
          "carpet": [
           {
            "aaxis": {
             "endlinecolor": "#2a3f5f",
             "gridcolor": "white",
             "linecolor": "white",
             "minorgridcolor": "white",
             "startlinecolor": "#2a3f5f"
            },
            "baxis": {
             "endlinecolor": "#2a3f5f",
             "gridcolor": "white",
             "linecolor": "white",
             "minorgridcolor": "white",
             "startlinecolor": "#2a3f5f"
            },
            "type": "carpet"
           }
          ],
          "choropleth": [
           {
            "colorbar": {
             "outlinewidth": 0,
             "ticks": ""
            },
            "type": "choropleth"
           }
          ],
          "contour": [
           {
            "colorbar": {
             "outlinewidth": 0,
             "ticks": ""
            },
            "colorscale": [
             [
              0,
              "#0d0887"
             ],
             [
              0.1111111111111111,
              "#46039f"
             ],
             [
              0.2222222222222222,
              "#7201a8"
             ],
             [
              0.3333333333333333,
              "#9c179e"
             ],
             [
              0.4444444444444444,
              "#bd3786"
             ],
             [
              0.5555555555555556,
              "#d8576b"
             ],
             [
              0.6666666666666666,
              "#ed7953"
             ],
             [
              0.7777777777777778,
              "#fb9f3a"
             ],
             [
              0.8888888888888888,
              "#fdca26"
             ],
             [
              1,
              "#f0f921"
             ]
            ],
            "type": "contour"
           }
          ],
          "contourcarpet": [
           {
            "colorbar": {
             "outlinewidth": 0,
             "ticks": ""
            },
            "type": "contourcarpet"
           }
          ],
          "heatmap": [
           {
            "colorbar": {
             "outlinewidth": 0,
             "ticks": ""
            },
            "colorscale": [
             [
              0,
              "#0d0887"
             ],
             [
              0.1111111111111111,
              "#46039f"
             ],
             [
              0.2222222222222222,
              "#7201a8"
             ],
             [
              0.3333333333333333,
              "#9c179e"
             ],
             [
              0.4444444444444444,
              "#bd3786"
             ],
             [
              0.5555555555555556,
              "#d8576b"
             ],
             [
              0.6666666666666666,
              "#ed7953"
             ],
             [
              0.7777777777777778,
              "#fb9f3a"
             ],
             [
              0.8888888888888888,
              "#fdca26"
             ],
             [
              1,
              "#f0f921"
             ]
            ],
            "type": "heatmap"
           }
          ],
          "heatmapgl": [
           {
            "colorbar": {
             "outlinewidth": 0,
             "ticks": ""
            },
            "colorscale": [
             [
              0,
              "#0d0887"
             ],
             [
              0.1111111111111111,
              "#46039f"
             ],
             [
              0.2222222222222222,
              "#7201a8"
             ],
             [
              0.3333333333333333,
              "#9c179e"
             ],
             [
              0.4444444444444444,
              "#bd3786"
             ],
             [
              0.5555555555555556,
              "#d8576b"
             ],
             [
              0.6666666666666666,
              "#ed7953"
             ],
             [
              0.7777777777777778,
              "#fb9f3a"
             ],
             [
              0.8888888888888888,
              "#fdca26"
             ],
             [
              1,
              "#f0f921"
             ]
            ],
            "type": "heatmapgl"
           }
          ],
          "histogram": [
           {
            "marker": {
             "pattern": {
              "fillmode": "overlay",
              "size": 10,
              "solidity": 0.2
             }
            },
            "type": "histogram"
           }
          ],
          "histogram2d": [
           {
            "colorbar": {
             "outlinewidth": 0,
             "ticks": ""
            },
            "colorscale": [
             [
              0,
              "#0d0887"
             ],
             [
              0.1111111111111111,
              "#46039f"
             ],
             [
              0.2222222222222222,
              "#7201a8"
             ],
             [
              0.3333333333333333,
              "#9c179e"
             ],
             [
              0.4444444444444444,
              "#bd3786"
             ],
             [
              0.5555555555555556,
              "#d8576b"
             ],
             [
              0.6666666666666666,
              "#ed7953"
             ],
             [
              0.7777777777777778,
              "#fb9f3a"
             ],
             [
              0.8888888888888888,
              "#fdca26"
             ],
             [
              1,
              "#f0f921"
             ]
            ],
            "type": "histogram2d"
           }
          ],
          "histogram2dcontour": [
           {
            "colorbar": {
             "outlinewidth": 0,
             "ticks": ""
            },
            "colorscale": [
             [
              0,
              "#0d0887"
             ],
             [
              0.1111111111111111,
              "#46039f"
             ],
             [
              0.2222222222222222,
              "#7201a8"
             ],
             [
              0.3333333333333333,
              "#9c179e"
             ],
             [
              0.4444444444444444,
              "#bd3786"
             ],
             [
              0.5555555555555556,
              "#d8576b"
             ],
             [
              0.6666666666666666,
              "#ed7953"
             ],
             [
              0.7777777777777778,
              "#fb9f3a"
             ],
             [
              0.8888888888888888,
              "#fdca26"
             ],
             [
              1,
              "#f0f921"
             ]
            ],
            "type": "histogram2dcontour"
           }
          ],
          "mesh3d": [
           {
            "colorbar": {
             "outlinewidth": 0,
             "ticks": ""
            },
            "type": "mesh3d"
           }
          ],
          "parcoords": [
           {
            "line": {
             "colorbar": {
              "outlinewidth": 0,
              "ticks": ""
             }
            },
            "type": "parcoords"
           }
          ],
          "pie": [
           {
            "automargin": true,
            "type": "pie"
           }
          ],
          "scatter": [
           {
            "fillpattern": {
             "fillmode": "overlay",
             "size": 10,
             "solidity": 0.2
            },
            "type": "scatter"
           }
          ],
          "scatter3d": [
           {
            "line": {
             "colorbar": {
              "outlinewidth": 0,
              "ticks": ""
             }
            },
            "marker": {
             "colorbar": {
              "outlinewidth": 0,
              "ticks": ""
             }
            },
            "type": "scatter3d"
           }
          ],
          "scattercarpet": [
           {
            "marker": {
             "colorbar": {
              "outlinewidth": 0,
              "ticks": ""
             }
            },
            "type": "scattercarpet"
           }
          ],
          "scattergeo": [
           {
            "marker": {
             "colorbar": {
              "outlinewidth": 0,
              "ticks": ""
             }
            },
            "type": "scattergeo"
           }
          ],
          "scattergl": [
           {
            "marker": {
             "colorbar": {
              "outlinewidth": 0,
              "ticks": ""
             }
            },
            "type": "scattergl"
           }
          ],
          "scattermapbox": [
           {
            "marker": {
             "colorbar": {
              "outlinewidth": 0,
              "ticks": ""
             }
            },
            "type": "scattermapbox"
           }
          ],
          "scatterpolar": [
           {
            "marker": {
             "colorbar": {
              "outlinewidth": 0,
              "ticks": ""
             }
            },
            "type": "scatterpolar"
           }
          ],
          "scatterpolargl": [
           {
            "marker": {
             "colorbar": {
              "outlinewidth": 0,
              "ticks": ""
             }
            },
            "type": "scatterpolargl"
           }
          ],
          "scatterternary": [
           {
            "marker": {
             "colorbar": {
              "outlinewidth": 0,
              "ticks": ""
             }
            },
            "type": "scatterternary"
           }
          ],
          "surface": [
           {
            "colorbar": {
             "outlinewidth": 0,
             "ticks": ""
            },
            "colorscale": [
             [
              0,
              "#0d0887"
             ],
             [
              0.1111111111111111,
              "#46039f"
             ],
             [
              0.2222222222222222,
              "#7201a8"
             ],
             [
              0.3333333333333333,
              "#9c179e"
             ],
             [
              0.4444444444444444,
              "#bd3786"
             ],
             [
              0.5555555555555556,
              "#d8576b"
             ],
             [
              0.6666666666666666,
              "#ed7953"
             ],
             [
              0.7777777777777778,
              "#fb9f3a"
             ],
             [
              0.8888888888888888,
              "#fdca26"
             ],
             [
              1,
              "#f0f921"
             ]
            ],
            "type": "surface"
           }
          ],
          "table": [
           {
            "cells": {
             "fill": {
              "color": "#EBF0F8"
             },
             "line": {
              "color": "white"
             }
            },
            "header": {
             "fill": {
              "color": "#C8D4E3"
             },
             "line": {
              "color": "white"
             }
            },
            "type": "table"
           }
          ]
         },
         "layout": {
          "annotationdefaults": {
           "arrowcolor": "#2a3f5f",
           "arrowhead": 0,
           "arrowwidth": 1
          },
          "autotypenumbers": "strict",
          "coloraxis": {
           "colorbar": {
            "outlinewidth": 0,
            "ticks": ""
           }
          },
          "colorscale": {
           "diverging": [
            [
             0,
             "#8e0152"
            ],
            [
             0.1,
             "#c51b7d"
            ],
            [
             0.2,
             "#de77ae"
            ],
            [
             0.3,
             "#f1b6da"
            ],
            [
             0.4,
             "#fde0ef"
            ],
            [
             0.5,
             "#f7f7f7"
            ],
            [
             0.6,
             "#e6f5d0"
            ],
            [
             0.7,
             "#b8e186"
            ],
            [
             0.8,
             "#7fbc41"
            ],
            [
             0.9,
             "#4d9221"
            ],
            [
             1,
             "#276419"
            ]
           ],
           "sequential": [
            [
             0,
             "#0d0887"
            ],
            [
             0.1111111111111111,
             "#46039f"
            ],
            [
             0.2222222222222222,
             "#7201a8"
            ],
            [
             0.3333333333333333,
             "#9c179e"
            ],
            [
             0.4444444444444444,
             "#bd3786"
            ],
            [
             0.5555555555555556,
             "#d8576b"
            ],
            [
             0.6666666666666666,
             "#ed7953"
            ],
            [
             0.7777777777777778,
             "#fb9f3a"
            ],
            [
             0.8888888888888888,
             "#fdca26"
            ],
            [
             1,
             "#f0f921"
            ]
           ],
           "sequentialminus": [
            [
             0,
             "#0d0887"
            ],
            [
             0.1111111111111111,
             "#46039f"
            ],
            [
             0.2222222222222222,
             "#7201a8"
            ],
            [
             0.3333333333333333,
             "#9c179e"
            ],
            [
             0.4444444444444444,
             "#bd3786"
            ],
            [
             0.5555555555555556,
             "#d8576b"
            ],
            [
             0.6666666666666666,
             "#ed7953"
            ],
            [
             0.7777777777777778,
             "#fb9f3a"
            ],
            [
             0.8888888888888888,
             "#fdca26"
            ],
            [
             1,
             "#f0f921"
            ]
           ]
          },
          "colorway": [
           "#636efa",
           "#EF553B",
           "#00cc96",
           "#ab63fa",
           "#FFA15A",
           "#19d3f3",
           "#FF6692",
           "#B6E880",
           "#FF97FF",
           "#FECB52"
          ],
          "font": {
           "color": "#2a3f5f"
          },
          "geo": {
           "bgcolor": "white",
           "lakecolor": "white",
           "landcolor": "#E5ECF6",
           "showlakes": true,
           "showland": true,
           "subunitcolor": "white"
          },
          "hoverlabel": {
           "align": "left"
          },
          "hovermode": "closest",
          "mapbox": {
           "style": "light"
          },
          "paper_bgcolor": "white",
          "plot_bgcolor": "#E5ECF6",
          "polar": {
           "angularaxis": {
            "gridcolor": "white",
            "linecolor": "white",
            "ticks": ""
           },
           "bgcolor": "#E5ECF6",
           "radialaxis": {
            "gridcolor": "white",
            "linecolor": "white",
            "ticks": ""
           }
          },
          "scene": {
           "xaxis": {
            "backgroundcolor": "#E5ECF6",
            "gridcolor": "white",
            "gridwidth": 2,
            "linecolor": "white",
            "showbackground": true,
            "ticks": "",
            "zerolinecolor": "white"
           },
           "yaxis": {
            "backgroundcolor": "#E5ECF6",
            "gridcolor": "white",
            "gridwidth": 2,
            "linecolor": "white",
            "showbackground": true,
            "ticks": "",
            "zerolinecolor": "white"
           },
           "zaxis": {
            "backgroundcolor": "#E5ECF6",
            "gridcolor": "white",
            "gridwidth": 2,
            "linecolor": "white",
            "showbackground": true,
            "ticks": "",
            "zerolinecolor": "white"
           }
          },
          "shapedefaults": {
           "line": {
            "color": "#2a3f5f"
           }
          },
          "ternary": {
           "aaxis": {
            "gridcolor": "white",
            "linecolor": "white",
            "ticks": ""
           },
           "baxis": {
            "gridcolor": "white",
            "linecolor": "white",
            "ticks": ""
           },
           "bgcolor": "#E5ECF6",
           "caxis": {
            "gridcolor": "white",
            "linecolor": "white",
            "ticks": ""
           }
          },
          "title": {
           "x": 0.05
          },
          "xaxis": {
           "automargin": true,
           "gridcolor": "white",
           "linecolor": "white",
           "ticks": "",
           "title": {
            "standoff": 15
           },
           "zerolinecolor": "white",
           "zerolinewidth": 2
          },
          "yaxis": {
           "automargin": true,
           "gridcolor": "white",
           "linecolor": "white",
           "ticks": "",
           "title": {
            "standoff": 15
           },
           "zerolinecolor": "white",
           "zerolinewidth": 2
          }
         }
        },
        "title": {
         "text": "Evolução dos Preços - Modelo: RTX 4060 TI"
        },
        "xaxis": {
         "title": {
          "text": "Data"
         }
        },
        "yaxis": {
         "tickformat": ".2f",
         "tickprefix": "R$ ",
         "title": {
          "text": "Preço"
         }
        }
       }
      }
     },
     "metadata": {},
     "output_type": "display_data"
    }
   ],
   "source": [
    "figs = []  # Lista para armazenar os gráficos individuais\n",
    "\n",
    "# Itera sobre os modelos únicos\n",
    "for model in df2['model'].unique():\n",
    "    fig = go.Figure()\n",
    "    model_data = df2[df2['model'] == model].copy()\n",
    "    model_data['date'] = model_data['date'].dt.floor('min')  # Truncar para minutos\n",
    "\n",
    "    for product in model_data['full_name'].unique():\n",
    "        product_data = model_data[model_data['full_name'] == product]\n",
    "        fig.add_trace(go.Scatter(x=product_data['date'], y=product_data['price'], mode='lines+markers', name=product))\n",
    "\n",
    "    fig.update_layout(title=f'Evolução dos Preços - Modelo: {model}',\n",
    "                      xaxis_title='Data',\n",
    "                      yaxis_title='Preço',\n",
    "                      yaxis_tickprefix='R$ ',\n",
    "                      yaxis_tickformat='.2f',\n",
    "                      margin=dict(l=50, r=50, t=80, b=150),\n",
    "                      legend=dict(x=10, y=0, orientation='v', font=dict(size=10), itemwidth=30))\n",
    "\n",
    "    figs.append(fig)\n",
    "\n",
    "# Exibir os gráficos\n",
    "for i, fig in enumerate(figs, 1):\n",
    "    fig.show()\n"
   ]
  },
  {
   "cell_type": "markdown",
   "metadata": {},
   "source": [
    "## 6. Análise de Regressão e Análises de Dados"
   ]
  },
  {
   "cell_type": "markdown",
   "metadata": {},
   "source": [
    "### 6.1. Cálculo da diferença de tempo em horas entre as datas"
   ]
  },
  {
   "cell_type": "code",
   "execution_count": 260,
   "metadata": {},
   "outputs": [],
   "source": [
    "# Converte a coluna 'date' para o tipo de dado datetime\n",
    "df['date'] = pd.to_datetime(df['date'])\n",
    "\n",
    "# Obtém a data inicial no DataFrame 'df' e atribui à variável 'data_inicial'\n",
    "data_inicial = df['date'].min()\n",
    "\n",
    "# Calcula a diferença de tempo em horas entre cada data na coluna 'date' e a data inicial\n",
    "# A função 'dt.total_seconds()' retorna o total de segundos entre as duas datas\n",
    "# Em seguida, divide esse total por 3600 para obter o número de horas\n",
    "df2['hour'] = (df['date'] - data_inicial).dt.total_seconds() / 3600"
   ]
  },
  {
   "cell_type": "markdown",
   "metadata": {},
   "source": [
    "### 6.2. Preparar os dados de entrada e saída"
   ]
  },
  {
   "cell_type": "code",
   "execution_count": 261,
   "metadata": {},
   "outputs": [],
   "source": [
    "# Faz uma cópia do DataFrame 'df2' e atribui à variável 'df_produtos'\n",
    "df_produtos = df2.copy()\n",
    "\n",
    "# Remove as colunas 'full_name', 'link', 'sku', 'weight' e 'date' do DataFrame 'df_produtos'\n",
    "# O parâmetro axis=1 indica que as colunas devem ser removidas\n",
    "df_produtos = df_produtos.drop(['full_name', 'link', 'sku', 'weight', 'date'], axis=1)\n",
    "\n",
    "# Transforma as variáveis categóricas 'brand_name' e 'model' em variáveis dummy\n",
    "# Isso cria variáveis binárias para cada categoria presente nessas colunas\n",
    "df_produtos = pd.get_dummies(df_produtos, columns=['brand_name', 'model'])\n",
    "\n",
    "# Define os dados de entrada (X) e saída (y)\n",
    "# X são todas as colunas, exceto a coluna 'price'\n",
    "# y é a coluna 'price'\n",
    "X = df_produtos.drop(['price'], axis=1)\n",
    "y = df_produtos['price']\n",
    "\n",
    "entrada_X = X\n",
    "saida_y = y"
   ]
  },
  {
   "cell_type": "markdown",
   "metadata": {},
   "source": [
    "### 6.3. Treinamento dos dados do modelo fornecido"
   ]
  },
  {
   "cell_type": "code",
   "execution_count": 262,
   "metadata": {},
   "outputs": [
    {
     "name": "stdout",
     "output_type": "stream",
     "text": [
      "Variáveis de Treinamento:\n",
      "X_train (dados de entrada):\n",
      "     primePrice  primePriceWithDiscount  oldPrice  oldPrimePrice  \\\n",
      "22         0.00                    0.00      0.00           0.00   \n",
      "289        0.00                    0.00      0.00           0.00   \n",
      "299     6705.87                 5699.99   6941.16        6941.16   \n",
      "56      3537.64                 3006.99   3647.05        3647.05   \n",
      "185        0.00                    0.00      0.00           0.00   \n",
      "..          ...                     ...       ...            ...   \n",
      "188        0.00                    0.00      0.00           0.00   \n",
      "71         0.00                    0.00      0.00           0.00   \n",
      "106        0.00                    0.00      0.00           0.00   \n",
      "270        0.00                    0.00      0.00           0.00   \n",
      "102        0.00                    0.00      0.00           0.00   \n",
      "\n",
      "     priceWithDiscount  discountPercentage  rating  ratingCount  available  \\\n",
      "22             6999.90                   0       0            0          1   \n",
      "289            5389.90                  12       0            0          1   \n",
      "299            5899.99                  15       0            0          1   \n",
      "56             3099.99                  15       5            5          1   \n",
      "185            5899.99                  15       0            0          1   \n",
      "..                 ...                 ...     ...          ...        ...   \n",
      "188            5199.99                   0       0            0          1   \n",
      "71             2999.99                  15       5            9          1   \n",
      "106            5389.90                  12       0            0          1   \n",
      "270            5279.89                   0       0            0          1   \n",
      "102            5499.99                  15       4            2          1   \n",
      "\n",
      "     warranty  ...  brand_name_Power Color  brand_name_Powercolor  \\\n",
      "22          0  ...                   False                  False   \n",
      "289         0  ...                   False                  False   \n",
      "299        24  ...                   False                  False   \n",
      "56         12  ...                   False                  False   \n",
      "185        36  ...                   False                  False   \n",
      "..        ...  ...                     ...                    ...   \n",
      "188        36  ...                   False                  False   \n",
      "71         12  ...                   False                  False   \n",
      "106         0  ...                   False                  False   \n",
      "270         0  ...                   False                  False   \n",
      "102        36  ...                   False                  False   \n",
      "\n",
      "     brand_name_Sapphire  brand_name_Zotac  model_RTX 4060 TI  \\\n",
      "22                 False             False              False   \n",
      "289                False             False              False   \n",
      "299                False             False              False   \n",
      "56                 False             False              False   \n",
      "185                False             False              False   \n",
      "..                   ...               ...                ...   \n",
      "188                False             False              False   \n",
      "71                 False             False               True   \n",
      "106                False             False              False   \n",
      "270                False             False               True   \n",
      "102                False             False              False   \n",
      "\n",
      "     model_RTX 4070 TI  model_RTX 4080  model_RX 7600 XT  model_RX 7700 XT  \\\n",
      "22                True           False             False             False   \n",
      "289               True           False             False             False   \n",
      "299               True           False             False             False   \n",
      "56               False           False             False              True   \n",
      "185               True           False             False             False   \n",
      "..                 ...             ...               ...               ...   \n",
      "188               True           False             False             False   \n",
      "71               False           False             False             False   \n",
      "106               True           False             False             False   \n",
      "270              False           False             False             False   \n",
      "102               True           False             False             False   \n",
      "\n",
      "     model_RX 7800 XT  \n",
      "22              False  \n",
      "289             False  \n",
      "299             False  \n",
      "56              False  \n",
      "185             False  \n",
      "..                ...  \n",
      "188             False  \n",
      "71              False  \n",
      "106             False  \n",
      "270             False  \n",
      "102             False  \n",
      "\n",
      "[221 rows x 33 columns]\n",
      "\n",
      "y_train (rótulos de saída):\n",
      "22     6999.90\n",
      "289    6124.89\n",
      "299    6941.16\n",
      "56     3647.05\n",
      "185    6941.16\n",
      "        ...   \n",
      "188    5199.99\n",
      "71     3529.40\n",
      "106    6124.89\n",
      "270    5279.89\n",
      "102    6470.58\n",
      "Name: price, Length: 221, dtype: float64\n",
      "\n",
      "Variáveis de Teste:\n",
      "X_test (dados de entrada):\n",
      "     primePrice  primePriceWithDiscount  oldPrice  oldPrimePrice  \\\n",
      "284     7189.40                 6110.99   7411.75        7411.75   \n",
      "116     6705.87                 5699.99   6941.16        6941.16   \n",
      "113        0.00                    0.00      0.00           0.00   \n",
      "42         0.00                    0.00      0.00           0.00   \n",
      "126     8216.46                 6983.99   8470.58        8470.58   \n",
      "..          ...                     ...       ...            ...   \n",
      "6          0.00                    0.00      0.00           0.00   \n",
      "297        0.00                    0.00      0.00           0.00   \n",
      "219     8235.28                 6999.99   8470.58        8470.58   \n",
      "93         0.00                    0.00      0.00           0.00   \n",
      "30         0.00                    0.00   7850.00        7850.00   \n",
      "\n",
      "     priceWithDiscount  discountPercentage  rating  ratingCount  available  \\\n",
      "284            6299.99                  15       5            2          1   \n",
      "116            5899.99                  15       0            0          1   \n",
      "113            4927.12                  12       0            0          1   \n",
      "42            11105.41                   5       0            0          1   \n",
      "126            7199.99                  15       0            0          1   \n",
      "..                 ...                 ...     ...          ...        ...   \n",
      "6              6601.06                   0       0            0          1   \n",
      "297            6999.90                   0       0            0          1   \n",
      "219            7199.99                  15       0            0          1   \n",
      "93             5899.99                  15       0            0          1   \n",
      "30             7850.00                   0       0            0          1   \n",
      "\n",
      "     warranty  ...  brand_name_Power Color  brand_name_Powercolor  \\\n",
      "284        12  ...                   False                  False   \n",
      "116        24  ...                   False                  False   \n",
      "113         0  ...                   False                  False   \n",
      "42          0  ...                   False                  False   \n",
      "126        36  ...                   False                  False   \n",
      "..        ...  ...                     ...                    ...   \n",
      "6           0  ...                   False                  False   \n",
      "297         0  ...                   False                  False   \n",
      "219        24  ...                   False                  False   \n",
      "93         36  ...                   False                  False   \n",
      "30          0  ...                   False                  False   \n",
      "\n",
      "     brand_name_Sapphire  brand_name_Zotac  model_RTX 4060 TI  \\\n",
      "284                False             False              False   \n",
      "116                False             False              False   \n",
      "113                False             False              False   \n",
      "42                 False             False              False   \n",
      "126                False             False              False   \n",
      "..                   ...               ...                ...   \n",
      "6                  False             False              False   \n",
      "297                False             False              False   \n",
      "219                False             False              False   \n",
      "93                 False             False              False   \n",
      "30                 False             False              False   \n",
      "\n",
      "     model_RTX 4070 TI  model_RTX 4080  model_RX 7600 XT  model_RX 7700 XT  \\\n",
      "284               True           False             False             False   \n",
      "116               True           False             False             False   \n",
      "113               True           False             False             False   \n",
      "42               False            True             False             False   \n",
      "126              False            True             False             False   \n",
      "..                 ...             ...               ...               ...   \n",
      "6                 True           False             False             False   \n",
      "297               True           False             False             False   \n",
      "219              False            True             False             False   \n",
      "93                True           False             False             False   \n",
      "30               False            True             False             False   \n",
      "\n",
      "     model_RX 7800 XT  \n",
      "284             False  \n",
      "116             False  \n",
      "113             False  \n",
      "42              False  \n",
      "126             False  \n",
      "..                ...  \n",
      "6               False  \n",
      "297             False  \n",
      "219             False  \n",
      "93              False  \n",
      "30              False  \n",
      "\n",
      "[119 rows x 33 columns]\n",
      "\n",
      "y_test (rótulos de saída):\n",
      "284     7411.75\n",
      "116     6941.16\n",
      "113     5599.00\n",
      "42     11689.90\n",
      "126     8470.58\n",
      "         ...   \n",
      "6       6601.06\n",
      "297     6999.90\n",
      "219     8470.58\n",
      "93      6941.16\n",
      "30      7850.00\n",
      "Name: price, Length: 119, dtype: float64\n"
     ]
    }
   ],
   "source": [
    "# Divide os dados em conjuntos de treinamento e teste usando train_test_split\n",
    "# O parâmetro test_size=0.35 indica que 35% dos dados serão usados como conjunto de teste\n",
    "# O parâmetro random_state=42 define uma semente para a geração de números aleatórios\n",
    "X_train, X_test, y_train, y_test = train_test_split(X, y, test_size=0.35, random_state=42)\n",
    "\n",
    "# Print das variáveis do conjunto de treinamento\n",
    "print(\"Variáveis de Treinamento:\")\n",
    "print(\"X_train (dados de entrada):\")\n",
    "print(X_train)\n",
    "print(\"\\ny_train (rótulos de saída):\")\n",
    "print(y_train)\n",
    "\n",
    "# Print das variáveis do conjunto de teste\n",
    "print(\"\\nVariáveis de Teste:\")\n",
    "print(\"X_test (dados de entrada):\")\n",
    "print(X_test)\n",
    "print(\"\\ny_test (rótulos de saída):\")\n",
    "print(y_test)"
   ]
  },
  {
   "cell_type": "markdown",
   "metadata": {},
   "source": [
    "### 6.4. Validação cruzada"
   ]
  },
  {
   "cell_type": "code",
   "execution_count": 263,
   "metadata": {},
   "outputs": [
    {
     "name": "stdout",
     "output_type": "stream",
     "text": [
      "R² médio: 0.9974681451812693\n",
      "Desvio padrão dos R²: 0.000447995986259374\n"
     ]
    }
   ],
   "source": [
    "# Instanciar um modelo de regressão linear\n",
    "modelo = LinearRegression()\n",
    "\n",
    "# Definir o número de folds para validação cruzada\n",
    "num_folds = 5\n",
    "\n",
    "# Criar um objeto KFold para dividir os dados em folds\n",
    "# O parâmetro n_splits=num_folds indica o número de folds desejado\n",
    "# O parâmetro shuffle=True realiza uma mistura aleatória dos dados antes de dividir em folds\n",
    "# O parâmetro random_state=42 define uma semente para a geração de números aleatórios, garantindo reprodutibilidade\n",
    "kf = KFold(n_splits=num_folds, shuffle=True, random_state=42)\n",
    "\n",
    "# Realizar validação cruzada e obter os scores de R² para cada fold\n",
    "scores = cross_val_score(modelo, X, y, cv=kf, scoring='r2')\n",
    "\n",
    "# Calcular a média dos scores de R²\n",
    "val_cruzada_mean_r2 = scores.mean()\n",
    "\n",
    "# Calcular o desvio padrão dos scores de R²\n",
    "val_cruzada_std_r2 = scores.std()\n",
    "\n",
    "# Imprimir os resultados da validação cruzada\n",
    "print(\"R² médio:\", val_cruzada_mean_r2)\n",
    "print(\"Desvio padrão dos R²:\", val_cruzada_std_r2)"
   ]
  },
  {
   "cell_type": "markdown",
   "metadata": {},
   "source": [
    "### 6.5. Regressão Linear"
   ]
  },
  {
   "cell_type": "code",
   "execution_count": 264,
   "metadata": {},
   "outputs": [
    {
     "name": "stdout",
     "output_type": "stream",
     "text": [
      "Coeficiente de Determinação (R²) - Regressão Linear: 0.9973381181345261\n",
      "Coeficiente de Determinação (R²) - Árvore de Decisão: 0.9999461417172318\n"
     ]
    }
   ],
   "source": [
    "# Instanciar um modelo de regressão linear\n",
    "modelo_linear = LinearRegression()\n",
    "\n",
    "# Treinar o modelo de regressão linear com os dados de treinamento\n",
    "modelo_linear.fit(X_train, y_train)\n",
    "\n",
    "# Fazer previsões utilizando o modelo de regressão linear nos dados de teste\n",
    "y_pred_linear = modelo_linear.predict(X_test)\n",
    "\n",
    "# Calcular o coeficiente de determinação (R²) para o modelo de regressão linear\n",
    "r2_linear = r2_score(y_test, y_pred_linear)\n",
    "\n",
    "# Instanciar um modelo de árvore de decisão para regressão\n",
    "modelo_decision_tree = DecisionTreeRegressor()\n",
    "\n",
    "# Treinar o modelo de árvore de decisão com os dados de treinamento\n",
    "modelo_decision_tree.fit(X_train, y_train)\n",
    "\n",
    "# Fazer previsões utilizando o modelo de árvore de decisão nos dados de teste\n",
    "y_pred_decision_tree = modelo_decision_tree.predict(X_test)\n",
    "\n",
    "# Calcular o coeficiente de determinação (R²) para o modelo de árvore de decisão\n",
    "r2_decision_tree = r2_score(y_test, y_pred_decision_tree)\n",
    "\n",
    "# Imprimir os resultados dos coeficientes de determinação (R²) para os modelos de regressão linear e árvore de decisão\n",
    "print(f\"Coeficiente de Determinação (R²) - Regressão Linear: {r2_linear}\")\n",
    "print(f\"Coeficiente de Determinação (R²) - Árvore de Decisão: {r2_decision_tree}\")"
   ]
  },
  {
   "cell_type": "markdown",
   "metadata": {},
   "source": [
    "### 6.6. Diferença dos Coeficientes com a Validação Cruzada"
   ]
  },
  {
   "cell_type": "code",
   "execution_count": 265,
   "metadata": {},
   "outputs": [
    {
     "data": {
      "text/markdown": [
       "\n",
       "A diferença entre os valores de R² obtidos na validação cruzada e aqueles calculados para os modelos de regressão linear e árvore de decisão indica a capacidade dos modelos em generalizar para novos dados.\n",
       "\n",
       "Para a Regressão Linear:\n",
       "- R² médio da validação cruzada: 0.9974681451812693\n",
       "- Coeficiente de Determinação (R²) do modelo: 0.9973381181345261\n",
       "- Diferença: -0.000130027046743\n",
       "\n",
       "Para a Árvore de Decisão:\n",
       "- R² médio da validação cruzada: 0.9974681451812693\n",
       "- Coeficiente de Determinação (R²) do modelo: 0.9999461417172318\n",
       "- Diferença: 0.002477996535963\n",
       "\n",
       "Em ambos os casos, os modelos apresentam R² muito próximos durante a validação cruzada e nos dados de teste. Isso sugere que os modelos têm uma capacidade consistente de generalização para novos dados, indicando um bom desempenho e uma boa capacidade de capturar a variabilidade nos dados. No entanto, é importante observar que a diferença entre os valores de R² obtidos na validação cruzada e nos dados de teste pode fornecer insights sobre o potencial de sobreajuste (overfitting) do modelo, especialmente se essa diferença for significativamente grande.\n"
      ],
      "text/plain": [
       "<IPython.core.display.Markdown object>"
      ]
     },
     "execution_count": 265,
     "metadata": {},
     "output_type": "execute_result"
    }
   ],
   "source": [
    "# Para a Regressão Linear:\n",
    "r2_medio_validacao_cruzada = val_cruzada_mean_r2\n",
    "r2_modelo_regressao_linear = r2_linear\n",
    "diferenca_regressao_linear = r2_modelo_regressao_linear - r2_medio_validacao_cruzada\n",
    "\n",
    "# Para a Árvore de Decisão:\n",
    "r2_medio_validacao_cruzada_arvore = val_cruzada_mean_r2\n",
    "r2_modelo_arvore_decisao = r2_decision_tree\n",
    "diferenca_arvore_decisao = r2_modelo_arvore_decisao - r2_medio_validacao_cruzada_arvore\n",
    "\n",
    "\n",
    "# Gerando o bloco de texto em markdown\n",
    "markdown_text = f\"\"\"\n",
    "A diferença entre os valores de R² obtidos na validação cruzada e aqueles calculados para os modelos de regressão linear e árvore de decisão indica a capacidade dos modelos em generalizar para novos dados.\n",
    "\n",
    "Para a Regressão Linear:\n",
    "- R² médio da validação cruzada: {r2_medio_validacao_cruzada}\n",
    "- Coeficiente de Determinação (R²) do modelo: {r2_modelo_regressao_linear}\n",
    "- Diferença: {diferenca_regressao_linear:.15f}\n",
    "\n",
    "Para a Árvore de Decisão:\n",
    "- R² médio da validação cruzada: {r2_medio_validacao_cruzada_arvore}\n",
    "- Coeficiente de Determinação (R²) do modelo: {r2_modelo_arvore_decisao}\n",
    "- Diferença: {diferenca_arvore_decisao:.15f}\n",
    "\n",
    "Em ambos os casos, os modelos apresentam R² muito próximos durante a validação cruzada e nos dados de teste. Isso sugere que os modelos têm uma capacidade consistente de generalização para novos dados, indicando um bom desempenho e uma boa capacidade de capturar a variabilidade nos dados. No entanto, é importante observar que a diferença entre os valores de R² obtidos na validação cruzada e nos dados de teste pode fornecer insights sobre o potencial de sobreajuste (overfitting) do modelo, especialmente se essa diferença for significativamente grande.\n",
    "\"\"\"\n",
    "\n",
    "# Exibindo o bloco de texto em markdown\n",
    "from IPython.display import Markdown\n",
    "Markdown(markdown_text)"
   ]
  },
  {
   "cell_type": "markdown",
   "metadata": {},
   "source": [
    "### 6.7. Estudo com GridSearchCV para a busca dos melhores parâmetros"
   ]
  },
  {
   "cell_type": "code",
   "execution_count": 266,
   "metadata": {},
   "outputs": [
    {
     "name": "stdout",
     "output_type": "stream",
     "text": [
      "Best parameters: {'n_jobs': 1}\n",
      "Best score: 1.00\n",
      "Mean squared error: 19746.83\n"
     ]
    }
   ],
   "source": [
    "# Gerar dados sintéticos para treinamento e teste\n",
    "X, y = make_regression(n_samples=100, n_features=10, noise=0.1)\n",
    "\n",
    "# Definir os parâmetros a serem testados na pesquisa em grade\n",
    "param_grid = {\n",
    "    'n_jobs': [1, 2, 3, 4, 5, 6, 7]\n",
    "}\n",
    "\n",
    "# Criar uma instância do modelo de regressão linear\n",
    "model = LinearRegression()\n",
    "\n",
    "# Criar um objeto GridSearchCV para encontrar os melhores parâmetros\n",
    "grid_search = GridSearchCV(\n",
    "    estimator=model,  # Modelo de regressão linear\n",
    "    param_grid=param_grid,  # Parâmetros a serem testados\n",
    "    cv=3  # Número de dobras na validação cruzada\n",
    ")\n",
    "\n",
    "# Realizar a pesquisa em grade para encontrar os melhores parâmetros\n",
    "grid_search.fit(X_train, y_train)\n",
    "\n",
    "# Imprimir os melhores parâmetros encontrados pela pesquisa em grade\n",
    "print(f'Best parameters: {grid_search.best_params_}')\n",
    "\n",
    "# Imprimir o melhor escore (média da validação cruzada) alcançado\n",
    "print(f'Best score: {grid_search.best_score_:.2f}')\n",
    "\n",
    "# Usar o melhor estimador encontrado para fazer previsões nos dados de teste\n",
    "y_pred = grid_search.best_estimator_.predict(X_test)\n",
    "\n",
    "# Calcular o erro quadrático médio entre as previsões e os valores reais\n",
    "mse = mean_squared_error(y_test, y_pred)\n",
    "print(f'Mean squared error: {mse:.2f}')"
   ]
  },
  {
   "cell_type": "code",
   "execution_count": 267,
   "metadata": {},
   "outputs": [
    {
     "name": "stdout",
     "output_type": "stream",
     "text": [
      "Mean squared error: 19746.83\n",
      "Erro de treinamento: 14567.89\n",
      "Erro de teste: 19746.83\n",
      "\n"
     ]
    }
   ],
   "source": [
    "# Criar uma instância do modelo de regressão linear\n",
    "model = LinearRegression()\n",
    "\n",
    "# Ajustar o modelo aos dados de treinamento\n",
    "model.fit(X_train, y_train)\n",
    "\n",
    "# Fazer previsões nos dados de teste\n",
    "y_pred = model.predict(X_test)\n",
    "\n",
    "# Calcular o erro quadrático médio nos dados de teste\n",
    "mse = mean_squared_error(y_test, y_pred)\n",
    "print(f'Mean squared error: {mse:.2f}')\n",
    "\n",
    "# Calcular o erro quadrático médio nos dados de treinamento\n",
    "train_error = mean_squared_error(y_train, model.predict(X_train))\n",
    "\n",
    "# Calcular o erro quadrático médio nos dados de teste\n",
    "test_error = mean_squared_error(y_test, model.predict(X_test))\n",
    "\n",
    "# Imprimir os erros de treinamento e teste\n",
    "print(f\"Erro de treinamento: {train_error:.2f}\")\n",
    "print(f\"Erro de teste: {test_error:.2f}\\n\")"
   ]
  },
  {
   "cell_type": "markdown",
   "metadata": {},
   "source": [
    "### 6.8. Análise Gráfica dos estudos de aprendizagem do modelo"
   ]
  },
  {
   "cell_type": "code",
   "execution_count": 268,
   "metadata": {},
   "outputs": [
    {
     "data": {
      "application/vnd.plotly.v1+json": {
       "config": {
        "plotlyServerURL": "https://plot.ly"
       },
       "data": [
        {
         "marker": {
          "color": "blue"
         },
         "mode": "markers",
         "name": "Predicted vs. Actual",
         "type": "scatter",
         "x": [
          7411.75,
          6941.16,
          5599,
          11689.9,
          8470.58,
          11468.45,
          2778.84,
          6352.93,
          2941.16,
          9019.45,
          10588.22,
          11991.7,
          3882.34,
          2599.99,
          9373.9,
          5058.81,
          5568.07,
          4117.64,
          5299.99,
          7411.75,
          7176.46,
          3529.4,
          2987.54,
          8273.28,
          4470.58,
          3522.11,
          5599,
          5568.07,
          11468.45,
          8235.28,
          5187,
          8235.28,
          4978.84,
          9999.9,
          3294.11,
          7176.46,
          9019.45,
          3529.4,
          8855.57,
          3294.11,
          5187,
          6117.64,
          3444.43,
          11179.99,
          8490,
          11764.69,
          6941.16,
          5599,
          2987.54,
          9999.99,
          11179.99,
          3522.11,
          6211,
          5299.99,
          2599.99,
          7294.11,
          3529.4,
          3529.4,
          2941.16,
          10026.9,
          7850,
          8235.28,
          11689.9,
          2699,
          6941.16,
          3164.69,
          3764.69,
          5599,
          3444.43,
          6999.9,
          6941.16,
          10026.9,
          4222.11,
          8273.28,
          6590.8,
          3882.34,
          4222.11,
          6124.89,
          3464.04,
          2941.16,
          7411.75,
          2778.84,
          6352.93,
          6235.28,
          3529.4,
          9373.9,
          6941.16,
          4819.99,
          4470.58,
          9999.99,
          3444.43,
          5187,
          8273.28,
          2599.99,
          2941.16,
          9019.45,
          6211,
          6470.58,
          3010.42,
          8490,
          8855.57,
          1190.88,
          11468.45,
          8235.28,
          3764.69,
          4117.64,
          3529.4,
          2941.16,
          3647.05,
          3161,
          3647.05,
          6211,
          11764.69,
          6235.28,
          6601.06,
          6999.9,
          8470.58,
          6941.16,
          7850
         ],
         "y": [
          7355.348278272669,
          6920.825962103749,
          5654.301229073632,
          11812.046398795897,
          8506.158166457277,
          11589.467693245813,
          2693.0566542592387,
          6273.049708716104,
          2923.8578869214866,
          8897.847431814494,
          10495.103308201291,
          12400.47583867978,
          4139.736473942484,
          2531.504476110457,
          9374.777292318118,
          5099.100735380365,
          5570.295564663327,
          4118.702786343144,
          5110.596993003659,
          7359.196888059111,
          7132.622081796261,
          3528.1369318899965,
          2548.6445752069094,
          8230.538099806916,
          4597.857229569249,
          3523.279969444895,
          5654.301229073632,
          5569.710572472014,
          11590.05261416475,
          8217.834116778944,
          4923.591863319416,
          8221.682606413131,
          4954.663824839515,
          10286.526783664413,
          3394.088604736897,
          7136.470691582704,
          8893.99882202805,
          3530.745193180352,
          8790.492927734227,
          3525.9004532638446,
          4924.177086411897,
          6148.232577527221,
          3325.3057695432794,
          11054.801528028223,
          8692.070703055604,
          11415.937742416896,
          6919.65636965886,
          5653.131636628744,
          2549.229798299391,
          9778.010799110292,
          11054.216930674676,
          3522.694746352414,
          6224.569385829522,
          5111.766962449325,
          2534.1834908161973,
          7319.083379716457,
          3532.3715114777983,
          3528.522742656735,
          3235.278825710949,
          10139.597484805025,
          7893.143507035805,
          8288.921158781166,
          11808.19790916171,
          2783.570039534697,
          6920.2409699124355,
          3343.1068370717467,
          3965.0141717398237,
          5656.980246415186,
          3325.890992635761,
          7146.5884127525305,
          7095.089561107963,
          10136.918513443317,
          4175.866857131412,
          8229.368507362025,
          6576.105061681329,
          4140.9064433881495,
          4177.03646598376,
          6279.158571644644,
          3535.247748114465,
          3239.127693370705,
          7356.517870717557,
          2692.471907906054,
          6274.2193011609925,
          6263.445393019507,
          3525.457866943759,
          9377.456309659668,
          6923.5049794453025,
          4669.673747269956,
          4369.655861400256,
          9944.666154613824,
          3324.721023190095,
          4923.0071169662315,
          8229.953107615602,
          2530.919481536274,
          3236.4486786649645,
          8894.583422281627,
          6227.833395362389,
          6489.49491300069,
          2807.411960409536,
          8688.222213421413,
          8793.171945075781,
          1190.5718226104393,
          11588.883095892266,
          8292.769648415353,
          3807.167697310425,
          4119.287517293655,
          3542.002734247493,
          2924.4427453013186,
          3618.9484693450036,
          3159.354702943609,
          3634.541594514078,
          6225.154378020835,
          11417.10726068938,
          6266.709402552374,
          6590.828881858812,
          7145.418820307642,
          8425.219109335896,
          6972.225755382911,
          7896.991996669992
         ]
        },
        {
         "line": {
          "color": "black",
          "dash": "dash"
         },
         "mode": "lines",
         "name": "Ideal Line",
         "type": "scatter",
         "x": [
          1190.88,
          11991.7
         ],
         "y": [
          1190.88,
          11991.7
         ]
        }
       ],
       "layout": {
        "legend": {
         "x": 0,
         "y": 1
        },
        "template": {
         "data": {
          "bar": [
           {
            "error_x": {
             "color": "#2a3f5f"
            },
            "error_y": {
             "color": "#2a3f5f"
            },
            "marker": {
             "line": {
              "color": "#E5ECF6",
              "width": 0.5
             },
             "pattern": {
              "fillmode": "overlay",
              "size": 10,
              "solidity": 0.2
             }
            },
            "type": "bar"
           }
          ],
          "barpolar": [
           {
            "marker": {
             "line": {
              "color": "#E5ECF6",
              "width": 0.5
             },
             "pattern": {
              "fillmode": "overlay",
              "size": 10,
              "solidity": 0.2
             }
            },
            "type": "barpolar"
           }
          ],
          "carpet": [
           {
            "aaxis": {
             "endlinecolor": "#2a3f5f",
             "gridcolor": "white",
             "linecolor": "white",
             "minorgridcolor": "white",
             "startlinecolor": "#2a3f5f"
            },
            "baxis": {
             "endlinecolor": "#2a3f5f",
             "gridcolor": "white",
             "linecolor": "white",
             "minorgridcolor": "white",
             "startlinecolor": "#2a3f5f"
            },
            "type": "carpet"
           }
          ],
          "choropleth": [
           {
            "colorbar": {
             "outlinewidth": 0,
             "ticks": ""
            },
            "type": "choropleth"
           }
          ],
          "contour": [
           {
            "colorbar": {
             "outlinewidth": 0,
             "ticks": ""
            },
            "colorscale": [
             [
              0,
              "#0d0887"
             ],
             [
              0.1111111111111111,
              "#46039f"
             ],
             [
              0.2222222222222222,
              "#7201a8"
             ],
             [
              0.3333333333333333,
              "#9c179e"
             ],
             [
              0.4444444444444444,
              "#bd3786"
             ],
             [
              0.5555555555555556,
              "#d8576b"
             ],
             [
              0.6666666666666666,
              "#ed7953"
             ],
             [
              0.7777777777777778,
              "#fb9f3a"
             ],
             [
              0.8888888888888888,
              "#fdca26"
             ],
             [
              1,
              "#f0f921"
             ]
            ],
            "type": "contour"
           }
          ],
          "contourcarpet": [
           {
            "colorbar": {
             "outlinewidth": 0,
             "ticks": ""
            },
            "type": "contourcarpet"
           }
          ],
          "heatmap": [
           {
            "colorbar": {
             "outlinewidth": 0,
             "ticks": ""
            },
            "colorscale": [
             [
              0,
              "#0d0887"
             ],
             [
              0.1111111111111111,
              "#46039f"
             ],
             [
              0.2222222222222222,
              "#7201a8"
             ],
             [
              0.3333333333333333,
              "#9c179e"
             ],
             [
              0.4444444444444444,
              "#bd3786"
             ],
             [
              0.5555555555555556,
              "#d8576b"
             ],
             [
              0.6666666666666666,
              "#ed7953"
             ],
             [
              0.7777777777777778,
              "#fb9f3a"
             ],
             [
              0.8888888888888888,
              "#fdca26"
             ],
             [
              1,
              "#f0f921"
             ]
            ],
            "type": "heatmap"
           }
          ],
          "heatmapgl": [
           {
            "colorbar": {
             "outlinewidth": 0,
             "ticks": ""
            },
            "colorscale": [
             [
              0,
              "#0d0887"
             ],
             [
              0.1111111111111111,
              "#46039f"
             ],
             [
              0.2222222222222222,
              "#7201a8"
             ],
             [
              0.3333333333333333,
              "#9c179e"
             ],
             [
              0.4444444444444444,
              "#bd3786"
             ],
             [
              0.5555555555555556,
              "#d8576b"
             ],
             [
              0.6666666666666666,
              "#ed7953"
             ],
             [
              0.7777777777777778,
              "#fb9f3a"
             ],
             [
              0.8888888888888888,
              "#fdca26"
             ],
             [
              1,
              "#f0f921"
             ]
            ],
            "type": "heatmapgl"
           }
          ],
          "histogram": [
           {
            "marker": {
             "pattern": {
              "fillmode": "overlay",
              "size": 10,
              "solidity": 0.2
             }
            },
            "type": "histogram"
           }
          ],
          "histogram2d": [
           {
            "colorbar": {
             "outlinewidth": 0,
             "ticks": ""
            },
            "colorscale": [
             [
              0,
              "#0d0887"
             ],
             [
              0.1111111111111111,
              "#46039f"
             ],
             [
              0.2222222222222222,
              "#7201a8"
             ],
             [
              0.3333333333333333,
              "#9c179e"
             ],
             [
              0.4444444444444444,
              "#bd3786"
             ],
             [
              0.5555555555555556,
              "#d8576b"
             ],
             [
              0.6666666666666666,
              "#ed7953"
             ],
             [
              0.7777777777777778,
              "#fb9f3a"
             ],
             [
              0.8888888888888888,
              "#fdca26"
             ],
             [
              1,
              "#f0f921"
             ]
            ],
            "type": "histogram2d"
           }
          ],
          "histogram2dcontour": [
           {
            "colorbar": {
             "outlinewidth": 0,
             "ticks": ""
            },
            "colorscale": [
             [
              0,
              "#0d0887"
             ],
             [
              0.1111111111111111,
              "#46039f"
             ],
             [
              0.2222222222222222,
              "#7201a8"
             ],
             [
              0.3333333333333333,
              "#9c179e"
             ],
             [
              0.4444444444444444,
              "#bd3786"
             ],
             [
              0.5555555555555556,
              "#d8576b"
             ],
             [
              0.6666666666666666,
              "#ed7953"
             ],
             [
              0.7777777777777778,
              "#fb9f3a"
             ],
             [
              0.8888888888888888,
              "#fdca26"
             ],
             [
              1,
              "#f0f921"
             ]
            ],
            "type": "histogram2dcontour"
           }
          ],
          "mesh3d": [
           {
            "colorbar": {
             "outlinewidth": 0,
             "ticks": ""
            },
            "type": "mesh3d"
           }
          ],
          "parcoords": [
           {
            "line": {
             "colorbar": {
              "outlinewidth": 0,
              "ticks": ""
             }
            },
            "type": "parcoords"
           }
          ],
          "pie": [
           {
            "automargin": true,
            "type": "pie"
           }
          ],
          "scatter": [
           {
            "fillpattern": {
             "fillmode": "overlay",
             "size": 10,
             "solidity": 0.2
            },
            "type": "scatter"
           }
          ],
          "scatter3d": [
           {
            "line": {
             "colorbar": {
              "outlinewidth": 0,
              "ticks": ""
             }
            },
            "marker": {
             "colorbar": {
              "outlinewidth": 0,
              "ticks": ""
             }
            },
            "type": "scatter3d"
           }
          ],
          "scattercarpet": [
           {
            "marker": {
             "colorbar": {
              "outlinewidth": 0,
              "ticks": ""
             }
            },
            "type": "scattercarpet"
           }
          ],
          "scattergeo": [
           {
            "marker": {
             "colorbar": {
              "outlinewidth": 0,
              "ticks": ""
             }
            },
            "type": "scattergeo"
           }
          ],
          "scattergl": [
           {
            "marker": {
             "colorbar": {
              "outlinewidth": 0,
              "ticks": ""
             }
            },
            "type": "scattergl"
           }
          ],
          "scattermapbox": [
           {
            "marker": {
             "colorbar": {
              "outlinewidth": 0,
              "ticks": ""
             }
            },
            "type": "scattermapbox"
           }
          ],
          "scatterpolar": [
           {
            "marker": {
             "colorbar": {
              "outlinewidth": 0,
              "ticks": ""
             }
            },
            "type": "scatterpolar"
           }
          ],
          "scatterpolargl": [
           {
            "marker": {
             "colorbar": {
              "outlinewidth": 0,
              "ticks": ""
             }
            },
            "type": "scatterpolargl"
           }
          ],
          "scatterternary": [
           {
            "marker": {
             "colorbar": {
              "outlinewidth": 0,
              "ticks": ""
             }
            },
            "type": "scatterternary"
           }
          ],
          "surface": [
           {
            "colorbar": {
             "outlinewidth": 0,
             "ticks": ""
            },
            "colorscale": [
             [
              0,
              "#0d0887"
             ],
             [
              0.1111111111111111,
              "#46039f"
             ],
             [
              0.2222222222222222,
              "#7201a8"
             ],
             [
              0.3333333333333333,
              "#9c179e"
             ],
             [
              0.4444444444444444,
              "#bd3786"
             ],
             [
              0.5555555555555556,
              "#d8576b"
             ],
             [
              0.6666666666666666,
              "#ed7953"
             ],
             [
              0.7777777777777778,
              "#fb9f3a"
             ],
             [
              0.8888888888888888,
              "#fdca26"
             ],
             [
              1,
              "#f0f921"
             ]
            ],
            "type": "surface"
           }
          ],
          "table": [
           {
            "cells": {
             "fill": {
              "color": "#EBF0F8"
             },
             "line": {
              "color": "white"
             }
            },
            "header": {
             "fill": {
              "color": "#C8D4E3"
             },
             "line": {
              "color": "white"
             }
            },
            "type": "table"
           }
          ]
         },
         "layout": {
          "annotationdefaults": {
           "arrowcolor": "#2a3f5f",
           "arrowhead": 0,
           "arrowwidth": 1
          },
          "autotypenumbers": "strict",
          "coloraxis": {
           "colorbar": {
            "outlinewidth": 0,
            "ticks": ""
           }
          },
          "colorscale": {
           "diverging": [
            [
             0,
             "#8e0152"
            ],
            [
             0.1,
             "#c51b7d"
            ],
            [
             0.2,
             "#de77ae"
            ],
            [
             0.3,
             "#f1b6da"
            ],
            [
             0.4,
             "#fde0ef"
            ],
            [
             0.5,
             "#f7f7f7"
            ],
            [
             0.6,
             "#e6f5d0"
            ],
            [
             0.7,
             "#b8e186"
            ],
            [
             0.8,
             "#7fbc41"
            ],
            [
             0.9,
             "#4d9221"
            ],
            [
             1,
             "#276419"
            ]
           ],
           "sequential": [
            [
             0,
             "#0d0887"
            ],
            [
             0.1111111111111111,
             "#46039f"
            ],
            [
             0.2222222222222222,
             "#7201a8"
            ],
            [
             0.3333333333333333,
             "#9c179e"
            ],
            [
             0.4444444444444444,
             "#bd3786"
            ],
            [
             0.5555555555555556,
             "#d8576b"
            ],
            [
             0.6666666666666666,
             "#ed7953"
            ],
            [
             0.7777777777777778,
             "#fb9f3a"
            ],
            [
             0.8888888888888888,
             "#fdca26"
            ],
            [
             1,
             "#f0f921"
            ]
           ],
           "sequentialminus": [
            [
             0,
             "#0d0887"
            ],
            [
             0.1111111111111111,
             "#46039f"
            ],
            [
             0.2222222222222222,
             "#7201a8"
            ],
            [
             0.3333333333333333,
             "#9c179e"
            ],
            [
             0.4444444444444444,
             "#bd3786"
            ],
            [
             0.5555555555555556,
             "#d8576b"
            ],
            [
             0.6666666666666666,
             "#ed7953"
            ],
            [
             0.7777777777777778,
             "#fb9f3a"
            ],
            [
             0.8888888888888888,
             "#fdca26"
            ],
            [
             1,
             "#f0f921"
            ]
           ]
          },
          "colorway": [
           "#636efa",
           "#EF553B",
           "#00cc96",
           "#ab63fa",
           "#FFA15A",
           "#19d3f3",
           "#FF6692",
           "#B6E880",
           "#FF97FF",
           "#FECB52"
          ],
          "font": {
           "color": "#2a3f5f"
          },
          "geo": {
           "bgcolor": "white",
           "lakecolor": "white",
           "landcolor": "#E5ECF6",
           "showlakes": true,
           "showland": true,
           "subunitcolor": "white"
          },
          "hoverlabel": {
           "align": "left"
          },
          "hovermode": "closest",
          "mapbox": {
           "style": "light"
          },
          "paper_bgcolor": "white",
          "plot_bgcolor": "#E5ECF6",
          "polar": {
           "angularaxis": {
            "gridcolor": "white",
            "linecolor": "white",
            "ticks": ""
           },
           "bgcolor": "#E5ECF6",
           "radialaxis": {
            "gridcolor": "white",
            "linecolor": "white",
            "ticks": ""
           }
          },
          "scene": {
           "xaxis": {
            "backgroundcolor": "#E5ECF6",
            "gridcolor": "white",
            "gridwidth": 2,
            "linecolor": "white",
            "showbackground": true,
            "ticks": "",
            "zerolinecolor": "white"
           },
           "yaxis": {
            "backgroundcolor": "#E5ECF6",
            "gridcolor": "white",
            "gridwidth": 2,
            "linecolor": "white",
            "showbackground": true,
            "ticks": "",
            "zerolinecolor": "white"
           },
           "zaxis": {
            "backgroundcolor": "#E5ECF6",
            "gridcolor": "white",
            "gridwidth": 2,
            "linecolor": "white",
            "showbackground": true,
            "ticks": "",
            "zerolinecolor": "white"
           }
          },
          "shapedefaults": {
           "line": {
            "color": "#2a3f5f"
           }
          },
          "ternary": {
           "aaxis": {
            "gridcolor": "white",
            "linecolor": "white",
            "ticks": ""
           },
           "baxis": {
            "gridcolor": "white",
            "linecolor": "white",
            "ticks": ""
           },
           "bgcolor": "#E5ECF6",
           "caxis": {
            "gridcolor": "white",
            "linecolor": "white",
            "ticks": ""
           }
          },
          "title": {
           "x": 0.05
          },
          "xaxis": {
           "automargin": true,
           "gridcolor": "white",
           "linecolor": "white",
           "ticks": "",
           "title": {
            "standoff": 15
           },
           "zerolinecolor": "white",
           "zerolinewidth": 2
          },
          "yaxis": {
           "automargin": true,
           "gridcolor": "white",
           "linecolor": "white",
           "ticks": "",
           "title": {
            "standoff": 15
           },
           "zerolinecolor": "white",
           "zerolinewidth": 2
          }
         }
        },
        "title": {
         "text": "Predicted vs. Actual"
        },
        "xaxis": {
         "title": {
          "text": "Actual"
         }
        },
        "yaxis": {
         "title": {
          "text": "Predicted"
         }
        }
       }
      }
     },
     "metadata": {},
     "output_type": "display_data"
    },
    {
     "data": {
      "application/vnd.plotly.v1+json": {
       "config": {
        "plotlyServerURL": "https://plot.ly"
       },
       "data": [
        {
         "mode": "lines+markers",
         "name": "Training score",
         "type": "scatter",
         "x": [
          17,
          57,
          96,
          136,
          176
         ],
         "y": [
          1,
          0.9985179682648402,
          0.9983534217627721,
          0.9982549957627331,
          0.9981031826656066
         ]
        },
        {
         "mode": "lines+markers",
         "name": "Cross-validation score",
         "type": "scatter",
         "x": [
          17,
          57,
          96,
          136,
          176
         ],
         "y": [
          -0.3201015279119212,
          -1511.2374222879382,
          -1718.4981609293877,
          -949.6685102274135,
          0.9970357272395173
         ]
        },
        {
         "fill": "toself",
         "fillcolor": "rgba(255, 0, 0, 0.1)",
         "line": {
          "color": "rgba(255, 0, 0, 0)"
         },
         "name": "Training score ± 1 std",
         "type": "scatter",
         "x": [
          17,
          57,
          96,
          136,
          176,
          176,
          136,
          96,
          57,
          17
         ],
         "y": [
          1,
          0.9983200244337924,
          0.9982609124706617,
          0.9982106914824924,
          0.9980118702979459,
          0.9981944950332673,
          0.9982993000429738,
          0.9984459310548824,
          0.998715912095888,
          1
         ]
        },
        {
         "fill": "toself",
         "fillcolor": "rgba(0, 255, 0, 0.1)",
         "line": {
          "color": "rgba(0, 255, 0, 0)"
         },
         "name": "Cross-validation score ± 1 std",
         "type": "scatter",
         "x": [
          17,
          57,
          96,
          136,
          176,
          176,
          136,
          96,
          57,
          17
         ],
         "y": [
          -2.2681173233098293,
          -4535.705114298879,
          -5157.486608021586,
          -2850.998767170869,
          0.9962096762273481,
          0.9978617782516864,
          951.6617467160421,
          1720.4902861628107,
          1513.2302697230027,
          1.6279142674859868
         ]
        }
       ],
       "layout": {
        "template": {
         "data": {
          "bar": [
           {
            "error_x": {
             "color": "#2a3f5f"
            },
            "error_y": {
             "color": "#2a3f5f"
            },
            "marker": {
             "line": {
              "color": "#E5ECF6",
              "width": 0.5
             },
             "pattern": {
              "fillmode": "overlay",
              "size": 10,
              "solidity": 0.2
             }
            },
            "type": "bar"
           }
          ],
          "barpolar": [
           {
            "marker": {
             "line": {
              "color": "#E5ECF6",
              "width": 0.5
             },
             "pattern": {
              "fillmode": "overlay",
              "size": 10,
              "solidity": 0.2
             }
            },
            "type": "barpolar"
           }
          ],
          "carpet": [
           {
            "aaxis": {
             "endlinecolor": "#2a3f5f",
             "gridcolor": "white",
             "linecolor": "white",
             "minorgridcolor": "white",
             "startlinecolor": "#2a3f5f"
            },
            "baxis": {
             "endlinecolor": "#2a3f5f",
             "gridcolor": "white",
             "linecolor": "white",
             "minorgridcolor": "white",
             "startlinecolor": "#2a3f5f"
            },
            "type": "carpet"
           }
          ],
          "choropleth": [
           {
            "colorbar": {
             "outlinewidth": 0,
             "ticks": ""
            },
            "type": "choropleth"
           }
          ],
          "contour": [
           {
            "colorbar": {
             "outlinewidth": 0,
             "ticks": ""
            },
            "colorscale": [
             [
              0,
              "#0d0887"
             ],
             [
              0.1111111111111111,
              "#46039f"
             ],
             [
              0.2222222222222222,
              "#7201a8"
             ],
             [
              0.3333333333333333,
              "#9c179e"
             ],
             [
              0.4444444444444444,
              "#bd3786"
             ],
             [
              0.5555555555555556,
              "#d8576b"
             ],
             [
              0.6666666666666666,
              "#ed7953"
             ],
             [
              0.7777777777777778,
              "#fb9f3a"
             ],
             [
              0.8888888888888888,
              "#fdca26"
             ],
             [
              1,
              "#f0f921"
             ]
            ],
            "type": "contour"
           }
          ],
          "contourcarpet": [
           {
            "colorbar": {
             "outlinewidth": 0,
             "ticks": ""
            },
            "type": "contourcarpet"
           }
          ],
          "heatmap": [
           {
            "colorbar": {
             "outlinewidth": 0,
             "ticks": ""
            },
            "colorscale": [
             [
              0,
              "#0d0887"
             ],
             [
              0.1111111111111111,
              "#46039f"
             ],
             [
              0.2222222222222222,
              "#7201a8"
             ],
             [
              0.3333333333333333,
              "#9c179e"
             ],
             [
              0.4444444444444444,
              "#bd3786"
             ],
             [
              0.5555555555555556,
              "#d8576b"
             ],
             [
              0.6666666666666666,
              "#ed7953"
             ],
             [
              0.7777777777777778,
              "#fb9f3a"
             ],
             [
              0.8888888888888888,
              "#fdca26"
             ],
             [
              1,
              "#f0f921"
             ]
            ],
            "type": "heatmap"
           }
          ],
          "heatmapgl": [
           {
            "colorbar": {
             "outlinewidth": 0,
             "ticks": ""
            },
            "colorscale": [
             [
              0,
              "#0d0887"
             ],
             [
              0.1111111111111111,
              "#46039f"
             ],
             [
              0.2222222222222222,
              "#7201a8"
             ],
             [
              0.3333333333333333,
              "#9c179e"
             ],
             [
              0.4444444444444444,
              "#bd3786"
             ],
             [
              0.5555555555555556,
              "#d8576b"
             ],
             [
              0.6666666666666666,
              "#ed7953"
             ],
             [
              0.7777777777777778,
              "#fb9f3a"
             ],
             [
              0.8888888888888888,
              "#fdca26"
             ],
             [
              1,
              "#f0f921"
             ]
            ],
            "type": "heatmapgl"
           }
          ],
          "histogram": [
           {
            "marker": {
             "pattern": {
              "fillmode": "overlay",
              "size": 10,
              "solidity": 0.2
             }
            },
            "type": "histogram"
           }
          ],
          "histogram2d": [
           {
            "colorbar": {
             "outlinewidth": 0,
             "ticks": ""
            },
            "colorscale": [
             [
              0,
              "#0d0887"
             ],
             [
              0.1111111111111111,
              "#46039f"
             ],
             [
              0.2222222222222222,
              "#7201a8"
             ],
             [
              0.3333333333333333,
              "#9c179e"
             ],
             [
              0.4444444444444444,
              "#bd3786"
             ],
             [
              0.5555555555555556,
              "#d8576b"
             ],
             [
              0.6666666666666666,
              "#ed7953"
             ],
             [
              0.7777777777777778,
              "#fb9f3a"
             ],
             [
              0.8888888888888888,
              "#fdca26"
             ],
             [
              1,
              "#f0f921"
             ]
            ],
            "type": "histogram2d"
           }
          ],
          "histogram2dcontour": [
           {
            "colorbar": {
             "outlinewidth": 0,
             "ticks": ""
            },
            "colorscale": [
             [
              0,
              "#0d0887"
             ],
             [
              0.1111111111111111,
              "#46039f"
             ],
             [
              0.2222222222222222,
              "#7201a8"
             ],
             [
              0.3333333333333333,
              "#9c179e"
             ],
             [
              0.4444444444444444,
              "#bd3786"
             ],
             [
              0.5555555555555556,
              "#d8576b"
             ],
             [
              0.6666666666666666,
              "#ed7953"
             ],
             [
              0.7777777777777778,
              "#fb9f3a"
             ],
             [
              0.8888888888888888,
              "#fdca26"
             ],
             [
              1,
              "#f0f921"
             ]
            ],
            "type": "histogram2dcontour"
           }
          ],
          "mesh3d": [
           {
            "colorbar": {
             "outlinewidth": 0,
             "ticks": ""
            },
            "type": "mesh3d"
           }
          ],
          "parcoords": [
           {
            "line": {
             "colorbar": {
              "outlinewidth": 0,
              "ticks": ""
             }
            },
            "type": "parcoords"
           }
          ],
          "pie": [
           {
            "automargin": true,
            "type": "pie"
           }
          ],
          "scatter": [
           {
            "fillpattern": {
             "fillmode": "overlay",
             "size": 10,
             "solidity": 0.2
            },
            "type": "scatter"
           }
          ],
          "scatter3d": [
           {
            "line": {
             "colorbar": {
              "outlinewidth": 0,
              "ticks": ""
             }
            },
            "marker": {
             "colorbar": {
              "outlinewidth": 0,
              "ticks": ""
             }
            },
            "type": "scatter3d"
           }
          ],
          "scattercarpet": [
           {
            "marker": {
             "colorbar": {
              "outlinewidth": 0,
              "ticks": ""
             }
            },
            "type": "scattercarpet"
           }
          ],
          "scattergeo": [
           {
            "marker": {
             "colorbar": {
              "outlinewidth": 0,
              "ticks": ""
             }
            },
            "type": "scattergeo"
           }
          ],
          "scattergl": [
           {
            "marker": {
             "colorbar": {
              "outlinewidth": 0,
              "ticks": ""
             }
            },
            "type": "scattergl"
           }
          ],
          "scattermapbox": [
           {
            "marker": {
             "colorbar": {
              "outlinewidth": 0,
              "ticks": ""
             }
            },
            "type": "scattermapbox"
           }
          ],
          "scatterpolar": [
           {
            "marker": {
             "colorbar": {
              "outlinewidth": 0,
              "ticks": ""
             }
            },
            "type": "scatterpolar"
           }
          ],
          "scatterpolargl": [
           {
            "marker": {
             "colorbar": {
              "outlinewidth": 0,
              "ticks": ""
             }
            },
            "type": "scatterpolargl"
           }
          ],
          "scatterternary": [
           {
            "marker": {
             "colorbar": {
              "outlinewidth": 0,
              "ticks": ""
             }
            },
            "type": "scatterternary"
           }
          ],
          "surface": [
           {
            "colorbar": {
             "outlinewidth": 0,
             "ticks": ""
            },
            "colorscale": [
             [
              0,
              "#0d0887"
             ],
             [
              0.1111111111111111,
              "#46039f"
             ],
             [
              0.2222222222222222,
              "#7201a8"
             ],
             [
              0.3333333333333333,
              "#9c179e"
             ],
             [
              0.4444444444444444,
              "#bd3786"
             ],
             [
              0.5555555555555556,
              "#d8576b"
             ],
             [
              0.6666666666666666,
              "#ed7953"
             ],
             [
              0.7777777777777778,
              "#fb9f3a"
             ],
             [
              0.8888888888888888,
              "#fdca26"
             ],
             [
              1,
              "#f0f921"
             ]
            ],
            "type": "surface"
           }
          ],
          "table": [
           {
            "cells": {
             "fill": {
              "color": "#EBF0F8"
             },
             "line": {
              "color": "white"
             }
            },
            "header": {
             "fill": {
              "color": "#C8D4E3"
             },
             "line": {
              "color": "white"
             }
            },
            "type": "table"
           }
          ]
         },
         "layout": {
          "annotationdefaults": {
           "arrowcolor": "#2a3f5f",
           "arrowhead": 0,
           "arrowwidth": 1
          },
          "autotypenumbers": "strict",
          "coloraxis": {
           "colorbar": {
            "outlinewidth": 0,
            "ticks": ""
           }
          },
          "colorscale": {
           "diverging": [
            [
             0,
             "#8e0152"
            ],
            [
             0.1,
             "#c51b7d"
            ],
            [
             0.2,
             "#de77ae"
            ],
            [
             0.3,
             "#f1b6da"
            ],
            [
             0.4,
             "#fde0ef"
            ],
            [
             0.5,
             "#f7f7f7"
            ],
            [
             0.6,
             "#e6f5d0"
            ],
            [
             0.7,
             "#b8e186"
            ],
            [
             0.8,
             "#7fbc41"
            ],
            [
             0.9,
             "#4d9221"
            ],
            [
             1,
             "#276419"
            ]
           ],
           "sequential": [
            [
             0,
             "#0d0887"
            ],
            [
             0.1111111111111111,
             "#46039f"
            ],
            [
             0.2222222222222222,
             "#7201a8"
            ],
            [
             0.3333333333333333,
             "#9c179e"
            ],
            [
             0.4444444444444444,
             "#bd3786"
            ],
            [
             0.5555555555555556,
             "#d8576b"
            ],
            [
             0.6666666666666666,
             "#ed7953"
            ],
            [
             0.7777777777777778,
             "#fb9f3a"
            ],
            [
             0.8888888888888888,
             "#fdca26"
            ],
            [
             1,
             "#f0f921"
            ]
           ],
           "sequentialminus": [
            [
             0,
             "#0d0887"
            ],
            [
             0.1111111111111111,
             "#46039f"
            ],
            [
             0.2222222222222222,
             "#7201a8"
            ],
            [
             0.3333333333333333,
             "#9c179e"
            ],
            [
             0.4444444444444444,
             "#bd3786"
            ],
            [
             0.5555555555555556,
             "#d8576b"
            ],
            [
             0.6666666666666666,
             "#ed7953"
            ],
            [
             0.7777777777777778,
             "#fb9f3a"
            ],
            [
             0.8888888888888888,
             "#fdca26"
            ],
            [
             1,
             "#f0f921"
            ]
           ]
          },
          "colorway": [
           "#636efa",
           "#EF553B",
           "#00cc96",
           "#ab63fa",
           "#FFA15A",
           "#19d3f3",
           "#FF6692",
           "#B6E880",
           "#FF97FF",
           "#FECB52"
          ],
          "font": {
           "color": "#2a3f5f"
          },
          "geo": {
           "bgcolor": "white",
           "lakecolor": "white",
           "landcolor": "#E5ECF6",
           "showlakes": true,
           "showland": true,
           "subunitcolor": "white"
          },
          "hoverlabel": {
           "align": "left"
          },
          "hovermode": "closest",
          "mapbox": {
           "style": "light"
          },
          "paper_bgcolor": "white",
          "plot_bgcolor": "#E5ECF6",
          "polar": {
           "angularaxis": {
            "gridcolor": "white",
            "linecolor": "white",
            "ticks": ""
           },
           "bgcolor": "#E5ECF6",
           "radialaxis": {
            "gridcolor": "white",
            "linecolor": "white",
            "ticks": ""
           }
          },
          "scene": {
           "xaxis": {
            "backgroundcolor": "#E5ECF6",
            "gridcolor": "white",
            "gridwidth": 2,
            "linecolor": "white",
            "showbackground": true,
            "ticks": "",
            "zerolinecolor": "white"
           },
           "yaxis": {
            "backgroundcolor": "#E5ECF6",
            "gridcolor": "white",
            "gridwidth": 2,
            "linecolor": "white",
            "showbackground": true,
            "ticks": "",
            "zerolinecolor": "white"
           },
           "zaxis": {
            "backgroundcolor": "#E5ECF6",
            "gridcolor": "white",
            "gridwidth": 2,
            "linecolor": "white",
            "showbackground": true,
            "ticks": "",
            "zerolinecolor": "white"
           }
          },
          "shapedefaults": {
           "line": {
            "color": "#2a3f5f"
           }
          },
          "ternary": {
           "aaxis": {
            "gridcolor": "white",
            "linecolor": "white",
            "ticks": ""
           },
           "baxis": {
            "gridcolor": "white",
            "linecolor": "white",
            "ticks": ""
           },
           "bgcolor": "#E5ECF6",
           "caxis": {
            "gridcolor": "white",
            "linecolor": "white",
            "ticks": ""
           }
          },
          "title": {
           "x": 0.05
          },
          "xaxis": {
           "automargin": true,
           "gridcolor": "white",
           "linecolor": "white",
           "ticks": "",
           "title": {
            "standoff": 15
           },
           "zerolinecolor": "white",
           "zerolinewidth": 2
          },
          "yaxis": {
           "automargin": true,
           "gridcolor": "white",
           "linecolor": "white",
           "ticks": "",
           "title": {
            "standoff": 15
           },
           "zerolinecolor": "white",
           "zerolinewidth": 2
          }
         }
        },
        "title": {
         "text": "Learning Curves"
        },
        "xaxis": {
         "title": {
          "text": "Training examples"
         }
        },
        "yaxis": {
         "range": [
          0,
          1.01
         ],
         "title": {
          "text": "Score"
         }
        }
       }
      }
     },
     "metadata": {},
     "output_type": "display_data"
    }
   ],
   "source": [
    "def plot_learning_curve(estimator, title, X, y, ylim=None, cv=None,\n",
    "                        n_jobs=None, train_sizes=np.linspace(.1, 1.0, 5)):\n",
    "    # Inicializa uma figura do Plotly\n",
    "    fig = go.Figure()\n",
    "    \n",
    "    # Atualiza o layout da figura com título e rótulos dos eixos\n",
    "    fig.update_layout(title=title, xaxis_title=\"Training examples\", yaxis_title=\"Score\", yaxis=dict(range=ylim))\n",
    "    \n",
    "    # Calcula as curvas de aprendizado usando a função learning_curve\n",
    "    train_sizes, train_scores, test_scores = learning_curve(\n",
    "        estimator, X, y, cv=cv, n_jobs=n_jobs, train_sizes=train_sizes)\n",
    "    \n",
    "    # Calcula a média e o desvio padrão dos escores de treinamento e teste\n",
    "    train_scores_mean = np.mean(train_scores, axis=1)\n",
    "    train_scores_std = np.std(train_scores, axis=1)\n",
    "    test_scores_mean = np.mean(test_scores, axis=1)\n",
    "    test_scores_std = np.std(test_scores, axis=1)\n",
    "\n",
    "    # Adiciona as curvas de aprendizado à figura\n",
    "    fig.add_trace(go.Scatter(x=train_sizes, y=train_scores_mean, mode='lines+markers', name='Training score'))\n",
    "    fig.add_trace(go.Scatter(x=train_sizes, y=test_scores_mean, mode='lines+markers', name='Cross-validation score'))\n",
    "\n",
    "    # Adiciona as áreas sombreadas representando o intervalo de confiança\n",
    "    fig.add_trace(go.Scatter(\n",
    "        x=np.concatenate([train_sizes, train_sizes[::-1]]),\n",
    "        y=np.concatenate([train_scores_mean - train_scores_std,\n",
    "                          (train_scores_mean + train_scores_std)[::-1]]),\n",
    "        fill='toself',\n",
    "        fillcolor='rgba(255, 0, 0, 0.1)',\n",
    "        line=dict(color='rgba(255, 0, 0, 0)'),\n",
    "        name='Training score ± 1 std'\n",
    "    ))\n",
    "\n",
    "    fig.add_trace(go.Scatter(\n",
    "        x=np.concatenate([train_sizes, train_sizes[::-1]]),\n",
    "        y=np.concatenate([test_scores_mean - test_scores_std,\n",
    "                          (test_scores_mean + test_scores_std)[::-1]]),\n",
    "        fill='toself',\n",
    "        fillcolor='rgba(0, 255, 0, 0.1)',\n",
    "        line=dict(color='rgba(0, 255, 0, 0)'),\n",
    "        name='Cross-validation score ± 1 std'\n",
    "    ))\n",
    "\n",
    "    fig.show()\n",
    "\n",
    "# Cria uma figura do Plotly para plotar os resultados da regressão\n",
    "fig = go.Figure()\n",
    "\n",
    "# Adiciona os pontos de dados previstos versus reais ao gráfico\n",
    "fig.add_trace(go.Scatter(x=y_test, y=y_pred, mode='markers', marker=dict(color='blue'), name='Predicted vs. Actual'))\n",
    "\n",
    "# Adiciona uma linha representando a linha ideal (y = x)\n",
    "fig.add_trace(go.Scatter(x=[min(y_test), max(y_test)], y=[min(y_test), max(y_test)], mode='lines', line=dict(color='black', dash='dash'), name='Ideal Line'))\n",
    "\n",
    "# Atualiza o layout do gráfico com título e rótulos dos eixos\n",
    "fig.update_layout(title='Predicted vs. Actual', xaxis_title='Actual', yaxis_title='Predicted', legend=dict(x=0, y=1))\n",
    "\n",
    "# Exibe o gráfico\n",
    "fig.show()\n",
    "\n",
    "# Define o título para as curvas de aprendizado\n",
    "title = \"Learning Curves\"\n",
    "\n",
    "# Plota as curvas de aprendizado para o modelo\n",
    "plot_learning_curve(model, title, X_train, y_train, ylim=(0.0, 1.01), cv=None, n_jobs=8)"
   ]
  }
 ],
 "metadata": {
  "kernelspec": {
   "display_name": "Python 3",
   "language": "python",
   "name": "python3"
  },
  "language_info": {
   "codemirror_mode": {
    "name": "ipython",
    "version": 3
   },
   "file_extension": ".py",
   "mimetype": "text/x-python",
   "name": "python",
   "nbconvert_exporter": "python",
   "pygments_lexer": "ipython3",
   "version": "3.12.0"
  }
 },
 "nbformat": 4,
 "nbformat_minor": 2
}
